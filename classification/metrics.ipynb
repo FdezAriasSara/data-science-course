{
 "cells": [
  {
   "cell_type": "markdown",
   "source": [
    "[![Open In Colab](https://colab.research.google.com/assets/colab-badge.svg)](https://colab.research.google.com/github/francisco-ortin/data-science-course/blob/main/classification/metrics.ipynb)\n",
    "[![License: CC BY-NC-SA 4.0](https://img.shields.io/badge/License-CC%20BY--NC--SA%204.0-lightgrey.svg)](https://creativecommons.org/licenses/by-nc-sa/4.0/)"
   ],
   "metadata": {
    "collapsed": false
   },
   "id": "77f76148d5f67905"
  },
  {
   "cell_type": "markdown",
   "source": [
    "# Evaluation metrics for classification \n",
    "\n",
    "This example notebook show how to use common metrics for classification.\n",
    "\n",
    "We use the [Breast Cancer Wisconsin (Diagnostic) Data Set](https://www.kaggle.com/datasets/uciml/breast-cancer-wisconsin-data) stored in `data/cancer.csv`.\n",
    "\n",
    "The dataset features we will use are:\n",
    "- diagnosis: target variable (M = malignant, B = benign)\n",
    "- radius_mean: average size of the nuclei.\n",
    "- texture_mean: variability in the intensity of pixel values.\n",
    "- smoothness_mean: regularity of the nuclei surfaces.\n",
    "- compactness_mean: compactness of the nuclei, indicating shape irregularities."
   ],
   "metadata": {
    "collapsed": false
   },
   "id": "137bff049a6ed8fa"
  },
  {
   "cell_type": "code",
   "outputs": [
    {
     "name": "stdout",
     "output_type": "stream",
     "text": [
      "Note: you may need to restart the kernel to use updated packages.\n"
     ]
    }
   ],
   "source": [
    "# make sure the required packages are installed\n",
    "%pip install pandas seaborn matplotlib scikit-learn --quiet\n",
    "# if running in colab, install the required packages and copy the necessary files\n",
    "directory='data-science-course/classification'\n",
    "if get_ipython().__class__.__module__.startswith('google.colab'):\n",
    "    !git clone --depth 1 https://github.com/francisco-ortin/data-science-course.git  2>/dev/null\n",
    "    !cp --update {directory}/*.py .\n",
    "    !mkdir -p img data\n",
    "    !cp {directory}/data/* data/.\n",
    "# import the required modules\n",
    "import pandas as pd\n",
    "from sklearn.linear_model import LogisticRegression\n",
    "from sklearn.preprocessing import StandardScaler\n",
    "from sklearn.metrics import accuracy_score, precision_score, recall_score, f1_score\n",
    "\n",
    "import utils\n",
    "import models\n",
    "\n",
    "random_state = 42"
   ],
   "metadata": {
    "collapsed": false,
    "ExecuteTime": {
     "end_time": "2024-10-02T15:18:01.589447800Z",
     "start_time": "2024-10-02T15:18:00.083448800Z"
    }
   },
   "id": "abd29d079dd54ab4",
   "execution_count": 88
  },
  {
   "cell_type": "markdown",
   "source": [
    "## Dataset\n",
    "\n",
    "Load, transform, scale split the dataset and show the percentage of malignant samples."
   ],
   "metadata": {
    "collapsed": false
   },
   "id": "b0ca00469c28f595"
  },
  {
   "cell_type": "code",
   "outputs": [
    {
     "name": "stdout",
     "output_type": "stream",
     "text": [
      "Percentage of positive labels: 37.26%.\n"
     ]
    }
   ],
   "source": [
    "dataset_file_name = 'data/cancer.csv'\n",
    "independent_vars = ['radius_mean', 'texture_mean']\n",
    "dependent_var = 'diagnosis'\n",
    "# read the dataset\n",
    "dataset = pd.read_csv(dataset_file_name)\n",
    "# replace diagnosis values with 0 and 1\n",
    "dataset[dependent_var] = dataset[dependent_var].map({'M': 1, 'B': 0})\n",
    "# Describe the dependent variable of the dataset\n",
    "print(f\"Percentage of positive labels: {dataset[dependent_var].mean() * 100:.2f}%.\")\n",
    "# Split the dataset into training and testing sets\n",
    "(X_train, y_train), (X_test, y_test) = utils.split_dataset(dataset, independent_vars,\n",
    "                                                           dependent_var, 0.2, random_state)\n",
    "# Scale the dataset with a Standard Scaler\n",
    "X_train, X_test = utils.scale_X_dataset(X_train, X_test, StandardScaler)"
   ],
   "metadata": {
    "collapsed": false,
    "ExecuteTime": {
     "end_time": "2024-10-02T15:18:01.674707700Z",
     "start_time": "2024-10-02T15:18:01.593715600Z"
    }
   },
   "id": "383b342865f5a13d",
   "execution_count": 89
  },
  {
   "cell_type": "markdown",
   "source": [
    "## Classification models\n",
    "\n",
    "We create the following classifiers:\n",
    "- AlwaysTrue: always predicts the positive class (malignant).\n",
    "- AlwaysFalse: always predicts the negative class (benign).\n",
    "- LR_0_5: logistic regression model with a threshold of 0.5.\n",
    "- LR_0_8: logistic regression model with a threshold of 0.8.\n",
    "- LR_0_2: logistic regression model with a threshold of 0.2."
   ],
   "metadata": {
    "collapsed": false
   },
   "id": "b45c643bf1822f6a"
  },
  {
   "cell_type": "code",
   "outputs": [],
   "source": [
    "lr_model = LogisticRegression(random_state=random_state)\n",
    "lr_model.fit(X_train, y_train)\n",
    "always_true_model = models.AlwaysTrue()\n",
    "always_false_model = models.AlwaysFalse()\n",
    "lr_0_5_model = models.ThresholdModel(lr_model, 0.5)\n",
    "lr_0_8_model = models.ThresholdModel(lr_model, 0.8)\n",
    "lr_0_2_model = models.ThresholdModel(lr_model, 0.2)\n",
    "# list of models\n",
    "models = [always_true_model, always_false_model, lr_0_5_model, lr_0_8_model, lr_0_2_model]"
   ],
   "metadata": {
    "collapsed": false,
    "ExecuteTime": {
     "end_time": "2024-10-02T15:18:01.676368700Z",
     "start_time": "2024-10-02T15:18:01.628362100Z"
    }
   },
   "id": "7a84439987b8560",
   "execution_count": 90
  },
  {
   "cell_type": "markdown",
   "source": [
    "## ✨ Questions ✨ about accuracy\n",
    "\n",
    "1. What model obtains the best performance between always_true_model and always_false_model?\n",
    "2. What is the best threshold between 0.8 and 0.2 for the logistic regression model?"
   ],
   "metadata": {
    "collapsed": false
   },
   "id": "5b37e8d31d5e7857"
  },
  {
   "cell_type": "markdown",
   "source": [
    "### Answers:\n",
    "\n",
    "*Write your answers here.*\n",
    "\n"
   ],
   "metadata": {
    "collapsed": false
   },
   "id": "f75b54ee3648b2d1"
  },
  {
   "cell_type": "code",
   "outputs": [],
   "source": [
    "# Uncomment the following code and see if your answers are correct\n",
    "#accuracies = utils.compute_metrics(models, X_test, y_test, accuracy_score)\n",
    "#utils.show_metrics('Accuracy', accuracies, models)"
   ],
   "metadata": {
    "collapsed": false,
    "ExecuteTime": {
     "end_time": "2024-10-02T15:18:01.677556100Z",
     "start_time": "2024-10-02T15:18:01.648002100Z"
    }
   },
   "id": "d4e1c08edc51db6c",
   "execution_count": 91
  },
  {
   "cell_type": "markdown",
   "source": [
    "## ✨ Questions ✨ about precision and recall\n",
    "\n",
    "3. What are going to be the precision and recall of always_false_model?\n",
    "4. What are going to be the precision and recall of always_true_model?\n",
    "5. What is the threshold with the best precision?\n",
    "6. What is the threshold with the best recall?"
   ],
   "metadata": {
    "collapsed": false
   },
   "id": "a005d1fa30f33360"
  },
  {
   "cell_type": "markdown",
   "source": [
    "### Answers\n",
    "\n",
    "*Write your answers here.*\n",
    "\n"
   ],
   "metadata": {
    "collapsed": false
   },
   "id": "82f2f26f42b9e101"
  },
  {
   "cell_type": "code",
   "outputs": [],
   "source": [
    "# Uncomment the following code and see if your answers are correct\n",
    "#precisions = utils.compute_metrics(models, X_test, y_test, precision_score)\n",
    "#recalls = utils.compute_metrics(models, X_test, y_test, recall_score)\n",
    "#utils.show_metrics('Precision', precisions, models)\n",
    "#utils.show_metrics('Recall', recalls, models)"
   ],
   "metadata": {
    "collapsed": false,
    "ExecuteTime": {
     "end_time": "2024-10-02T15:18:01.730197500Z",
     "start_time": "2024-10-02T15:18:01.658176300Z"
    }
   },
   "id": "c723bfd8b12b35e4",
   "execution_count": 92
  },
  {
   "cell_type": "markdown",
   "source": [
    "## ✨ Questions ✨ about f1-score\n",
    "\n",
    "7. What is the F1 score of always_false_model?\n",
    "8. What is the F1 score of always_true_model?\n",
    "9. What is the threshold with the best F1 score?"
   ],
   "metadata": {
    "collapsed": false
   },
   "id": "7d9d8dac4b0a394c"
  },
  {
   "cell_type": "markdown",
   "source": [
    "### Answers\n",
    "\n",
    "*Write your answers here.*\n"
   ],
   "metadata": {
    "collapsed": false
   },
   "id": "d3bcf28510f94e8d"
  },
  {
   "cell_type": "code",
   "outputs": [],
   "source": [
    "# Uncomment the following code and see if your answers are correct\n",
    "#f1_scores = utils.compute_metrics(models, X_test, y_test, f1_score)\n",
    "#utils.show_metrics('F1-score', f1_scores, models)"
   ],
   "metadata": {
    "collapsed": false,
    "ExecuteTime": {
     "end_time": "2024-10-02T15:18:01.732944700Z",
     "start_time": "2024-10-02T15:18:01.669318500Z"
    }
   },
   "id": "9f3fa34351d3eb01",
   "execution_count": 93
  },
  {
   "cell_type": "markdown",
   "source": [
    "## ✨ Questions ✨ about AUC\n",
    "\n",
    "10. What is the AUC of always_true_model?\n",
    "11. What is the AUC of always_false_model?\n",
    "12. Does it make sense to compute the AUC of the logistic regression model for different thresholds?\n",
    "13. What will the AUC of the logistic regression model be?"
   ],
   "metadata": {
    "collapsed": false
   },
   "id": "ced071028f687e1e"
  },
  {
   "cell_type": "markdown",
   "source": [
    "### Answers\n",
    "\n",
    "*Write your answers here.*\n",
    "\n"
   ],
   "metadata": {
    "collapsed": false
   },
   "id": "3c75c3a74b408937"
  },
  {
   "cell_type": "code",
   "outputs": [],
   "source": [
    "# Uncomment the following code and see if your answers are correct\n",
    "#auc_models = [always_true_model, always_false_model, lr_0_5_model]\n",
    "#auc_scores = utils.compute_AUCs(auc_models, X_test, y_test)\n",
    "#utils.show_metrics('AUC score', auc_scores, auc_models)"
   ],
   "metadata": {
    "collapsed": false,
    "ExecuteTime": {
     "end_time": "2024-10-02T15:18:01.743391700Z",
     "start_time": "2024-10-02T15:18:01.681156500Z"
    }
   },
   "id": "1a345f86676137d1",
   "execution_count": 94
  }
 ],
 "metadata": {
  "kernelspec": {
   "display_name": "Python 3",
   "language": "python",
   "name": "python3"
  },
  "language_info": {
   "codemirror_mode": {
    "name": "ipython",
    "version": 2
   },
   "file_extension": ".py",
   "mimetype": "text/x-python",
   "name": "python",
   "nbconvert_exporter": "python",
   "pygments_lexer": "ipython2",
   "version": "2.7.6"
  }
 },
 "nbformat": 4,
 "nbformat_minor": 5
}
