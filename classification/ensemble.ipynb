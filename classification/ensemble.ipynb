{
  "cells": [
    {
      "cell_type": "markdown",
      "source": [
        "[![Open In Colab](https://colab.research.google.com/assets/colab-badge.svg)](https://colab.research.google.com/github/francisco-ortin/data-science-course/blob/main/classification/ensemble.ipynb)\n",
        "[![License: CC BY-NC-SA 4.0](https://img.shields.io/badge/License-CC%20BY--NC--SA%204.0-lightgrey.svg)](https://creativecommons.org/licenses/by-nc-sa/4.0/)"
      ],
      "metadata": {
        "collapsed": false,
        "id": "77f76148d5f67905"
      },
      "id": "77f76148d5f67905"
    },
    {
      "cell_type": "markdown",
      "source": [
        "# Ensemble methods\n",
        "\n",
        "This notebook tackles two important things: ensemble methods and how to compare the performance of different models. Ensemble methods are a type of machine learning technique that combines several models to improve the performance of the model. To compare the performance of different models, we have to used statistical tests, since the models are trained with stochastic procedures.\n",
        "\n",
        "We use the [Titanic Disaster dataset](https://www.kaggle.com/c/titanic/data?select=test.csv) stored in `data/titanic.csv`. The dataset has de following features:\n",
        "- PassengerId: unique identifier for each passenger.\n",
        "- Survived: target variable (0 = No, 1 = Yes).\n",
        "- Pclass: ticket class (1 = 1st, 2 = 2nd, 3 = 3rd).\n",
        "- Name: name of the passenger.\n",
        "- Sex: \"male\" or \"female\".\n",
        "- Age: age in years.\n",
        "- SibSp: number of siblings/spouses aboard.\n",
        "- Parch: number of parents/children aboard.\n",
        "- Ticket: ticket number.\n",
        "- Fare: passenger fare.\n",
        "- Cabin: cabin number.\n",
        "- Embarked: port of embarkation (C = Cherbourg, Q = Queenstown, S = Southampton)."
      ],
      "metadata": {
        "collapsed": false,
        "id": "137bff049a6ed8fa"
      },
      "id": "137bff049a6ed8fa"
    },
    {
      "cell_type": "code",
      "outputs": [],
      "source": [
        "# make sure the required packages are installed\n",
        "%pip install pandas seaborn matplotlib scikit-learn xgboost --quiet\n",
        "# if running in colab, install the required packages and copy the necessary files\n",
        "directory='data-science-course/classification'\n",
        "if get_ipython().__class__.__module__.startswith('google.colab'):\n",
        "    !git clone --depth 1 https://github.com/francisco-ortin/data-science-course.git  2>/dev/null\n",
        "    !cp --update {directory}/*.py .\n",
        "    !mkdir -p img data\n",
        "    !cp {directory}/data/* data/.\n",
        "\n",
        "# import the required modules\n",
        "import xgboost as xgb\n",
        "from sklearn.ensemble import RandomForestClassifier\n",
        "from sklearn.tree import DecisionTreeClassifier\n",
        "from sklearn.metrics import accuracy_score, f1_score\n",
        "from sklearn.utils import resample\n",
        "from time import time\n",
        "import numpy as np\n",
        "\n",
        "import utils\n",
        "\n",
        "random_state = 42"
      ],
      "metadata": {
        "ExecuteTime": {
          "end_time": "2024-12-17T12:38:05.947769Z",
          "start_time": "2024-12-17T12:38:04.324075Z"
        },
        "id": "abd29d079dd54ab4"
      },
      "id": "abd29d079dd54ab4",
      "execution_count": 1
    },
    {
      "cell_type": "markdown",
      "source": [
        "## Dataset\n",
        "\n",
        "Let's load and clean the dataset."
      ],
      "metadata": {
        "collapsed": false,
        "id": "a3fc427e49037f9b"
      },
      "id": "a3fc427e49037f9b"
    },
    {
      "cell_type": "code",
      "outputs": [],
      "source": [
        "dataset_file_name = 'data/titanic.csv'\n",
        "independent_vars = ['Pclass', 'Sex', 'SibSp', 'Parch', 'Fare', 'Embarked']\n",
        "dependent_var = 'Survived'\n",
        "class_names = ['Not Survived', 'Survived']\n",
        "# load anc clean the dataset\n",
        "dataset, independent_vars = utils.load_clean_titanic_dataset(dataset_file_name, independent_vars, dependent_var)\n",
        "# Split the dataset into training and testing sets\n",
        "(X_train, y_train), (X_test, y_test) = utils.split_dataset(dataset, independent_vars, dependent_var,\n",
        "                            0.6, random_state)  # we choose a train size = 0.4 test size of 0.6 on purpose to have higher variance"
      ],
      "metadata": {
        "ExecuteTime": {
          "end_time": "2024-12-17T12:38:05.984192Z",
          "start_time": "2024-12-17T12:38:05.953748Z"
        },
        "id": "52b274772e8eefe0"
      },
      "id": "52b274772e8eefe0",
      "execution_count": 3
    },
    {
      "cell_type": "markdown",
      "source": [
        "## Different binary classification models\n",
        "\n",
        "We create different binary classification models with the default hyperparameters. Please, note that we are not tuning the hyperparameters of the models. This is important, because the performance of the models could be improved by tuning the hyperparameters. Particularly, the Random Forest and XGBoost models have many hyperparameters that could be tuned and improved."
      ],
      "metadata": {
        "collapsed": false,
        "id": "e2e1b361dc4ea4dd"
      },
      "id": "e2e1b361dc4ea4dd"
    },
    {
      "cell_type": "code",
      "outputs": [
        {
          "output_type": "stream",
          "name": "stdout",
          "text": [
            "----- Single-value evaluation method -----\n",
            "Model: DecisionTreeClassifier.\n",
            "\tAccuracy: 0.7430.\n",
            "\tF1 Score: 0.6515.\n",
            "Model: RandomForestClassifier.\n",
            "\tAccuracy: 0.7561.\n",
            "\tF1 Score: 0.6781.\n",
            "Model: XGBClassifier.\n",
            "\tAccuracy: 0.7672.\n",
            "\tF1 Score: 0.6736.\n",
            "Time elapsed: 2.67 seconds.\n"
          ]
        }
      ],
      "source": [
        "print(f\"{'-'*5} Single-value evaluation method {'-'*5}\")\n",
        "time_before = time()\n",
        "# Let's different DT-based models\n",
        "dt_model = DecisionTreeClassifier(random_state=random_state)\n",
        "dt_model.fit(X_train, y_train)\n",
        "\n",
        "rf_model = RandomForestClassifier(random_state=random_state)\n",
        "rf_model.fit(X_train, y_train)\n",
        "\n",
        "xgb_model = xgb.XGBClassifier(random_state=random_state)\n",
        "xgb_model.fit(X_train, y_train)\n",
        "\n",
        "# Evaluate the models\n",
        "utils.evaluate_models([dt_model, rf_model, xgb_model], X_test, y_test)\n",
        "print(f\"Time elapsed: {time() - time_before:.2f} seconds.\")"
      ],
      "metadata": {
        "ExecuteTime": {
          "end_time": "2024-12-17T12:38:06.250378Z",
          "start_time": "2024-12-17T12:38:05.986628Z"
        },
        "colab": {
          "base_uri": "https://localhost:8080/"
        },
        "id": "b767b882934a295b",
        "outputId": "4598c2aa-5ae6-424a-ad6e-fb101bbb43ae"
      },
      "id": "b767b882934a295b",
      "execution_count": 4
    },
    {
      "cell_type": "markdown",
      "source": [
        "## ✨ Questions ✨\n",
        "\n",
        "1. Do you identify any of the three models as the best one for this dataset?\n",
        "2. Set the random_state to None and run the code many times. Is XGBoost always the best model? What is happening?\n",
        "3. What could we do to improve the comparison?"
      ],
      "metadata": {
        "collapsed": false,
        "id": "1e3d3bd899b07df7"
      },
      "id": "1e3d3bd899b07df7"
    },
    {
      "cell_type": "markdown",
      "source": [
        "### Answers\n",
        "\n",
        "1.\n",
        "2.\n",
        "3.\n"
      ],
      "metadata": {
        "collapsed": false,
        "id": "87156cc804b49eb6"
      },
      "id": "87156cc804b49eb6"
    },
    {
      "cell_type": "markdown",
      "source": [
        "## Model interpretation\n",
        "\n",
        "In Scikit-learn, `feature_importances_` is an attribute used to understand how important each feature is in making predictions in certain models, particularly decision tree-based algorithms like Random Forests, Gradient Boosting, and Decision Trees themselves. It is an important piece of information to understand the model and the data (data mining).\n",
        "\n",
        "`feature_importances_` is an array of values that indicate the relative importance of each feature used in the model. Each value in this array corresponds to a feature, and the sum of all the values in `feature_importances_` is 1. Higher values mean that the feature is more important for making predictions, and lower values indicate less importance.\n",
        "\n",
        "In decision tree-based models (e.g., `DecisionTreeClassifier`, `RandomForestClassifier`, or `XGBClassifier`), the importance of a feature is calculated based on how much the feature reduces uncertainty or \"impurity\" in the data at a decision node."
      ],
      "metadata": {
        "collapsed": false,
        "id": "7aa678b170c713a2"
      },
      "id": "7aa678b170c713a2"
    },
    {
      "cell_type": "code",
      "outputs": [
        {
          "output_type": "display_data",
          "data": {
            "text/plain": [
              "<Figure size 640x480 with 1 Axes>"
            ],
            "image/png": "[encoded data removed]"
          },
          "metadata": {}
        }
      ],
      "source": [
        "feature_importances_DT = dt_model.feature_importances_\n",
        "feature_importances_RF = rf_model.feature_importances_\n",
        "feature_importances_XGB = xgb_model.feature_importances_\n",
        "\n",
        "utils.plot_feature_importances([feature_importances_DT, feature_importances_RF, feature_importances_XGB], ['Decision Tree', 'Random Forest', 'XGBoost'], independent_vars)"
      ],
      "metadata": {
        "ExecuteTime": {
          "end_time": "2024-12-17T12:38:06.395136Z",
          "start_time": "2024-12-17T12:38:06.251513Z"
        },
        "colab": {
          "base_uri": "https://localhost:8080/",
          "height": 488
        },
        "id": "9ea1837292d05f0c",
        "outputId": "99ab896f-1ec1-40f0-ba49-406d62d67f37"
      },
      "id": "9ea1837292d05f0c",
      "execution_count": 5
    },
    {
      "cell_type": "markdown",
      "source": [
        "## ✨ Questions ✨\n",
        "\n",
        "4. What are the three most important features?\n",
        "5. Do the three models agree on these three most important features? What are the differences?\n",
        "6. Why do you think these differences exist?"
      ],
      "metadata": {
        "collapsed": false,
        "id": "dc410a6ad8cf84d5"
      },
      "id": "dc410a6ad8cf84d5"
    },
    {
      "cell_type": "markdown",
      "source": [
        "### Answers\n",
        "4. Sexo,  clase y Fare.\n",
        "5. no. eN X G BOOST-> EL FARE NO ES DE LAS 3 MAS IMPROTANTES.\n",
        "6.  cADA UNO UTILIZA UNA INTERPRETECCIÓN DISTINTA DE LA FUNCION DE COSTE + HAY MUCHA ALEATORIEDAD-> ESTO ES BUENO!\n",
        "\n"
      ],
      "metadata": {
        "collapsed": false,
        "id": "5d44f90f46cedf2"
      },
      "id": "5d44f90f46cedf2"
    },
    {
      "cell_type": "markdown",
      "source": [
        "## Model comparison\n",
        "\n",
        "### Method 1: Confidence intervals\n",
        "\n",
        "The first method we are using to compare models train and evaluate the models N times and compute the 95% confidence intervals."
      ],
      "metadata": {
        "collapsed": false,
        "id": "eb5dafad8526ac8"
      },
      "id": "eb5dafad8526ac8"
    },
    {
      "cell_type": "code",
      "outputs": [
        {
          "output_type": "stream",
          "name": "stdout",
          "text": [
            "\n",
            "----- Re-train and re-evaluate method -----\n"
          ]
        }
      ],
      "source": [
        "# Evaluate the performance of the models n_times and store the evaluation results in accuracies and f1_scores\n",
        "print(f\"\\n{'-'*5} Re-train and re-evaluate method {'-'*5}\")\n",
        "time_before = time()\n",
        "n_times = 30\n",
        "accuracies = dict()\n",
        "f1_scores = dict()\n",
        "for _ in range(n_times):\n",
        "    (temp_X_train, temp_y_train), (temp_X_test, temp_y_test) = utils.split_dataset(dataset, independent_vars, dependent_var,\n",
        "                                                               0.6, random_state=None)\n",
        "    dt_model = DecisionTreeClassifier(random_state=None)\n",
        "    dt_model.fit(temp_X_train, temp_y_train)\n",
        "    rf_model = RandomForestClassifier(random_state=None)\n",
        "    rf_model.fit(temp_X_train, temp_y_train)\n",
        "    xgb_model = xgb.XGBClassifier(random_state=None)\n",
        "    xgb_model.fit(temp_X_train, temp_y_train)\n",
        "    models = [dt_model, rf_model, xgb_model]\n",
        "    metrics = utils.evaluate_models(models, temp_X_test, temp_y_test, verbose=False)\n",
        "    for model_name, (accuracy, f1_score_value) in zip(models, metrics):\n",
        "        accuracies.setdefault(model_name.__class__.__name__, []).append(accuracy)\n",
        "        f1_scores.setdefault(model_name.__class__.__name__, []).append(f1_score_value)"
      ],
      "metadata": {
        "ExecuteTime": {
          "end_time": "2024-12-17T12:38:12.916112Z",
          "start_time": "2024-12-17T12:38:06.397296Z"
        },
        "colab": {
          "base_uri": "https://localhost:8080/"
        },
        "id": "3ef4181303548aa6",
        "outputId": "818122a2-1950-49ff-a5cd-5c228a1476b7"
      },
      "id": "3ef4181303548aa6",
      "execution_count": 6
    },
    {
      "cell_type": "markdown",
      "source": [
        "We now compute and visualize the confidence intervals of each model and metric."
      ],
      "metadata": {
        "collapsed": false,
        "id": "316f70b41ff339c2"
      },
      "id": "316f70b41ff339c2"
    },
    {
      "cell_type": "code",
      "outputs": [
        {
          "output_type": "stream",
          "name": "stdout",
          "text": [
            "Model: DecisionTreeClassifier.\n",
            "\tAccuracy mean: 0.7692. CI: (0.7630004437751999, 0.775422895765458).\n",
            "\tF1 Score: 0.6880. CI: (0.679967633208704, 0.6959541434978515).\n",
            "Model: RandomForestClassifier.\n",
            "\tAccuracy mean: 0.7725. CI: (0.7672182245808642, 0.7777848790814573).\n",
            "\tF1 Score: 0.6951. CI: (0.6878525483234017, 0.702360435733022).\n",
            "Model: XGBClassifier.\n",
            "\tAccuracy mean: 0.7783. CI: (0.7729100794484074, 0.783638648050041).\n",
            "\tF1 Score: 0.7034. CI: (0.6958083174858611, 0.7109901652503305).\n",
            "Time elapsed: 19.82 seconds.\n"
          ]
        }
      ],
      "source": [
        "for model_name in accuracies:\n",
        "    accuracy_mean, accuracy_confidence_interval = utils.confidence_interval(accuracies[model_name], 0.95)\n",
        "    f1_score_mean, f1_score_confidence_interval = utils.confidence_interval(f1_scores[model_name], 0.95)\n",
        "    print(f\"Model: {model_name}.\")\n",
        "    print(f\"\\tAccuracy mean: {accuracy_mean:.4f}. CI: {accuracy_confidence_interval}.\")\n",
        "    print(f\"\\tF1 Score: {f1_score_mean:.4f}. CI: {f1_score_confidence_interval}.\")\n",
        "\n",
        "print(f\"Time elapsed: {time() - time_before:.2f} seconds.\")"
      ],
      "metadata": {
        "ExecuteTime": {
          "end_time": "2024-12-17T12:38:12.927506Z",
          "start_time": "2024-12-17T12:38:12.917257Z"
        },
        "colab": {
          "base_uri": "https://localhost:8080/"
        },
        "id": "e1b04729b6fb43fa",
        "outputId": "babfd72b-8c72-4312-de8b-3492a2a5176b"
      },
      "id": "e1b04729b6fb43fa",
      "execution_count": 7
    },
    {
      "cell_type": "markdown",
      "source": [
        "## ✨ Questions ✨\n",
        "\n",
        "7. Are there differences with the previous values?\n",
        "8. Why?\n",
        "9. What of the two previous comparison methods do you think is better?\n",
        "10. Just comparing the means, is there any modification of the best, average, and worst models?\n",
        "11. Are there significant differences between the models?"
      ],
      "metadata": {
        "collapsed": false,
        "id": "8b4c7ae220e5ad64"
      },
      "id": "8b4c7ae220e5ad64"
    },
    {
      "cell_type": "markdown",
      "source": [
        "### Answers\n",
        "**\n",
        "debemos fijarnos en los intervalos sin solapamientos... el problema es que se solapan todos. Si antes hubieramos afirmado que habia una mejor.. aquí se ve q no **!.  \n",
        "\n",
        "\n",
        "\n",
        "\n"
      ],
      "metadata": {
        "collapsed": false,
        "id": "2d7fc7b202ba7f59"
      },
      "id": "2d7fc7b202ba7f59"
    },
    {
      "cell_type": "markdown",
      "source": [
        "### Method 2: Bootstrap\n",
        "\n",
        "We do not retrain the model. Instead, we use bootstrap on the test set to estimate the confidence intervals.\n",
        "\n",
        "*Notice*. This method is used when retraining the models is so expensive that we cannot afford to retrain them N times. A common example is a deep learning model that takes hours to train. In this case, we use the test set to compute the confidence intervals of the metrics using a method called bootstrapping."
      ],
      "metadata": {
        "collapsed": false,
        "id": "6b9ba27268be4957"
      },
      "id": "6b9ba27268be4957"
    },
    {
      "cell_type": "code",
      "outputs": [
        {
          "output_type": "stream",
          "name": "stdout",
          "text": [
            "\n",
            "----- Bootstrapping method -----\n"
          ]
        }
      ],
      "source": [
        "print(f\"\\n{'-'*5} Bootstrapping method {'-'*5}\")\n",
        "time_before = time()\n",
        "\n",
        "dt_model = DecisionTreeClassifier(random_state=random_state)\n",
        "dt_model.fit(X_train, y_train)\n",
        "rf_model = RandomForestClassifier(random_state=random_state)\n",
        "rf_model.fit(X_train, y_train)\n",
        "xgb_model = xgb.XGBClassifier(random_state=random_state)\n",
        "xgb_model.fit(X_train, y_train)\n",
        "models = [dt_model, rf_model, xgb_model]\n",
        "\n",
        "# Perform bootstrapping\n",
        "n_bootstrap_samples = 1000\n",
        "bootstrap_accuracies = dict()\n",
        "bootstrap_f1_scores = dict()\n",
        "for _ in range(n_bootstrap_samples):\n",
        "    # Resample with replacement, both X_test and the corresponding y_test at the same time (important)\n",
        "    resampled_X_test, resampled_y_test = resample(X_test, y_test, replace=True)\n",
        "    # Calculate the metrics for each model and store it in the two dictionaries\n",
        "    for model in models:\n",
        "        resampled_y_pred = model.predict(resampled_X_test)\n",
        "        accuracy = accuracy_score(resampled_y_test, resampled_y_pred)\n",
        "        f1_score_value = f1_score(resampled_y_test, resampled_y_pred)\n",
        "        bootstrap_accuracies.setdefault(model.__class__.__name__, []).append(accuracy)\n",
        "        bootstrap_f1_scores.setdefault(model.__class__.__name__, []).append(f1_score_value)\n",
        "\n",
        "# Compute and visualize the confidence intervals of each model and metric\n",
        "for model_name in bootstrap_accuracies:\n",
        "    accuracy_mean = np.mean(bootstrap_accuracies[model_name])\n",
        "    accuracy_confidence_interval = (np.percentile(bootstrap_accuracies[model_name], 2.5), np.percentile(bootstrap_accuracies[model_name], 97.5))\n",
        "    f1_score_mean = np.mean(bootstrap_f1_scores[model_name])\n",
        "    f1_score_confidence_interval = (np.percentile(bootstrap_f1_scores[model_name], 2.5), np.percentile(bootstrap_f1_scores[model_name], 97.5))\n",
        "    print(f\"Model: {model_name}.\")\n",
        "    print(f\"\\tAccuracy mean: {accuracy_mean:.4f}. CI: {accuracy_confidence_interval}.\")\n",
        "    print(f\"\\tF1 Score: {f1_score_mean:.4f}. CI: {f1_score_confidence_interval}.\")\n",
        "\n",
        "print(f\"Time elapsed: {time() - time_before:.2f} seconds.\")"
      ],
      "metadata": {
        "ExecuteTime": {
          "end_time": "2024-12-17T12:38:35.071440Z",
          "start_time": "2024-12-17T12:38:12.928510Z"
        },
        "colab": {
          "base_uri": "https://localhost:8080/"
        },
        "id": "daddbc5dc30710e9",
        "outputId": "d2ca7438-248f-43db-d66d-af8e0ccbddd5"
      },
      "id": "daddbc5dc30710e9",
      "execution_count": null
    },
    {
      "cell_type": "markdown",
      "source": [
        "## ✨ Questions ✨\n",
        "\n",
        "12. Are there differences with the previous values? Why?\n",
        "13. What method takes longer? Why?\n",
        "14. In deep learning scenarios, do you think there will be similar execution-time differences?"
      ],
      "metadata": {
        "collapsed": false,
        "id": "f03168a7c462169f"
      },
      "id": "f03168a7c462169f"
    },
    {
      "cell_type": "markdown",
      "source": [
        "### Answers\n",
        "Sí ,y de nuevo , nos muestra que no podíamos haber afirmado antes cuál  era mejor.\n",
        "\n"
      ],
      "metadata": {
        "collapsed": false,
        "id": "b957c4e24f6092ef"
      },
      "id": "b957c4e24f6092ef"
    }
  ],
  "metadata": {
    "kernelspec": {
      "display_name": "Python 3",
      "language": "python",
      "name": "python3"
    },
    "language_info": {
      "codemirror_mode": {
        "name": "ipython",
        "version": 2
      },
      "file_extension": ".py",
      "mimetype": "text/x-python",
      "name": "python",
      "nbconvert_exporter": "python",
      "pygments_lexer": "ipython2",
      "version": "2.7.6"
    },
    "colab": {
      "provenance": []
    }
  },
  "nbformat": 4,
  "nbformat_minor": 5
}