{
 "cells": [
  {
   "cell_type": "markdown",
   "id": "72ea15f3d70547f7",
   "metadata": {
    "collapsed": false
   },
   "source": [
    "# Perceptron neural network for multiclass classification\n",
    "We will now use a simple Perceptron NN for multiple classification. \n",
    "Our neural network will follow the next architecture (with 4 inputs and 3 outputs):\n",
    "\n",
    "<img src=\"img/iris_multiple_classifier.png\" width=\"600px\"/>\n",
    "\n",
    "Particularly, we will classify whether the type of iris: setosa, versicolor and virginica."
   ]
  },
  {
   "cell_type": "markdown",
   "id": "1720dcd71a988f8c",
   "metadata": {
    "collapsed": false
   },
   "source": [
    "## Imports\n",
    "We import the required modules:"
   ]
  },
  {
   "cell_type": "code",
   "execution_count": 1,
   "id": "5f099c66705669f8",
   "metadata": {
    "ExecuteTime": {
     "end_time": "2024-02-06T20:20:55.319407300Z",
     "start_time": "2024-02-06T20:20:55.172490700Z"
    },
    "collapsed": false
   },
   "outputs": [
    {
     "name": "stdout",
     "output_type": "stream",
     "text": [
      "WARNING:tensorflow:From C:\\Users\\ortin\\AppData\\Roaming\\Python\\Python311\\site-packages\\keras\\src\\losses.py:2976: The name tf.losses.sparse_softmax_cross_entropy is deprecated. Please use tf.compat.v1.losses.sparse_softmax_cross_entropy instead.\n"
     ]
    }
   ],
   "source": [
    "from keras.src.layers import Dense\n",
    "from keras.src.optimizers import SGD\n",
    "from sklearn.datasets import load_iris\n",
    "import pandas as pd\n",
    "from sklearn.metrics import accuracy_score, f1_score\n",
    "from sklearn.model_selection import train_test_split\n",
    "from keras.models import Sequential\n",
    "import numpy as np\n",
    "from utils import show_history"
   ]
  },
  {
   "cell_type": "markdown",
   "id": "e7c3e8a3ff34b7dc",
   "metadata": {
    "collapsed": false
   },
   "source": [
    "## Data preparation\n",
    "We load the iris dataset. Then we create the X (independent variables) and y (dependent variable) dataframes.\n",
    "Finally, `iris_df` holds both X and y in the same dataframe."
   ]
  },
  {
   "cell_type": "code",
   "execution_count": 2,
   "id": "33531d19a75de77f",
   "metadata": {
    "ExecuteTime": {
     "end_time": "2024-02-06T20:20:55.350444400Z",
     "start_time": "2024-02-06T20:20:55.325741200Z"
    },
    "collapsed": false
   },
   "outputs": [],
   "source": [
    "# Load Iris Data\n",
    "iris = load_iris()\n",
    "# Creating pd DataFrames\n",
    "X_df = pd.DataFrame(data=iris.data, columns=iris.feature_names)\n",
    "y_df = pd.DataFrame(data=iris.target, columns=['species'])"
   ]
  },
  {
   "cell_type": "markdown",
   "id": "802ac98cb6d019ad",
   "metadata": {
    "collapsed": false
   },
   "source": [
    "We transform the species feature to one-hot encoding: \n",
    "instead of three a feature with 3 possible values, we have 3 different binary features: species_0, species_1 and species_2.\n",
    "We concatenate `X_df` and `y_df` and we show the whole dataset (notice the one-hot encoding for species)."
   ]
  },
  {
   "cell_type": "code",
   "execution_count": 3,
   "id": "ba1108741a17ef06",
   "metadata": {
    "ExecuteTime": {
     "end_time": "2024-02-06T20:20:55.410243900Z",
     "start_time": "2024-02-06T20:20:55.362997600Z"
    },
    "collapsed": false
   },
   "outputs": [
    {
     "name": "stdout",
     "output_type": "stream",
     "text": [
      "       sepal length (cm)  sepal width (cm)  petal length (cm)  \\\n",
      "count         150.000000        150.000000         150.000000   \n",
      "mean            5.843333          3.057333           3.758000   \n",
      "std             0.828066          0.435866           1.765298   \n",
      "min             4.300000          2.000000           1.000000   \n",
      "25%             5.100000          2.800000           1.600000   \n",
      "50%             5.800000          3.000000           4.350000   \n",
      "75%             6.400000          3.300000           5.100000   \n",
      "max             7.900000          4.400000           6.900000   \n",
      "\n",
      "       petal width (cm)   species_0   species_1   species_2  \n",
      "count        150.000000  150.000000  150.000000  150.000000  \n",
      "mean           1.199333    0.333333    0.333333    0.333333  \n",
      "std            0.762238    0.472984    0.472984    0.472984  \n",
      "min            0.100000    0.000000    0.000000    0.000000  \n",
      "25%            0.300000    0.000000    0.000000    0.000000  \n",
      "50%            1.300000    0.000000    0.000000    0.000000  \n",
      "75%            1.800000    1.000000    1.000000    1.000000  \n",
      "max            2.500000    1.000000    1.000000    1.000000  \n"
     ]
    }
   ],
   "source": [
    "y_one_hot = pd.get_dummies(y_df['species'], prefix='species').map(lambda boolean: 1 if boolean else 0)\n",
    "iris_df = pd.concat([X_df, y_one_hot], axis=1)\n",
    "print(iris_df.describe())"
   ]
  },
  {
   "cell_type": "markdown",
   "id": "52235b5e38e3ccf",
   "metadata": {
    "collapsed": false
   },
   "source": [
    "We prepare our X and y dataframes. In this case, y has three variables (one for each type of flower)."
   ]
  },
  {
   "cell_type": "code",
   "execution_count": 4,
   "id": "e0e285a33f74265b",
   "metadata": {
    "ExecuteTime": {
     "end_time": "2024-02-06T20:20:55.411338300Z",
     "start_time": "2024-02-06T20:20:55.393832100Z"
    },
    "collapsed": false
   },
   "outputs": [],
   "source": [
    "y_column_names = ['species_0', 'species_1', 'species_2']\n",
    "# X is the dataset without the target variable (species)\n",
    "X = iris_df.drop(labels=y_column_names, axis=1)\n",
    "# y is species_0, species_1 and species_3 (three different classes / outputs)\n",
    "y = iris_df[['species_0', 'species_1', 'species_2']]"
   ]
  },
  {
   "cell_type": "markdown",
   "id": "edfd1a4a83763498",
   "metadata": {
    "collapsed": false
   },
   "source": [
    "Then, we split the dataset in 80% train and 20% test."
   ]
  },
  {
   "cell_type": "code",
   "execution_count": 5,
   "id": "e59cf1f79ad18fa0",
   "metadata": {
    "ExecuteTime": {
     "end_time": "2024-02-06T20:20:55.429603900Z",
     "start_time": "2024-02-06T20:20:55.413570900Z"
    },
    "collapsed": false
   },
   "outputs": [],
   "source": [
    "# Splitting the Dataset\n",
    "X_train, X_test, y_train, y_test = train_test_split(X, y, test_size=0.2)"
   ]
  },
  {
   "cell_type": "markdown",
   "id": "a35cb0e63baa551a",
   "metadata": {
    "collapsed": false
   },
   "source": [
    "## Neural network\n",
    "A simple neuron is created with 4 inputs and 3 outputs. \n",
    "A sigmoid activation function is required because we have three binary classifiers.\n",
    "The network has one single neuron with 15 parameters: 3 output neurons * (4 weights for inputs + bias).\n",
    "All the parameters all trainable (learned) from data."
   ]
  },
  {
   "cell_type": "code",
   "execution_count": 6,
   "id": "12d7b20ccb899e96",
   "metadata": {
    "ExecuteTime": {
     "end_time": "2024-02-06T20:20:55.507631300Z",
     "start_time": "2024-02-06T20:20:55.434433300Z"
    },
    "collapsed": false
   },
   "outputs": [
    {
     "name": "stdout",
     "output_type": "stream",
     "text": [
      "WARNING:tensorflow:From C:\\Users\\ortin\\AppData\\Roaming\\Python\\Python311\\site-packages\\keras\\src\\backend.py:873: The name tf.get_default_graph is deprecated. Please use tf.compat.v1.get_default_graph instead.\n",
      "\n",
      "Model: \"sequential\"\n",
      "_________________________________________________________________\n",
      " Layer (type)                Output Shape              Param #   \n",
      "=================================================================\n",
      " dense (Dense)               (None, 3)                 15        \n",
      "                                                                 \n",
      "=================================================================\n",
      "Total params: 15 (60.00 Byte)\n",
      "Trainable params: 15 (60.00 Byte)\n",
      "Non-trainable params: 0 (0.00 Byte)\n",
      "_________________________________________________________________\n"
     ]
    }
   ],
   "source": [
    "model = Sequential()\n",
    "model.add(Dense(3, input_dim=4, activation='sigmoid'))\n",
    "model.summary()  # params=15: 3 output neurons * (4 weights for inputs + bias)"
   ]
  },
  {
   "cell_type": "markdown",
   "id": "9d71c4195679301f",
   "metadata": {
    "collapsed": false
   },
   "source": [
    "We will use binary cross entropy as the loss function, since we are building three binary classifiers. \n",
    "For optimization, we use Stochastic Gradient Descent (SGD).\n",
    "We want to be prompted loss (binary cross entropy) and accuracy. "
   ]
  },
  {
   "cell_type": "code",
   "execution_count": 7,
   "id": "902bdc98bcffd2a",
   "metadata": {
    "ExecuteTime": {
     "end_time": "2024-02-06T20:20:55.531030400Z",
     "start_time": "2024-02-06T20:20:55.484959300Z"
    },
    "collapsed": false
   },
   "outputs": [],
   "source": [
    "model.compile(loss='binary_crossentropy', optimizer=SGD(learning_rate=0.01), metrics=['accuracy'])"
   ]
  },
  {
   "cell_type": "markdown",
   "id": "9a8a06a43d16c584",
   "metadata": {
    "collapsed": false
   },
   "source": [
    "We now train the model (learn the parameters) for 300 epochs. "
   ]
  },
  {
   "cell_type": "code",
   "execution_count": 8,
   "id": "10d584c42bb9c1e3",
   "metadata": {
    "ExecuteTime": {
     "end_time": "2024-02-06T20:21:02.918243500Z",
     "start_time": "2024-02-06T20:20:55.515728100Z"
    },
    "collapsed": false
   },
   "outputs": [
    {
     "name": "stdout",
     "output_type": "stream",
     "text": [
      "Epoch 1/300\n",
      "WARNING:tensorflow:From C:\\Users\\ortin\\AppData\\Roaming\\Python\\Python311\\site-packages\\keras\\src\\utils\\tf_utils.py:492: The name tf.ragged.RaggedTensorValue is deprecated. Please use tf.compat.v1.ragged.RaggedTensorValue instead.\n",
      "\n",
      "WARNING:tensorflow:From C:\\Users\\ortin\\AppData\\Roaming\\Python\\Python311\\site-packages\\keras\\src\\engine\\base_layer_utils.py:384: The name tf.executing_eagerly_outside_functions is deprecated. Please use tf.compat.v1.executing_eagerly_outside_functions instead.\n",
      "\n",
      "4/4 [==============================] - 1s 9ms/step - loss: 2.2289 - accuracy: 0.2667\n",
      "Epoch 2/300\n",
      "4/4 [==============================] - 0s 5ms/step - loss: 1.9405 - accuracy: 0.2833\n",
      "Epoch 3/300\n",
      "4/4 [==============================] - 0s 5ms/step - loss: 1.6750 - accuracy: 0.2917\n",
      "Epoch 4/300\n",
      "4/4 [==============================] - 0s 5ms/step - loss: 1.4347 - accuracy: 0.3000\n",
      "Epoch 5/300\n",
      "4/4 [==============================] - 0s 5ms/step - loss: 1.2288 - accuracy: 0.3167\n",
      "Epoch 6/300\n",
      "4/4 [==============================] - 0s 5ms/step - loss: 1.0611 - accuracy: 0.3333\n",
      "Epoch 7/300\n",
      "4/4 [==============================] - 0s 6ms/step - loss: 0.9330 - accuracy: 0.3167\n",
      "Epoch 8/300\n",
      "4/4 [==============================] - 0s 6ms/step - loss: 0.8417 - accuracy: 0.3250\n",
      "Epoch 9/300\n",
      "4/4 [==============================] - 0s 6ms/step - loss: 0.7770 - accuracy: 0.2750\n",
      "Epoch 10/300\n",
      "4/4 [==============================] - 0s 5ms/step - loss: 0.7331 - accuracy: 0.1917\n",
      "Epoch 11/300\n",
      "4/4 [==============================] - 0s 5ms/step - loss: 0.7038 - accuracy: 0.2167\n",
      "Epoch 12/300\n",
      "4/4 [==============================] - 0s 4ms/step - loss: 0.6833 - accuracy: 0.2500\n",
      "Epoch 13/300\n",
      "4/4 [==============================] - 0s 4ms/step - loss: 0.6683 - accuracy: 0.2750\n",
      "Epoch 14/300\n",
      "4/4 [==============================] - 0s 4ms/step - loss: 0.6579 - accuracy: 0.2833\n",
      "Epoch 15/300\n",
      "4/4 [==============================] - 0s 5ms/step - loss: 0.6495 - accuracy: 0.2917\n",
      "Epoch 16/300\n",
      "4/4 [==============================] - 0s 5ms/step - loss: 0.6431 - accuracy: 0.3167\n",
      "Epoch 17/300\n",
      "4/4 [==============================] - 0s 6ms/step - loss: 0.6373 - accuracy: 0.3167\n",
      "Epoch 18/300\n",
      "4/4 [==============================] - 0s 6ms/step - loss: 0.6328 - accuracy: 0.3167\n",
      "Epoch 19/300\n",
      "4/4 [==============================] - 0s 6ms/step - loss: 0.6284 - accuracy: 0.3333\n",
      "Epoch 20/300\n",
      "4/4 [==============================] - 0s 6ms/step - loss: 0.6249 - accuracy: 0.3250\n",
      "Epoch 21/300\n",
      "4/4 [==============================] - 0s 5ms/step - loss: 0.6218 - accuracy: 0.3250\n",
      "Epoch 22/300\n",
      "4/4 [==============================] - 0s 5ms/step - loss: 0.6181 - accuracy: 0.3250\n",
      "Epoch 23/300\n",
      "4/4 [==============================] - 0s 6ms/step - loss: 0.6158 - accuracy: 0.3333\n",
      "Epoch 24/300\n",
      "4/4 [==============================] - 0s 6ms/step - loss: 0.6126 - accuracy: 0.3250\n",
      "Epoch 25/300\n",
      "4/4 [==============================] - 0s 5ms/step - loss: 0.6094 - accuracy: 0.3333\n",
      "Epoch 26/300\n",
      "4/4 [==============================] - 0s 6ms/step - loss: 0.6065 - accuracy: 0.3417\n",
      "Epoch 27/300\n",
      "4/4 [==============================] - 0s 5ms/step - loss: 0.6035 - accuracy: 0.3333\n",
      "Epoch 28/300\n",
      "4/4 [==============================] - 0s 5ms/step - loss: 0.6011 - accuracy: 0.3333\n",
      "Epoch 29/300\n",
      "4/4 [==============================] - 0s 4ms/step - loss: 0.5982 - accuracy: 0.3417\n",
      "Epoch 30/300\n",
      "4/4 [==============================] - 0s 3ms/step - loss: 0.5957 - accuracy: 0.3500\n",
      "Epoch 31/300\n",
      "4/4 [==============================] - 0s 3ms/step - loss: 0.5931 - accuracy: 0.3667\n",
      "Epoch 32/300\n",
      "4/4 [==============================] - 0s 4ms/step - loss: 0.5907 - accuracy: 0.3750\n",
      "Epoch 33/300\n",
      "4/4 [==============================] - 0s 3ms/step - loss: 0.5881 - accuracy: 0.4750\n",
      "Epoch 34/300\n",
      "4/4 [==============================] - 0s 3ms/step - loss: 0.5859 - accuracy: 0.5500\n",
      "Epoch 35/300\n",
      "4/4 [==============================] - 0s 3ms/step - loss: 0.5834 - accuracy: 0.5667\n",
      "Epoch 36/300\n",
      "4/4 [==============================] - 0s 3ms/step - loss: 0.5807 - accuracy: 0.6000\n",
      "Epoch 37/300\n",
      "4/4 [==============================] - 0s 3ms/step - loss: 0.5792 - accuracy: 0.6000\n",
      "Epoch 38/300\n",
      "4/4 [==============================] - 0s 3ms/step - loss: 0.5767 - accuracy: 0.6250\n",
      "Epoch 39/300\n",
      "4/4 [==============================] - 0s 3ms/step - loss: 0.5738 - accuracy: 0.6417\n",
      "Epoch 40/300\n",
      "4/4 [==============================] - 0s 3ms/step - loss: 0.5718 - accuracy: 0.6417\n",
      "Epoch 41/300\n",
      "4/4 [==============================] - 0s 4ms/step - loss: 0.5696 - accuracy: 0.6500\n",
      "Epoch 42/300\n",
      "4/4 [==============================] - 0s 4ms/step - loss: 0.5672 - accuracy: 0.6500\n",
      "Epoch 43/300\n",
      "4/4 [==============================] - 0s 4ms/step - loss: 0.5653 - accuracy: 0.6417\n",
      "Epoch 44/300\n",
      "4/4 [==============================] - 0s 4ms/step - loss: 0.5636 - accuracy: 0.6500\n",
      "Epoch 45/300\n",
      "4/4 [==============================] - 0s 5ms/step - loss: 0.5613 - accuracy: 0.6500\n",
      "Epoch 46/300\n",
      "4/4 [==============================] - 0s 5ms/step - loss: 0.5593 - accuracy: 0.6417\n",
      "Epoch 47/300\n",
      "4/4 [==============================] - 0s 5ms/step - loss: 0.5563 - accuracy: 0.6583\n",
      "Epoch 48/300\n",
      "4/4 [==============================] - 0s 5ms/step - loss: 0.5545 - accuracy: 0.6667\n",
      "Epoch 49/300\n",
      "4/4 [==============================] - 0s 5ms/step - loss: 0.5526 - accuracy: 0.6583\n",
      "Epoch 50/300\n",
      "4/4 [==============================] - 0s 4ms/step - loss: 0.5505 - accuracy: 0.6750\n",
      "Epoch 51/300\n",
      "4/4 [==============================] - 0s 3ms/step - loss: 0.5484 - accuracy: 0.6667\n",
      "Epoch 52/300\n",
      "4/4 [==============================] - 0s 2ms/step - loss: 0.5471 - accuracy: 0.6750\n",
      "Epoch 53/300\n",
      "4/4 [==============================] - 0s 2ms/step - loss: 0.5447 - accuracy: 0.6750\n",
      "Epoch 54/300\n",
      "4/4 [==============================] - 0s 2ms/step - loss: 0.5427 - accuracy: 0.6833\n",
      "Epoch 55/300\n",
      "4/4 [==============================] - 0s 2ms/step - loss: 0.5410 - accuracy: 0.6583\n",
      "Epoch 56/300\n",
      "4/4 [==============================] - 0s 2ms/step - loss: 0.5395 - accuracy: 0.6750\n",
      "Epoch 57/300\n",
      "4/4 [==============================] - 0s 2ms/step - loss: 0.5370 - accuracy: 0.6833\n",
      "Epoch 58/300\n",
      "4/4 [==============================] - 0s 3ms/step - loss: 0.5352 - accuracy: 0.6833\n",
      "Epoch 59/300\n",
      "4/4 [==============================] - 0s 4ms/step - loss: 0.5336 - accuracy: 0.6750\n",
      "Epoch 60/300\n",
      "4/4 [==============================] - 0s 4ms/step - loss: 0.5315 - accuracy: 0.6917\n",
      "Epoch 61/300\n",
      "4/4 [==============================] - 0s 4ms/step - loss: 0.5300 - accuracy: 0.6750\n",
      "Epoch 62/300\n",
      "4/4 [==============================] - 0s 5ms/step - loss: 0.5282 - accuracy: 0.7000\n",
      "Epoch 63/300\n",
      "4/4 [==============================] - 0s 5ms/step - loss: 0.5266 - accuracy: 0.6750\n",
      "Epoch 64/300\n",
      "4/4 [==============================] - 0s 6ms/step - loss: 0.5247 - accuracy: 0.6917\n",
      "Epoch 65/300\n",
      "4/4 [==============================] - 0s 6ms/step - loss: 0.5232 - accuracy: 0.6917\n",
      "Epoch 66/300\n",
      "4/4 [==============================] - 0s 5ms/step - loss: 0.5214 - accuracy: 0.6833\n",
      "Epoch 67/300\n",
      "4/4 [==============================] - 0s 4ms/step - loss: 0.5205 - accuracy: 0.6750\n",
      "Epoch 68/300\n",
      "4/4 [==============================] - 0s 3ms/step - loss: 0.5182 - accuracy: 0.6833\n",
      "Epoch 69/300\n",
      "4/4 [==============================] - 0s 4ms/step - loss: 0.5165 - accuracy: 0.6833\n",
      "Epoch 70/300\n",
      "4/4 [==============================] - 0s 4ms/step - loss: 0.5149 - accuracy: 0.7000\n",
      "Epoch 71/300\n",
      "4/4 [==============================] - 0s 4ms/step - loss: 0.5138 - accuracy: 0.6917\n",
      "Epoch 72/300\n",
      "4/4 [==============================] - 0s 4ms/step - loss: 0.5124 - accuracy: 0.6833\n",
      "Epoch 73/300\n",
      "4/4 [==============================] - 0s 4ms/step - loss: 0.5106 - accuracy: 0.6833\n",
      "Epoch 74/300\n",
      "4/4 [==============================] - 0s 3ms/step - loss: 0.5092 - accuracy: 0.6917\n",
      "Epoch 75/300\n",
      "4/4 [==============================] - 0s 4ms/step - loss: 0.5074 - accuracy: 0.6833\n",
      "Epoch 76/300\n",
      "4/4 [==============================] - 0s 3ms/step - loss: 0.5074 - accuracy: 0.6917\n",
      "Epoch 77/300\n",
      "4/4 [==============================] - 0s 3ms/step - loss: 0.5046 - accuracy: 0.7083\n",
      "Epoch 78/300\n",
      "4/4 [==============================] - 0s 3ms/step - loss: 0.5046 - accuracy: 0.6750\n",
      "Epoch 79/300\n",
      "4/4 [==============================] - 0s 3ms/step - loss: 0.5024 - accuracy: 0.7000\n",
      "Epoch 80/300\n",
      "4/4 [==============================] - 0s 3ms/step - loss: 0.5005 - accuracy: 0.6917\n",
      "Epoch 81/300\n",
      "4/4 [==============================] - 0s 3ms/step - loss: 0.5000 - accuracy: 0.7000\n",
      "Epoch 82/300\n",
      "4/4 [==============================] - 0s 2ms/step - loss: 0.4975 - accuracy: 0.7000\n",
      "Epoch 83/300\n",
      "4/4 [==============================] - 0s 2ms/step - loss: 0.4969 - accuracy: 0.7000\n",
      "Epoch 84/300\n",
      "4/4 [==============================] - 0s 2ms/step - loss: 0.4949 - accuracy: 0.7083\n",
      "Epoch 85/300\n",
      "4/4 [==============================] - 0s 2ms/step - loss: 0.4936 - accuracy: 0.7000\n",
      "Epoch 86/300\n",
      "4/4 [==============================] - 0s 2ms/step - loss: 0.4925 - accuracy: 0.7000\n",
      "Epoch 87/300\n",
      "4/4 [==============================] - 0s 2ms/step - loss: 0.4909 - accuracy: 0.7000\n",
      "Epoch 88/300\n",
      "4/4 [==============================] - 0s 3ms/step - loss: 0.4899 - accuracy: 0.6833\n",
      "Epoch 89/300\n",
      "4/4 [==============================] - 0s 2ms/step - loss: 0.4886 - accuracy: 0.6917\n",
      "Epoch 90/300\n",
      "4/4 [==============================] - 0s 2ms/step - loss: 0.4871 - accuracy: 0.7083\n",
      "Epoch 91/300\n",
      "4/4 [==============================] - 0s 3ms/step - loss: 0.4858 - accuracy: 0.6833\n",
      "Epoch 92/300\n",
      "4/4 [==============================] - 0s 3ms/step - loss: 0.4851 - accuracy: 0.7083\n",
      "Epoch 93/300\n",
      "4/4 [==============================] - 0s 3ms/step - loss: 0.4835 - accuracy: 0.6833\n",
      "Epoch 94/300\n",
      "4/4 [==============================] - 0s 2ms/step - loss: 0.4824 - accuracy: 0.6917\n",
      "Epoch 95/300\n",
      "4/4 [==============================] - 0s 2ms/step - loss: 0.4809 - accuracy: 0.6917\n",
      "Epoch 96/300\n",
      "4/4 [==============================] - 0s 2ms/step - loss: 0.4802 - accuracy: 0.6917\n",
      "Epoch 97/300\n",
      "4/4 [==============================] - 0s 2ms/step - loss: 0.4788 - accuracy: 0.7000\n",
      "Epoch 98/300\n",
      "4/4 [==============================] - 0s 2ms/step - loss: 0.4774 - accuracy: 0.6833\n",
      "Epoch 99/300\n",
      "4/4 [==============================] - 0s 2ms/step - loss: 0.4766 - accuracy: 0.7000\n",
      "Epoch 100/300\n",
      "4/4 [==============================] - 0s 3ms/step - loss: 0.4753 - accuracy: 0.6833\n",
      "Epoch 101/300\n",
      "4/4 [==============================] - 0s 2ms/step - loss: 0.4743 - accuracy: 0.6750\n",
      "Epoch 102/300\n",
      "4/4 [==============================] - 0s 3ms/step - loss: 0.4735 - accuracy: 0.7083\n",
      "Epoch 103/300\n",
      "4/4 [==============================] - 0s 4ms/step - loss: 0.4720 - accuracy: 0.6750\n",
      "Epoch 104/300\n",
      "4/4 [==============================] - 0s 3ms/step - loss: 0.4711 - accuracy: 0.6833\n",
      "Epoch 105/300\n",
      "4/4 [==============================] - 0s 3ms/step - loss: 0.4697 - accuracy: 0.6833\n",
      "Epoch 106/300\n",
      "4/4 [==============================] - 0s 3ms/step - loss: 0.4686 - accuracy: 0.6833\n",
      "Epoch 107/300\n",
      "4/4 [==============================] - 0s 4ms/step - loss: 0.4676 - accuracy: 0.6833\n",
      "Epoch 108/300\n",
      "4/4 [==============================] - 0s 3ms/step - loss: 0.4666 - accuracy: 0.6833\n",
      "Epoch 109/300\n",
      "4/4 [==============================] - 0s 2ms/step - loss: 0.4656 - accuracy: 0.7000\n",
      "Epoch 110/300\n",
      "4/4 [==============================] - 0s 2ms/step - loss: 0.4648 - accuracy: 0.6917\n",
      "Epoch 111/300\n",
      "4/4 [==============================] - 0s 2ms/step - loss: 0.4635 - accuracy: 0.6833\n",
      "Epoch 112/300\n",
      "4/4 [==============================] - 0s 2ms/step - loss: 0.4630 - accuracy: 0.6833\n",
      "Epoch 113/300\n",
      "4/4 [==============================] - 0s 2ms/step - loss: 0.4617 - accuracy: 0.6833\n",
      "Epoch 114/300\n",
      "4/4 [==============================] - 0s 2ms/step - loss: 0.4607 - accuracy: 0.6833\n",
      "Epoch 115/300\n",
      "4/4 [==============================] - 0s 2ms/step - loss: 0.4596 - accuracy: 0.6917\n",
      "Epoch 116/300\n",
      "4/4 [==============================] - 0s 3ms/step - loss: 0.4589 - accuracy: 0.6833\n",
      "Epoch 117/300\n",
      "4/4 [==============================] - 0s 2ms/step - loss: 0.4577 - accuracy: 0.6833\n",
      "Epoch 118/300\n",
      "4/4 [==============================] - 0s 2ms/step - loss: 0.4568 - accuracy: 0.6750\n",
      "Epoch 119/300\n",
      "4/4 [==============================] - 0s 2ms/step - loss: 0.4560 - accuracy: 0.6750\n",
      "Epoch 120/300\n",
      "4/4 [==============================] - 0s 3ms/step - loss: 0.4552 - accuracy: 0.6750\n",
      "Epoch 121/300\n",
      "4/4 [==============================] - 0s 3ms/step - loss: 0.4541 - accuracy: 0.6833\n",
      "Epoch 122/300\n",
      "4/4 [==============================] - 0s 4ms/step - loss: 0.4533 - accuracy: 0.6833\n",
      "Epoch 123/300\n",
      "4/4 [==============================] - 0s 4ms/step - loss: 0.4525 - accuracy: 0.6833\n",
      "Epoch 124/300\n",
      "4/4 [==============================] - 0s 4ms/step - loss: 0.4514 - accuracy: 0.6833\n",
      "Epoch 125/300\n",
      "4/4 [==============================] - 0s 5ms/step - loss: 0.4506 - accuracy: 0.6833\n",
      "Epoch 126/300\n",
      "4/4 [==============================] - 0s 4ms/step - loss: 0.4495 - accuracy: 0.6833\n",
      "Epoch 127/300\n",
      "4/4 [==============================] - 0s 3ms/step - loss: 0.4489 - accuracy: 0.6750\n",
      "Epoch 128/300\n",
      "4/4 [==============================] - 0s 2ms/step - loss: 0.4479 - accuracy: 0.6833\n",
      "Epoch 129/300\n",
      "4/4 [==============================] - 0s 2ms/step - loss: 0.4474 - accuracy: 0.6750\n",
      "Epoch 130/300\n",
      "4/4 [==============================] - 0s 2ms/step - loss: 0.4465 - accuracy: 0.7083\n",
      "Epoch 131/300\n",
      "4/4 [==============================] - 0s 2ms/step - loss: 0.4456 - accuracy: 0.6750\n",
      "Epoch 132/300\n",
      "4/4 [==============================] - 0s 2ms/step - loss: 0.4448 - accuracy: 0.6833\n",
      "Epoch 133/300\n",
      "4/4 [==============================] - 0s 2ms/step - loss: 0.4438 - accuracy: 0.6917\n",
      "Epoch 134/300\n",
      "4/4 [==============================] - 0s 2ms/step - loss: 0.4430 - accuracy: 0.6750\n",
      "Epoch 135/300\n",
      "4/4 [==============================] - 0s 3ms/step - loss: 0.4422 - accuracy: 0.6833\n",
      "Epoch 136/300\n",
      "4/4 [==============================] - 0s 4ms/step - loss: 0.4418 - accuracy: 0.6750\n",
      "Epoch 137/300\n",
      "4/4 [==============================] - 0s 3ms/step - loss: 0.4409 - accuracy: 0.6833\n",
      "Epoch 138/300\n",
      "4/4 [==============================] - 0s 3ms/step - loss: 0.4399 - accuracy: 0.6833\n",
      "Epoch 139/300\n",
      "4/4 [==============================] - 0s 3ms/step - loss: 0.4390 - accuracy: 0.6750\n",
      "Epoch 140/300\n",
      "4/4 [==============================] - 0s 3ms/step - loss: 0.4385 - accuracy: 0.6750\n",
      "Epoch 141/300\n",
      "4/4 [==============================] - 0s 3ms/step - loss: 0.4376 - accuracy: 0.6750\n",
      "Epoch 142/300\n",
      "4/4 [==============================] - 0s 2ms/step - loss: 0.4371 - accuracy: 0.6750\n",
      "Epoch 143/300\n",
      "4/4 [==============================] - 0s 3ms/step - loss: 0.4365 - accuracy: 0.6917\n",
      "Epoch 144/300\n",
      "4/4 [==============================] - 0s 4ms/step - loss: 0.4356 - accuracy: 0.6750\n",
      "Epoch 145/300\n",
      "4/4 [==============================] - 0s 3ms/step - loss: 0.4345 - accuracy: 0.6750\n",
      "Epoch 146/300\n",
      "4/4 [==============================] - 0s 2ms/step - loss: 0.4339 - accuracy: 0.6750\n",
      "Epoch 147/300\n",
      "4/4 [==============================] - 0s 3ms/step - loss: 0.4336 - accuracy: 0.6833\n",
      "Epoch 148/300\n",
      "4/4 [==============================] - 0s 3ms/step - loss: 0.4324 - accuracy: 0.6750\n",
      "Epoch 149/300\n",
      "4/4 [==============================] - 0s 3ms/step - loss: 0.4320 - accuracy: 0.6917\n",
      "Epoch 150/300\n",
      "4/4 [==============================] - 0s 2ms/step - loss: 0.4312 - accuracy: 0.6750\n",
      "Epoch 151/300\n",
      "4/4 [==============================] - 0s 2ms/step - loss: 0.4304 - accuracy: 0.6750\n",
      "Epoch 152/300\n",
      "4/4 [==============================] - 0s 2ms/step - loss: 0.4297 - accuracy: 0.6833\n",
      "Epoch 153/300\n",
      "4/4 [==============================] - 0s 2ms/step - loss: 0.4290 - accuracy: 0.6917\n",
      "Epoch 154/300\n",
      "4/4 [==============================] - 0s 2ms/step - loss: 0.4286 - accuracy: 0.6833\n",
      "Epoch 155/300\n",
      "4/4 [==============================] - 0s 2ms/step - loss: 0.4277 - accuracy: 0.6750\n",
      "Epoch 156/300\n",
      "4/4 [==============================] - 0s 2ms/step - loss: 0.4271 - accuracy: 0.6833\n",
      "Epoch 157/300\n",
      "4/4 [==============================] - 0s 2ms/step - loss: 0.4265 - accuracy: 0.6750\n",
      "Epoch 158/300\n",
      "4/4 [==============================] - 0s 3ms/step - loss: 0.4263 - accuracy: 0.6750\n",
      "Epoch 159/300\n",
      "4/4 [==============================] - 0s 3ms/step - loss: 0.4250 - accuracy: 0.6917\n",
      "Epoch 160/300\n",
      "4/4 [==============================] - 0s 3ms/step - loss: 0.4248 - accuracy: 0.6750\n",
      "Epoch 161/300\n",
      "4/4 [==============================] - 0s 3ms/step - loss: 0.4237 - accuracy: 0.6750\n",
      "Epoch 162/300\n",
      "4/4 [==============================] - 0s 4ms/step - loss: 0.4231 - accuracy: 0.7000\n",
      "Epoch 163/300\n",
      "4/4 [==============================] - 0s 3ms/step - loss: 0.4225 - accuracy: 0.6833\n",
      "Epoch 164/300\n",
      "4/4 [==============================] - 0s 2ms/step - loss: 0.4228 - accuracy: 0.6750\n",
      "Epoch 165/300\n",
      "4/4 [==============================] - 0s 2ms/step - loss: 0.4215 - accuracy: 0.6917\n",
      "Epoch 166/300\n",
      "4/4 [==============================] - 0s 2ms/step - loss: 0.4212 - accuracy: 0.6750\n",
      "Epoch 167/300\n",
      "4/4 [==============================] - 0s 2ms/step - loss: 0.4201 - accuracy: 0.6750\n",
      "Epoch 168/300\n",
      "4/4 [==============================] - 0s 2ms/step - loss: 0.4196 - accuracy: 0.6750\n",
      "Epoch 169/300\n",
      "4/4 [==============================] - 0s 2ms/step - loss: 0.4191 - accuracy: 0.6750\n",
      "Epoch 170/300\n",
      "4/4 [==============================] - 0s 2ms/step - loss: 0.4185 - accuracy: 0.7000\n",
      "Epoch 171/300\n",
      "4/4 [==============================] - 0s 3ms/step - loss: 0.4179 - accuracy: 0.6833\n",
      "Epoch 172/300\n",
      "4/4 [==============================] - 0s 2ms/step - loss: 0.4177 - accuracy: 0.6833\n",
      "Epoch 173/300\n",
      "4/4 [==============================] - 0s 2ms/step - loss: 0.4169 - accuracy: 0.6833\n",
      "Epoch 174/300\n",
      "4/4 [==============================] - 0s 3ms/step - loss: 0.4163 - accuracy: 0.6750\n",
      "Epoch 175/300\n",
      "4/4 [==============================] - 0s 3ms/step - loss: 0.4156 - accuracy: 0.6833\n",
      "Epoch 176/300\n",
      "4/4 [==============================] - 0s 4ms/step - loss: 0.4154 - accuracy: 0.6917\n",
      "Epoch 177/300\n",
      "4/4 [==============================] - 0s 9ms/step - loss: 0.4145 - accuracy: 0.6833\n",
      "Epoch 178/300\n",
      "4/4 [==============================] - 0s 3ms/step - loss: 0.4139 - accuracy: 0.6833\n",
      "Epoch 179/300\n",
      "4/4 [==============================] - 0s 3ms/step - loss: 0.4133 - accuracy: 0.6833\n",
      "Epoch 180/300\n",
      "4/4 [==============================] - 0s 3ms/step - loss: 0.4127 - accuracy: 0.6833\n",
      "Epoch 181/300\n",
      "4/4 [==============================] - 0s 2ms/step - loss: 0.4125 - accuracy: 0.6833\n",
      "Epoch 182/300\n",
      "4/4 [==============================] - 0s 2ms/step - loss: 0.4116 - accuracy: 0.6917\n",
      "Epoch 183/300\n",
      "4/4 [==============================] - 0s 2ms/step - loss: 0.4125 - accuracy: 0.6917\n",
      "Epoch 184/300\n",
      "4/4 [==============================] - 0s 3ms/step - loss: 0.4105 - accuracy: 0.6833\n",
      "Epoch 185/300\n",
      "4/4 [==============================] - 0s 2ms/step - loss: 0.4101 - accuracy: 0.6833\n",
      "Epoch 186/300\n",
      "4/4 [==============================] - 0s 2ms/step - loss: 0.4094 - accuracy: 0.6833\n",
      "Epoch 187/300\n",
      "4/4 [==============================] - 0s 2ms/step - loss: 0.4090 - accuracy: 0.6833\n",
      "Epoch 188/300\n",
      "4/4 [==============================] - 0s 2ms/step - loss: 0.4086 - accuracy: 0.7000\n",
      "Epoch 189/300\n",
      "4/4 [==============================] - 0s 2ms/step - loss: 0.4081 - accuracy: 0.6833\n",
      "Epoch 190/300\n",
      "4/4 [==============================] - 0s 2ms/step - loss: 0.4077 - accuracy: 0.6833\n",
      "Epoch 191/300\n",
      "4/4 [==============================] - 0s 2ms/step - loss: 0.4074 - accuracy: 0.6833\n",
      "Epoch 192/300\n",
      "4/4 [==============================] - 0s 2ms/step - loss: 0.4067 - accuracy: 0.6750\n",
      "Epoch 193/300\n",
      "4/4 [==============================] - 0s 3ms/step - loss: 0.4060 - accuracy: 0.6833\n",
      "Epoch 194/300\n",
      "4/4 [==============================] - 0s 3ms/step - loss: 0.4055 - accuracy: 0.6833\n",
      "Epoch 195/300\n",
      "4/4 [==============================] - 0s 4ms/step - loss: 0.4051 - accuracy: 0.7000\n",
      "Epoch 196/300\n",
      "4/4 [==============================] - 0s 3ms/step - loss: 0.4047 - accuracy: 0.6833\n",
      "Epoch 197/300\n",
      "4/4 [==============================] - 0s 3ms/step - loss: 0.4044 - accuracy: 0.6833\n",
      "Epoch 198/300\n",
      "4/4 [==============================] - 0s 2ms/step - loss: 0.4036 - accuracy: 0.7000\n",
      "Epoch 199/300\n",
      "4/4 [==============================] - 0s 2ms/step - loss: 0.4032 - accuracy: 0.6833\n",
      "Epoch 200/300\n",
      "4/4 [==============================] - 0s 2ms/step - loss: 0.4030 - accuracy: 0.6833\n",
      "Epoch 201/300\n",
      "4/4 [==============================] - 0s 2ms/step - loss: 0.4026 - accuracy: 0.6833\n",
      "Epoch 202/300\n",
      "4/4 [==============================] - 0s 2ms/step - loss: 0.4018 - accuracy: 0.7000\n",
      "Epoch 203/300\n",
      "4/4 [==============================] - 0s 3ms/step - loss: 0.4012 - accuracy: 0.7000\n",
      "Epoch 204/300\n",
      "4/4 [==============================] - 0s 3ms/step - loss: 0.4008 - accuracy: 0.6833\n",
      "Epoch 205/300\n",
      "4/4 [==============================] - 0s 2ms/step - loss: 0.4016 - accuracy: 0.7083\n",
      "Epoch 206/300\n",
      "4/4 [==============================] - 0s 2ms/step - loss: 0.4000 - accuracy: 0.6833\n",
      "Epoch 207/300\n",
      "4/4 [==============================] - 0s 2ms/step - loss: 0.3999 - accuracy: 0.6833\n",
      "Epoch 208/300\n",
      "4/4 [==============================] - 0s 2ms/step - loss: 0.3991 - accuracy: 0.6833\n",
      "Epoch 209/300\n",
      "4/4 [==============================] - 0s 2ms/step - loss: 0.3988 - accuracy: 0.6833\n",
      "Epoch 210/300\n",
      "4/4 [==============================] - 0s 3ms/step - loss: 0.3981 - accuracy: 0.6833\n",
      "Epoch 211/300\n",
      "4/4 [==============================] - 0s 3ms/step - loss: 0.3983 - accuracy: 0.7083\n",
      "Epoch 212/300\n",
      "4/4 [==============================] - 0s 3ms/step - loss: 0.3974 - accuracy: 0.6833\n",
      "Epoch 213/300\n",
      "4/4 [==============================] - 0s 2ms/step - loss: 0.3972 - accuracy: 0.6833\n",
      "Epoch 214/300\n",
      "4/4 [==============================] - 0s 3ms/step - loss: 0.3964 - accuracy: 0.6833\n",
      "Epoch 215/300\n",
      "4/4 [==============================] - 0s 4ms/step - loss: 0.3959 - accuracy: 0.6833\n",
      "Epoch 216/300\n",
      "4/4 [==============================] - 0s 3ms/step - loss: 0.3956 - accuracy: 0.6833\n",
      "Epoch 217/300\n",
      "4/4 [==============================] - 0s 3ms/step - loss: 0.3955 - accuracy: 0.6833\n",
      "Epoch 218/300\n",
      "4/4 [==============================] - 0s 2ms/step - loss: 0.3955 - accuracy: 0.6833\n",
      "Epoch 219/300\n",
      "4/4 [==============================] - 0s 2ms/step - loss: 0.3945 - accuracy: 0.6917\n",
      "Epoch 220/300\n",
      "4/4 [==============================] - 0s 2ms/step - loss: 0.3941 - accuracy: 0.6833\n",
      "Epoch 221/300\n",
      "4/4 [==============================] - 0s 2ms/step - loss: 0.3935 - accuracy: 0.6833\n",
      "Epoch 222/300\n",
      "4/4 [==============================] - 0s 2ms/step - loss: 0.3932 - accuracy: 0.6833\n",
      "Epoch 223/300\n",
      "4/4 [==============================] - 0s 2ms/step - loss: 0.3935 - accuracy: 0.6833\n",
      "Epoch 224/300\n",
      "4/4 [==============================] - 0s 2ms/step - loss: 0.3923 - accuracy: 0.6833\n",
      "Epoch 225/300\n",
      "4/4 [==============================] - 0s 2ms/step - loss: 0.3923 - accuracy: 0.6917\n",
      "Epoch 226/300\n",
      "4/4 [==============================] - 0s 3ms/step - loss: 0.3916 - accuracy: 0.6917\n",
      "Epoch 227/300\n",
      "4/4 [==============================] - 0s 2ms/step - loss: 0.3925 - accuracy: 0.6917\n",
      "Epoch 228/300\n",
      "4/4 [==============================] - 0s 4ms/step - loss: 0.3909 - accuracy: 0.7000\n",
      "Epoch 229/300\n",
      "4/4 [==============================] - 0s 7ms/step - loss: 0.3906 - accuracy: 0.6833\n",
      "Epoch 230/300\n",
      "4/4 [==============================] - 0s 3ms/step - loss: 0.3900 - accuracy: 0.6917\n",
      "Epoch 231/300\n",
      "4/4 [==============================] - 0s 5ms/step - loss: 0.3900 - accuracy: 0.7083\n",
      "Epoch 232/300\n",
      "4/4 [==============================] - 0s 351us/step - loss: 0.3892 - accuracy: 0.6917\n",
      "Epoch 233/300\n",
      "4/4 [==============================] - 0s 1ms/step - loss: 0.3888 - accuracy: 0.6917\n",
      "Epoch 234/300\n",
      "4/4 [==============================] - 0s 12ms/step - loss: 0.3886 - accuracy: 0.6833\n",
      "Epoch 235/300\n",
      "4/4 [==============================] - 0s 5ms/step - loss: 0.3881 - accuracy: 0.7000\n",
      "Epoch 236/300\n",
      "4/4 [==============================] - 0s 3ms/step - loss: 0.3880 - accuracy: 0.6917\n",
      "Epoch 237/300\n",
      "4/4 [==============================] - 0s 2ms/step - loss: 0.3877 - accuracy: 0.6833\n",
      "Epoch 238/300\n",
      "4/4 [==============================] - 0s 2ms/step - loss: 0.3872 - accuracy: 0.7083\n",
      "Epoch 239/300\n",
      "4/4 [==============================] - 0s 2ms/step - loss: 0.3866 - accuracy: 0.6917\n",
      "Epoch 240/300\n",
      "4/4 [==============================] - 0s 2ms/step - loss: 0.3865 - accuracy: 0.6917\n",
      "Epoch 241/300\n",
      "4/4 [==============================] - 0s 2ms/step - loss: 0.3861 - accuracy: 0.7000\n",
      "Epoch 242/300\n",
      "4/4 [==============================] - 0s 2ms/step - loss: 0.3858 - accuracy: 0.6917\n",
      "Epoch 243/300\n",
      "4/4 [==============================] - 0s 2ms/step - loss: 0.3853 - accuracy: 0.6833\n",
      "Epoch 244/300\n",
      "4/4 [==============================] - 0s 2ms/step - loss: 0.3849 - accuracy: 0.6833\n",
      "Epoch 245/300\n",
      "4/4 [==============================] - 0s 2ms/step - loss: 0.3852 - accuracy: 0.6833\n",
      "Epoch 246/300\n",
      "4/4 [==============================] - 0s 2ms/step - loss: 0.3843 - accuracy: 0.7000\n",
      "Epoch 247/300\n",
      "4/4 [==============================] - 0s 2ms/step - loss: 0.3838 - accuracy: 0.6917\n",
      "Epoch 248/300\n",
      "4/4 [==============================] - 0s 2ms/step - loss: 0.3839 - accuracy: 0.7000\n",
      "Epoch 249/300\n",
      "4/4 [==============================] - 0s 2ms/step - loss: 0.3832 - accuracy: 0.6917\n",
      "Epoch 250/300\n",
      "4/4 [==============================] - 0s 2ms/step - loss: 0.3832 - accuracy: 0.7167\n",
      "Epoch 251/300\n",
      "4/4 [==============================] - 0s 815us/step - loss: 0.3828 - accuracy: 0.6917\n",
      "Epoch 252/300\n",
      "4/4 [==============================] - 0s 5ms/step - loss: 0.3825 - accuracy: 0.6833\n",
      "Epoch 253/300\n",
      "4/4 [==============================] - 0s 0s/step - loss: 0.3820 - accuracy: 0.6917\n",
      "Epoch 254/300\n",
      "4/4 [==============================] - 0s 5ms/step - loss: 0.3815 - accuracy: 0.6917\n",
      "Epoch 255/300\n",
      "4/4 [==============================] - 0s 4ms/step - loss: 0.3813 - accuracy: 0.6917\n",
      "Epoch 256/300\n",
      "4/4 [==============================] - 0s 0s/step - loss: 0.3810 - accuracy: 0.6833\n",
      "Epoch 257/300\n",
      "4/4 [==============================] - 0s 5ms/step - loss: 0.3806 - accuracy: 0.7000\n",
      "Epoch 258/300\n",
      "4/4 [==============================] - 0s 4ms/step - loss: 0.3806 - accuracy: 0.7000\n",
      "Epoch 259/300\n",
      "4/4 [==============================] - 0s 2ms/step - loss: 0.3800 - accuracy: 0.6917\n",
      "Epoch 260/300\n",
      "4/4 [==============================] - 0s 5ms/step - loss: 0.3795 - accuracy: 0.6917\n",
      "Epoch 261/300\n",
      "4/4 [==============================] - 0s 0s/step - loss: 0.3794 - accuracy: 0.6833\n",
      "Epoch 262/300\n",
      "4/4 [==============================] - 0s 2ms/step - loss: 0.3790 - accuracy: 0.6917\n",
      "Epoch 263/300\n",
      "4/4 [==============================] - 0s 0s/step - loss: 0.3786 - accuracy: 0.6833\n",
      "Epoch 264/300\n",
      "4/4 [==============================] - 0s 0s/step - loss: 0.3783 - accuracy: 0.6833\n",
      "Epoch 265/300\n",
      "4/4 [==============================] - 0s 3ms/step - loss: 0.3781 - accuracy: 0.6917\n",
      "Epoch 266/300\n",
      "4/4 [==============================] - 0s 3ms/step - loss: 0.3778 - accuracy: 0.6917\n",
      "Epoch 267/300\n",
      "4/4 [==============================] - 0s 2ms/step - loss: 0.3779 - accuracy: 0.6917\n",
      "Epoch 268/300\n",
      "4/4 [==============================] - 0s 2ms/step - loss: 0.3771 - accuracy: 0.6917\n",
      "Epoch 269/300\n",
      "4/4 [==============================] - 0s 2ms/step - loss: 0.3771 - accuracy: 0.6917\n",
      "Epoch 270/300\n",
      "4/4 [==============================] - 0s 2ms/step - loss: 0.3768 - accuracy: 0.6833\n",
      "Epoch 271/300\n",
      "4/4 [==============================] - 0s 2ms/step - loss: 0.3762 - accuracy: 0.7083\n",
      "Epoch 272/300\n",
      "4/4 [==============================] - 0s 2ms/step - loss: 0.3760 - accuracy: 0.6917\n",
      "Epoch 273/300\n",
      "4/4 [==============================] - 0s 2ms/step - loss: 0.3756 - accuracy: 0.7083\n",
      "Epoch 274/300\n",
      "4/4 [==============================] - 0s 2ms/step - loss: 0.3759 - accuracy: 0.7000\n",
      "Epoch 275/300\n",
      "4/4 [==============================] - 0s 2ms/step - loss: 0.3757 - accuracy: 0.7167\n",
      "Epoch 276/300\n",
      "4/4 [==============================] - 0s 2ms/step - loss: 0.3750 - accuracy: 0.6833\n",
      "Epoch 277/300\n",
      "4/4 [==============================] - 0s 2ms/step - loss: 0.3747 - accuracy: 0.6917\n",
      "Epoch 278/300\n",
      "4/4 [==============================] - 0s 2ms/step - loss: 0.3742 - accuracy: 0.7083\n",
      "Epoch 279/300\n",
      "4/4 [==============================] - 0s 2ms/step - loss: 0.3740 - accuracy: 0.6917\n",
      "Epoch 280/300\n",
      "4/4 [==============================] - 0s 3ms/step - loss: 0.3737 - accuracy: 0.6917\n",
      "Epoch 281/300\n",
      "4/4 [==============================] - 0s 3ms/step - loss: 0.3734 - accuracy: 0.6917\n",
      "Epoch 282/300\n",
      "4/4 [==============================] - 0s 3ms/step - loss: 0.3731 - accuracy: 0.6917\n",
      "Epoch 283/300\n",
      "4/4 [==============================] - 0s 3ms/step - loss: 0.3728 - accuracy: 0.6917\n",
      "Epoch 284/300\n",
      "4/4 [==============================] - 0s 2ms/step - loss: 0.3727 - accuracy: 0.6917\n",
      "Epoch 285/300\n",
      "4/4 [==============================] - 0s 2ms/step - loss: 0.3728 - accuracy: 0.7250\n",
      "Epoch 286/300\n",
      "4/4 [==============================] - 0s 2ms/step - loss: 0.3719 - accuracy: 0.7083\n",
      "Epoch 287/300\n",
      "4/4 [==============================] - 0s 2ms/step - loss: 0.3719 - accuracy: 0.7000\n",
      "Epoch 288/300\n",
      "4/4 [==============================] - 0s 2ms/step - loss: 0.3715 - accuracy: 0.7000\n",
      "Epoch 289/300\n",
      "4/4 [==============================] - 0s 2ms/step - loss: 0.3711 - accuracy: 0.7083\n",
      "Epoch 290/300\n",
      "4/4 [==============================] - 0s 2ms/step - loss: 0.3709 - accuracy: 0.7083\n",
      "Epoch 291/300\n",
      "4/4 [==============================] - 0s 3ms/step - loss: 0.3711 - accuracy: 0.6917\n",
      "Epoch 292/300\n",
      "4/4 [==============================] - 0s 4ms/step - loss: 0.3703 - accuracy: 0.7167\n",
      "Epoch 293/300\n",
      "4/4 [==============================] - 0s 4ms/step - loss: 0.3700 - accuracy: 0.7083\n",
      "Epoch 294/300\n",
      "4/4 [==============================] - 0s 4ms/step - loss: 0.3697 - accuracy: 0.7000\n",
      "Epoch 295/300\n",
      "4/4 [==============================] - 0s 3ms/step - loss: 0.3698 - accuracy: 0.7000\n",
      "Epoch 296/300\n",
      "4/4 [==============================] - 0s 3ms/step - loss: 0.3696 - accuracy: 0.6917\n",
      "Epoch 297/300\n",
      "4/4 [==============================] - 0s 2ms/step - loss: 0.3690 - accuracy: 0.6917\n",
      "Epoch 298/300\n",
      "4/4 [==============================] - 0s 2ms/step - loss: 0.3687 - accuracy: 0.7083\n",
      "Epoch 299/300\n",
      "4/4 [==============================] - 0s 2ms/step - loss: 0.3690 - accuracy: 0.7250\n",
      "Epoch 300/300\n",
      "4/4 [==============================] - 0s 2ms/step - loss: 0.3686 - accuracy: 0.7083\n"
     ]
    }
   ],
   "source": [
    "history = model.fit(X_train, y_train, epochs=300)"
   ]
  },
  {
   "cell_type": "markdown",
   "id": "f0aabbbebc43ea38",
   "metadata": {
    "collapsed": false
   },
   "source": [
    "Let's plot the training loss and accuracy for the training dataset:"
   ]
  },
  {
   "cell_type": "code",
   "execution_count": 9,
   "id": "17975ed805d47757",
   "metadata": {
    "ExecuteTime": {
     "end_time": "2024-02-06T20:21:02.922626200Z",
     "start_time": "2024-02-06T20:21:01.616280600Z"
    },
    "collapsed": false
   },
   "outputs": [
    {
     "data": {
      "image/png": "[encoded data removed]",
      "text/plain": [
       "<Figure size 1200x400 with 2 Axes>"
      ]
     },
     "metadata": {},
     "output_type": "display_data"
    }
   ],
   "source": [
    "show_history(history, loss_label='Training loss', accuracy_label='Training accuracy')"
   ]
  },
  {
   "cell_type": "markdown",
   "id": "d76c895e1d0b0dbd",
   "metadata": {
    "collapsed": false
   },
   "source": [
    "## Prediction\n",
    "We apply the neural network to the test dataset (forward propagation).\n",
    "That returns three probabilities, one for each class of iris.\n",
    "Next, we have to assign the class with the highest probability because it can not occur that one flower has more than one type (or no type at all). That is, we are dealing with a *multiclass* classification problem (not a multilabel one: a multilabel classifier allows an instance to belong to different classes at the same time).  \n",
    "We sho the predictions for the test set."
   ]
  },
  {
   "cell_type": "code",
   "execution_count": 10,
   "id": "98b4aa88e78d2c35",
   "metadata": {
    "ExecuteTime": {
     "end_time": "2024-02-06T20:21:02.923724700Z",
     "start_time": "2024-02-06T20:21:02.742592900Z"
    },
    "collapsed": false
   },
   "outputs": [
    {
     "name": "stdout",
     "output_type": "stream",
     "text": [
      "[[1 0 0]\n",
      " [1 0 0]\n",
      " [1 0 0]\n",
      " [0 1 0]\n",
      " [0 0 1]\n",
      " [0 0 1]\n",
      " [0 0 1]\n",
      " [0 0 1]\n",
      " [1 0 0]\n",
      " [0 0 1]\n",
      " [1 0 0]\n",
      " [0 0 1]\n",
      " [0 0 1]\n",
      " [0 1 0]\n",
      " [0 0 1]\n",
      " [0 0 1]\n",
      " [0 0 1]\n",
      " [0 0 1]\n",
      " [0 0 1]\n",
      " [0 0 1]\n",
      " [0 0 1]\n",
      " [1 0 0]\n",
      " [1 0 0]\n",
      " [0 0 1]\n",
      " [1 0 0]\n",
      " [0 0 1]\n",
      " [0 0 1]\n",
      " [1 0 0]\n",
      " [0 0 1]\n",
      " [1 0 0]]\n"
     ]
    }
   ],
   "source": [
    "prediction_probabilities = model.predict(X_test, verbose=0)\n",
    "# function that, given a row, replaces 1 for its highest value and 0 for the rest (selects the highest value)\n",
    "max_value_per_row = lambda row: [1 if i == max(row) else 0 for i in row]\n",
    "# selects as the predicted class the one with the highest probability\n",
    "prediction = np.apply_along_axis(max_value_per_row, 1, prediction_probabilities)\n",
    "print(prediction)"
   ]
  },
  {
   "cell_type": "markdown",
   "id": "c614769f311b3b31",
   "metadata": {
    "collapsed": false
   },
   "source": [
    "### Assessment\n",
    "We show accuracy test set."
   ]
  },
  {
   "cell_type": "code",
   "execution_count": 11,
   "id": "f335e8908f659c0e",
   "metadata": {
    "ExecuteTime": {
     "end_time": "2024-02-06T20:21:02.924853300Z",
     "start_time": "2024-02-06T20:21:02.742966800Z"
    },
    "collapsed": false
   },
   "outputs": [
    {
     "name": "stdout",
     "output_type": "stream",
     "text": [
      "Accuracy: 0.6666666666666666\n"
     ]
    }
   ],
   "source": [
    "print('Accuracy:', accuracy_score(y_test, prediction))"
   ]
  },
  {
   "cell_type": "markdown",
   "id": "f8402c179225ac7a",
   "metadata": {
    "collapsed": false
   },
   "source": [
    "## F1-score\n",
    "If we want to compute F1-score for multiclass classifiers, there are two ways of doing it:\n",
    "1. *Micro F1*: Calculates precision, recall, and F1-score globally by counting the total true positives, false positives, and false negatives across all classes. This is suitable when there is a significant class imbalance, as it treats all instances equally.\n",
    "2. *Macro F1*: Calculates precision, recall, and F1-score for each class individually. Average these scores across all classes."
   ]
  },
  {
   "cell_type": "code",
   "execution_count": 12,
   "id": "39f57b016693af96",
   "metadata": {
    "ExecuteTime": {
     "end_time": "2024-02-06T20:21:02.924853300Z",
     "start_time": "2024-02-06T20:21:02.742966800Z"
    },
    "collapsed": false
   },
   "outputs": [
    {
     "name": "stdout",
     "output_type": "stream",
     "text": [
      "F1-score micro: 0.6666666666666666\n",
      "F1-score macro: 0.6336996336996337\n"
     ]
    }
   ],
   "source": [
    "print('F1-score micro:', f1_score(y_test, prediction, average='micro'))\n",
    "print('F1-score macro:', f1_score(y_test, prediction, average='macro'))"
   ]
  },
  {
   "cell_type": "markdown",
   "id": "20359dbda48ef300",
   "metadata": {
    "collapsed": false
   },
   "source": [
    "# Questions\n",
    "1. Why do you think micro F1-score has the same value as accuracy?\n",
    "2. Why do you think macro F1 is lower than micro F1? "
   ]
  },
  {
   "cell_type": "markdown",
   "id": "161159eac285bee5",
   "metadata": {
    "collapsed": false
   },
   "source": [
    "# Answers\n",
    "\n",
    "1. Because the accuracy is measured the same as micro (considering all the samples equally) and the dataset is perfectly balanced. That makes accuracy and micro F1 to be equal.\n",
    "2. It is because the second class (versicolor) is barely predicted (and it should because they are equally distributed). That low performance in one class makes the macro F1 to be lower than micro."
   ]
  }
 ],
 "metadata": {
  "kernelspec": {
   "display_name": "Python 3 (ipykernel)",
   "language": "python",
   "name": "python3"
  },
  "language_info": {
   "codemirror_mode": {
    "name": "ipython",
    "version": 3
   },
   "file_extension": ".py",
   "mimetype": "text/x-python",
   "name": "python",
   "nbconvert_exporter": "python",
   "pygments_lexer": "ipython3",
   "version": "3.11.4"
  }
 },
 "nbformat": 4,
 "nbformat_minor": 5
}
