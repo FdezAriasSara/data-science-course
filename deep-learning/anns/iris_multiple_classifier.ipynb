{
 "cells": [
  {
   "cell_type": "markdown",
   "source": [
    "[![Open In Colab](https://colab.research.google.com/assets/colab-badge.svg)](https://colab.research.google.com/github/francisco-ortin/data-science-course/blob/main/deep-learning/anns/iris_multiple_classifier.ipynb)\n",
    "[![License: CC BY-NC-SA 4.0](https://img.shields.io/badge/License-CC%20BY--NC--SA%204.0-lightgrey.svg)](https://creativecommons.org/licenses/by-nc-sa/4.0/)"
   ],
   "metadata": {
    "collapsed": false
   },
   "id": "6acbfee727b04996"
  },
  {
   "cell_type": "markdown",
   "id": "72ea15f3d70547f7",
   "metadata": {
    "collapsed": false
   },
   "source": [
    "# Perceptron neural network for multiclass classification\n",
    "\n",
    "We will now use a simple Perceptron NN for multiple classification using the [Iris dataset](https://en.wikipedia.org/wiki/Iris_flower_data_set). In this case, we have four input features (sepal length, sepal width, petal length, and petal width) and three output classes (setosa, versicolor, and virginica). Therefore, our neural network will follow the next architecture (with 4 inputs and 3 outputs):\n",
    "\n",
    "<img src=\"img/iris_multiple_classifier.png\" width=\"600px\"/>\n",
    "\n",
    "*Important*: This ANN returns three different binary classifiers (one for each type of iris) whether the input is setosa, versicolor and virginica. This is a multilabel classification problem (not a multiclass one). That is, the output can be more than one class at the same time. This is because of the simple architecture of the neural network were are using. In a multiclass classification problem, the output can only be one class at a time. We will see hot to solve this problem in another notebook."
   ]
  },
  {
   "cell_type": "code",
   "execution_count": 33,
   "id": "5f099c66705669f8",
   "metadata": {
    "collapsed": false,
    "ExecuteTime": {
     "end_time": "2024-10-07T17:11:08.434480600Z",
     "start_time": "2024-10-07T17:11:07.069410700Z"
    }
   },
   "outputs": [
    {
     "name": "stdout",
     "output_type": "stream",
     "text": [
      "Note: you may need to restart the kernel to use updated packages.\n"
     ]
    }
   ],
   "source": [
    "# make sure the required packages are installed\n",
    "%pip install pandas numpy seaborn matplotlib scikit-learn keras tensorflow --quiet\n",
    "# if running in colab, install the required packages and copy the necessary files\n",
    "directory='data-science-course/deep-learning/anns'\n",
    "if get_ipython().__class__.__module__.startswith('google.colab'):\n",
    "    !git clone https://github.com/francisco-ortin/data-science-course.git  2>/dev/null\n",
    "    !cp --update {directory}/*.py .\n",
    "    !mkdir -p img data\n",
    "    !cp {directory}/img/* img/.\n",
    "\n",
    "from keras.src.layers import Dense\n",
    "from keras.src.optimizers import SGD\n",
    "from sklearn.datasets import load_iris\n",
    "import pandas as pd\n",
    "from sklearn.metrics import accuracy_score, f1_score\n",
    "from sklearn.model_selection import train_test_split\n",
    "from keras.models import Sequential\n",
    "import numpy as np\n",
    "\n",
    "from utils import show_history"
   ]
  },
  {
   "cell_type": "markdown",
   "id": "e7c3e8a3ff34b7dc",
   "metadata": {
    "collapsed": false
   },
   "source": [
    "## Data preparation\n",
    "We load the iris dataset. Then we create the `X` (independent variables) and `y` (dependent variable) dataframes. Finally, `iris_df` holds both X and y in the same dataframe."
   ]
  },
  {
   "cell_type": "code",
   "execution_count": 34,
   "id": "33531d19a75de77f",
   "metadata": {
    "collapsed": false,
    "ExecuteTime": {
     "end_time": "2024-10-07T17:11:08.481836300Z",
     "start_time": "2024-10-07T17:11:08.429401600Z"
    }
   },
   "outputs": [],
   "source": [
    "# Load Iris Data\n",
    "iris = load_iris()\n",
    "# Creating pd DataFrames\n",
    "X_df = pd.DataFrame(data=iris.data, columns=iris.feature_names)\n",
    "y_df = pd.DataFrame(data=iris.target, columns=['species'])"
   ]
  },
  {
   "cell_type": "markdown",
   "id": "802ac98cb6d019ad",
   "metadata": {
    "collapsed": false
   },
   "source": [
    "We transform the species feature `y` into one-hot encoding: instead of a feature with 3 possible values, we have 3 different binary features: species_0, species_1 and species_2. Then, we concatenate `X_df` and `y_df` and we show the whole dataset (notice the one-hot encoding for species)."
   ]
  },
  {
   "cell_type": "code",
   "execution_count": 35,
   "id": "ba1108741a17ef06",
   "metadata": {
    "collapsed": false,
    "ExecuteTime": {
     "end_time": "2024-10-07T17:11:08.482968100Z",
     "start_time": "2024-10-07T17:11:08.443932900Z"
    }
   },
   "outputs": [
    {
     "name": "stdout",
     "output_type": "stream",
     "text": [
      "       sepal length (cm)  sepal width (cm)  petal length (cm)  \\\n",
      "count         150.000000        150.000000         150.000000   \n",
      "mean            5.843333          3.057333           3.758000   \n",
      "std             0.828066          0.435866           1.765298   \n",
      "min             4.300000          2.000000           1.000000   \n",
      "25%             5.100000          2.800000           1.600000   \n",
      "50%             5.800000          3.000000           4.350000   \n",
      "75%             6.400000          3.300000           5.100000   \n",
      "max             7.900000          4.400000           6.900000   \n",
      "\n",
      "       petal width (cm)   species_0   species_1   species_2  \n",
      "count        150.000000  150.000000  150.000000  150.000000  \n",
      "mean           1.199333    0.333333    0.333333    0.333333  \n",
      "std            0.762238    0.472984    0.472984    0.472984  \n",
      "min            0.100000    0.000000    0.000000    0.000000  \n",
      "25%            0.300000    0.000000    0.000000    0.000000  \n",
      "50%            1.300000    0.000000    0.000000    0.000000  \n",
      "75%            1.800000    1.000000    1.000000    1.000000  \n",
      "max            2.500000    1.000000    1.000000    1.000000  \n"
     ]
    }
   ],
   "source": [
    "y_one_hot = pd.get_dummies(y_df['species'], prefix='species').map(lambda boolean: 1 if boolean else 0)\n",
    "iris_df = pd.concat([X_df, y_one_hot], axis=1)\n",
    "print(iris_df.describe())"
   ]
  },
  {
   "cell_type": "markdown",
   "id": "52235b5e38e3ccf",
   "metadata": {
    "collapsed": false
   },
   "source": [
    "We prepare our X and y dataframes. In this case, y has three variables (one for each type of flower)."
   ]
  },
  {
   "cell_type": "code",
   "execution_count": 36,
   "id": "e0e285a33f74265b",
   "metadata": {
    "collapsed": false,
    "ExecuteTime": {
     "end_time": "2024-10-07T17:11:08.498496100Z",
     "start_time": "2024-10-07T17:11:08.482968100Z"
    }
   },
   "outputs": [],
   "source": [
    "y_column_names = ['species_0', 'species_1', 'species_2']\n",
    "# X is the dataset without the target variable (species)\n",
    "X = iris_df.drop(labels=y_column_names, axis=1)\n",
    "# y is species_0, species_1 and species_3 (three different classes / outputs)\n",
    "y = iris_df[['species_0', 'species_1', 'species_2']]"
   ]
  },
  {
   "cell_type": "markdown",
   "id": "edfd1a4a83763498",
   "metadata": {
    "collapsed": false
   },
   "source": [
    "Then, we split the dataset in 80% train and 20% test."
   ]
  },
  {
   "cell_type": "code",
   "execution_count": 37,
   "id": "e59cf1f79ad18fa0",
   "metadata": {
    "collapsed": false,
    "ExecuteTime": {
     "end_time": "2024-10-07T17:11:08.558985300Z",
     "start_time": "2024-10-07T17:11:08.494175500Z"
    }
   },
   "outputs": [],
   "source": [
    "# Splitting the Dataset\n",
    "X_train, X_test, y_train, y_test = train_test_split(X, y, test_size=0.2)"
   ]
  },
  {
   "cell_type": "markdown",
   "id": "a35cb0e63baa551a",
   "metadata": {
    "collapsed": false
   },
   "source": [
    "## Neural network\n",
    "\n",
    "A simple neuron is created with 4 inputs and 3 outputs.  A sigmoid activation function is required for each output because we have three binary classifiers. The network has 3 neurons (one for each output) with 5 parameters each (4 inputs + bias): 3 output neurons * (4 weights for inputs + bias). All the parameters all trainable (learned) from data."
   ]
  },
  {
   "cell_type": "code",
   "execution_count": 38,
   "id": "12d7b20ccb899e96",
   "metadata": {
    "collapsed": false,
    "ExecuteTime": {
     "end_time": "2024-10-07T17:11:08.563476900Z",
     "start_time": "2024-10-07T17:11:08.506351600Z"
    }
   },
   "outputs": [
    {
     "name": "stdout",
     "output_type": "stream",
     "text": [
      "Model: \"sequential_2\"\n",
      "_________________________________________________________________\n",
      " Layer (type)                Output Shape              Param #   \n",
      "=================================================================\n",
      " dense_2 (Dense)             (None, 3)                 15        \n",
      "                                                                 \n",
      "=================================================================\n",
      "Total params: 15 (60.00 Byte)\n",
      "Trainable params: 15 (60.00 Byte)\n",
      "Non-trainable params: 0 (0.00 Byte)\n",
      "_________________________________________________________________\n"
     ]
    }
   ],
   "source": [
    "model = Sequential()\n",
    "model.add(Dense(3, input_dim=4, activation='sigmoid'))\n",
    "model.summary()  # params=15: 3 output neurons * (4 weights for inputs + bias)"
   ]
  },
  {
   "cell_type": "markdown",
   "id": "9d71c4195679301f",
   "metadata": {
    "collapsed": false
   },
   "source": [
    "We  use binary cross entropy as the loss function, since we are building three binary classifiers. For optimization, we use Stochastic Gradient Descent (SGD). We want to be prompted loss (binary cross entropy) and accuracy. "
   ]
  },
  {
   "cell_type": "code",
   "execution_count": 39,
   "id": "902bdc98bcffd2a",
   "metadata": {
    "collapsed": false,
    "ExecuteTime": {
     "end_time": "2024-10-07T17:11:08.573707400Z",
     "start_time": "2024-10-07T17:11:08.545539200Z"
    }
   },
   "outputs": [],
   "source": [
    "model.compile(loss='binary_crossentropy', optimizer=SGD(learning_rate=0.01), metrics=['accuracy'])"
   ]
  },
  {
   "cell_type": "markdown",
   "id": "9a8a06a43d16c584",
   "metadata": {
    "collapsed": false
   },
   "source": [
    "We now train the model (learn the parameters) for 300 epochs. "
   ]
  },
  {
   "cell_type": "code",
   "execution_count": 40,
   "id": "10d584c42bb9c1e3",
   "metadata": {
    "collapsed": false,
    "ExecuteTime": {
     "end_time": "2024-10-07T17:11:12.059873900Z",
     "start_time": "2024-10-07T17:11:08.560080300Z"
    }
   },
   "outputs": [],
   "source": [
    "history = model.fit(X_train, y_train, epochs=300, \n",
    "                    verbose=0)  # verbose=0, no output (to many epochs)"
   ]
  },
  {
   "cell_type": "markdown",
   "id": "f0aabbbebc43ea38",
   "metadata": {
    "collapsed": false
   },
   "source": [
    "Let's plot the training loss and accuracy for the training dataset:"
   ]
  },
  {
   "cell_type": "code",
   "execution_count": 41,
   "id": "17975ed805d47757",
   "metadata": {
    "collapsed": false,
    "ExecuteTime": {
     "end_time": "2024-10-07T17:11:12.524602Z",
     "start_time": "2024-10-07T17:11:12.098188600Z"
    }
   },
   "outputs": [
    {
     "data": {
      "text/plain": "<Figure size 1200x400 with 2 Axes>",
      "image/png": "[encoded data removed]"
     },
     "metadata": {},
     "output_type": "display_data"
    }
   ],
   "source": [
    "show_history(history, loss_label='Training loss', accuracy_label='Training accuracy')"
   ]
  },
  {
   "cell_type": "markdown",
   "id": "d76c895e1d0b0dbd",
   "metadata": {
    "collapsed": false
   },
   "source": [
    "## Prediction\n",
    "\n",
    "We apply the neural network to the test dataset (forward propagation). That returns three probabilities, one for each class of iris.\n",
    "\n",
    "Next, we have to assign the class with the highest probability because it can not occur that one flower has more than one type (or no type at all). That is, we are actually dealing with a *multiclass* classification problem (not a multilabel one: a multilabel classifier allows an instance to belong to different classes at the same time).  \n",
    "\n",
    "Finally, we show the predictions for the test set."
   ]
  },
  {
   "cell_type": "code",
   "execution_count": 42,
   "id": "98b4aa88e78d2c35",
   "metadata": {
    "collapsed": false,
    "ExecuteTime": {
     "end_time": "2024-10-07T17:11:12.657208800Z",
     "start_time": "2024-10-07T17:11:12.522607300Z"
    }
   },
   "outputs": [
    {
     "name": "stdout",
     "output_type": "stream",
     "text": [
      "Predictions for the test set:\n",
      "[[0 0 1]\n",
      " [0 0 1]\n",
      " [0 0 1]\n",
      " [0 1 0]\n",
      " [0 0 1]\n",
      " [0 0 1]\n",
      " [0 0 1]\n",
      " [0 0 1]\n",
      " [1 0 0]\n",
      " [1 0 0]\n",
      " [1 0 0]\n",
      " [0 0 1]\n",
      " [0 0 1]\n",
      " [0 0 1]\n",
      " [0 0 1]\n",
      " [0 0 1]\n",
      " [0 0 1]\n",
      " [0 0 1]\n",
      " [1 0 0]\n",
      " [0 0 1]\n",
      " [0 0 1]\n",
      " [1 0 0]\n",
      " [0 0 1]\n",
      " [1 0 0]\n",
      " [0 1 0]\n",
      " [0 0 1]\n",
      " [0 0 1]\n",
      " [1 0 0]\n",
      " [0 1 0]\n",
      " [1 0 0]]\n"
     ]
    }
   ],
   "source": [
    "prediction_probabilities = model.predict(X_test, verbose=0)\n",
    "# function that, given a row, replaces 1 for its highest value and 0 for the rest (selects the highest value)\n",
    "max_value_per_row = lambda row: [1 if i == max(row) else 0 for i in row]\n",
    "# selects as the predicted class the one with the highest probability\n",
    "predictions = np.apply_along_axis(max_value_per_row, 1, prediction_probabilities)\n",
    "print(f\"Predictions for the test set:\\n{predictions}\")"
   ]
  },
  {
   "cell_type": "markdown",
   "id": "c614769f311b3b31",
   "metadata": {
    "collapsed": false
   },
   "source": [
    "### Assessment\n",
    "We show accuracy test set."
   ]
  },
  {
   "cell_type": "code",
   "execution_count": 43,
   "id": "f335e8908f659c0e",
   "metadata": {
    "collapsed": false,
    "ExecuteTime": {
     "end_time": "2024-10-07T17:11:12.674880100Z",
     "start_time": "2024-10-07T17:11:12.657208800Z"
    }
   },
   "outputs": [
    {
     "name": "stdout",
     "output_type": "stream",
     "text": [
      "Accuracy: 0.7333.\n"
     ]
    }
   ],
   "source": [
    "print(f\"Accuracy: {accuracy_score(y_test, predictions):.4f}.\")"
   ]
  },
  {
   "cell_type": "markdown",
   "id": "f8402c179225ac7a",
   "metadata": {
    "collapsed": false
   },
   "source": [
    "## F1-score\n",
    "If we want to compute F1-score for multiclass classifiers, there are two ways of doing it:\n",
    "1. *Micro F1*: Calculates precision, recall, and F1-score globally by counting the total true positives, false positives, and false negatives across all classes. This is suitable when there is a significant class imbalance, as it treats all instances equally.\n",
    "2. *Macro F1*: Calculates precision, recall, and F1-score for each class individually. The, it averages these scores across all the classes."
   ]
  },
  {
   "cell_type": "code",
   "execution_count": 44,
   "id": "39f57b016693af96",
   "metadata": {
    "collapsed": false,
    "ExecuteTime": {
     "end_time": "2024-10-07T17:11:12.731725400Z",
     "start_time": "2024-10-07T17:11:12.664877300Z"
    }
   },
   "outputs": [
    {
     "name": "stdout",
     "output_type": "stream",
     "text": [
      "F1-score micro: 0.7333.\n",
      "F1-score macro: 0.7206.\n"
     ]
    }
   ],
   "source": [
    "print(f\"F1-score micro: {f1_score(y_test, predictions, average='micro'):.4f}.\")\n",
    "print(f\"F1-score macro: {f1_score(y_test, predictions, average='macro'):.4f}.\")"
   ]
  },
  {
   "cell_type": "markdown",
   "id": "20359dbda48ef300",
   "metadata": {
    "collapsed": false
   },
   "source": [
    "## ✨ Questions ✨ \n",
    "\n",
    "1. Why do you think micro F1-score has the same value as accuracy?\n",
    "2. Why do you think macro F1 is lower than micro F1? "
   ]
  },
  {
   "cell_type": "markdown",
   "id": "161159eac285bee5",
   "metadata": {
    "collapsed": false
   },
   "source": [
    "### Answers\n",
    "\n",
    "*Write your answers here.*\n",
    "\n"
   ]
  }
 ],
 "metadata": {
  "kernelspec": {
   "display_name": "Python 3 (ipykernel)",
   "language": "python",
   "name": "python3"
  },
  "language_info": {
   "codemirror_mode": {
    "name": "ipython",
    "version": 3
   },
   "file_extension": ".py",
   "mimetype": "text/x-python",
   "name": "python",
   "nbconvert_exporter": "python",
   "pygments_lexer": "ipython3",
   "version": "3.11.4"
  }
 },
 "nbformat": 4,
 "nbformat_minor": 5
}
