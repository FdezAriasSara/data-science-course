{
 "cells": [
  {
   "cell_type": "markdown",
   "source": [
    "[![Open In Colab](https://colab.research.google.com/assets/colab-badge.svg)](https://colab.research.google.com/github/francisco-ortin/data-science-course/blob/main/deep-learning/anns/iris_multiple_classifier.ipynb)\n",
    "[![License: CC BY-NC-SA 4.0](https://img.shields.io/badge/License-CC%20BY--NC--SA%204.0-lightgrey.svg)](https://creativecommons.org/licenses/by-nc-sa/4.0/)"
   ],
   "metadata": {
    "collapsed": false
   },
   "id": "6acbfee727b04996"
  },
  {
   "cell_type": "markdown",
   "id": "72ea15f3d70547f7",
   "metadata": {
    "collapsed": false
   },
   "source": [
    "# Perceptron neural network for multiclass classification\n",
    "\n",
    "We will now use a simple Perceptron NN for multiple classification using the [Iris dataset](https://en.wikipedia.org/wiki/Iris_flower_data_set). In this case, we have four input features (sepal length, sepal width, petal length, and petal width) and three output classes (setosa, versicolor, and virginica). Therefore, our neural network will follow the next architecture (with 4 inputs and 3 outputs):\n",
    "\n",
    "<img src=\"img/iris_multiple_classifier.png\" width=\"600px\"/>\n",
    "\n",
    "*Important*: This ANN returns three different binary classifiers (one for each type of iris) whether the input is setosa, versicolor and virginica. This is a multilabel classification problem (not a multiclass one). That is, the output can be more than one class at the same time. This is because of the simple architecture of the neural network were are using. In a multiclass classification problem, the output can only be one class at a time. We will see hot to solve this problem in another notebook."
   ]
  },
  {
   "cell_type": "code",
   "execution_count": 20,
   "id": "5f099c66705669f8",
   "metadata": {
    "collapsed": false,
    "ExecuteTime": {
     "end_time": "2024-10-07T17:08:34.372000400Z",
     "start_time": "2024-10-07T17:08:32.805569800Z"
    }
   },
   "outputs": [
    {
     "name": "stdout",
     "output_type": "stream",
     "text": [
      "Note: you may need to restart the kernel to use updated packages.\n"
     ]
    }
   ],
   "source": [
    "# make sure the required packages are installed\n",
    "%pip install pandas numpy seaborn matplotlib scikit-learn keras tensorflow --quiet\n",
    "# if running in colab, install the required packages and copy the necessary files\n",
    "directory='data-science-course/deep-learning/anns'\n",
    "if get_ipython().__class__.__module__.startswith('google.colab'):\n",
    "    !git clone https://github.com/francisco-ortin/data-science-course.git  2>/dev/null\n",
    "    !cp --update {directory}/*.py .\n",
    "    !mkdir -p img data\n",
    "    !cp {directory}/img/* img/.\n",
    "\n",
    "from keras.src.layers import Dense\n",
    "from keras.src.optimizers import SGD\n",
    "from sklearn.datasets import load_iris\n",
    "import pandas as pd\n",
    "from sklearn.metrics import accuracy_score, f1_score\n",
    "from sklearn.model_selection import train_test_split\n",
    "from keras.models import Sequential\n",
    "import numpy as np\n",
    "\n",
    "from utils import show_history"
   ]
  },
  {
   "cell_type": "markdown",
   "id": "e7c3e8a3ff34b7dc",
   "metadata": {
    "collapsed": false
   },
   "source": [
    "## Data preparation\n",
    "We load the iris dataset. Then we create the `X` (independent variables) and `y` (dependent variable) dataframes. Finally, `iris_df` holds both X and y in the same dataframe."
   ]
  },
  {
   "cell_type": "code",
   "execution_count": 21,
   "id": "33531d19a75de77f",
   "metadata": {
    "collapsed": false,
    "ExecuteTime": {
     "end_time": "2024-10-07T17:08:34.436711500Z",
     "start_time": "2024-10-07T17:08:34.377984600Z"
    }
   },
   "outputs": [],
   "source": [
    "# Load Iris Data\n",
    "iris = load_iris()\n",
    "# Creating pd DataFrames\n",
    "X_df = pd.DataFrame(data=iris.data, columns=iris.feature_names)\n",
    "y_df = pd.DataFrame(data=iris.target, columns=['species'])"
   ]
  },
  {
   "cell_type": "markdown",
   "id": "802ac98cb6d019ad",
   "metadata": {
    "collapsed": false
   },
   "source": [
    "We transform the species feature `y` into one-hot encoding: instead of a feature with 3 possible values, we have 3 different binary features: species_0, species_1 and species_2. Then, we concatenate `X_df` and `y_df` and we show the whole dataset (notice the one-hot encoding for species)."
   ]
  },
  {
   "cell_type": "code",
   "execution_count": 22,
   "id": "ba1108741a17ef06",
   "metadata": {
    "collapsed": false,
    "ExecuteTime": {
     "end_time": "2024-10-07T17:08:34.469077300Z",
     "start_time": "2024-10-07T17:08:34.393971200Z"
    }
   },
   "outputs": [
    {
     "name": "stdout",
     "output_type": "stream",
     "text": [
      "       sepal length (cm)  sepal width (cm)  petal length (cm)  \\\n",
      "count         150.000000        150.000000         150.000000   \n",
      "mean            5.843333          3.057333           3.758000   \n",
      "std             0.828066          0.435866           1.765298   \n",
      "min             4.300000          2.000000           1.000000   \n",
      "25%             5.100000          2.800000           1.600000   \n",
      "50%             5.800000          3.000000           4.350000   \n",
      "75%             6.400000          3.300000           5.100000   \n",
      "max             7.900000          4.400000           6.900000   \n",
      "\n",
      "       petal width (cm)   species_0   species_1   species_2  \n",
      "count        150.000000  150.000000  150.000000  150.000000  \n",
      "mean           1.199333    0.333333    0.333333    0.333333  \n",
      "std            0.762238    0.472984    0.472984    0.472984  \n",
      "min            0.100000    0.000000    0.000000    0.000000  \n",
      "25%            0.300000    0.000000    0.000000    0.000000  \n",
      "50%            1.300000    0.000000    0.000000    0.000000  \n",
      "75%            1.800000    1.000000    1.000000    1.000000  \n",
      "max            2.500000    1.000000    1.000000    1.000000  \n"
     ]
    }
   ],
   "source": [
    "y_one_hot = pd.get_dummies(y_df['species'], prefix='species').map(lambda boolean: 1 if boolean else 0)\n",
    "iris_df = pd.concat([X_df, y_one_hot], axis=1)\n",
    "print(iris_df.describe())"
   ]
  },
  {
   "cell_type": "markdown",
   "id": "52235b5e38e3ccf",
   "metadata": {
    "collapsed": false
   },
   "source": [
    "We prepare our X and y dataframes. In this case, y has three variables (one for each type of flower)."
   ]
  },
  {
   "cell_type": "code",
   "execution_count": 23,
   "id": "e0e285a33f74265b",
   "metadata": {
    "collapsed": false,
    "ExecuteTime": {
     "end_time": "2024-10-07T17:08:34.470363400Z",
     "start_time": "2024-10-07T17:08:34.440076200Z"
    }
   },
   "outputs": [],
   "source": [
    "y_column_names = ['species_0', 'species_1', 'species_2']\n",
    "# X is the dataset without the target variable (species)\n",
    "X = iris_df.drop(labels=y_column_names, axis=1)\n",
    "# y is species_0, species_1 and species_3 (three different classes / outputs)\n",
    "y = iris_df[['species_0', 'species_1', 'species_2']]"
   ]
  },
  {
   "cell_type": "markdown",
   "id": "edfd1a4a83763498",
   "metadata": {
    "collapsed": false
   },
   "source": [
    "Then, we split the dataset in 80% train and 20% test."
   ]
  },
  {
   "cell_type": "code",
   "execution_count": 24,
   "id": "e59cf1f79ad18fa0",
   "metadata": {
    "collapsed": false,
    "ExecuteTime": {
     "end_time": "2024-10-07T17:08:34.502801400Z",
     "start_time": "2024-10-07T17:08:34.456110400Z"
    }
   },
   "outputs": [],
   "source": [
    "# Splitting the Dataset\n",
    "X_train, X_test, y_train, y_test = train_test_split(X, y, test_size=0.2)"
   ]
  },
  {
   "cell_type": "markdown",
   "id": "a35cb0e63baa551a",
   "metadata": {
    "collapsed": false
   },
   "source": [
    "## Neural network\n",
    "\n",
    "A simple neuron is created with 4 inputs and 3 outputs.  A sigmoid activation function is required for each output because we have three binary classifiers. The network has 3 neurons (one for each output) with 5 parameters each (4 inputs + bias): 3 output neurons * (4 weights for inputs + bias). All the parameters all trainable (learned) from data."
   ]
  },
  {
   "cell_type": "code",
   "execution_count": 25,
   "id": "12d7b20ccb899e96",
   "metadata": {
    "collapsed": false,
    "ExecuteTime": {
     "end_time": "2024-10-07T17:08:34.529438200Z",
     "start_time": "2024-10-07T17:08:34.476197400Z"
    }
   },
   "outputs": [
    {
     "name": "stdout",
     "output_type": "stream",
     "text": [
      "Model: \"sequential_1\"\n",
      "_________________________________________________________________\n",
      " Layer (type)                Output Shape              Param #   \n",
      "=================================================================\n",
      " dense_1 (Dense)             (None, 3)                 15        \n",
      "                                                                 \n",
      "=================================================================\n",
      "Total params: 15 (60.00 Byte)\n",
      "Trainable params: 15 (60.00 Byte)\n",
      "Non-trainable params: 0 (0.00 Byte)\n",
      "_________________________________________________________________\n"
     ]
    }
   ],
   "source": [
    "model = Sequential()\n",
    "model.add(Dense(3, input_dim=4, activation='sigmoid'))\n",
    "model.summary()  # params=15: 3 output neurons * (4 weights for inputs + bias)"
   ]
  },
  {
   "cell_type": "markdown",
   "id": "9d71c4195679301f",
   "metadata": {
    "collapsed": false
   },
   "source": [
    "We  use binary cross entropy as the loss function, since we are building three binary classifiers. For optimization, we use Stochastic Gradient Descent (SGD). We want to be prompted loss (binary cross entropy) and accuracy. "
   ]
  },
  {
   "cell_type": "code",
   "execution_count": 26,
   "id": "902bdc98bcffd2a",
   "metadata": {
    "collapsed": false,
    "ExecuteTime": {
     "end_time": "2024-10-07T17:08:34.542631700Z",
     "start_time": "2024-10-07T17:08:34.526379Z"
    }
   },
   "outputs": [],
   "source": [
    "model.compile(loss='binary_crossentropy', optimizer=SGD(learning_rate=0.01), metrics=['accuracy'])"
   ]
  },
  {
   "cell_type": "markdown",
   "id": "9a8a06a43d16c584",
   "metadata": {
    "collapsed": false
   },
   "source": [
    "We now train the model (learn the parameters) for 300 epochs. "
   ]
  },
  {
   "cell_type": "code",
   "execution_count": 27,
   "id": "10d584c42bb9c1e3",
   "metadata": {
    "collapsed": false,
    "ExecuteTime": {
     "end_time": "2024-10-07T17:08:39.477363500Z",
     "start_time": "2024-10-07T17:08:34.538680700Z"
    }
   },
   "outputs": [
    {
     "name": "stdout",
     "output_type": "stream",
     "text": [
      "Epoch 1/300\n",
      "4/4 [==============================] - 1s 5ms/step - loss: 1.6109 - accuracy: 0.3333\n",
      "Epoch 2/300\n",
      "4/4 [==============================] - 0s 4ms/step - loss: 1.4302 - accuracy: 0.3333\n",
      "Epoch 3/300\n",
      "4/4 [==============================] - 0s 3ms/step - loss: 1.2595 - accuracy: 0.3333\n",
      "Epoch 4/300\n",
      "4/4 [==============================] - 0s 3ms/step - loss: 1.1016 - accuracy: 0.3333\n",
      "Epoch 5/300\n",
      "4/4 [==============================] - 0s 3ms/step - loss: 0.9587 - accuracy: 0.3333\n",
      "Epoch 6/300\n",
      "4/4 [==============================] - 0s 3ms/step - loss: 0.8378 - accuracy: 0.3333\n",
      "Epoch 7/300\n",
      "4/4 [==============================] - 0s 3ms/step - loss: 0.7429 - accuracy: 0.3333\n",
      "Epoch 8/300\n",
      "4/4 [==============================] - 0s 2ms/step - loss: 0.6691 - accuracy: 0.3333\n",
      "Epoch 9/300\n",
      "4/4 [==============================] - 0s 2ms/step - loss: 0.6146 - accuracy: 0.3333\n",
      "Epoch 10/300\n",
      "4/4 [==============================] - 0s 3ms/step - loss: 0.5743 - accuracy: 0.3500\n",
      "Epoch 11/300\n",
      "4/4 [==============================] - 0s 3ms/step - loss: 0.5450 - accuracy: 0.3750\n",
      "Epoch 12/300\n",
      "4/4 [==============================] - 0s 2ms/step - loss: 0.5235 - accuracy: 0.3833\n",
      "Epoch 13/300\n",
      "4/4 [==============================] - 0s 3ms/step - loss: 0.5071 - accuracy: 0.4500\n",
      "Epoch 14/300\n",
      "4/4 [==============================] - 0s 2ms/step - loss: 0.4956 - accuracy: 0.4833\n",
      "Epoch 15/300\n",
      "4/4 [==============================] - 0s 2ms/step - loss: 0.4857 - accuracy: 0.5167\n",
      "Epoch 16/300\n",
      "4/4 [==============================] - 0s 3ms/step - loss: 0.4785 - accuracy: 0.5000\n",
      "Epoch 17/300\n",
      "4/4 [==============================] - 0s 2ms/step - loss: 0.4724 - accuracy: 0.5250\n",
      "Epoch 18/300\n",
      "4/4 [==============================] - 0s 2ms/step - loss: 0.4676 - accuracy: 0.4833\n",
      "Epoch 19/300\n",
      "4/4 [==============================] - 0s 2ms/step - loss: 0.4638 - accuracy: 0.4667\n",
      "Epoch 20/300\n",
      "4/4 [==============================] - 0s 2ms/step - loss: 0.4612 - accuracy: 0.4583\n",
      "Epoch 21/300\n",
      "4/4 [==============================] - 0s 2ms/step - loss: 0.4572 - accuracy: 0.4583\n",
      "Epoch 22/300\n",
      "4/4 [==============================] - 0s 3ms/step - loss: 0.4544 - accuracy: 0.4250\n",
      "Epoch 23/300\n",
      "4/4 [==============================] - 0s 2ms/step - loss: 0.4521 - accuracy: 0.4333\n",
      "Epoch 24/300\n",
      "4/4 [==============================] - 0s 3ms/step - loss: 0.4504 - accuracy: 0.4333\n",
      "Epoch 25/300\n",
      "4/4 [==============================] - 0s 2ms/step - loss: 0.4485 - accuracy: 0.4417\n",
      "Epoch 26/300\n",
      "4/4 [==============================] - 0s 3ms/step - loss: 0.4469 - accuracy: 0.4250\n",
      "Epoch 27/300\n",
      "4/4 [==============================] - 0s 3ms/step - loss: 0.4452 - accuracy: 0.4417\n",
      "Epoch 28/300\n",
      "4/4 [==============================] - 0s 3ms/step - loss: 0.4442 - accuracy: 0.4500\n",
      "Epoch 29/300\n",
      "4/4 [==============================] - 0s 3ms/step - loss: 0.4427 - accuracy: 0.4417\n",
      "Epoch 30/300\n",
      "4/4 [==============================] - 0s 1ms/step - loss: 0.4416 - accuracy: 0.4417\n",
      "Epoch 31/300\n",
      "4/4 [==============================] - 0s 3ms/step - loss: 0.4404 - accuracy: 0.4500\n",
      "Epoch 32/300\n",
      "4/4 [==============================] - 0s 2ms/step - loss: 0.4396 - accuracy: 0.4500\n",
      "Epoch 33/300\n",
      "4/4 [==============================] - 0s 2ms/step - loss: 0.4391 - accuracy: 0.4667\n",
      "Epoch 34/300\n",
      "4/4 [==============================] - 0s 2ms/step - loss: 0.4375 - accuracy: 0.4750\n",
      "Epoch 35/300\n",
      "4/4 [==============================] - 0s 2ms/step - loss: 0.4368 - accuracy: 0.4750\n",
      "Epoch 36/300\n",
      "4/4 [==============================] - 0s 2ms/step - loss: 0.4355 - accuracy: 0.4500\n",
      "Epoch 37/300\n",
      "4/4 [==============================] - 0s 2ms/step - loss: 0.4346 - accuracy: 0.4667\n",
      "Epoch 38/300\n",
      "4/4 [==============================] - 0s 2ms/step - loss: 0.4348 - accuracy: 0.4667\n",
      "Epoch 39/300\n",
      "4/4 [==============================] - 0s 3ms/step - loss: 0.4329 - accuracy: 0.4833\n",
      "Epoch 40/300\n",
      "4/4 [==============================] - 0s 2ms/step - loss: 0.4322 - accuracy: 0.4750\n",
      "Epoch 41/300\n",
      "4/4 [==============================] - 0s 2ms/step - loss: 0.4317 - accuracy: 0.4750\n",
      "Epoch 42/300\n",
      "4/4 [==============================] - 0s 2ms/step - loss: 0.4305 - accuracy: 0.4833\n",
      "Epoch 43/300\n",
      "4/4 [==============================] - 0s 2ms/step - loss: 0.4300 - accuracy: 0.4750\n",
      "Epoch 44/300\n",
      "4/4 [==============================] - 0s 3ms/step - loss: 0.4293 - accuracy: 0.4833\n",
      "Epoch 45/300\n",
      "4/4 [==============================] - 0s 2ms/step - loss: 0.4283 - accuracy: 0.4750\n",
      "Epoch 46/300\n",
      "4/4 [==============================] - 0s 2ms/step - loss: 0.4280 - accuracy: 0.4750\n",
      "Epoch 47/300\n",
      "4/4 [==============================] - 0s 2ms/step - loss: 0.4278 - accuracy: 0.5167\n",
      "Epoch 48/300\n",
      "4/4 [==============================] - 0s 2ms/step - loss: 0.4267 - accuracy: 0.4917\n",
      "Epoch 49/300\n",
      "4/4 [==============================] - 0s 2ms/step - loss: 0.4261 - accuracy: 0.4917\n",
      "Epoch 50/300\n",
      "4/4 [==============================] - 0s 2ms/step - loss: 0.4253 - accuracy: 0.4750\n",
      "Epoch 51/300\n",
      "4/4 [==============================] - 0s 2ms/step - loss: 0.4256 - accuracy: 0.5000\n",
      "Epoch 52/300\n",
      "4/4 [==============================] - 0s 2ms/step - loss: 0.4236 - accuracy: 0.5083\n",
      "Epoch 53/300\n",
      "4/4 [==============================] - 0s 2ms/step - loss: 0.4232 - accuracy: 0.5250\n",
      "Epoch 54/300\n",
      "4/4 [==============================] - 0s 3ms/step - loss: 0.4226 - accuracy: 0.4917\n",
      "Epoch 55/300\n",
      "4/4 [==============================] - 0s 3ms/step - loss: 0.4222 - accuracy: 0.4917\n",
      "Epoch 56/300\n",
      "4/4 [==============================] - 0s 3ms/step - loss: 0.4212 - accuracy: 0.5500\n",
      "Epoch 57/300\n",
      "4/4 [==============================] - 0s 2ms/step - loss: 0.4207 - accuracy: 0.5500\n",
      "Epoch 58/300\n",
      "4/4 [==============================] - 0s 3ms/step - loss: 0.4197 - accuracy: 0.5167\n",
      "Epoch 59/300\n",
      "4/4 [==============================] - 0s 3ms/step - loss: 0.4197 - accuracy: 0.5000\n",
      "Epoch 60/300\n",
      "4/4 [==============================] - 0s 2ms/step - loss: 0.4188 - accuracy: 0.5417\n",
      "Epoch 61/300\n",
      "4/4 [==============================] - 0s 3ms/step - loss: 0.4190 - accuracy: 0.5250\n",
      "Epoch 62/300\n",
      "4/4 [==============================] - 0s 2ms/step - loss: 0.4179 - accuracy: 0.5167\n",
      "Epoch 63/300\n",
      "4/4 [==============================] - 0s 4ms/step - loss: 0.4176 - accuracy: 0.4833\n",
      "Epoch 64/300\n",
      "4/4 [==============================] - 0s 3ms/step - loss: 0.4162 - accuracy: 0.5333\n",
      "Epoch 65/300\n",
      "4/4 [==============================] - 0s 2ms/step - loss: 0.4158 - accuracy: 0.5417\n",
      "Epoch 66/300\n",
      "4/4 [==============================] - 0s 2ms/step - loss: 0.4155 - accuracy: 0.5083\n",
      "Epoch 67/300\n",
      "4/4 [==============================] - 0s 3ms/step - loss: 0.4147 - accuracy: 0.5583\n",
      "Epoch 68/300\n",
      "4/4 [==============================] - 0s 2ms/step - loss: 0.4144 - accuracy: 0.5500\n",
      "Epoch 69/300\n",
      "4/4 [==============================] - 0s 2ms/step - loss: 0.4136 - accuracy: 0.5000\n",
      "Epoch 70/300\n",
      "4/4 [==============================] - 0s 2ms/step - loss: 0.4129 - accuracy: 0.5583\n",
      "Epoch 71/300\n",
      "4/4 [==============================] - 0s 3ms/step - loss: 0.4125 - accuracy: 0.5833\n",
      "Epoch 72/300\n",
      "4/4 [==============================] - 0s 3ms/step - loss: 0.4118 - accuracy: 0.5667\n",
      "Epoch 73/300\n",
      "4/4 [==============================] - 0s 2ms/step - loss: 0.4117 - accuracy: 0.5750\n",
      "Epoch 74/300\n",
      "4/4 [==============================] - 0s 3ms/step - loss: 0.4110 - accuracy: 0.5583\n",
      "Epoch 75/300\n",
      "4/4 [==============================] - 0s 3ms/step - loss: 0.4113 - accuracy: 0.5500\n",
      "Epoch 76/300\n",
      "4/4 [==============================] - 0s 2ms/step - loss: 0.4099 - accuracy: 0.5500\n",
      "Epoch 77/300\n",
      "4/4 [==============================] - 0s 3ms/step - loss: 0.4100 - accuracy: 0.5333\n",
      "Epoch 78/300\n",
      "4/4 [==============================] - 0s 3ms/step - loss: 0.4090 - accuracy: 0.5833\n",
      "Epoch 79/300\n",
      "4/4 [==============================] - 0s 2ms/step - loss: 0.4092 - accuracy: 0.5667\n",
      "Epoch 80/300\n",
      "4/4 [==============================] - 0s 3ms/step - loss: 0.4083 - accuracy: 0.5417\n",
      "Epoch 81/300\n",
      "4/4 [==============================] - 0s 2ms/step - loss: 0.4073 - accuracy: 0.5667\n",
      "Epoch 82/300\n",
      "4/4 [==============================] - 0s 2ms/step - loss: 0.4067 - accuracy: 0.5667\n",
      "Epoch 83/300\n",
      "4/4 [==============================] - 0s 2ms/step - loss: 0.4068 - accuracy: 0.5833\n",
      "Epoch 84/300\n",
      "4/4 [==============================] - 0s 2ms/step - loss: 0.4062 - accuracy: 0.5833\n",
      "Epoch 85/300\n",
      "4/4 [==============================] - 0s 2ms/step - loss: 0.4057 - accuracy: 0.5750\n",
      "Epoch 86/300\n",
      "4/4 [==============================] - 0s 0s/step - loss: 0.4049 - accuracy: 0.5750\n",
      "Epoch 87/300\n",
      "4/4 [==============================] - 0s 2ms/step - loss: 0.4045 - accuracy: 0.5917\n",
      "Epoch 88/300\n",
      "4/4 [==============================] - 0s 3ms/step - loss: 0.4041 - accuracy: 0.5667\n",
      "Epoch 89/300\n",
      "4/4 [==============================] - 0s 2ms/step - loss: 0.4037 - accuracy: 0.5917\n",
      "Epoch 90/300\n",
      "4/4 [==============================] - 0s 2ms/step - loss: 0.4030 - accuracy: 0.5833\n",
      "Epoch 91/300\n",
      "4/4 [==============================] - 0s 2ms/step - loss: 0.4027 - accuracy: 0.5750\n",
      "Epoch 92/300\n",
      "4/4 [==============================] - 0s 2ms/step - loss: 0.4026 - accuracy: 0.5917\n",
      "Epoch 93/300\n",
      "4/4 [==============================] - 0s 2ms/step - loss: 0.4019 - accuracy: 0.5833\n",
      "Epoch 94/300\n",
      "4/4 [==============================] - 0s 3ms/step - loss: 0.4017 - accuracy: 0.6083\n",
      "Epoch 95/300\n",
      "4/4 [==============================] - 0s 2ms/step - loss: 0.4011 - accuracy: 0.5917\n",
      "Epoch 96/300\n",
      "4/4 [==============================] - 0s 2ms/step - loss: 0.4005 - accuracy: 0.5917\n",
      "Epoch 97/300\n",
      "4/4 [==============================] - 0s 2ms/step - loss: 0.4001 - accuracy: 0.5833\n",
      "Epoch 98/300\n",
      "4/4 [==============================] - 0s 2ms/step - loss: 0.3996 - accuracy: 0.6083\n",
      "Epoch 99/300\n",
      "4/4 [==============================] - 0s 2ms/step - loss: 0.3993 - accuracy: 0.6000\n",
      "Epoch 100/300\n",
      "4/4 [==============================] - 0s 2ms/step - loss: 0.3988 - accuracy: 0.6000\n",
      "Epoch 101/300\n",
      "4/4 [==============================] - 0s 3ms/step - loss: 0.3983 - accuracy: 0.5917\n",
      "Epoch 102/300\n",
      "4/4 [==============================] - 0s 2ms/step - loss: 0.3980 - accuracy: 0.6083\n",
      "Epoch 103/300\n",
      "4/4 [==============================] - 0s 2ms/step - loss: 0.3974 - accuracy: 0.6000\n",
      "Epoch 104/300\n",
      "4/4 [==============================] - 0s 2ms/step - loss: 0.3971 - accuracy: 0.5917\n",
      "Epoch 105/300\n",
      "4/4 [==============================] - 0s 2ms/step - loss: 0.3968 - accuracy: 0.5917\n",
      "Epoch 106/300\n",
      "4/4 [==============================] - 0s 2ms/step - loss: 0.3965 - accuracy: 0.6083\n",
      "Epoch 107/300\n",
      "4/4 [==============================] - 0s 2ms/step - loss: 0.3962 - accuracy: 0.6000\n",
      "Epoch 108/300\n",
      "4/4 [==============================] - 0s 2ms/step - loss: 0.3955 - accuracy: 0.6083\n",
      "Epoch 109/300\n",
      "4/4 [==============================] - 0s 2ms/step - loss: 0.3950 - accuracy: 0.6167\n",
      "Epoch 110/300\n",
      "4/4 [==============================] - 0s 2ms/step - loss: 0.3951 - accuracy: 0.6083\n",
      "Epoch 111/300\n",
      "4/4 [==============================] - 0s 3ms/step - loss: 0.3952 - accuracy: 0.6250\n",
      "Epoch 112/300\n",
      "4/4 [==============================] - 0s 2ms/step - loss: 0.3938 - accuracy: 0.6167\n",
      "Epoch 113/300\n",
      "4/4 [==============================] - 0s 3ms/step - loss: 0.3935 - accuracy: 0.6250\n",
      "Epoch 114/300\n",
      "4/4 [==============================] - 0s 2ms/step - loss: 0.3931 - accuracy: 0.6167\n",
      "Epoch 115/300\n",
      "4/4 [==============================] - 0s 2ms/step - loss: 0.3928 - accuracy: 0.6250\n",
      "Epoch 116/300\n",
      "4/4 [==============================] - 0s 2ms/step - loss: 0.3927 - accuracy: 0.6167\n",
      "Epoch 117/300\n",
      "4/4 [==============================] - 0s 2ms/step - loss: 0.3923 - accuracy: 0.6250\n",
      "Epoch 118/300\n",
      "4/4 [==============================] - 0s 2ms/step - loss: 0.3916 - accuracy: 0.6250\n",
      "Epoch 119/300\n",
      "4/4 [==============================] - 0s 2ms/step - loss: 0.3913 - accuracy: 0.6250\n",
      "Epoch 120/300\n",
      "4/4 [==============================] - 0s 3ms/step - loss: 0.3910 - accuracy: 0.6250\n",
      "Epoch 121/300\n",
      "4/4 [==============================] - 0s 2ms/step - loss: 0.3906 - accuracy: 0.6333\n",
      "Epoch 122/300\n",
      "4/4 [==============================] - 0s 4ms/step - loss: 0.3903 - accuracy: 0.6250\n",
      "Epoch 123/300\n",
      "4/4 [==============================] - 0s 4ms/step - loss: 0.3906 - accuracy: 0.6167\n",
      "Epoch 124/300\n",
      "4/4 [==============================] - 0s 2ms/step - loss: 0.3899 - accuracy: 0.6250\n",
      "Epoch 125/300\n",
      "4/4 [==============================] - 0s 2ms/step - loss: 0.3895 - accuracy: 0.6417\n",
      "Epoch 126/300\n",
      "4/4 [==============================] - 0s 3ms/step - loss: 0.3890 - accuracy: 0.6417\n",
      "Epoch 127/300\n",
      "4/4 [==============================] - 0s 4ms/step - loss: 0.3885 - accuracy: 0.6333\n",
      "Epoch 128/300\n",
      "4/4 [==============================] - 0s 3ms/step - loss: 0.3881 - accuracy: 0.6333\n",
      "Epoch 129/300\n",
      "4/4 [==============================] - 0s 2ms/step - loss: 0.3880 - accuracy: 0.6333\n",
      "Epoch 130/300\n",
      "4/4 [==============================] - 0s 2ms/step - loss: 0.3876 - accuracy: 0.6333\n",
      "Epoch 131/300\n",
      "4/4 [==============================] - 0s 2ms/step - loss: 0.3870 - accuracy: 0.6583\n",
      "Epoch 132/300\n",
      "4/4 [==============================] - 0s 2ms/step - loss: 0.3870 - accuracy: 0.6417\n",
      "Epoch 133/300\n",
      "4/4 [==============================] - 0s 2ms/step - loss: 0.3865 - accuracy: 0.6500\n",
      "Epoch 134/300\n",
      "4/4 [==============================] - 0s 2ms/step - loss: 0.3861 - accuracy: 0.6667\n",
      "Epoch 135/300\n",
      "4/4 [==============================] - 0s 2ms/step - loss: 0.3864 - accuracy: 0.6333\n",
      "Epoch 136/300\n",
      "4/4 [==============================] - 0s 2ms/step - loss: 0.3859 - accuracy: 0.6417\n",
      "Epoch 137/300\n",
      "4/4 [==============================] - 0s 2ms/step - loss: 0.3858 - accuracy: 0.6500\n",
      "Epoch 138/300\n",
      "4/4 [==============================] - 0s 2ms/step - loss: 0.3854 - accuracy: 0.6500\n",
      "Epoch 139/300\n",
      "4/4 [==============================] - 0s 2ms/step - loss: 0.3845 - accuracy: 0.6583\n",
      "Epoch 140/300\n",
      "4/4 [==============================] - 0s 2ms/step - loss: 0.3840 - accuracy: 0.6583\n",
      "Epoch 141/300\n",
      "4/4 [==============================] - 0s 3ms/step - loss: 0.3838 - accuracy: 0.6667\n",
      "Epoch 142/300\n",
      "4/4 [==============================] - 0s 2ms/step - loss: 0.3835 - accuracy: 0.6667\n",
      "Epoch 143/300\n",
      "4/4 [==============================] - 0s 3ms/step - loss: 0.3833 - accuracy: 0.6583\n",
      "Epoch 144/300\n",
      "4/4 [==============================] - 0s 3ms/step - loss: 0.3834 - accuracy: 0.6417\n",
      "Epoch 145/300\n",
      "4/4 [==============================] - 0s 4ms/step - loss: 0.3825 - accuracy: 0.6667\n",
      "Epoch 146/300\n",
      "4/4 [==============================] - 0s 3ms/step - loss: 0.3824 - accuracy: 0.6667\n",
      "Epoch 147/300\n",
      "4/4 [==============================] - 0s 3ms/step - loss: 0.3819 - accuracy: 0.6667\n",
      "Epoch 148/300\n",
      "4/4 [==============================] - 0s 2ms/step - loss: 0.3821 - accuracy: 0.6500\n",
      "Epoch 149/300\n",
      "4/4 [==============================] - 0s 3ms/step - loss: 0.3812 - accuracy: 0.6750\n",
      "Epoch 150/300\n",
      "4/4 [==============================] - 0s 2ms/step - loss: 0.3810 - accuracy: 0.6667\n",
      "Epoch 151/300\n",
      "4/4 [==============================] - 0s 2ms/step - loss: 0.3810 - accuracy: 0.6667\n",
      "Epoch 152/300\n",
      "4/4 [==============================] - 0s 3ms/step - loss: 0.3809 - accuracy: 0.6667\n",
      "Epoch 153/300\n",
      "4/4 [==============================] - 0s 2ms/step - loss: 0.3801 - accuracy: 0.6750\n",
      "Epoch 154/300\n",
      "4/4 [==============================] - 0s 3ms/step - loss: 0.3798 - accuracy: 0.6750\n",
      "Epoch 155/300\n",
      "4/4 [==============================] - 0s 2ms/step - loss: 0.3797 - accuracy: 0.6750\n",
      "Epoch 156/300\n",
      "4/4 [==============================] - 0s 2ms/step - loss: 0.3792 - accuracy: 0.6667\n",
      "Epoch 157/300\n",
      "4/4 [==============================] - 0s 3ms/step - loss: 0.3793 - accuracy: 0.6667\n",
      "Epoch 158/300\n",
      "4/4 [==============================] - 0s 3ms/step - loss: 0.3788 - accuracy: 0.6667\n",
      "Epoch 159/300\n",
      "4/4 [==============================] - 0s 3ms/step - loss: 0.3786 - accuracy: 0.6667\n",
      "Epoch 160/300\n",
      "4/4 [==============================] - 0s 2ms/step - loss: 0.3784 - accuracy: 0.6667\n",
      "Epoch 161/300\n",
      "4/4 [==============================] - 0s 3ms/step - loss: 0.3778 - accuracy: 0.6667\n",
      "Epoch 162/300\n",
      "4/4 [==============================] - 0s 3ms/step - loss: 0.3777 - accuracy: 0.6667\n",
      "Epoch 163/300\n",
      "4/4 [==============================] - 0s 3ms/step - loss: 0.3782 - accuracy: 0.6667\n",
      "Epoch 164/300\n",
      "4/4 [==============================] - 0s 3ms/step - loss: 0.3772 - accuracy: 0.6750\n",
      "Epoch 165/300\n",
      "4/4 [==============================] - 0s 3ms/step - loss: 0.3770 - accuracy: 0.6750\n",
      "Epoch 166/300\n",
      "4/4 [==============================] - 0s 3ms/step - loss: 0.3767 - accuracy: 0.6667\n",
      "Epoch 167/300\n",
      "4/4 [==============================] - 0s 3ms/step - loss: 0.3763 - accuracy: 0.6750\n",
      "Epoch 168/300\n",
      "4/4 [==============================] - 0s 3ms/step - loss: 0.3761 - accuracy: 0.6750\n",
      "Epoch 169/300\n",
      "4/4 [==============================] - 0s 3ms/step - loss: 0.3757 - accuracy: 0.6750\n",
      "Epoch 170/300\n",
      "4/4 [==============================] - 0s 4ms/step - loss: 0.3756 - accuracy: 0.6750\n",
      "Epoch 171/300\n",
      "4/4 [==============================] - 0s 4ms/step - loss: 0.3755 - accuracy: 0.6750\n",
      "Epoch 172/300\n",
      "4/4 [==============================] - 0s 5ms/step - loss: 0.3751 - accuracy: 0.6750\n",
      "Epoch 173/300\n",
      "4/4 [==============================] - 0s 3ms/step - loss: 0.3748 - accuracy: 0.6750\n",
      "Epoch 174/300\n",
      "4/4 [==============================] - 0s 3ms/step - loss: 0.3749 - accuracy: 0.6667\n",
      "Epoch 175/300\n",
      "4/4 [==============================] - 0s 3ms/step - loss: 0.3741 - accuracy: 0.6750\n",
      "Epoch 176/300\n",
      "4/4 [==============================] - 0s 3ms/step - loss: 0.3744 - accuracy: 0.6750\n",
      "Epoch 177/300\n",
      "4/4 [==============================] - 0s 4ms/step - loss: 0.3739 - accuracy: 0.6750\n",
      "Epoch 178/300\n",
      "4/4 [==============================] - 0s 3ms/step - loss: 0.3733 - accuracy: 0.6667\n",
      "Epoch 179/300\n",
      "4/4 [==============================] - 0s 3ms/step - loss: 0.3734 - accuracy: 0.6750\n",
      "Epoch 180/300\n",
      "4/4 [==============================] - 0s 5ms/step - loss: 0.3733 - accuracy: 0.6750\n",
      "Epoch 181/300\n",
      "4/4 [==============================] - 0s 5ms/step - loss: 0.3726 - accuracy: 0.6750\n",
      "Epoch 182/300\n",
      "4/4 [==============================] - 0s 4ms/step - loss: 0.3730 - accuracy: 0.6750\n",
      "Epoch 183/300\n",
      "4/4 [==============================] - 0s 4ms/step - loss: 0.3723 - accuracy: 0.6667\n",
      "Epoch 184/300\n",
      "4/4 [==============================] - 0s 3ms/step - loss: 0.3724 - accuracy: 0.6750\n",
      "Epoch 185/300\n",
      "4/4 [==============================] - 0s 4ms/step - loss: 0.3718 - accuracy: 0.6667\n",
      "Epoch 186/300\n",
      "4/4 [==============================] - 0s 3ms/step - loss: 0.3713 - accuracy: 0.6667\n",
      "Epoch 187/300\n",
      "4/4 [==============================] - 0s 3ms/step - loss: 0.3714 - accuracy: 0.6667\n",
      "Epoch 188/300\n",
      "4/4 [==============================] - 0s 2ms/step - loss: 0.3709 - accuracy: 0.6750\n",
      "Epoch 189/300\n",
      "4/4 [==============================] - 0s 3ms/step - loss: 0.3709 - accuracy: 0.6750\n",
      "Epoch 190/300\n",
      "4/4 [==============================] - 0s 3ms/step - loss: 0.3704 - accuracy: 0.6750\n",
      "Epoch 191/300\n",
      "4/4 [==============================] - 0s 3ms/step - loss: 0.3703 - accuracy: 0.6750\n",
      "Epoch 192/300\n",
      "4/4 [==============================] - 0s 2ms/step - loss: 0.3698 - accuracy: 0.6667\n",
      "Epoch 193/300\n",
      "4/4 [==============================] - 0s 3ms/step - loss: 0.3697 - accuracy: 0.6667\n",
      "Epoch 194/300\n",
      "4/4 [==============================] - 0s 4ms/step - loss: 0.3697 - accuracy: 0.6667\n",
      "Epoch 195/300\n",
      "4/4 [==============================] - 0s 3ms/step - loss: 0.3693 - accuracy: 0.6667\n",
      "Epoch 196/300\n",
      "4/4 [==============================] - 0s 2ms/step - loss: 0.3689 - accuracy: 0.6750\n",
      "Epoch 197/300\n",
      "4/4 [==============================] - 0s 2ms/step - loss: 0.3689 - accuracy: 0.6750\n",
      "Epoch 198/300\n",
      "4/4 [==============================] - 0s 2ms/step - loss: 0.3686 - accuracy: 0.6750\n",
      "Epoch 199/300\n",
      "4/4 [==============================] - 0s 2ms/step - loss: 0.3685 - accuracy: 0.6667\n",
      "Epoch 200/300\n",
      "4/4 [==============================] - 0s 3ms/step - loss: 0.3681 - accuracy: 0.6750\n",
      "Epoch 201/300\n",
      "4/4 [==============================] - 0s 2ms/step - loss: 0.3680 - accuracy: 0.6750\n",
      "Epoch 202/300\n",
      "4/4 [==============================] - 0s 3ms/step - loss: 0.3675 - accuracy: 0.6750\n",
      "Epoch 203/300\n",
      "4/4 [==============================] - 0s 3ms/step - loss: 0.3674 - accuracy: 0.6750\n",
      "Epoch 204/300\n",
      "4/4 [==============================] - 0s 2ms/step - loss: 0.3672 - accuracy: 0.6750\n",
      "Epoch 205/300\n",
      "4/4 [==============================] - 0s 2ms/step - loss: 0.3674 - accuracy: 0.6750\n",
      "Epoch 206/300\n",
      "4/4 [==============================] - 0s 2ms/step - loss: 0.3671 - accuracy: 0.6750\n",
      "Epoch 207/300\n",
      "4/4 [==============================] - 0s 3ms/step - loss: 0.3664 - accuracy: 0.6750\n",
      "Epoch 208/300\n",
      "4/4 [==============================] - 0s 4ms/step - loss: 0.3662 - accuracy: 0.6750\n",
      "Epoch 209/300\n",
      "4/4 [==============================] - 0s 4ms/step - loss: 0.3662 - accuracy: 0.6750\n",
      "Epoch 210/300\n",
      "4/4 [==============================] - 0s 3ms/step - loss: 0.3659 - accuracy: 0.6750\n",
      "Epoch 211/300\n",
      "4/4 [==============================] - 0s 2ms/step - loss: 0.3656 - accuracy: 0.6750\n",
      "Epoch 212/300\n",
      "4/4 [==============================] - 0s 3ms/step - loss: 0.3654 - accuracy: 0.6750\n",
      "Epoch 213/300\n",
      "4/4 [==============================] - 0s 3ms/step - loss: 0.3653 - accuracy: 0.6750\n",
      "Epoch 214/300\n",
      "4/4 [==============================] - 0s 4ms/step - loss: 0.3651 - accuracy: 0.6750\n",
      "Epoch 215/300\n",
      "4/4 [==============================] - 0s 3ms/step - loss: 0.3652 - accuracy: 0.6750\n",
      "Epoch 216/300\n",
      "4/4 [==============================] - 0s 3ms/step - loss: 0.3645 - accuracy: 0.6750\n",
      "Epoch 217/300\n",
      "4/4 [==============================] - 0s 3ms/step - loss: 0.3642 - accuracy: 0.6750\n",
      "Epoch 218/300\n",
      "4/4 [==============================] - 0s 3ms/step - loss: 0.3642 - accuracy: 0.6750\n",
      "Epoch 219/300\n",
      "4/4 [==============================] - 0s 2ms/step - loss: 0.3646 - accuracy: 0.7000\n",
      "Epoch 220/300\n",
      "4/4 [==============================] - 0s 2ms/step - loss: 0.3640 - accuracy: 0.6750\n",
      "Epoch 221/300\n",
      "4/4 [==============================] - 0s 3ms/step - loss: 0.3635 - accuracy: 0.6750\n",
      "Epoch 222/300\n",
      "4/4 [==============================] - 0s 3ms/step - loss: 0.3634 - accuracy: 0.6750\n",
      "Epoch 223/300\n",
      "4/4 [==============================] - 0s 3ms/step - loss: 0.3635 - accuracy: 0.6833\n",
      "Epoch 224/300\n",
      "4/4 [==============================] - 0s 4ms/step - loss: 0.3636 - accuracy: 0.6750\n",
      "Epoch 225/300\n",
      "4/4 [==============================] - 0s 3ms/step - loss: 0.3626 - accuracy: 0.6750\n",
      "Epoch 226/300\n",
      "4/4 [==============================] - 0s 2ms/step - loss: 0.3624 - accuracy: 0.6750\n",
      "Epoch 227/300\n",
      "4/4 [==============================] - 0s 3ms/step - loss: 0.3623 - accuracy: 0.6750\n",
      "Epoch 228/300\n",
      "4/4 [==============================] - 0s 3ms/step - loss: 0.3622 - accuracy: 0.6750\n",
      "Epoch 229/300\n",
      "4/4 [==============================] - 0s 2ms/step - loss: 0.3623 - accuracy: 0.6750\n",
      "Epoch 230/300\n",
      "4/4 [==============================] - 0s 3ms/step - loss: 0.3630 - accuracy: 0.7083\n",
      "Epoch 231/300\n",
      "4/4 [==============================] - 0s 2ms/step - loss: 0.3614 - accuracy: 0.6750\n",
      "Epoch 232/300\n",
      "4/4 [==============================] - 0s 3ms/step - loss: 0.3613 - accuracy: 0.6750\n",
      "Epoch 233/300\n",
      "4/4 [==============================] - 0s 2ms/step - loss: 0.3613 - accuracy: 0.6750\n",
      "Epoch 234/300\n",
      "4/4 [==============================] - 0s 3ms/step - loss: 0.3610 - accuracy: 0.6917\n",
      "Epoch 235/300\n",
      "4/4 [==============================] - 0s 2ms/step - loss: 0.3607 - accuracy: 0.6750\n",
      "Epoch 236/300\n",
      "4/4 [==============================] - 0s 2ms/step - loss: 0.3607 - accuracy: 0.6833\n",
      "Epoch 237/300\n",
      "4/4 [==============================] - 0s 3ms/step - loss: 0.3604 - accuracy: 0.6750\n",
      "Epoch 238/300\n",
      "4/4 [==============================] - 0s 3ms/step - loss: 0.3602 - accuracy: 0.6917\n",
      "Epoch 239/300\n",
      "4/4 [==============================] - 0s 4ms/step - loss: 0.3601 - accuracy: 0.6750\n",
      "Epoch 240/300\n",
      "4/4 [==============================] - 0s 4ms/step - loss: 0.3599 - accuracy: 0.6750\n",
      "Epoch 241/300\n",
      "4/4 [==============================] - 0s 4ms/step - loss: 0.3596 - accuracy: 0.6750\n",
      "Epoch 242/300\n",
      "4/4 [==============================] - 0s 4ms/step - loss: 0.3596 - accuracy: 0.6750\n",
      "Epoch 243/300\n",
      "4/4 [==============================] - 0s 3ms/step - loss: 0.3594 - accuracy: 0.6833\n",
      "Epoch 244/300\n",
      "4/4 [==============================] - 0s 2ms/step - loss: 0.3592 - accuracy: 0.6750\n",
      "Epoch 245/300\n",
      "4/4 [==============================] - 0s 3ms/step - loss: 0.3590 - accuracy: 0.6833\n",
      "Epoch 246/300\n",
      "4/4 [==============================] - 0s 3ms/step - loss: 0.3589 - accuracy: 0.6750\n",
      "Epoch 247/300\n",
      "4/4 [==============================] - 0s 2ms/step - loss: 0.3587 - accuracy: 0.6833\n",
      "Epoch 248/300\n",
      "4/4 [==============================] - 0s 3ms/step - loss: 0.3585 - accuracy: 0.6917\n",
      "Epoch 249/300\n",
      "4/4 [==============================] - 0s 3ms/step - loss: 0.3584 - accuracy: 0.7083\n",
      "Epoch 250/300\n",
      "4/4 [==============================] - 0s 2ms/step - loss: 0.3579 - accuracy: 0.6750\n",
      "Epoch 251/300\n",
      "4/4 [==============================] - 0s 4ms/step - loss: 0.3578 - accuracy: 0.6750\n",
      "Epoch 252/300\n",
      "4/4 [==============================] - 0s 3ms/step - loss: 0.3576 - accuracy: 0.6833\n",
      "Epoch 253/300\n",
      "4/4 [==============================] - 0s 2ms/step - loss: 0.3574 - accuracy: 0.6917\n",
      "Epoch 254/300\n",
      "4/4 [==============================] - 0s 3ms/step - loss: 0.3572 - accuracy: 0.6833\n",
      "Epoch 255/300\n",
      "4/4 [==============================] - 0s 3ms/step - loss: 0.3572 - accuracy: 0.6750\n",
      "Epoch 256/300\n",
      "4/4 [==============================] - 0s 3ms/step - loss: 0.3567 - accuracy: 0.7000\n",
      "Epoch 257/300\n",
      "4/4 [==============================] - 0s 3ms/step - loss: 0.3569 - accuracy: 0.7083\n",
      "Epoch 258/300\n",
      "4/4 [==============================] - 0s 3ms/step - loss: 0.3566 - accuracy: 0.6833\n",
      "Epoch 259/300\n",
      "4/4 [==============================] - 0s 4ms/step - loss: 0.3563 - accuracy: 0.7083\n",
      "Epoch 260/300\n",
      "4/4 [==============================] - 0s 4ms/step - loss: 0.3561 - accuracy: 0.7083\n",
      "Epoch 261/300\n",
      "4/4 [==============================] - 0s 4ms/step - loss: 0.3560 - accuracy: 0.7250\n",
      "Epoch 262/300\n",
      "4/4 [==============================] - 0s 3ms/step - loss: 0.3567 - accuracy: 0.7250\n",
      "Epoch 263/300\n",
      "4/4 [==============================] - 0s 3ms/step - loss: 0.3564 - accuracy: 0.6833\n",
      "Epoch 264/300\n",
      "4/4 [==============================] - 0s 3ms/step - loss: 0.3555 - accuracy: 0.7333\n",
      "Epoch 265/300\n",
      "4/4 [==============================] - 0s 3ms/step - loss: 0.3552 - accuracy: 0.7083\n",
      "Epoch 266/300\n",
      "4/4 [==============================] - 0s 3ms/step - loss: 0.3553 - accuracy: 0.7000\n",
      "Epoch 267/300\n",
      "4/4 [==============================] - 0s 3ms/step - loss: 0.3549 - accuracy: 0.6833\n",
      "Epoch 268/300\n",
      "4/4 [==============================] - 0s 4ms/step - loss: 0.3553 - accuracy: 0.6833\n",
      "Epoch 269/300\n",
      "4/4 [==============================] - 0s 3ms/step - loss: 0.3548 - accuracy: 0.7000\n",
      "Epoch 270/300\n",
      "4/4 [==============================] - 0s 3ms/step - loss: 0.3556 - accuracy: 0.6750\n",
      "Epoch 271/300\n",
      "4/4 [==============================] - 0s 3ms/step - loss: 0.3541 - accuracy: 0.7000\n",
      "Epoch 272/300\n",
      "4/4 [==============================] - 0s 2ms/step - loss: 0.3541 - accuracy: 0.7083\n",
      "Epoch 273/300\n",
      "4/4 [==============================] - 0s 3ms/step - loss: 0.3541 - accuracy: 0.6833\n",
      "Epoch 274/300\n",
      "4/4 [==============================] - 0s 4ms/step - loss: 0.3538 - accuracy: 0.6917\n",
      "Epoch 275/300\n",
      "4/4 [==============================] - 0s 3ms/step - loss: 0.3539 - accuracy: 0.7083\n",
      "Epoch 276/300\n",
      "4/4 [==============================] - 0s 3ms/step - loss: 0.3535 - accuracy: 0.6833\n",
      "Epoch 277/300\n",
      "4/4 [==============================] - 0s 3ms/step - loss: 0.3531 - accuracy: 0.7000\n",
      "Epoch 278/300\n",
      "4/4 [==============================] - 0s 3ms/step - loss: 0.3532 - accuracy: 0.6917\n",
      "Epoch 279/300\n",
      "4/4 [==============================] - 0s 2ms/step - loss: 0.3529 - accuracy: 0.7083\n",
      "Epoch 280/300\n",
      "4/4 [==============================] - 0s 2ms/step - loss: 0.3536 - accuracy: 0.6917\n",
      "Epoch 281/300\n",
      "4/4 [==============================] - 0s 3ms/step - loss: 0.3532 - accuracy: 0.7500\n",
      "Epoch 282/300\n",
      "4/4 [==============================] - 0s 4ms/step - loss: 0.3524 - accuracy: 0.7083\n",
      "Epoch 283/300\n",
      "4/4 [==============================] - 0s 3ms/step - loss: 0.3525 - accuracy: 0.6833\n",
      "Epoch 284/300\n",
      "4/4 [==============================] - 0s 4ms/step - loss: 0.3520 - accuracy: 0.7000\n",
      "Epoch 285/300\n",
      "4/4 [==============================] - 0s 3ms/step - loss: 0.3520 - accuracy: 0.6833\n",
      "Epoch 286/300\n",
      "4/4 [==============================] - 0s 3ms/step - loss: 0.3519 - accuracy: 0.7000\n",
      "Epoch 287/300\n",
      "4/4 [==============================] - 0s 2ms/step - loss: 0.3518 - accuracy: 0.7000\n",
      "Epoch 288/300\n",
      "4/4 [==============================] - 0s 3ms/step - loss: 0.3518 - accuracy: 0.6833\n",
      "Epoch 289/300\n",
      "4/4 [==============================] - 0s 3ms/step - loss: 0.3520 - accuracy: 0.7083\n",
      "Epoch 290/300\n",
      "4/4 [==============================] - 0s 3ms/step - loss: 0.3512 - accuracy: 0.7000\n",
      "Epoch 291/300\n",
      "4/4 [==============================] - 0s 3ms/step - loss: 0.3511 - accuracy: 0.7000\n",
      "Epoch 292/300\n",
      "4/4 [==============================] - 0s 3ms/step - loss: 0.3509 - accuracy: 0.7000\n",
      "Epoch 293/300\n",
      "4/4 [==============================] - 0s 3ms/step - loss: 0.3507 - accuracy: 0.7000\n",
      "Epoch 294/300\n",
      "4/4 [==============================] - 0s 2ms/step - loss: 0.3506 - accuracy: 0.6917\n",
      "Epoch 295/300\n",
      "4/4 [==============================] - 0s 3ms/step - loss: 0.3507 - accuracy: 0.7000\n",
      "Epoch 296/300\n",
      "4/4 [==============================] - 0s 2ms/step - loss: 0.3507 - accuracy: 0.6833\n",
      "Epoch 297/300\n",
      "4/4 [==============================] - 0s 3ms/step - loss: 0.3504 - accuracy: 0.7250\n",
      "Epoch 298/300\n",
      "4/4 [==============================] - 0s 2ms/step - loss: 0.3502 - accuracy: 0.6833\n",
      "Epoch 299/300\n",
      "4/4 [==============================] - 0s 3ms/step - loss: 0.3497 - accuracy: 0.7333\n",
      "Epoch 300/300\n",
      "4/4 [==============================] - 0s 2ms/step - loss: 0.3499 - accuracy: 0.7167\n"
     ]
    }
   ],
   "source": [
    "history = model.fit(X_train, y_train, epochs=300)"
   ]
  },
  {
   "cell_type": "markdown",
   "id": "f0aabbbebc43ea38",
   "metadata": {
    "collapsed": false
   },
   "source": [
    "Let's plot the training loss and accuracy for the training dataset:"
   ]
  },
  {
   "cell_type": "code",
   "execution_count": 28,
   "id": "17975ed805d47757",
   "metadata": {
    "collapsed": false,
    "ExecuteTime": {
     "end_time": "2024-10-07T17:08:39.947021400Z",
     "start_time": "2024-10-07T17:08:39.478512700Z"
    }
   },
   "outputs": [
    {
     "data": {
      "text/plain": "<Figure size 1200x400 with 2 Axes>",
      "image/png": "[encoded data removed]"
     },
     "metadata": {},
     "output_type": "display_data"
    }
   ],
   "source": [
    "show_history(history, loss_label='Training loss', accuracy_label='Training accuracy')"
   ]
  },
  {
   "cell_type": "markdown",
   "id": "d76c895e1d0b0dbd",
   "metadata": {
    "collapsed": false
   },
   "source": [
    "## Prediction\n",
    "\n",
    "We apply the neural network to the test dataset (forward propagation). That returns three probabilities, one for each class of iris.\n",
    "\n",
    "Next, we have to assign the class with the highest probability because it can not occur that one flower has more than one type (or no type at all). That is, we are actually dealing with a *multiclass* classification problem (not a multilabel one: a multilabel classifier allows an instance to belong to different classes at the same time).  \n",
    "\n",
    "Finally, we show the predictions for the test set."
   ]
  },
  {
   "cell_type": "code",
   "execution_count": 29,
   "id": "98b4aa88e78d2c35",
   "metadata": {
    "collapsed": false,
    "ExecuteTime": {
     "end_time": "2024-10-07T17:08:40.101638300Z",
     "start_time": "2024-10-07T17:08:39.947103400Z"
    }
   },
   "outputs": [
    {
     "name": "stdout",
     "output_type": "stream",
     "text": [
      "Predictions for the test set:\n",
      "[[1 0 0]\n",
      " [1 0 0]\n",
      " [0 0 1]\n",
      " [0 0 1]\n",
      " [0 0 1]\n",
      " [0 0 1]\n",
      " [0 0 1]\n",
      " [1 0 0]\n",
      " [0 0 1]\n",
      " [0 0 1]\n",
      " [1 0 0]\n",
      " [0 0 1]\n",
      " [0 0 1]\n",
      " [1 0 0]\n",
      " [0 0 1]\n",
      " [0 0 1]\n",
      " [0 0 1]\n",
      " [1 0 0]\n",
      " [1 0 0]\n",
      " [0 0 1]\n",
      " [1 0 0]\n",
      " [0 0 1]\n",
      " [1 0 0]\n",
      " [1 0 0]\n",
      " [0 1 0]\n",
      " [0 0 1]\n",
      " [0 0 1]\n",
      " [0 0 1]\n",
      " [0 1 0]\n",
      " [0 0 1]]\n"
     ]
    }
   ],
   "source": [
    "prediction_probabilities = model.predict(X_test, verbose=0)\n",
    "# function that, given a row, replaces 1 for its highest value and 0 for the rest (selects the highest value)\n",
    "max_value_per_row = lambda row: [1 if i == max(row) else 0 for i in row]\n",
    "# selects as the predicted class the one with the highest probability\n",
    "predictions = np.apply_along_axis(max_value_per_row, 1, prediction_probabilities)\n",
    "print(f\"Predictions for the test set:\\n{predictions}\")"
   ]
  },
  {
   "cell_type": "markdown",
   "id": "c614769f311b3b31",
   "metadata": {
    "collapsed": false
   },
   "source": [
    "### Assessment\n",
    "We show accuracy test set."
   ]
  },
  {
   "cell_type": "code",
   "execution_count": 30,
   "id": "f335e8908f659c0e",
   "metadata": {
    "collapsed": false,
    "ExecuteTime": {
     "end_time": "2024-10-07T17:08:40.101638300Z",
     "start_time": "2024-10-07T17:08:40.064262500Z"
    }
   },
   "outputs": [
    {
     "name": "stdout",
     "output_type": "stream",
     "text": [
      "Accuracy: 0.7667.\n"
     ]
    }
   ],
   "source": [
    "print(f\"Accuracy: {accuracy_score(y_test, predictions):.4f}.\")"
   ]
  },
  {
   "cell_type": "markdown",
   "id": "f8402c179225ac7a",
   "metadata": {
    "collapsed": false
   },
   "source": [
    "## F1-score\n",
    "If we want to compute F1-score for multiclass classifiers, there are two ways of doing it:\n",
    "1. *Micro F1*: Calculates precision, recall, and F1-score globally by counting the total true positives, false positives, and false negatives across all classes. This is suitable when there is a significant class imbalance, as it treats all instances equally.\n",
    "2. *Macro F1*: Calculates precision, recall, and F1-score for each class individually. The, it averages these scores across all the classes."
   ]
  },
  {
   "cell_type": "code",
   "execution_count": 31,
   "id": "39f57b016693af96",
   "metadata": {
    "collapsed": false,
    "ExecuteTime": {
     "end_time": "2024-10-07T17:08:40.171427500Z",
     "start_time": "2024-10-07T17:08:40.076479700Z"
    }
   },
   "outputs": [
    {
     "name": "stdout",
     "output_type": "stream",
     "text": [
      "F1-score micro: 0.7667.\n",
      "F1-score macro: 0.7074.\n"
     ]
    }
   ],
   "source": [
    "print(f\"F1-score micro: {f1_score(y_test, predictions, average='micro'):.4f}.\")\n",
    "print(f\"F1-score macro: {f1_score(y_test, predictions, average='macro'):.4f}.\")"
   ]
  },
  {
   "cell_type": "markdown",
   "id": "20359dbda48ef300",
   "metadata": {
    "collapsed": false
   },
   "source": [
    "## ✨ Questions ✨ \n",
    "\n",
    "1. Why do you think micro F1-score has the same value as accuracy?\n",
    "2. Why do you think macro F1 is lower than micro F1? "
   ]
  },
  {
   "cell_type": "markdown",
   "id": "161159eac285bee5",
   "metadata": {
    "collapsed": false
   },
   "source": [
    "### Answers\n",
    "\n",
    "*Write your answers here.*\n",
    "\n"
   ]
  }
 ],
 "metadata": {
  "kernelspec": {
   "display_name": "Python 3 (ipykernel)",
   "language": "python",
   "name": "python3"
  },
  "language_info": {
   "codemirror_mode": {
    "name": "ipython",
    "version": 3
   },
   "file_extension": ".py",
   "mimetype": "text/x-python",
   "name": "python",
   "nbconvert_exporter": "python",
   "pygments_lexer": "ipython3",
   "version": "3.11.4"
  }
 },
 "nbformat": 4,
 "nbformat_minor": 5
}
