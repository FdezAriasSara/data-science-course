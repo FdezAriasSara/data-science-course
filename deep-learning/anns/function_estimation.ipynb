{
 "cells": [
  {
   "cell_type": "markdown",
   "source": [
    "[![Open In Colab](https://colab.research.google.com/assets/colab-badge.svg)](https://colab.research.google.com/github/francisco-ortin/data-science-course/blob/main/deep-learning/anns/function_estimation.ipynb)\n",
    "[![License: CC BY-NC-SA 4.0](https://img.shields.io/badge/License-CC%20BY--NC--SA%204.0-lightgrey.svg)](https://creativecommons.org/licenses/by-nc-sa/4.0/)"
   ],
   "metadata": {
    "collapsed": false
   },
   "id": "87540b40e3958a06"
  },
  {
   "cell_type": "markdown",
   "id": "72ea15f3d70547f7",
   "metadata": {
    "collapsed": false
   },
   "source": [
    "# Function estimation with Keras/Tensorflow\n",
    "\n",
    "This notebook shows how keras and Tensorflow can be used to estimate the parameters of a given function, learning them from data. We must define the equation of the function, setting the parameters to be learned from data as Tensorflow variables. Then, an optimizer (such as Gradient Descent) is used to learn the parameters. The only requirement is that the function must be differentiable, because Tensorflow will \n",
    "compute the derivatives automatically in order to minimize the loss using Gradient Descent."
   ]
  },
  {
   "cell_type": "code",
   "execution_count": 11,
   "id": "5f099c66705669f8",
   "metadata": {
    "collapsed": false,
    "ExecuteTime": {
     "end_time": "2024-10-07T17:28:14.261443700Z",
     "start_time": "2024-10-07T17:28:12.764977200Z"
    }
   },
   "outputs": [
    {
     "name": "stdout",
     "output_type": "stream",
     "text": [
      "Note: you may need to restart the kernel to use updated packages.\n"
     ]
    }
   ],
   "source": [
    "# make sure the required packages are installed\n",
    "%pip install pandas numpy seaborn matplotlib scikit-learn keras tensorflow --quiet\n",
    "# if running in colab, install the required packages and copy the necessary files\n",
    "directory='data-science-course/deep-learning/anns'\n",
    "if get_ipython().__class__.__module__.startswith('google.colab'):\n",
    "    !git clone https://github.com/francisco-ortin/data-science-course.git  2>/dev/null\n",
    "    !cp --update {directory}/*.py .\n",
    "    !mkdir -p img data\n",
    "    !cp {directory}/img/* img/.\n",
    "\n",
    "import numpy as np\n",
    "import tensorflow as tf\n",
    "from random import random\n",
    "from keras.src.optimizers import SGD, Adam\n",
    "\n",
    "from utils import plot_function, plot_functions"
   ]
  },
  {
   "cell_type": "markdown",
   "id": "e7c3e8a3ff34b7dc",
   "metadata": {
    "collapsed": false
   },
   "source": [
    "## Ground truth\n",
    "\n",
    "We define the ground truth: a function that we want to learn from data. \n",
    "\n",
    "The function to be learned follows the equation: `y = a*(x**3) + b*(x**2) + c*x + d`\n",
    "`a`, `b`, `c` and `d` are parameters to be learned from data.\n",
    "\n",
    "We create data for x and y. x ranges from -10 to 10."
   ]
  },
  {
   "cell_type": "code",
   "execution_count": 12,
   "id": "33531d19a75de77f",
   "metadata": {
    "collapsed": false,
    "ExecuteTime": {
     "end_time": "2024-10-07T17:28:14.270783Z",
     "start_time": "2024-10-07T17:28:14.264866100Z"
    }
   },
   "outputs": [],
   "source": [
    "x = np.arange(-10, 11)\n",
    "# a, b, c, d are the parameters to be learned\n",
    "a, b, c, d = 0.1, -0.2, 0.3, -0.4\n",
    "y = a*(x**3) + b*(x**2) + c*x + d"
   ]
  },
  {
   "cell_type": "markdown",
   "id": "802ac98cb6d019ad",
   "metadata": {
    "collapsed": false
   },
   "source": [
    "We add some noise to the target variable `y` in the dataset to make prediction more difficult."
   ]
  },
  {
   "cell_type": "code",
   "execution_count": 13,
   "id": "ba1108741a17ef06",
   "metadata": {
    "collapsed": false,
    "ExecuteTime": {
     "end_time": "2024-10-07T17:28:14.323683600Z",
     "start_time": "2024-10-07T17:28:14.276037200Z"
    }
   },
   "outputs": [],
   "source": [
    "noise = np.random.normal(0,0.01, len(x))\n",
    "y = y + noise"
   ]
  },
  {
   "cell_type": "markdown",
   "id": "52235b5e38e3ccf",
   "metadata": {
    "collapsed": false
   },
   "source": [
    "## Visualization\n",
    "Let's plot the y function:"
   ]
  },
  {
   "cell_type": "code",
   "execution_count": 14,
   "id": "e0e285a33f74265b",
   "metadata": {
    "collapsed": false,
    "ExecuteTime": {
     "end_time": "2024-10-07T17:28:14.501098500Z",
     "start_time": "2024-10-07T17:28:14.296627100Z"
    }
   },
   "outputs": [
    {
     "data": {
      "text/plain": "<Figure size 500x500 with 1 Axes>",
      "image/png": "[encoded data removed]"
     },
     "metadata": {},
     "output_type": "display_data"
    }
   ],
   "source": [
    "plot_function(x, y, f\"Function y = {a}*(x**3) + {b}*(x**2) + {c}*x + {d}\")"
   ]
  },
  {
   "cell_type": "markdown",
   "id": "edfd1a4a83763498",
   "metadata": {
    "collapsed": false
   },
   "source": [
    "## Tensorflow Variables\n",
    "\n",
    "We now create the four variables to be learned as Tensorflow variables. This is a pretty low level usage of Tensorflow, but it is useful to understand how it works."
   ]
  },
  {
   "cell_type": "code",
   "execution_count": 15,
   "id": "e59cf1f79ad18fa0",
   "metadata": {
    "collapsed": false,
    "ExecuteTime": {
     "end_time": "2024-10-07T17:28:14.516703200Z",
     "start_time": "2024-10-07T17:28:14.503734500Z"
    }
   },
   "outputs": [],
   "source": [
    "A, B, C, D = tf.Variable(random()), tf.Variable(random()), tf.Variable(random()), tf.Variable(random())"
   ]
  },
  {
   "cell_type": "markdown",
   "id": "a35cb0e63baa551a",
   "metadata": {
    "collapsed": false
   },
   "source": [
    "## Loss function\n",
    "We use MSE to compute the loss function (it is regression problem)."
   ]
  },
  {
   "cell_type": "code",
   "execution_count": 16,
   "id": "12d7b20ccb899e96",
   "metadata": {
    "collapsed": false,
    "ExecuteTime": {
     "end_time": "2024-10-07T17:28:14.585024500Z",
     "start_time": "2024-10-07T17:28:14.523767600Z"
    }
   },
   "outputs": [],
   "source": [
    "loss_mse = lambda: sum((y - (A * (x ** 3) + B * (x ** 2) + C * x + D)) ** 2) / (2*len(x))"
   ]
  },
  {
   "cell_type": "markdown",
   "id": "9d71c4195679301f",
   "metadata": {
    "collapsed": false
   },
   "source": [
    "## Optimizer\n",
    "\n",
    "We use the [Adam optimizer](https://optimization.cbe.cornell.edu/index.php?title=Adam), which is much faster than SGD. Adam (Adaptive Moment Estimation) is a stochastic gradient descent method that is based on adaptive momentum. It is widely used in training deep neural networks. "
   ]
  },
  {
   "cell_type": "code",
   "execution_count": 17,
   "id": "902bdc98bcffd2a",
   "metadata": {
    "collapsed": false,
    "ExecuteTime": {
     "end_time": "2024-10-07T17:28:14.586119400Z",
     "start_time": "2024-10-07T17:28:14.531703800Z"
    }
   },
   "outputs": [],
   "source": [
    "optimizer = Adam(learning_rate=1)"
   ]
  },
  {
   "cell_type": "markdown",
   "id": "9a8a06a43d16c584",
   "metadata": {
    "collapsed": false
   },
   "source": [
    "## Training\n",
    "\n",
    "We now ask the optimizer to minimize the loss by applying the optimization algorith to the\n",
    "variables, learning their values from data. "
   ]
  },
  {
   "cell_type": "code",
   "execution_count": 18,
   "id": "10d584c42bb9c1e3",
   "metadata": {
    "collapsed": false,
    "ExecuteTime": {
     "end_time": "2024-10-07T17:28:22.940709700Z",
     "start_time": "2024-10-07T17:28:14.546538500Z"
    }
   },
   "outputs": [
    {
     "name": "stdout",
     "output_type": "stream",
     "text": [
      "Epoch:   0, loss: 78038.5468750000, A:-0.7942, B: -0.6890, C:-0.8071, D:-0.6307.\n",
      "Epoch:   1, loss: 5562.6933593750, A:-0.1314, B: -0.6661, C:-0.1438, D:-0.6139.\n",
      "Epoch:   2, loss: 17242.8906250000, A:0.5249, B: -0.3016, C:0.5131, D:-0.2549.\n",
      "Epoch:   3, loss: 43742.3945312500, A:0.7748, B: 0.0619, C:0.7638, D:0.1025.\n",
      "Epoch:   4, loss: 29316.6640625000, A:0.6516, B: 0.1925, C:0.6415, D:0.2259.\n",
      "Epoch:   5, loss: 5589.9389648438, A:0.3409, B: 0.0829, C:0.3317, D:0.1092.\n",
      "Epoch:   6, loss: 1336.9096679688, A:-0.0148, B: -0.1517, C:-0.0232, D:-0.1326.\n",
      "Epoch:   7, loss: 14535.0361328125, A:-0.2847, B: -0.3835, C:-0.2920, D:-0.3719.\n",
      "Epoch:   8, loss: 22772.8457031250, A:-0.3816, B: -0.5006, C:-0.3880, D:-0.4968.\n",
      "Epoch:   9, loss: 16298.7890625000, A:-0.3070, B: -0.4665, C:-0.3123, D:-0.4706.\n",
      "Epoch:  10, loss: 4603.3510742188, A:-0.1152, B: -0.3217, C:-0.1196, D:-0.3336.\n",
      "Epoch:  11, loss: 42.9262809753, A:0.1224, B: -0.1407, C:0.1191, D:-0.1604.\n",
      "Epoch:  12, loss: 5071.2646484375, A:0.3305, B: -0.0047, C:0.3283, D:-0.0323.\n",
      "Epoch:  13, loss: 11527.7304687500, A:0.4469, B: 0.0315, C:0.4458, D:-0.0043.\n",
      "Epoch:  14, loss: 11460.5234375000, A:0.4464, B: -0.0353, C:0.4464, D:-0.0790.\n",
      "Epoch:  15, loss: 5646.4956054688, A:0.3442, B: -0.1655, C:0.3454, D:-0.2170.\n",
      "Epoch:  16, loss: 609.5942382812, A:0.1812, B: -0.2991, C:0.1835, D:-0.3584.\n",
      "Epoch:  17, loss: 868.1947631836, A:0.0099, B: -0.3787, C:0.0134, D:-0.4458.\n",
      "Epoch:  18, loss: 4726.9394531250, A:-0.1178, B: -0.3750, C:-0.1131, D:-0.4499.\n",
      "Epoch:  19, loss: 7015.1757812500, A:-0.1667, B: -0.2980, C:-0.1608, D:-0.3804.\n",
      "Epoch:  20, loss: 5220.7045898438, A:-0.1300, B: -0.1869, C:-0.1228, D:-0.2768.\n",
      "Epoch:  21, loss: 1632.9179687500, A:-0.0270, B: -0.0922, C:-0.0185, D:-0.1894.\n",
      "Epoch:  22, loss: 28.2096328735, A:0.1058, B: -0.0541, C:0.1155, D:-0.1585.\n",
      "Epoch:  23, loss: 1485.5690917969, A:0.2257, B: -0.0843, C:0.2367, D:-0.1956.\n",
      "Epoch:  24, loss: 3639.4213867188, A:0.2964, B: -0.1634, C:0.3087, D:-0.2815.\n",
      "Epoch:  25, loss: 3777.0922851562, A:0.3000, B: -0.2523, C:0.3136, D:-0.3771.\n",
      "Epoch:  26, loss: 1880.4676513672, A:0.2413, B: -0.3101, C:0.2563, D:-0.4413.\n",
      "Epoch:  27, loss: 183.8121185303, A:0.1440, B: -0.3128, C:0.1604, D:-0.4502.\n",
      "Epoch:  28, loss: 355.2528381348, A:0.0421, B: -0.2638, C:0.0598, D:-0.4072.\n",
      "Epoch:  29, loss: 1722.6871337891, A:-0.0312, B: -0.1900, C:-0.0121, D:-0.3390.\n",
      "Epoch:  30, loss: 2372.3581542969, A:-0.0542, B: -0.1278, C:-0.0337, D:-0.2823.\n",
      "Epoch:  31, loss: 1538.7624511719, A:-0.0235, B: -0.1058, C:-0.0016, D:-0.2657.\n",
      "Epoch:  32, loss: 308.6957397461, A:0.0463, B: -0.1314, C:0.0696, D:-0.2963.\n",
      "Epoch:  33, loss: 67.5374374390, A:0.1286, B: -0.1881, C:0.1533, D:-0.3578.\n",
      "Epoch:  34, loss: 827.4920043945, A:0.1946, B: -0.2459, C:0.2207, D:-0.4200.\n",
      "Epoch:  35, loss: 1413.1566162109, A:0.2228, B: -0.2758, C:0.2504, D:-0.4543.\n",
      "Epoch:  36, loss: 1057.9963378906, A:0.2065, B: -0.2652, C:0.2356, D:-0.4477.\n",
      "Epoch:  37, loss: 272.0695800781, A:0.1551, B: -0.2227, C:0.1856, D:-0.4090.\n",
      "Epoch:  38, loss: 16.2496490479, A:0.0896, B: -0.1725, C:0.1216, D:-0.3623.\n",
      "Epoch:  39, loss: 447.3451538086, A:0.0344, B: -0.1411, C:0.0679, D:-0.3341.\n",
      "Epoch:  40, loss: 845.6977539062, A:0.0088, B: -0.1434, C:0.0437, D:-0.3394.\n",
      "Epoch:  41, loss: 657.9514770508, A:0.0196, B: -0.1754, C:0.0560, D:-0.3742.\n",
      "Epoch:  42, loss: 171.9599914551, A:0.0599, B: -0.2176, C:0.0978, D:-0.4189.\n",
      "Epoch:  43, loss: 12.9743461609, A:0.1123, B: -0.2465, C:0.1517, D:-0.4502.\n",
      "Epoch:  44, loss: 285.3237609863, A:0.1561, B: -0.2474, C:0.1970, D:-0.4532.\n",
      "Epoch:  45, loss: 519.4060668945, A:0.1753, B: -0.2222, C:0.2177, D:-0.4298.\n",
      "Epoch:  46, loss: 378.1936035156, A:0.1645, B: -0.1868, C:0.2084, D:-0.3961.\n",
      "Epoch:  47, loss: 80.4002990723, A:0.1305, B: -0.1620, C:0.1759, D:-0.3728.\n",
      "Epoch:  48, loss: 19.7974414825, A:0.0883, B: -0.1609, C:0.1353, D:-0.3729.\n",
      "Epoch:  49, loss: 209.1462554932, A:0.0554, B: -0.1821, C:0.1039, D:-0.3952.\n",
      "Epoch:  50, loss: 322.7837219238, A:0.0441, B: -0.2116, C:0.0941, D:-0.4256.\n",
      "Epoch:  51, loss: 194.7949523926, A:0.0571, B: -0.2315, C:0.1086, D:-0.4462.\n",
      "Epoch:  52, loss: 22.1849403381, A:0.0871, B: -0.2310, C:0.1401, D:-0.4463.\n",
      "Epoch:  53, loss: 33.7123336792, A:0.1205, B: -0.2120, C:0.1750, D:-0.4277.\n",
      "Epoch:  54, loss: 163.9643859863, A:0.1430, B: -0.1874, C:0.1990, D:-0.4035.\n",
      "Epoch:  55, loss: 191.7520294189, A:0.1462, B: -0.1726, C:0.2038, D:-0.3888.\n",
      "Epoch:  56, loss: 80.2337646484, A:0.1305, B: -0.1756, C:0.1895, D:-0.3919.\n",
      "Epoch:  57, loss: 0.5672484636, A:0.1039, B: -0.1932, C:0.1645, D:-0.4094.\n",
      "Epoch:  58, loss: 50.5317153931, A:0.0789, B: -0.2132, C:0.1411, D:-0.4292.\n",
      "Epoch:  59, loss: 123.3276824951, A:0.0661, B: -0.2230, C:0.1297, D:-0.4387.\n",
      "Epoch:  60, loss: 97.6638412476, A:0.0700, B: -0.2172, C:0.1351, D:-0.4326.\n",
      "Epoch:  61, loss: 19.6581878662, A:0.0874, B: -0.2009, C:0.1541, D:-0.4159.\n",
      "Epoch:  62, loss: 6.3709268570, A:0.1096, B: -0.1854, C:0.1777, D:-0.3999.\n",
      "Epoch:  63, loss: 58.4845390320, A:0.1261, B: -0.1806, C:0.1958, D:-0.3946.\n",
      "Epoch:  64, loss: 78.7044448853, A:0.1301, B: -0.1887, C:0.2013, D:-0.4021.\n",
      "Epoch:  65, loss: 35.7270927429, A:0.1208, B: -0.2033, C:0.1935, D:-0.4161.\n",
      "Epoch:  66, loss: 0.6932533979, A:0.1036, B: -0.2143, C:0.1777, D:-0.4264.\n",
      "Epoch:  67, loss: 20.6852931976, A:0.0871, B: -0.2146, C:0.1627, D:-0.4261.\n",
      "Epoch:  68, loss: 50.1712532043, A:0.0788, B: -0.2050, C:0.1559, D:-0.4158.\n",
      "Epoch:  69, loss: 37.2569274902, A:0.0819, B: -0.1928, C:0.1605, D:-0.4029.\n",
      "Epoch:  70, loss: 5.7167763710, A:0.0940, B: -0.1866, C:0.1741, D:-0.3960.\n",
      "Epoch:  71, loss: 4.9098558426, A:0.1085, B: -0.1900, C:0.1900, D:-0.3988.\n",
      "Epoch:  72, loss: 27.4071712494, A:0.1183, B: -0.1999, C:0.2013, D:-0.4080.\n",
      "Epoch:  73, loss: 30.1966667175, A:0.1191, B: -0.2089, C:0.2035, D:-0.4163.\n",
      "Epoch:  74, loss: 9.5216341019, A:0.1113, B: -0.2107, C:0.1972, D:-0.4174.\n",
      "Epoch:  75, loss: 0.4645027816, A:0.0994, B: -0.2048, C:0.1867, D:-0.4108.\n",
      "Epoch:  76, loss: 13.4791069031, A:0.0896, B: -0.1959, C:0.1784, D:-0.4014.\n",
      "Epoch:  77, loss: 21.3059349060, A:0.0866, B: -0.1908, C:0.1768, D:-0.3956.\n",
      "Epoch:  78, loss: 10.0963726044, A:0.0912, B: -0.1927, C:0.1828, D:-0.3970.\n",
      "Epoch:  79, loss: 0.1082911715, A:0.1005, B: -0.1996, C:0.1935, D:-0.4034.\n",
      "Epoch:  80, loss: 6.2154955864, A:0.1093, B: -0.2062, C:0.2037, D:-0.4094.\n",
      "Epoch:  81, loss: 13.9035139084, A:0.1133, B: -0.2075, C:0.2091, D:-0.4103.\n",
      "Epoch:  82, loss: 8.6929035187, A:0.1108, B: -0.2032, C:0.2080, D:-0.4055.\n",
      "Epoch:  83, loss: 0.5747199059, A:0.1036, B: -0.1968, C:0.2022, D:-0.3988.\n",
      "Epoch:  84, loss: 2.7982678413, A:0.0960, B: -0.1934, C:0.1959, D:-0.3950.\n",
      "Epoch:  85, loss: 8.7346544266, A:0.0918, B: -0.1953, C:0.1931, D:-0.3965.\n",
      "Epoch:  86, loss: 6.6887555122, A:0.0929, B: -0.2005, C:0.1956, D:-0.4014.\n",
      "Epoch:  87, loss: 0.8527039289, A:0.0983, B: -0.2048, C:0.2023, D:-0.4055.\n",
      "Epoch:  88, loss: 1.2828934193, A:0.1048, B: -0.2051, C:0.2101, D:-0.4055.\n",
      "Epoch:  89, loss: 5.4514083862, A:0.1087, B: -0.2014, C:0.2153, D:-0.4016.\n",
      "Epoch:  90, loss: 4.8257045746, A:0.1082, B: -0.1970, C:0.2162, D:-0.3970.\n",
      "Epoch:  91, loss: 0.8310946226, A:0.1040, B: -0.1953, C:0.2132, D:-0.3952.\n",
      "Epoch:  92, loss: 0.6318241358, A:0.0986, B: -0.1975, C:0.2092, D:-0.3972.\n",
      "Epoch:  93, loss: 3.4667093754, A:0.0951, B: -0.2014, C:0.2070, D:-0.4011.\n",
      "Epoch:  94, loss: 3.3413004875, A:0.0953, B: -0.2038, C:0.2084, D:-0.4034.\n",
      "Epoch:  95, loss: 0.6438575387, A:0.0986, B: -0.2030, C:0.2129, D:-0.4025.\n",
      "Epoch:  96, loss: 0.3641031384, A:0.1030, B: -0.1998, C:0.2186, D:-0.3993.\n",
      "Epoch:  97, loss: 2.2773807049, A:0.1059, B: -0.1971, C:0.2227, D:-0.3966.\n",
      "Epoch:  98, loss: 2.2395913601, A:0.1058, B: -0.1970, C:0.2239, D:-0.3965.\n",
      "Epoch:  99, loss: 0.4273042679, A:0.1031, B: -0.1993, C:0.2224, D:-0.3989.\n",
      "Epoch: 100, loss: 0.2612349689, A:0.0994, B: -0.2020, C:0.2200, D:-0.4016.\n",
      "Epoch: 101, loss: 1.5427142382, A:0.0970, B: -0.2028, C:0.2188, D:-0.4024.\n",
      "Epoch: 102, loss: 1.4585531950, A:0.0971, B: -0.2012, C:0.2200, D:-0.4009.\n",
      "Epoch: 103, loss: 0.2513180077, A:0.0994, B: -0.1988, C:0.2235, D:-0.3986.\n",
      "Epoch: 104, loss: 0.2198952287, A:0.1024, B: -0.1976, C:0.2276, D:-0.3975.\n",
      "Epoch: 105, loss: 1.0689455271, A:0.1042, B: -0.1986, C:0.2306, D:-0.3985.\n",
      "Epoch: 106, loss: 0.9246103168, A:0.1040, B: -0.2006, C:0.2315, D:-0.4007.\n",
      "Epoch: 107, loss: 0.1282735765, A:0.1020, B: -0.2020, C:0.2307, D:-0.4022.\n",
      "Epoch: 108, loss: 0.1992631853, A:0.0995, B: -0.2015, C:0.2293, D:-0.4018.\n",
      "Epoch: 109, loss: 0.7533782125, A:0.0981, B: -0.1998, C:0.2290, D:-0.4002.\n",
      "Epoch: 110, loss: 0.5645779371, A:0.0985, B: -0.1984, C:0.2305, D:-0.3989.\n",
      "Epoch: 111, loss: 0.0514286868, A:0.1002, B: -0.1985, C:0.2333, D:-0.3991.\n",
      "Epoch: 112, loss: 0.1894569844, A:0.1022, B: -0.1999, C:0.2364, D:-0.4006.\n",
      "Epoch: 113, loss: 0.5327588320, A:0.1031, B: -0.2012, C:0.2384, D:-0.4020.\n",
      "Epoch: 114, loss: 0.3218057752, A:0.1026, B: -0.2013, C:0.2389, D:-0.4022.\n",
      "Epoch: 115, loss: 0.0156660695, A:0.1010, B: -0.2003, C:0.2384, D:-0.4013.\n",
      "Epoch: 116, loss: 0.1829054505, A:0.0994, B: -0.1990, C:0.2378, D:-0.4001.\n",
      "Epoch: 117, loss: 0.3668537140, A:0.0988, B: -0.1988, C:0.2382, D:-0.3999.\n",
      "Epoch: 118, loss: 0.1645041257, A:0.0995, B: -0.1996, C:0.2399, D:-0.4008.\n",
      "Epoch: 119, loss: 0.0112972688, A:0.1008, B: -0.2007, C:0.2422, D:-0.4020.\n",
      "Epoch: 120, loss: 0.1691716462, A:0.1020, B: -0.2010, C:0.2444, D:-0.4024.\n",
      "Epoch: 121, loss: 0.2387925833, A:0.1023, B: -0.2004, C:0.2456, D:-0.4018.\n",
      "Epoch: 122, loss: 0.0724399239, A:0.1015, B: -0.1994, C:0.2458, D:-0.4009.\n",
      "Epoch: 123, loss: 0.0219454914, A:0.1003, B: -0.1991, C:0.2456, D:-0.4006.\n",
      "Epoch: 124, loss: 0.1454231441, A:0.0995, B: -0.1996, C:0.2457, D:-0.4011.\n",
      "Epoch: 125, loss: 0.1436985880, A:0.0995, B: -0.2004, C:0.2466, D:-0.4020.\n",
      "Epoch: 126, loss: 0.0255773719, A:0.1002, B: -0.2008, C:0.2483, D:-0.4024.\n",
      "Epoch: 127, loss: 0.0352144800, A:0.1012, B: -0.2004, C:0.2501, D:-0.4020.\n",
      "Epoch: 128, loss: 0.1154004261, A:0.1017, B: -0.1996, C:0.2515, D:-0.4013.\n",
      "Epoch: 129, loss: 0.0765979066, A:0.1015, B: -0.1993, C:0.2522, D:-0.4010.\n",
      "Epoch: 130, loss: 0.0077518374, A:0.1007, B: -0.1996, C:0.2523, D:-0.4013.\n",
      "Epoch: 131, loss: 0.0449741930, A:0.1000, B: -0.2002, C:0.2524, D:-0.4020.\n",
      "Epoch: 132, loss: 0.0823300555, A:0.0997, B: -0.2005, C:0.2530, D:-0.4023.\n",
      "Epoch: 133, loss: 0.0335020944, A:0.1000, B: -0.2003, C:0.2542, D:-0.4020.\n",
      "Epoch: 134, loss: 0.0074819750, A:0.1007, B: -0.1997, C:0.2557, D:-0.4015.\n",
      "Epoch: 135, loss: 0.0467447378, A:0.1012, B: -0.1995, C:0.2570, D:-0.4012.\n",
      "Epoch: 136, loss: 0.0505765267, A:0.1012, B: -0.1997, C:0.2578, D:-0.4014.\n",
      "Epoch: 137, loss: 0.0115047824, A:0.1008, B: -0.2002, C:0.2582, D:-0.4019.\n",
      "Epoch: 138, loss: 0.0137901586, A:0.1002, B: -0.2004, C:0.2584, D:-0.4021.\n",
      "Epoch: 139, loss: 0.0398308933, A:0.0999, B: -0.2002, C:0.2588, D:-0.4018.\n",
      "Epoch: 140, loss: 0.0258246828, A:0.1000, B: -0.1998, C:0.2597, D:-0.4014.\n",
      "Epoch: 141, loss: 0.0045913886, A:0.1005, B: -0.1996, C:0.2609, D:-0.4012.\n",
      "Epoch: 142, loss: 0.0186094493, A:0.1009, B: -0.1998, C:0.2621, D:-0.4014.\n",
      "Epoch: 143, loss: 0.0281533860, A:0.1010, B: -0.2001, C:0.2629, D:-0.4017.\n",
      "Epoch: 144, loss: 0.0105100134, A:0.1007, B: -0.2003, C:0.2634, D:-0.4018.\n",
      "Epoch: 145, loss: 0.0055080922, A:0.1003, B: -0.2001, C:0.2637, D:-0.4016.\n",
      "Epoch: 146, loss: 0.0189763680, A:0.1001, B: -0.1998, C:0.2641, D:-0.4013.\n",
      "Epoch: 147, loss: 0.0161042903, A:0.1001, B: -0.1997, C:0.2648, D:-0.4012.\n",
      "Epoch: 148, loss: 0.0038784263, A:0.1004, B: -0.1999, C:0.2658, D:-0.4014.\n",
      "Epoch: 149, loss: 0.0085306056, A:0.1007, B: -0.2001, C:0.2667, D:-0.4016.\n",
      "Epoch: 150, loss: 0.0150002372, A:0.1008, B: -0.2002, C:0.2675, D:-0.4017.\n",
      "Epoch: 151, loss: 0.0071784244, A:0.1006, B: -0.2000, C:0.2680, D:-0.4015.\n",
      "Epoch: 152, loss: 0.0032805286, A:0.1003, B: -0.1998, C:0.2684, D:-0.4013.\n",
      "Epoch: 153, loss: 0.0096918987, A:0.1001, B: -0.1998, C:0.2688, D:-0.4012.\n",
      "Epoch: 154, loss: 0.0091478880, A:0.1001, B: -0.2000, C:0.2694, D:-0.4014.\n",
      "Epoch: 155, loss: 0.0029821403, A:0.1003, B: -0.2001, C:0.2702, D:-0.4015.\n",
      "Epoch: 156, loss: 0.0047391071, A:0.1005, B: -0.2001, C:0.2710, D:-0.4015.\n",
      "Epoch: 157, loss: 0.0080776839, A:0.1006, B: -0.2000, C:0.2717, D:-0.4013.\n",
      "Epoch: 158, loss: 0.0044116103, A:0.1005, B: -0.1998, C:0.2721, D:-0.4012.\n",
      "Epoch: 159, loss: 0.0023377254, A:0.1003, B: -0.1999, C:0.2725, D:-0.4012.\n",
      "Epoch: 160, loss: 0.0054205721, A:0.1002, B: -0.2000, C:0.2729, D:-0.4014.\n",
      "Epoch: 161, loss: 0.0051202015, A:0.1002, B: -0.2001, C:0.2735, D:-0.4015.\n",
      "Epoch: 162, loss: 0.0020737224, A:0.1003, B: -0.2001, C:0.2742, D:-0.4014.\n",
      "Epoch: 163, loss: 0.0030393160, A:0.1004, B: -0.1999, C:0.2748, D:-0.4013.\n",
      "Epoch: 164, loss: 0.0045507429, A:0.1005, B: -0.1999, C:0.2754, D:-0.4012.\n",
      "Epoch: 165, loss: 0.0025765311, A:0.1004, B: -0.1999, C:0.2758, D:-0.4013.\n",
      "Epoch: 166, loss: 0.0017655687, A:0.1003, B: -0.2000, C:0.2762, D:-0.4014.\n",
      "Epoch: 167, loss: 0.0033054433, A:0.1002, B: -0.2001, C:0.2766, D:-0.4014.\n",
      "Epoch: 168, loss: 0.0028505858, A:0.1002, B: -0.2000, C:0.2771, D:-0.4014.\n",
      "Epoch: 169, loss: 0.0014401766, A:0.1003, B: -0.1999, C:0.2777, D:-0.4013.\n",
      "Epoch: 170, loss: 0.0021249414, A:0.1004, B: -0.1999, C:0.2783, D:-0.4013.\n",
      "Epoch: 171, loss: 0.0026241569, A:0.1004, B: -0.2000, C:0.2788, D:-0.4013.\n",
      "Epoch: 172, loss: 0.0015320918, A:0.1003, B: -0.2000, C:0.2791, D:-0.4014.\n",
      "Epoch: 173, loss: 0.0013758140, A:0.1002, B: -0.2000, C:0.2795, D:-0.4014.\n",
      "Epoch: 174, loss: 0.0020841146, A:0.1002, B: -0.2000, C:0.2799, D:-0.4013.\n",
      "Epoch: 175, loss: 0.0016207193, A:0.1002, B: -0.1999, C:0.2803, D:-0.4013.\n",
      "Epoch: 176, loss: 0.0010496391, A:0.1002, B: -0.1999, C:0.2808, D:-0.4013.\n",
      "Epoch: 177, loss: 0.0015094168, A:0.1003, B: -0.2000, C:0.2813, D:-0.4014.\n",
      "Epoch: 178, loss: 0.0015434792, A:0.1003, B: -0.2000, C:0.2817, D:-0.4014.\n",
      "Epoch: 179, loss: 0.0009667059, A:0.1003, B: -0.2000, C:0.2821, D:-0.4014.\n",
      "Epoch: 180, loss: 0.0010723604, A:0.1002, B: -0.1999, C:0.2824, D:-0.4013.\n",
      "Epoch: 181, loss: 0.0013254579, A:0.1001, B: -0.1999, C:0.2827, D:-0.4013.\n",
      "Epoch: 182, loss: 0.0009532592, A:0.1002, B: -0.2000, C:0.2832, D:-0.4014.\n",
      "Epoch: 183, loss: 0.0008090426, A:0.1002, B: -0.2000, C:0.2836, D:-0.4014.\n",
      "Epoch: 184, loss: 0.0010576333, A:0.1003, B: -0.2000, C:0.2840, D:-0.4014.\n",
      "Epoch: 185, loss: 0.0009143667, A:0.1002, B: -0.2000, C:0.2843, D:-0.4014.\n",
      "Epoch: 186, loss: 0.0006758798, A:0.1002, B: -0.1999, C:0.2846, D:-0.4014.\n",
      "Epoch: 187, loss: 0.0008156237, A:0.1001, B: -0.2000, C:0.2849, D:-0.4014.\n",
      "Epoch: 188, loss: 0.0008280875, A:0.1001, B: -0.2000, C:0.2853, D:-0.4014.\n",
      "Epoch: 189, loss: 0.0006102192, A:0.1002, B: -0.2000, C:0.2856, D:-0.4014.\n",
      "Epoch: 190, loss: 0.0006334257, A:0.1002, B: -0.2000, C:0.2860, D:-0.4014.\n",
      "Epoch: 191, loss: 0.0007115589, A:0.1002, B: -0.2000, C:0.2863, D:-0.4014.\n",
      "Epoch: 192, loss: 0.0005651051, A:0.1002, B: -0.2000, C:0.2866, D:-0.4014.\n",
      "Epoch: 193, loss: 0.0005111001, A:0.1002, B: -0.2000, C:0.2869, D:-0.4014.\n",
      "Epoch: 194, loss: 0.0005901945, A:0.1001, B: -0.2000, C:0.2872, D:-0.4014.\n",
      "Epoch: 195, loss: 0.0005175279, A:0.1001, B: -0.2000, C:0.2875, D:-0.4014.\n",
      "Epoch: 196, loss: 0.0004324543, A:0.1002, B: -0.2000, C:0.2878, D:-0.4014.\n",
      "Epoch: 197, loss: 0.0004823176, A:0.1002, B: -0.2000, C:0.2881, D:-0.4014.\n",
      "Epoch: 198, loss: 0.0004624364, A:0.1002, B: -0.2000, C:0.2884, D:-0.4014.\n",
      "Epoch: 199, loss: 0.0003794593, A:0.1001, B: -0.2000, C:0.2886, D:-0.4014.\n",
      "Epoch: 200, loss: 0.0003953099, A:0.1001, B: -0.2000, C:0.2889, D:-0.4014.\n",
      "Epoch: 201, loss: 0.0004033414, A:0.1001, B: -0.2000, C:0.2891, D:-0.4014.\n",
      "Epoch: 202, loss: 0.0003387023, A:0.1001, B: -0.2000, C:0.2894, D:-0.4014.\n",
      "Epoch: 203, loss: 0.0003289901, A:0.1001, B: -0.2000, C:0.2896, D:-0.4014.\n",
      "Epoch: 204, loss: 0.0003458400, A:0.1001, B: -0.2000, C:0.2899, D:-0.4014.\n",
      "Epoch: 205, loss: 0.0003028843, A:0.1001, B: -0.2000, C:0.2901, D:-0.4014.\n",
      "Epoch: 206, loss: 0.0002792823, A:0.1001, B: -0.2000, C:0.2903, D:-0.4014.\n",
      "Epoch: 207, loss: 0.0002939453, A:0.1001, B: -0.2000, C:0.2906, D:-0.4014.\n",
      "Epoch: 208, loss: 0.0002691826, A:0.1001, B: -0.2000, C:0.2908, D:-0.4014.\n",
      "Epoch: 209, loss: 0.0002413814, A:0.1001, B: -0.2000, C:0.2910, D:-0.4014.\n",
      "Epoch: 210, loss: 0.0002495033, A:0.1001, B: -0.2000, C:0.2912, D:-0.4014.\n",
      "Epoch: 211, loss: 0.0002373079, A:0.1001, B: -0.2000, C:0.2915, D:-0.4014.\n",
      "Epoch: 212, loss: 0.0002113091, A:0.1001, B: -0.2000, C:0.2917, D:-0.4014.\n",
      "Epoch: 213, loss: 0.0002127451, A:0.1001, B: -0.2000, C:0.2918, D:-0.4014.\n",
      "Epoch: 214, loss: 0.0002077800, A:0.1001, B: -0.2000, C:0.2920, D:-0.4014.\n",
      "Epoch: 215, loss: 0.0001863049, A:0.1001, B: -0.2000, C:0.2922, D:-0.4014.\n",
      "Epoch: 216, loss: 0.0001827140, A:0.1001, B: -0.2000, C:0.2924, D:-0.4014.\n",
      "Epoch: 217, loss: 0.0001812172, A:0.1001, B: -0.2000, C:0.2926, D:-0.4014.\n",
      "Epoch: 218, loss: 0.0001647777, A:0.1001, B: -0.2000, C:0.2928, D:-0.4014.\n",
      "Epoch: 219, loss: 0.0001582991, A:0.1001, B: -0.2000, C:0.2930, D:-0.4014.\n",
      "Epoch: 220, loss: 0.0001579201, A:0.1001, B: -0.2000, C:0.2931, D:-0.4014.\n",
      "Epoch: 221, loss: 0.0001458911, A:0.1001, B: -0.2000, C:0.2933, D:-0.4014.\n",
      "Epoch: 222, loss: 0.0001382930, A:0.1001, B: -0.2000, C:0.2935, D:-0.4014.\n",
      "Epoch: 223, loss: 0.0001378091, A:0.1001, B: -0.2000, C:0.2936, D:-0.4014.\n",
      "Epoch: 224, loss: 0.0001292743, A:0.1001, B: -0.2000, C:0.2938, D:-0.4014.\n",
      "Epoch: 225, loss: 0.0001217041, A:0.1001, B: -0.2000, C:0.2939, D:-0.4014.\n",
      "Epoch: 226, loss: 0.0001206986, A:0.1001, B: -0.2000, C:0.2941, D:-0.4014.\n",
      "Epoch: 227, loss: 0.0001146855, A:0.1001, B: -0.2000, C:0.2942, D:-0.4014.\n",
      "Epoch: 228, loss: 0.0001077832, A:0.1001, B: -0.2000, C:0.2944, D:-0.4014.\n",
      "Epoch: 229, loss: 0.0001062528, A:0.1001, B: -0.2000, C:0.2945, D:-0.4014.\n",
      "Epoch: 230, loss: 0.0001019682, A:0.1001, B: -0.2000, C:0.2947, D:-0.4014.\n",
      "Epoch: 231, loss: 0.0000959966, A:0.1001, B: -0.2000, C:0.2948, D:-0.4014.\n",
      "Epoch: 232, loss: 0.0000940929, A:0.1001, B: -0.2000, C:0.2949, D:-0.4014.\n",
      "Epoch: 233, loss: 0.0000909559, A:0.1001, B: -0.2000, C:0.2950, D:-0.4014.\n",
      "Epoch: 234, loss: 0.0000859314, A:0.1001, B: -0.2000, C:0.2952, D:-0.4014.\n",
      "Epoch: 235, loss: 0.0000838852, A:0.1001, B: -0.2000, C:0.2953, D:-0.4014.\n",
      "Epoch: 236, loss: 0.0000814593, A:0.1001, B: -0.2000, C:0.2954, D:-0.4014.\n",
      "Epoch: 237, loss: 0.0000773468, A:0.1001, B: -0.2000, C:0.2955, D:-0.4014.\n",
      "Epoch: 238, loss: 0.0000752909, A:0.1001, B: -0.2000, C:0.2956, D:-0.4014.\n",
      "Epoch: 239, loss: 0.0000733459, A:0.1000, B: -0.2000, C:0.2957, D:-0.4014.\n",
      "Epoch: 240, loss: 0.0000700023, A:0.1000, B: -0.2000, C:0.2959, D:-0.4014.\n",
      "Epoch: 241, loss: 0.0000680454, A:0.1001, B: -0.2000, C:0.2960, D:-0.4014.\n",
      "Epoch: 242, loss: 0.0000664367, A:0.1001, B: -0.2000, C:0.2961, D:-0.4014.\n",
      "Epoch: 243, loss: 0.0000637348, A:0.1000, B: -0.2000, C:0.2962, D:-0.4014.\n",
      "Epoch: 244, loss: 0.0000619406, A:0.1000, B: -0.2000, C:0.2963, D:-0.4014.\n",
      "Epoch: 245, loss: 0.0000605696, A:0.1000, B: -0.2000, C:0.2963, D:-0.4014.\n",
      "Epoch: 246, loss: 0.0000583802, A:0.1000, B: -0.2000, C:0.2964, D:-0.4014.\n",
      "Epoch: 247, loss: 0.0000567828, A:0.1000, B: -0.2000, C:0.2965, D:-0.4014.\n",
      "Epoch: 248, loss: 0.0000556117, A:0.1000, B: -0.2000, C:0.2966, D:-0.4014.\n",
      "Epoch: 249, loss: 0.0000538289, A:0.1000, B: -0.2000, C:0.2967, D:-0.4014.\n",
      "Epoch: 250, loss: 0.0000524389, A:0.1000, B: -0.2000, C:0.2968, D:-0.4014.\n",
      "Epoch: 251, loss: 0.0000514169, A:0.1000, B: -0.2000, C:0.2969, D:-0.4014.\n",
      "Epoch: 252, loss: 0.0000499535, A:0.1000, B: -0.2000, C:0.2969, D:-0.4014.\n",
      "Epoch: 253, loss: 0.0000487714, A:0.1000, B: -0.2000, C:0.2970, D:-0.4014.\n",
      "Epoch: 254, loss: 0.0000478846, A:0.1000, B: -0.2000, C:0.2971, D:-0.4014.\n",
      "Epoch: 255, loss: 0.0000466845, A:0.1000, B: -0.2000, C:0.2972, D:-0.4014.\n",
      "Epoch: 256, loss: 0.0000456761, A:0.1000, B: -0.2000, C:0.2972, D:-0.4014.\n",
      "Epoch: 257, loss: 0.0000449018, A:0.1000, B: -0.2000, C:0.2973, D:-0.4014.\n",
      "Epoch: 258, loss: 0.0000439224, A:0.1000, B: -0.2000, C:0.2974, D:-0.4014.\n",
      "Epoch: 259, loss: 0.0000430687, A:0.1000, B: -0.2000, C:0.2974, D:-0.4014.\n",
      "Epoch: 260, loss: 0.0000424052, A:0.1000, B: -0.2000, C:0.2975, D:-0.4014.\n",
      "Epoch: 261, loss: 0.0000415860, A:0.1000, B: -0.2000, C:0.2976, D:-0.4014.\n",
      "Epoch: 262, loss: 0.0000408691, A:0.1000, B: -0.2000, C:0.2976, D:-0.4014.\n",
      "Epoch: 263, loss: 0.0000403046, A:0.1000, B: -0.2000, C:0.2977, D:-0.4014.\n",
      "Epoch: 264, loss: 0.0000396274, A:0.1000, B: -0.2000, C:0.2977, D:-0.4014.\n",
      "Epoch: 265, loss: 0.0000390248, A:0.1000, B: -0.2000, C:0.2978, D:-0.4014.\n",
      "Epoch: 266, loss: 0.0000385473, A:0.1000, B: -0.2000, C:0.2979, D:-0.4014.\n",
      "Epoch: 267, loss: 0.0000379806, A:0.1000, B: -0.2000, C:0.2979, D:-0.4014.\n",
      "Epoch: 268, loss: 0.0000374899, A:0.1000, B: -0.2000, C:0.2980, D:-0.4014.\n",
      "Epoch: 269, loss: 0.0000370786, A:0.1000, B: -0.2000, C:0.2980, D:-0.4014.\n",
      "Epoch: 270, loss: 0.0000366006, A:0.1000, B: -0.2000, C:0.2981, D:-0.4014.\n",
      "Epoch: 271, loss: 0.0000361888, A:0.1000, B: -0.2000, C:0.2981, D:-0.4014.\n",
      "Epoch: 272, loss: 0.0000358457, A:0.1000, B: -0.2000, C:0.2982, D:-0.4014.\n",
      "Epoch: 273, loss: 0.0000354617, A:0.1000, B: -0.2000, C:0.2982, D:-0.4014.\n",
      "Epoch: 274, loss: 0.0000351134, A:0.1000, B: -0.2000, C:0.2982, D:-0.4014.\n",
      "Epoch: 275, loss: 0.0000348176, A:0.1000, B: -0.2000, C:0.2983, D:-0.4014.\n",
      "Epoch: 276, loss: 0.0000344991, A:0.1000, B: -0.2000, C:0.2983, D:-0.4014.\n",
      "Epoch: 277, loss: 0.0000342193, A:0.1000, B: -0.2000, C:0.2984, D:-0.4014.\n",
      "Epoch: 278, loss: 0.0000339670, A:0.1000, B: -0.2000, C:0.2984, D:-0.4014.\n",
      "Epoch: 279, loss: 0.0000337025, A:0.1000, B: -0.2000, C:0.2984, D:-0.4014.\n",
      "Epoch: 280, loss: 0.0000334641, A:0.1000, B: -0.2000, C:0.2985, D:-0.4014.\n",
      "Epoch: 281, loss: 0.0000332573, A:0.1000, B: -0.2000, C:0.2985, D:-0.4014.\n",
      "Epoch: 282, loss: 0.0000330350, A:0.1000, B: -0.2000, C:0.2985, D:-0.4014.\n",
      "Epoch: 283, loss: 0.0000328437, A:0.1000, B: -0.2000, C:0.2986, D:-0.4014.\n",
      "Epoch: 284, loss: 0.0000326689, A:0.1000, B: -0.2000, C:0.2986, D:-0.4014.\n",
      "Epoch: 285, loss: 0.0000324819, A:0.1000, B: -0.2000, C:0.2986, D:-0.4014.\n",
      "Epoch: 286, loss: 0.0000323304, A:0.1000, B: -0.2000, C:0.2987, D:-0.4014.\n",
      "Epoch: 287, loss: 0.0000321838, A:0.1000, B: -0.2000, C:0.2987, D:-0.4014.\n",
      "Epoch: 288, loss: 0.0000320299, A:0.1000, B: -0.2000, C:0.2987, D:-0.4014.\n",
      "Epoch: 289, loss: 0.0000319020, A:0.1000, B: -0.2000, C:0.2988, D:-0.4014.\n",
      "Epoch: 290, loss: 0.0000317733, A:0.1000, B: -0.2000, C:0.2988, D:-0.4014.\n",
      "Epoch: 291, loss: 0.0000316544, A:0.1000, B: -0.2000, C:0.2988, D:-0.4014.\n",
      "Epoch: 292, loss: 0.0000315466, A:0.1000, B: -0.2000, C:0.2988, D:-0.4014.\n",
      "Epoch: 293, loss: 0.0000314479, A:0.1000, B: -0.2000, C:0.2989, D:-0.4014.\n",
      "Epoch: 294, loss: 0.0000313440, A:0.1000, B: -0.2000, C:0.2989, D:-0.4014.\n",
      "Epoch: 295, loss: 0.0000312640, A:0.1000, B: -0.2000, C:0.2989, D:-0.4014.\n",
      "Epoch: 296, loss: 0.0000311751, A:0.1000, B: -0.2000, C:0.2989, D:-0.4014.\n",
      "Epoch: 297, loss: 0.0000310922, A:0.1000, B: -0.2000, C:0.2990, D:-0.4014.\n",
      "Epoch: 298, loss: 0.0000310195, A:0.1000, B: -0.2000, C:0.2990, D:-0.4014.\n",
      "Epoch: 299, loss: 0.0000309490, A:0.1000, B: -0.2000, C:0.2990, D:-0.4014.\n"
     ]
    }
   ],
   "source": [
    "for epoch in range(300):\n",
    "    optimizer.minimize(loss_mse, var_list=[A, B, C, D])\n",
    "    print(\"Epoch: {:3d}, loss: {:.10f}, A:{:.4f}, B: {:.4f}, C:{:.4f}, D:{:.4f}.\".format(\n",
    "        epoch, loss_mse().numpy(), A.numpy(), B.numpy(), C.numpy(), D.numpy()))"
   ]
  },
  {
   "cell_type": "markdown",
   "id": "f0aabbbebc43ea38",
   "metadata": {
    "collapsed": false
   },
   "source": [
    "## Evaluation\n",
    "Let's see how far the parameters are from the actual function:"
   ]
  },
  {
   "cell_type": "code",
   "execution_count": 19,
   "id": "17975ed805d47757",
   "metadata": {
    "collapsed": false,
    "ExecuteTime": {
     "end_time": "2024-10-07T17:28:22.953583700Z",
     "start_time": "2024-10-07T17:28:22.934131800Z"
    }
   },
   "outputs": [
    {
     "name": "stdout",
     "output_type": "stream",
     "text": [
      "Original function: y = 0.1*(x**3) + -0.2*(x**2) + 0.3*x + -0.4.\n",
      "Function learned: y = 0.1000*(x**3) + -0.2000*(x**2) + 0.2990*x + -0.4014.\n"
     ]
    }
   ],
   "source": [
    "print(f\"Original function: y = {a}*(x**3) + {b}*(x**2) + {c}*x + {d}.\")\n",
    "print(\"Function learned: y = {:.4f}*(x**3) + {:.4f}*(x**2) + {:.4f}*x + {:.4f}.\".format(\n",
    "    A.numpy(), B.numpy(), C.numpy(), D.numpy()))"
   ]
  },
  {
   "cell_type": "markdown",
   "id": "d76c895e1d0b0dbd",
   "metadata": {
    "collapsed": false
   },
   "source": [
    "Not bad!\n",
    "Let's visualize both functions to see whether there are important differences."
   ]
  },
  {
   "cell_type": "code",
   "execution_count": 20,
   "id": "98b4aa88e78d2c35",
   "metadata": {
    "collapsed": false,
    "ExecuteTime": {
     "end_time": "2024-10-07T17:28:23.203018400Z",
     "start_time": "2024-10-07T17:28:22.951289200Z"
    }
   },
   "outputs": [
    {
     "data": {
      "text/plain": "<Figure size 500x500 with 1 Axes>",
      "image/png": "[encoded data removed]"
     },
     "metadata": {},
     "output_type": "display_data"
    }
   ],
   "source": [
    "y_predicted = A.numpy()*(x**3) + B.numpy()*(x**2) + C.numpy()*x + D.numpy()\n",
    "plot_functions(x, y, y_predicted, \"Original and predicted functions\")"
   ]
  },
  {
   "cell_type": "markdown",
   "id": "c614769f311b3b31",
   "metadata": {
    "collapsed": false
   },
   "source": [
    "## ✨ Questions ✨ \n",
    "\n",
    "1. What happens if you do not add noise to y? Why? Try it out.\n",
    "2. What happens if you add more noise (e.g., noise = np.random.normal(0, 1, len(x))). Why? Try it out."
   ]
  },
  {
   "cell_type": "markdown",
   "id": "d6440c3da7d486fa",
   "metadata": {
    "collapsed": false
   },
   "source": [
    "### Answers\n",
    "\n",
    "*Write your answers here.*\n",
    "\n"
   ]
  },
  {
   "cell_type": "markdown",
   "source": [
    "## Lesson learned\n",
    "\n",
    "We have seen how Tensorflow can be used to estimate the parameters of a function from data. We have to define the model (the \"shape\" of the function) and Tensorflow will learn the parameters. The same as we did with linear regression (both use Gradient Descent or any other optimizer to minimize the loss function and hence learn the parameters). The power of deep learning is that it can learn complex functions from data and we do not need to specify the function \"shape\" in advance."
   ],
   "metadata": {
    "collapsed": false
   },
   "id": "679071ca1094a904"
  }
 ],
 "metadata": {
  "kernelspec": {
   "display_name": "Python 3 (ipykernel)",
   "language": "python",
   "name": "python3"
  },
  "language_info": {
   "codemirror_mode": {
    "name": "ipython",
    "version": 3
   },
   "file_extension": ".py",
   "mimetype": "text/x-python",
   "name": "python",
   "nbconvert_exporter": "python",
   "pygments_lexer": "ipython3",
   "version": "3.11.4"
  }
 },
 "nbformat": 4,
 "nbformat_minor": 5
}
