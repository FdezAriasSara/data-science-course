{
 "cells": [
  {
   "cell_type": "markdown",
   "source": [
    "[![Open In Colab](https://colab.research.google.com/assets/colab-badge.svg)](https://colab.research.google.com/github/francisco-ortin/data-science-course/blob/main/deep-learning/anns/function_estimation.ipynb)\n",
    "[![License: CC BY-NC-SA 4.0](https://img.shields.io/badge/License-CC%20BY--NC--SA%204.0-lightgrey.svg)](https://creativecommons.org/licenses/by-nc-sa/4.0/)"
   ],
   "metadata": {
    "collapsed": false
   },
   "id": "87540b40e3958a06"
  },
  {
   "cell_type": "markdown",
   "id": "72ea15f3d70547f7",
   "metadata": {
    "collapsed": false
   },
   "source": [
    "# Function estimation with Keras/Tensorflow\n",
    "\n",
    "This notebook shows how keras and Tensorflow can be used to estimate the parameters of a given function, learning them from data. We must define the equation of the function, setting the parameters to be learned from data as Tensorflow variables. Then, an optimizer (such as Gradient Descent) is used to learn the parameters. The only requirement is that the function must be differentiable, because Tensorflow will \n",
    "compute the derivatives automatically in order to minimize the loss using Gradient Descent."
   ]
  },
  {
   "cell_type": "code",
   "execution_count": 34,
   "id": "5f099c66705669f8",
   "metadata": {
    "collapsed": false,
    "ExecuteTime": {
     "end_time": "2024-10-07T17:46:31.304205700Z",
     "start_time": "2024-10-07T17:46:29.816427400Z"
    }
   },
   "outputs": [
    {
     "name": "stdout",
     "output_type": "stream",
     "text": [
      "Note: you may need to restart the kernel to use updated packages.\n"
     ]
    }
   ],
   "source": [
    "# make sure the required packages are installed\n",
    "%pip install pandas numpy seaborn matplotlib scikit-learn keras tensorflow --quiet\n",
    "# if running in colab, install the required packages and copy the necessary files\n",
    "directory='data-science-course/deep-learning/anns'\n",
    "if get_ipython().__class__.__module__.startswith('google.colab'):\n",
    "    !git clone https://github.com/francisco-ortin/data-science-course.git  2>/dev/null\n",
    "    !cp --update {directory}/*.py .\n",
    "    !mkdir -p img data\n",
    "    !cp {directory}/img/* img/.\n",
    "\n",
    "import numpy as np\n",
    "import tensorflow as tf\n",
    "from random import random\n",
    "from keras.src.optimizers import SGD, Adam\n",
    "\n",
    "from utils import plot_function, plot_functions"
   ]
  },
  {
   "cell_type": "markdown",
   "id": "e7c3e8a3ff34b7dc",
   "metadata": {
    "collapsed": false
   },
   "source": [
    "## Ground truth\n",
    "\n",
    "We define the ground truth: a function that we want to learn from data. \n",
    "\n",
    "The function to be learned follows the equation: `y = a*(x**3) + b*(x**2) + c*x + d`\n",
    "`a`, `b`, `c` and `d` are parameters to be learned from data.\n",
    "\n",
    "We create data for x and y. x ranges from -10 to 10."
   ]
  },
  {
   "cell_type": "code",
   "execution_count": 35,
   "id": "33531d19a75de77f",
   "metadata": {
    "collapsed": false,
    "ExecuteTime": {
     "end_time": "2024-10-07T17:46:31.319120500Z",
     "start_time": "2024-10-07T17:46:31.305539700Z"
    }
   },
   "outputs": [],
   "source": [
    "x = np.arange(-10, 11)\n",
    "# a, b, c, d are the parameters to be learned\n",
    "a, b, c, d = 0.1, -0.2, 0.3, -0.4\n",
    "y = a*(x**3) + b*(x**2) + c*x + d"
   ]
  },
  {
   "cell_type": "markdown",
   "id": "802ac98cb6d019ad",
   "metadata": {
    "collapsed": false
   },
   "source": [
    "We add some noise to the target variable `y` in the dataset to make prediction more difficult."
   ]
  },
  {
   "cell_type": "code",
   "execution_count": 36,
   "id": "ba1108741a17ef06",
   "metadata": {
    "collapsed": false,
    "ExecuteTime": {
     "end_time": "2024-10-07T17:46:31.327083600Z",
     "start_time": "2024-10-07T17:46:31.314057300Z"
    }
   },
   "outputs": [],
   "source": [
    "noise = np.random.normal(0,0.01, len(x))\n",
    "y = y + noise"
   ]
  },
  {
   "cell_type": "markdown",
   "id": "52235b5e38e3ccf",
   "metadata": {
    "collapsed": false
   },
   "source": [
    "## Visualization\n",
    "Let's plot the y function:"
   ]
  },
  {
   "cell_type": "code",
   "execution_count": 37,
   "id": "e0e285a33f74265b",
   "metadata": {
    "collapsed": false,
    "ExecuteTime": {
     "end_time": "2024-10-07T17:46:31.517812600Z",
     "start_time": "2024-10-07T17:46:31.329571400Z"
    }
   },
   "outputs": [
    {
     "data": {
      "text/plain": "<Figure size 500x500 with 1 Axes>",
      "image/png": "[encoded data removed]"
     },
     "metadata": {},
     "output_type": "display_data"
    }
   ],
   "source": [
    "plot_function(x, y, f\"Function y = {a}*(x**3) + {b}*(x**2) + {c}*x + {d}\")"
   ]
  },
  {
   "cell_type": "markdown",
   "id": "edfd1a4a83763498",
   "metadata": {
    "collapsed": false
   },
   "source": [
    "## Tensorflow Variables\n",
    "\n",
    "We now create the four variables to be learned as Tensorflow variables. This is a pretty low level usage of Tensorflow, but it is useful to understand how it works."
   ]
  },
  {
   "cell_type": "code",
   "execution_count": 38,
   "id": "e59cf1f79ad18fa0",
   "metadata": {
    "collapsed": false,
    "ExecuteTime": {
     "end_time": "2024-10-07T17:46:31.530528900Z",
     "start_time": "2024-10-07T17:46:31.514112200Z"
    }
   },
   "outputs": [],
   "source": [
    "A, B, C, D = tf.Variable(random()), tf.Variable(random()), tf.Variable(random()), tf.Variable(random())"
   ]
  },
  {
   "cell_type": "markdown",
   "id": "a35cb0e63baa551a",
   "metadata": {
    "collapsed": false
   },
   "source": [
    "## Loss function\n",
    "We use MSE to compute the loss function (it is regression problem)."
   ]
  },
  {
   "cell_type": "code",
   "execution_count": 39,
   "id": "12d7b20ccb899e96",
   "metadata": {
    "collapsed": false,
    "ExecuteTime": {
     "end_time": "2024-10-07T17:46:31.575671300Z",
     "start_time": "2024-10-07T17:46:31.533512500Z"
    }
   },
   "outputs": [],
   "source": [
    "loss_mse = lambda: sum((y - (A * (x ** 3) + B * (x ** 2) + C * x + D)) ** 2) / (2*len(x))"
   ]
  },
  {
   "cell_type": "markdown",
   "id": "9d71c4195679301f",
   "metadata": {
    "collapsed": false
   },
   "source": [
    "## Optimizer\n",
    "\n",
    "We use the [Adam optimizer](https://optimization.cbe.cornell.edu/index.php?title=Adam), which is much faster than SGD. Adam (Adaptive Moment Estimation) is a stochastic gradient descent method that is based on adaptive momentum. It is widely used in training deep neural networks. "
   ]
  },
  {
   "cell_type": "code",
   "execution_count": 40,
   "id": "902bdc98bcffd2a",
   "metadata": {
    "collapsed": false,
    "ExecuteTime": {
     "end_time": "2024-10-07T17:46:31.575671300Z",
     "start_time": "2024-10-07T17:46:31.540402700Z"
    }
   },
   "outputs": [],
   "source": [
    "optimizer = Adam(learning_rate=1.0)"
   ]
  },
  {
   "cell_type": "markdown",
   "id": "9a8a06a43d16c584",
   "metadata": {
    "collapsed": false
   },
   "source": [
    "## Training\n",
    "\n",
    "We now ask the optimizer to minimize the loss by applying the optimization algorith to the\n",
    "variables, learning their values from data. "
   ]
  },
  {
   "cell_type": "code",
   "execution_count": 41,
   "id": "10d584c42bb9c1e3",
   "metadata": {
    "collapsed": false,
    "ExecuteTime": {
     "end_time": "2024-10-07T17:46:37.741388600Z",
     "start_time": "2024-10-07T17:46:31.548436900Z"
    }
   },
   "outputs": [
    {
     "name": "stdout",
     "output_type": "stream",
     "text": [
      "Epoch:   0, loss: 51203.4765625000, A:-0.1747, B: -0.1558, C:-0.5377, D:-0.3897.\n",
      "Epoch:   1, loss: 7677.6406250000, A:-0.5265, B: -0.8564, C:-0.8875, D:-1.0900.\n",
      "Epoch:   2, loss: 39333.5546875000, A:-0.3309, B: -0.9743, C:-0.6897, D:-1.2073.\n",
      "Epoch:   3, loss: 19289.0800781250, A:0.0494, B: -0.7467, C:-0.3073, D:-0.9793.\n",
      "Epoch:   4, loss: 694.5176391602, A:0.3993, B: -0.3747, C:0.0450, D:-0.6067.\n",
      "Epoch:   5, loss: 8293.0537109375, A:0.5553, B: 0.0025, C:0.2037, D:-0.2290.\n",
      "Epoch:   6, loss: 19470.9531250000, A:0.4948, B: 0.2643, C:0.1461, D:0.0333.\n",
      "Epoch:   7, loss: 14803.2548828125, A:0.2930, B: 0.3456, C:-0.0529, D:0.1153.\n",
      "Epoch:   8, loss: 3716.1279296875, A:0.0450, B: 0.2601, C:-0.2980, D:0.0304.\n",
      "Epoch:   9, loss: 633.1832885742, A:-0.1527, B: 0.0619, C:-0.4927, D:-0.1672.\n",
      "Epoch:  10, loss: 6597.5913085938, A:-0.2311, B: -0.1837, C:-0.5679, D:-0.4121.\n",
      "Epoch:  11, loss: 11036.2744140625, A:-0.1793, B: -0.4087, C:-0.5127, D:-0.6364.\n",
      "Epoch:  12, loss: 7961.1821289062, A:-0.0339, B: -0.5546, C:-0.3641, D:-0.7817.\n",
      "Epoch:  13, loss: 2068.5603027344, A:0.1457, B: -0.5913, C:-0.1812, D:-0.8176.\n",
      "Epoch:  14, loss: 338.4732055664, A:0.2945, B: -0.5230, C:-0.0290, D:-0.7487.\n",
      "Epoch:  15, loss: 3540.0937500000, A:0.3626, B: -0.3795, C:0.0427, D:-0.6044.\n",
      "Epoch:  16, loss: 6372.6279296875, A:0.3348, B: -0.2037, C:0.0185, D:-0.4280.\n",
      "Epoch:  17, loss: 5034.0922851562, A:0.2312, B: -0.0431, C:-0.0815, D:-0.2667.\n",
      "Epoch:  18, loss: 1533.0644531250, A:0.0941, B: 0.0618, C:-0.2148, D:-0.1611.\n",
      "Epoch:  19, loss: 100.3680038452, A:-0.0262, B: 0.0882, C:-0.3314, D:-0.1340.\n",
      "Epoch:  20, loss: 1802.8675537109, A:-0.0884, B: 0.0370, C:-0.3898, D:-0.1845.\n",
      "Epoch:  21, loss: 3736.8642578125, A:-0.0757, B: -0.0711, C:-0.3731, D:-0.2919.\n",
      "Epoch:  22, loss: 3222.2805175781, A:0.0004, B: -0.2033, C:-0.2931, D:-0.4234.\n",
      "Epoch:  23, loss: 1083.1408691406, A:0.1075, B: -0.3227, C:-0.1821, D:-0.5421.\n",
      "Epoch:  24, loss: 19.6589908600, A:0.2045, B: -0.3980, C:-0.0810, D:-0.6167.\n",
      "Epoch:  25, loss: 984.9707031250, A:0.2567, B: -0.4124, C:-0.0248, D:-0.6304.\n",
      "Epoch:  26, loss: 2249.0820312500, A:0.2484, B: -0.3672, C:-0.0289, D:-0.5845.\n",
      "Epoch:  27, loss: 1994.9521484375, A:0.1880, B: -0.2799, C:-0.0852, D:-0.4966.\n",
      "Epoch:  28, loss: 658.4874267578, A:0.1022, B: -0.1780, C:-0.1669, D:-0.3941.\n",
      "Epoch:  29, loss: 2.5590498447, A:0.0254, B: -0.0914, C:-0.2394, D:-0.3067.\n",
      "Epoch:  30, loss: 640.7550048828, A:-0.0135, B: -0.0435, C:-0.2741, D:-0.2582.\n",
      "Epoch:  31, loss: 1406.3564453125, A:-0.0025, B: -0.0450, C:-0.2588, D:-0.2591.\n",
      "Epoch:  32, loss: 1163.5072021484, A:0.0499, B: -0.0914, C:-0.2022, D:-0.3049.\n",
      "Epoch:  33, loss: 316.7256469727, A:0.1197, B: -0.1655, C:-0.1280, D:-0.3783.\n",
      "Epoch:  34, loss: 20.9233665466, A:0.1776, B: -0.2431, C:-0.0657, D:-0.4554.\n",
      "Epoch:  35, loss: 503.7414550781, A:0.2011, B: -0.3007, C:-0.0378, D:-0.5124.\n",
      "Epoch:  36, loss: 896.1725463867, A:0.1834, B: -0.3224, C:-0.0511, D:-0.5335.\n",
      "Epoch:  37, loss: 606.0480957031, A:0.1351, B: -0.3045, C:-0.0950, D:-0.5150.\n",
      "Epoch:  38, loss: 99.1829452515, A:0.0787, B: -0.2556, C:-0.1469, D:-0.4656.\n",
      "Epoch:  39, loss: 73.0636825562, A:0.0387, B: -0.1937, C:-0.1825, D:-0.4032.\n",
      "Epoch:  40, loss: 429.7786865234, A:0.0307, B: -0.1393, C:-0.1860, D:-0.3482.\n",
      "Epoch:  41, loss: 542.1651000977, A:0.0556, B: -0.1091, C:-0.1566, D:-0.3176.\n",
      "Epoch:  42, loss: 248.4690551758, A:0.0999, B: -0.1111, C:-0.1079, D:-0.3190.\n",
      "Epoch:  43, loss: 12.9798221588, A:0.1424, B: -0.1419, C:-0.0609, D:-0.3493.\n",
      "Epoch:  44, loss: 139.1554565430, A:0.1645, B: -0.1890, C:-0.0342, D:-0.3960.\n",
      "Epoch:  45, loss: 342.4377136230, A:0.1579, B: -0.2354, C:-0.0363, D:-0.4420.\n",
      "Epoch:  46, loss: 272.6035461426, A:0.1279, B: -0.2656, C:-0.0618, D:-0.4718.\n",
      "Epoch:  47, loss: 56.7975196838, A:0.0901, B: -0.2707, C:-0.0951, D:-0.4765.\n",
      "Epoch:  48, loss: 27.7415065765, A:0.0626, B: -0.2510, C:-0.1181, D:-0.4564.\n",
      "Epoch:  49, loss: 176.0851287842, A:0.0573, B: -0.2154, C:-0.1189, D:-0.4203.\n",
      "Epoch:  50, loss: 218.5924072266, A:0.0748, B: -0.1775, C:-0.0968, D:-0.3822.\n",
      "Epoch:  51, loss: 87.3032760620, A:0.1050, B: -0.1511, C:-0.0622, D:-0.3553.\n",
      "Epoch:  52, loss: 3.3485646248, A:0.1322, B: -0.1444, C:-0.0304, D:-0.3483.\n",
      "Epoch:  53, loss: 77.7755279541, A:0.1435, B: -0.1583, C:-0.0146, D:-0.3619.\n",
      "Epoch:  54, loss: 149.5605163574, A:0.1348, B: -0.1860, C:-0.0188, D:-0.3893.\n",
      "Epoch:  55, loss: 89.4146881104, A:0.1119, B: -0.2162, C:-0.0372, D:-0.4193.\n",
      "Epoch:  56, loss: 6.0914583206, A:0.0874, B: -0.2376, C:-0.0572, D:-0.4404.\n",
      "Epoch:  57, loss: 29.9186725616, A:0.0737, B: -0.2430, C:-0.0665, D:-0.4455.\n",
      "Epoch:  58, loss: 93.4505081177, A:0.0767, B: -0.2317, C:-0.0591, D:-0.4340.\n",
      "Epoch:  59, loss: 75.0743331909, A:0.0935, B: -0.2094, C:-0.0378, D:-0.4114.\n",
      "Epoch:  60, loss: 11.5358381271, A:0.1142, B: -0.1855, C:-0.0126, D:-0.3873.\n",
      "Epoch:  61, loss: 10.3833360672, A:0.1278, B: -0.1694, C:0.0054, D:-0.3710.\n",
      "Epoch:  62, loss: 55.9079933167, A:0.1278, B: -0.1666, C:0.0097, D:-0.3680.\n",
      "Epoch:  63, loss: 56.0488166809, A:0.1152, B: -0.1771, C:0.0015, D:-0.3784.\n",
      "Epoch:  64, loss: 13.0772762299, A:0.0978, B: -0.1956, C:-0.0115, D:-0.3967.\n",
      "Epoch:  65, loss: 3.8674633503, A:0.0853, B: -0.2141, C:-0.0197, D:-0.4151.\n",
      "Epoch:  66, loss: 33.6568527222, A:0.0840, B: -0.2252, C:-0.0167, D:-0.4260.\n",
      "Epoch:  67, loss: 38.9930076599, A:0.0935, B: -0.2250, C:-0.0029, D:-0.4257.\n",
      "Epoch:  68, loss: 11.1430950165, A:0.1078, B: -0.2147, C:0.0156, D:-0.4152.\n",
      "Epoch:  69, loss: 2.1037356853, A:0.1184, B: -0.1992, C:0.0305, D:-0.3997.\n",
      "Epoch:  70, loss: 21.3352527618, A:0.1199, B: -0.1855, C:0.0362, D:-0.3859.\n",
      "Epoch:  71, loss: 26.1231460571, A:0.1121, B: -0.1791, C:0.0326, D:-0.3793.\n",
      "Epoch:  72, loss: 7.8257226944, A:0.1002, B: -0.1819, C:0.0249, D:-0.3821.\n",
      "Epoch:  73, loss: 1.6534184217, A:0.0913, B: -0.1921, C:0.0201, D:-0.3922.\n",
      "Epoch:  74, loss: 14.5241508484, A:0.0901, B: -0.2046, C:0.0230, D:-0.4047.\n",
      "Epoch:  75, loss: 17.1645278931, A:0.0967, B: -0.2140, C:0.0337, D:-0.4140.\n",
      "Epoch:  76, loss: 4.6791977882, A:0.1065, B: -0.2164, C:0.0475, D:-0.4163.\n",
      "Epoch:  77, loss: 1.5181189775, A:0.1135, B: -0.2115, C:0.0585, D:-0.4114.\n",
      "Epoch:  78, loss: 10.4837045670, A:0.1138, B: -0.2020, C:0.0628, D:-0.4018.\n",
      "Epoch:  79, loss: 11.0597333908, A:0.1078, B: -0.1924, C:0.0608, D:-0.3923.\n",
      "Epoch:  80, loss: 2.3569266796, A:0.0996, B: -0.1871, C:0.0565, D:-0.3869.\n",
      "Epoch:  81, loss: 1.5334278345, A:0.0943, B: -0.1880, C:0.0551, D:-0.3878.\n",
      "Epoch:  82, loss: 7.7853446007, A:0.0947, B: -0.1941, C:0.0593, D:-0.3939.\n",
      "Epoch:  83, loss: 6.8602132797, A:0.1001, B: -0.2023, C:0.0686, D:-0.4020.\n",
      "Epoch:  84, loss: 0.9392212629, A:0.1067, B: -0.2086, C:0.0790, D:-0.4083.\n",
      "Epoch:  85, loss: 1.6565198898, A:0.1104, B: -0.2104, C:0.0864, D:-0.4101.\n",
      "Epoch:  86, loss: 5.7525038719, A:0.1090, B: -0.2072, C:0.0888, D:-0.4069.\n",
      "Epoch:  87, loss: 3.9567856789, A:0.1039, B: -0.2010, C:0.0874, D:-0.4007.\n",
      "Epoch:  88, loss: 0.2706691325, A:0.0986, B: -0.1949, C:0.0857, D:-0.3946.\n",
      "Epoch:  89, loss: 1.7927974463, A:0.0963, B: -0.1917, C:0.0870, D:-0.3914.\n",
      "Epoch:  90, loss: 4.0862436295, A:0.0983, B: -0.1927, C:0.0925, D:-0.3924.\n",
      "Epoch:  91, loss: 2.0118551254, A:0.1028, B: -0.1970, C:0.1006, D:-0.3968.\n",
      "Epoch:  92, loss: 0.1293177903, A:0.1067, B: -0.2023, C:0.1081, D:-0.4021.\n",
      "Epoch:  93, loss: 1.8239617348, A:0.1076, B: -0.2059, C:0.1124, D:-0.4058.\n",
      "Epoch:  94, loss: 2.6829125881, A:0.1051, B: -0.2064, C:0.1133, D:-0.4062.\n",
      "Epoch:  95, loss: 0.8293999434, A:0.1011, B: -0.2036, C:0.1127, D:-0.4035.\n",
      "Epoch:  96, loss: 0.2831722498, A:0.0983, B: -0.1994, C:0.1133, D:-0.3992.\n",
      "Epoch:  97, loss: 1.6697343588, A:0.0985, B: -0.1958, C:0.1168, D:-0.3957.\n",
      "Epoch:  98, loss: 1.5465726852, A:0.1011, B: -0.1945, C:0.1227, D:-0.3945.\n",
      "Epoch:  99, loss: 0.2512372136, A:0.1043, B: -0.1961, C:0.1291, D:-0.3960.\n",
      "Epoch: 100, loss: 0.5159574151, A:0.1058, B: -0.1994, C:0.1338, D:-0.3993.\n",
      "Epoch: 101, loss: 1.3286584616, A:0.1047, B: -0.2026, C:0.1359, D:-0.4026.\n",
      "Epoch: 102, loss: 0.7243683934, A:0.1020, B: -0.2042, C:0.1363, D:-0.4042.\n",
      "Epoch: 103, loss: 0.1003809124, A:0.0996, B: -0.2035, C:0.1371, D:-0.4035.\n",
      "Epoch: 104, loss: 0.6608417034, A:0.0991, B: -0.2010, C:0.1396, D:-0.4011.\n",
      "Epoch: 105, loss: 0.8820662498, A:0.1007, B: -0.1982, C:0.1441, D:-0.3983.\n",
      "Epoch: 106, loss: 0.2438569367, A:0.1029, B: -0.1966, C:0.1494, D:-0.3967.\n",
      "Epoch: 107, loss: 0.1751894057, A:0.1043, B: -0.1968, C:0.1537, D:-0.3969.\n",
      "Epoch: 108, loss: 0.6381809711, A:0.1039, B: -0.1986, C:0.1562, D:-0.3987.\n",
      "Epoch: 109, loss: 0.4581243992, A:0.1021, B: -0.2009, C:0.1572, D:-0.4010.\n",
      "Epoch: 110, loss: 0.0662314668, A:0.1003, B: -0.2025, C:0.1583, D:-0.4026.\n",
      "Epoch: 111, loss: 0.2870501280, A:0.0997, B: -0.2026, C:0.1605, D:-0.4028.\n",
      "Epoch: 112, loss: 0.4709741473, A:0.1006, B: -0.2013, C:0.1641, D:-0.4015.\n",
      "Epoch: 113, loss: 0.1685217172, A:0.1023, B: -0.1994, C:0.1685, D:-0.3996.\n",
      "Epoch: 114, loss: 0.0806361809, A:0.1033, B: -0.1979, C:0.1722, D:-0.3982.\n",
      "Epoch: 115, loss: 0.3158839047, A:0.1031, B: -0.1977, C:0.1746, D:-0.3979.\n",
      "Epoch: 116, loss: 0.2558769882, A:0.1018, B: -0.1987, C:0.1759, D:-0.3989.\n",
      "Epoch: 117, loss: 0.0510894917, A:0.1005, B: -0.2002, C:0.1772, D:-0.4005.\n",
      "Epoch: 118, loss: 0.1480046660, A:0.1001, B: -0.2014, C:0.1793, D:-0.4017.\n",
      "Epoch: 119, loss: 0.2426443398, A:0.1008, B: -0.2017, C:0.1824, D:-0.4020.\n",
      "Epoch: 120, loss: 0.0960750952, A:0.1019, B: -0.2010, C:0.1860, D:-0.4013.\n",
      "Epoch: 121, loss: 0.0568232760, A:0.1026, B: -0.1997, C:0.1891, D:-0.4000.\n",
      "Epoch: 122, loss: 0.1686657071, A:0.1024, B: -0.1987, C:0.1912, D:-0.3990.\n",
      "Epoch: 123, loss: 0.1280862093, A:0.1015, B: -0.1984, C:0.1926, D:-0.3988.\n",
      "Epoch: 124, loss: 0.0362155437, A:0.1006, B: -0.1990, C:0.1940, D:-0.3993.\n",
      "Epoch: 125, loss: 0.0940330178, A:0.1003, B: -0.2000, C:0.1961, D:-0.4004.\n",
      "Epoch: 126, loss: 0.1242096201, A:0.1009, B: -0.2009, C:0.1989, D:-0.4012.\n",
      "Epoch: 127, loss: 0.0467809364, A:0.1017, B: -0.2011, C:0.2018, D:-0.4015.\n",
      "Epoch: 128, loss: 0.0462101288, A:0.1021, B: -0.2006, C:0.2044, D:-0.4010.\n",
      "Epoch: 129, loss: 0.0970181823, A:0.1018, B: -0.1998, C:0.2062, D:-0.4002.\n",
      "Epoch: 130, loss: 0.0596628077, A:0.1011, B: -0.1991, C:0.2076, D:-0.3995.\n",
      "Epoch: 131, loss: 0.0259176400, A:0.1005, B: -0.1989, C:0.2091, D:-0.3993.\n",
      "Epoch: 132, loss: 0.0640765429, A:0.1005, B: -0.1993, C:0.2111, D:-0.3997.\n",
      "Epoch: 133, loss: 0.0626611412, A:0.1010, B: -0.2000, C:0.2135, D:-0.4004.\n",
      "Epoch: 134, loss: 0.0233914461, A:0.1015, B: -0.2006, C:0.2160, D:-0.4010.\n",
      "Epoch: 135, loss: 0.0375198796, A:0.1017, B: -0.2007, C:0.2181, D:-0.4011.\n",
      "Epoch: 136, loss: 0.0549312532, A:0.1013, B: -0.2003, C:0.2196, D:-0.4007.\n",
      "Epoch: 137, loss: 0.0272780061, A:0.1008, B: -0.1998, C:0.2209, D:-0.4001.\n",
      "Epoch: 138, loss: 0.0220069569, A:0.1005, B: -0.1993, C:0.2224, D:-0.3997.\n",
      "Epoch: 139, loss: 0.0417224951, A:0.1006, B: -0.1993, C:0.2243, D:-0.3997.\n",
      "Epoch: 140, loss: 0.0297269225, A:0.1010, B: -0.1996, C:0.2265, D:-0.4000.\n",
      "Epoch: 141, loss: 0.0157198980, A:0.1013, B: -0.2001, C:0.2285, D:-0.4005.\n",
      "Epoch: 142, loss: 0.0289477389, A:0.1013, B: -0.2004, C:0.2302, D:-0.4008.\n",
      "Epoch: 143, loss: 0.0283471383, A:0.1010, B: -0.2004, C:0.2315, D:-0.4008.\n",
      "Epoch: 144, loss: 0.0141766071, A:0.1006, B: -0.2001, C:0.2328, D:-0.4005.\n",
      "Epoch: 145, loss: 0.0195911191, A:0.1005, B: -0.1997, C:0.2342, D:-0.4001.\n",
      "Epoch: 146, loss: 0.0243591275, A:0.1007, B: -0.1995, C:0.2360, D:-0.3998.\n",
      "Epoch: 147, loss: 0.0138981994, A:0.1010, B: -0.1995, C:0.2378, D:-0.3999.\n",
      "Epoch: 148, loss: 0.0137115791, A:0.1011, B: -0.1998, C:0.2395, D:-0.4002.\n",
      "Epoch: 149, loss: 0.0196257737, A:0.1010, B: -0.2001, C:0.2408, D:-0.4005.\n",
      "Epoch: 150, loss: 0.0134233562, A:0.1007, B: -0.2003, C:0.2420, D:-0.4006.\n",
      "Epoch: 151, loss: 0.0102579677, A:0.1005, B: -0.2002, C:0.2432, D:-0.4006.\n",
      "Epoch: 152, loss: 0.0152260875, A:0.1005, B: -0.1999, C:0.2446, D:-0.4003.\n",
      "Epoch: 153, loss: 0.0124765849, A:0.1007, B: -0.1997, C:0.2462, D:-0.4001.\n",
      "Epoch: 154, loss: 0.0082864091, A:0.1009, B: -0.1996, C:0.2477, D:-0.4000.\n",
      "Epoch: 155, loss: 0.0115598841, A:0.1009, B: -0.1997, C:0.2490, D:-0.4001.\n",
      "Epoch: 156, loss: 0.0111276852, A:0.1007, B: -0.1999, C:0.2501, D:-0.4003.\n",
      "Epoch: 157, loss: 0.0071561621, A:0.1005, B: -0.2001, C:0.2511, D:-0.4005.\n",
      "Epoch: 158, loss: 0.0087401653, A:0.1004, B: -0.2001, C:0.2523, D:-0.4005.\n",
      "Epoch: 159, loss: 0.0095322747, A:0.1005, B: -0.2000, C:0.2536, D:-0.4004.\n",
      "Epoch: 160, loss: 0.0064107548, A:0.1007, B: -0.1998, C:0.2550, D:-0.4002.\n",
      "Epoch: 161, loss: 0.0067237876, A:0.1007, B: -0.1997, C:0.2562, D:-0.4001.\n",
      "Epoch: 162, loss: 0.0079023102, A:0.1006, B: -0.1997, C:0.2572, D:-0.4001.\n",
      "Epoch: 163, loss: 0.0057585686, A:0.1005, B: -0.1999, C:0.2582, D:-0.4002.\n",
      "Epoch: 164, loss: 0.0053401398, A:0.1004, B: -0.2000, C:0.2592, D:-0.4003.\n",
      "Epoch: 165, loss: 0.0064286073, A:0.1004, B: -0.2001, C:0.2603, D:-0.4004.\n",
      "Epoch: 166, loss: 0.0050889459, A:0.1005, B: -0.2000, C:0.2614, D:-0.4004.\n",
      "Epoch: 167, loss: 0.0043713828, A:0.1006, B: -0.1999, C:0.2625, D:-0.4003.\n",
      "Epoch: 168, loss: 0.0052034087, A:0.1006, B: -0.1998, C:0.2634, D:-0.4001.\n",
      "Epoch: 169, loss: 0.0044138348, A:0.1004, B: -0.1998, C:0.2643, D:-0.4001.\n",
      "Epoch: 170, loss: 0.0036449400, A:0.1004, B: -0.1998, C:0.2652, D:-0.4002.\n",
      "Epoch: 171, loss: 0.0042223190, A:0.1004, B: -0.1999, C:0.2661, D:-0.4003.\n",
      "Epoch: 172, loss: 0.0037779652, A:0.1004, B: -0.2000, C:0.2671, D:-0.4004.\n",
      "Epoch: 173, loss: 0.0030658075, A:0.1005, B: -0.2000, C:0.2680, D:-0.4003.\n",
      "Epoch: 174, loss: 0.0034393175, A:0.1005, B: -0.1999, C:0.2689, D:-0.4003.\n",
      "Epoch: 175, loss: 0.0032071541, A:0.1004, B: -0.1999, C:0.2697, D:-0.4002.\n",
      "Epoch: 176, loss: 0.0025915899, A:0.1003, B: -0.1998, C:0.2704, D:-0.4001.\n",
      "Epoch: 177, loss: 0.0028101818, A:0.1003, B: -0.1998, C:0.2712, D:-0.4002.\n",
      "Epoch: 178, loss: 0.0027045596, A:0.1004, B: -0.1999, C:0.2720, D:-0.4002.\n",
      "Epoch: 179, loss: 0.0021982682, A:0.1004, B: -0.2000, C:0.2729, D:-0.4003.\n",
      "Epoch: 180, loss: 0.0023044329, A:0.1004, B: -0.2000, C:0.2736, D:-0.4003.\n",
      "Epoch: 181, loss: 0.0022658354, A:0.1003, B: -0.1999, C:0.2743, D:-0.4003.\n",
      "Epoch: 182, loss: 0.0018668791, A:0.1003, B: -0.1999, C:0.2750, D:-0.4002.\n",
      "Epoch: 183, loss: 0.0018996563, A:0.1003, B: -0.1998, C:0.2756, D:-0.4002.\n",
      "Epoch: 184, loss: 0.0018881474, A:0.1003, B: -0.1999, C:0.2764, D:-0.4002.\n",
      "Epoch: 185, loss: 0.0015823642, A:0.1003, B: -0.1999, C:0.2771, D:-0.4002.\n",
      "Epoch: 186, loss: 0.0015747551, A:0.1003, B: -0.1999, C:0.2777, D:-0.4003.\n",
      "Epoch: 187, loss: 0.0015686232, A:0.1003, B: -0.2000, C:0.2783, D:-0.4003.\n",
      "Epoch: 188, loss: 0.0013358662, A:0.1002, B: -0.1999, C:0.2789, D:-0.4003.\n",
      "Epoch: 189, loss: 0.0013109369, A:0.1002, B: -0.1999, C:0.2795, D:-0.4002.\n",
      "Epoch: 190, loss: 0.0013020930, A:0.1002, B: -0.1999, C:0.2801, D:-0.4002.\n",
      "Epoch: 191, loss: 0.0011231551, A:0.1003, B: -0.1999, C:0.2807, D:-0.4002.\n",
      "Epoch: 192, loss: 0.0010935575, A:0.1003, B: -0.1999, C:0.2813, D:-0.4002.\n",
      "Epoch: 193, loss: 0.0010812103, A:0.1002, B: -0.1999, C:0.2818, D:-0.4003.\n",
      "Epoch: 194, loss: 0.0009416685, A:0.1002, B: -0.1999, C:0.2823, D:-0.4003.\n",
      "Epoch: 195, loss: 0.0009125959, A:0.1002, B: -0.1999, C:0.2828, D:-0.4003.\n",
      "Epoch: 196, loss: 0.0008981486, A:0.1002, B: -0.1999, C:0.2833, D:-0.4002.\n",
      "Epoch: 197, loss: 0.0007883828, A:0.1002, B: -0.1999, C:0.2838, D:-0.4002.\n",
      "Epoch: 198, loss: 0.0007617128, A:0.1002, B: -0.1999, C:0.2843, D:-0.4002.\n",
      "Epoch: 199, loss: 0.0007458715, A:0.1002, B: -0.1999, C:0.2847, D:-0.4002.\n",
      "Epoch: 200, loss: 0.0006595727, A:0.1002, B: -0.1999, C:0.2852, D:-0.4003.\n",
      "Epoch: 201, loss: 0.0006359764, A:0.1002, B: -0.1999, C:0.2856, D:-0.4003.\n",
      "Epoch: 202, loss: 0.0006191448, A:0.1002, B: -0.1999, C:0.2860, D:-0.4003.\n",
      "Epoch: 203, loss: 0.0005516109, A:0.1002, B: -0.1999, C:0.2865, D:-0.4002.\n",
      "Epoch: 204, loss: 0.0005314521, A:0.1002, B: -0.1999, C:0.2869, D:-0.4002.\n",
      "Epoch: 205, loss: 0.0005138437, A:0.1002, B: -0.1999, C:0.2873, D:-0.4002.\n",
      "Epoch: 206, loss: 0.0004611011, A:0.1001, B: -0.1999, C:0.2876, D:-0.4002.\n",
      "Epoch: 207, loss: 0.0004445684, A:0.1001, B: -0.1999, C:0.2880, D:-0.4003.\n",
      "Epoch: 208, loss: 0.0004266254, A:0.1001, B: -0.1999, C:0.2884, D:-0.4003.\n",
      "Epoch: 209, loss: 0.0003854521, A:0.1002, B: -0.1999, C:0.2887, D:-0.4003.\n",
      "Epoch: 210, loss: 0.0003722114, A:0.1002, B: -0.1999, C:0.2891, D:-0.4002.\n",
      "Epoch: 211, loss: 0.0003546499, A:0.1001, B: -0.1999, C:0.2894, D:-0.4002.\n",
      "Epoch: 212, loss: 0.0003224650, A:0.1001, B: -0.1999, C:0.2897, D:-0.4002.\n",
      "Epoch: 213, loss: 0.0003119398, A:0.1001, B: -0.1999, C:0.2900, D:-0.4002.\n",
      "Epoch: 214, loss: 0.0002953361, A:0.1001, B: -0.1999, C:0.2903, D:-0.4003.\n",
      "Epoch: 215, loss: 0.0002702730, A:0.1001, B: -0.1999, C:0.2906, D:-0.4003.\n",
      "Epoch: 216, loss: 0.0002617672, A:0.1001, B: -0.1999, C:0.2909, D:-0.4003.\n",
      "Epoch: 217, loss: 0.0002464974, A:0.1001, B: -0.1999, C:0.2912, D:-0.4002.\n",
      "Epoch: 218, loss: 0.0002271348, A:0.1001, B: -0.1999, C:0.2915, D:-0.4002.\n",
      "Epoch: 219, loss: 0.0002200506, A:0.1001, B: -0.1999, C:0.2917, D:-0.4002.\n",
      "Epoch: 220, loss: 0.0002063750, A:0.1001, B: -0.1999, C:0.2920, D:-0.4002.\n",
      "Epoch: 221, loss: 0.0001915999, A:0.1001, B: -0.1999, C:0.2923, D:-0.4003.\n",
      "Epoch: 222, loss: 0.0001854207, A:0.1001, B: -0.1999, C:0.2925, D:-0.4003.\n",
      "Epoch: 223, loss: 0.0001734776, A:0.1001, B: -0.1999, C:0.2927, D:-0.4003.\n",
      "Epoch: 224, loss: 0.0001623846, A:0.1001, B: -0.1999, C:0.2929, D:-0.4002.\n",
      "Epoch: 225, loss: 0.0001568425, A:0.1001, B: -0.1999, C:0.2932, D:-0.4002.\n",
      "Epoch: 226, loss: 0.0001465817, A:0.1001, B: -0.1999, C:0.2934, D:-0.4002.\n",
      "Epoch: 227, loss: 0.0001383245, A:0.1001, B: -0.1999, C:0.2936, D:-0.4002.\n",
      "Epoch: 228, loss: 0.0001332757, A:0.1001, B: -0.1999, C:0.2938, D:-0.4003.\n",
      "Epoch: 229, loss: 0.0001246460, A:0.1001, B: -0.1999, C:0.2940, D:-0.4003.\n",
      "Epoch: 230, loss: 0.0001185652, A:0.1001, B: -0.1999, C:0.2942, D:-0.4002.\n",
      "Epoch: 231, loss: 0.0001139271, A:0.1001, B: -0.1999, C:0.2944, D:-0.4002.\n",
      "Epoch: 232, loss: 0.0001068350, A:0.1001, B: -0.1999, C:0.2945, D:-0.4002.\n",
      "Epoch: 233, loss: 0.0001023342, A:0.1001, B: -0.1999, C:0.2947, D:-0.4002.\n",
      "Epoch: 234, loss: 0.0000980929, A:0.1001, B: -0.1999, C:0.2949, D:-0.4002.\n",
      "Epoch: 235, loss: 0.0000924176, A:0.1001, B: -0.1999, C:0.2950, D:-0.4003.\n",
      "Epoch: 236, loss: 0.0000890096, A:0.1001, B: -0.1999, C:0.2952, D:-0.4003.\n",
      "Epoch: 237, loss: 0.0000851877, A:0.1001, B: -0.1999, C:0.2953, D:-0.4002.\n",
      "Epoch: 238, loss: 0.0000807716, A:0.1001, B: -0.1999, C:0.2955, D:-0.4002.\n",
      "Epoch: 239, loss: 0.0000781107, A:0.1001, B: -0.1999, C:0.2956, D:-0.4002.\n",
      "Epoch: 240, loss: 0.0000747247, A:0.1001, B: -0.1999, C:0.2958, D:-0.4002.\n",
      "Epoch: 241, loss: 0.0000713800, A:0.1001, B: -0.1999, C:0.2959, D:-0.4002.\n",
      "Epoch: 242, loss: 0.0000691955, A:0.1001, B: -0.1999, C:0.2960, D:-0.4003.\n",
      "Epoch: 243, loss: 0.0000662798, A:0.1001, B: -0.1999, C:0.2962, D:-0.4002.\n",
      "Epoch: 244, loss: 0.0000637869, A:0.1001, B: -0.1999, C:0.2963, D:-0.4002.\n",
      "Epoch: 245, loss: 0.0000619230, A:0.1000, B: -0.1999, C:0.2964, D:-0.4002.\n",
      "Epoch: 246, loss: 0.0000595070, A:0.1000, B: -0.1999, C:0.2965, D:-0.4002.\n",
      "Epoch: 247, loss: 0.0000576559, A:0.1000, B: -0.1999, C:0.2966, D:-0.4002.\n",
      "Epoch: 248, loss: 0.0000560493, A:0.1000, B: -0.1999, C:0.2967, D:-0.4002.\n",
      "Epoch: 249, loss: 0.0000541029, A:0.1000, B: -0.1999, C:0.2968, D:-0.4002.\n",
      "Epoch: 250, loss: 0.0000527136, A:0.1000, B: -0.1999, C:0.2969, D:-0.4002.\n",
      "Epoch: 251, loss: 0.0000512997, A:0.1000, B: -0.1999, C:0.2970, D:-0.4002.\n",
      "Epoch: 252, loss: 0.0000497780, A:0.1000, B: -0.1999, C:0.2971, D:-0.4002.\n",
      "Epoch: 253, loss: 0.0000487075, A:0.1000, B: -0.1999, C:0.2972, D:-0.4002.\n",
      "Epoch: 254, loss: 0.0000474942, A:0.1000, B: -0.1999, C:0.2973, D:-0.4002.\n",
      "Epoch: 255, loss: 0.0000463505, A:0.1000, B: -0.1999, C:0.2974, D:-0.4002.\n",
      "Epoch: 256, loss: 0.0000454929, A:0.1000, B: -0.1999, C:0.2974, D:-0.4002.\n",
      "Epoch: 257, loss: 0.0000444716, A:0.1000, B: -0.1999, C:0.2975, D:-0.4002.\n",
      "Epoch: 258, loss: 0.0000436223, A:0.1000, B: -0.1999, C:0.2976, D:-0.4002.\n",
      "Epoch: 259, loss: 0.0000429062, A:0.1000, B: -0.1999, C:0.2977, D:-0.4002.\n",
      "Epoch: 260, loss: 0.0000420719, A:0.1000, B: -0.1999, C:0.2977, D:-0.4002.\n",
      "Epoch: 261, loss: 0.0000414516, A:0.1000, B: -0.1999, C:0.2978, D:-0.4002.\n",
      "Epoch: 262, loss: 0.0000408322, A:0.1000, B: -0.1999, C:0.2979, D:-0.4002.\n",
      "Epoch: 263, loss: 0.0000401978, A:0.1000, B: -0.1999, C:0.2979, D:-0.4002.\n",
      "Epoch: 264, loss: 0.0000397049, A:0.1000, B: -0.1999, C:0.2980, D:-0.4002.\n",
      "Epoch: 265, loss: 0.0000391921, A:0.1000, B: -0.1999, C:0.2980, D:-0.4002.\n",
      "Epoch: 266, loss: 0.0000387112, A:0.1000, B: -0.1999, C:0.2981, D:-0.4002.\n",
      "Epoch: 267, loss: 0.0000383301, A:0.1000, B: -0.1999, C:0.2982, D:-0.4002.\n",
      "Epoch: 268, loss: 0.0000379018, A:0.1000, B: -0.1999, C:0.2982, D:-0.4002.\n",
      "Epoch: 269, loss: 0.0000375444, A:0.1000, B: -0.1999, C:0.2983, D:-0.4002.\n",
      "Epoch: 270, loss: 0.0000372295, A:0.1000, B: -0.1999, C:0.2983, D:-0.4002.\n",
      "Epoch: 271, loss: 0.0000368954, A:0.1000, B: -0.1999, C:0.2984, D:-0.4002.\n",
      "Epoch: 272, loss: 0.0000366279, A:0.1000, B: -0.1999, C:0.2984, D:-0.4002.\n",
      "Epoch: 273, loss: 0.0000363642, A:0.1000, B: -0.1999, C:0.2984, D:-0.4002.\n",
      "Epoch: 274, loss: 0.0000361136, A:0.1000, B: -0.1999, C:0.2985, D:-0.4002.\n",
      "Epoch: 275, loss: 0.0000359089, A:0.1000, B: -0.1999, C:0.2985, D:-0.4002.\n",
      "Epoch: 276, loss: 0.0000356903, A:0.1000, B: -0.1999, C:0.2986, D:-0.4002.\n",
      "Epoch: 277, loss: 0.0000355103, A:0.1000, B: -0.1999, C:0.2986, D:-0.4002.\n",
      "Epoch: 278, loss: 0.0000353418, A:0.1000, B: -0.1999, C:0.2986, D:-0.4002.\n",
      "Epoch: 279, loss: 0.0000351716, A:0.1000, B: -0.1999, C:0.2987, D:-0.4002.\n",
      "Epoch: 280, loss: 0.0000350257, A:0.1000, B: -0.1999, C:0.2987, D:-0.4002.\n",
      "Epoch: 281, loss: 0.0000348988, A:0.1000, B: -0.1999, C:0.2987, D:-0.4002.\n",
      "Epoch: 282, loss: 0.0000347603, A:0.1000, B: -0.1999, C:0.2988, D:-0.4002.\n",
      "Epoch: 283, loss: 0.0000346560, A:0.1000, B: -0.1999, C:0.2988, D:-0.4002.\n",
      "Epoch: 284, loss: 0.0000345486, A:0.1000, B: -0.1999, C:0.2988, D:-0.4002.\n",
      "Epoch: 285, loss: 0.0000344527, A:0.1000, B: -0.1999, C:0.2988, D:-0.4002.\n",
      "Epoch: 286, loss: 0.0000343694, A:0.1000, B: -0.1999, C:0.2989, D:-0.4002.\n",
      "Epoch: 287, loss: 0.0000342822, A:0.1000, B: -0.1999, C:0.2989, D:-0.4002.\n",
      "Epoch: 288, loss: 0.0000342126, A:0.1000, B: -0.1999, C:0.2989, D:-0.4002.\n",
      "Epoch: 289, loss: 0.0000341504, A:0.1000, B: -0.1999, C:0.2989, D:-0.4002.\n",
      "Epoch: 290, loss: 0.0000340822, A:0.1000, B: -0.1999, C:0.2990, D:-0.4002.\n",
      "Epoch: 291, loss: 0.0000340298, A:0.1000, B: -0.1999, C:0.2990, D:-0.4002.\n",
      "Epoch: 292, loss: 0.0000339764, A:0.1000, B: -0.1999, C:0.2990, D:-0.4002.\n",
      "Epoch: 293, loss: 0.0000339300, A:0.1000, B: -0.1999, C:0.2990, D:-0.4002.\n",
      "Epoch: 294, loss: 0.0000338913, A:0.1000, B: -0.1999, C:0.2990, D:-0.4002.\n",
      "Epoch: 295, loss: 0.0000338465, A:0.1000, B: -0.1999, C:0.2990, D:-0.4002.\n",
      "Epoch: 296, loss: 0.0000338120, A:0.1000, B: -0.1999, C:0.2991, D:-0.4002.\n",
      "Epoch: 297, loss: 0.0000337806, A:0.1000, B: -0.1999, C:0.2991, D:-0.4002.\n",
      "Epoch: 298, loss: 0.0000337522, A:0.1000, B: -0.1999, C:0.2991, D:-0.4002.\n",
      "Epoch: 299, loss: 0.0000337281, A:0.1000, B: -0.1999, C:0.2991, D:-0.4002.\n"
     ]
    }
   ],
   "source": [
    "for epoch in range(300):\n",
    "    with tf.GradientTape() as tape:\n",
    "        loss = loss_mse()  # Compute the loss\n",
    "    # Compute gradients for A, B, C, D (to be explained later on)\n",
    "    gradients = tape.gradient(loss, [A, B, C, D])\n",
    "    # Apply the gradients to the variables (to be explained later on)\n",
    "    optimizer.apply_gradients(zip(gradients, [A, B, C, D]))\n",
    "    # Print epoch results\n",
    "    print(\"Epoch: {:3d}, loss: {:.10f}, A:{:.4f}, B: {:.4f}, C:{:.4f}, D:{:.4f}.\".format(\n",
    "        epoch, loss.numpy(), A.numpy(), B.numpy(), C.numpy(), D.numpy()))"
   ]
  },
  {
   "cell_type": "markdown",
   "id": "f0aabbbebc43ea38",
   "metadata": {
    "collapsed": false
   },
   "source": [
    "## Evaluation\n",
    "Let's see how far the parameters are from the actual function:"
   ]
  },
  {
   "cell_type": "code",
   "execution_count": 42,
   "id": "17975ed805d47757",
   "metadata": {
    "collapsed": false,
    "ExecuteTime": {
     "end_time": "2024-10-07T17:46:37.751171100Z",
     "start_time": "2024-10-07T17:46:37.735377200Z"
    }
   },
   "outputs": [
    {
     "name": "stdout",
     "output_type": "stream",
     "text": [
      "Original function: y = 0.1*(x**3) + -0.2*(x**2) + 0.3*x + -0.4.\n",
      "Function learned: y = 0.1000*(x**3) + -0.1999*(x**2) + 0.2991*x + -0.4002.\n"
     ]
    }
   ],
   "source": [
    "print(f\"Original function: y = {a}*(x**3) + {b}*(x**2) + {c}*x + {d}.\")\n",
    "print(\"Function learned: y = {:.4f}*(x**3) + {:.4f}*(x**2) + {:.4f}*x + {:.4f}.\".format(\n",
    "    A.numpy(), B.numpy(), C.numpy(), D.numpy()))"
   ]
  },
  {
   "cell_type": "markdown",
   "id": "d76c895e1d0b0dbd",
   "metadata": {
    "collapsed": false
   },
   "source": [
    "Not bad!\n",
    "Let's visualize both functions to see whether there are important differences."
   ]
  },
  {
   "cell_type": "code",
   "execution_count": 43,
   "id": "98b4aa88e78d2c35",
   "metadata": {
    "collapsed": false,
    "ExecuteTime": {
     "end_time": "2024-10-07T17:46:37.961655400Z",
     "start_time": "2024-10-07T17:46:37.751171100Z"
    }
   },
   "outputs": [
    {
     "data": {
      "text/plain": "<Figure size 500x500 with 1 Axes>",
      "image/png": "[encoded data removed]"
     },
     "metadata": {},
     "output_type": "display_data"
    }
   ],
   "source": [
    "y_predicted = A.numpy()*(x**3) + B.numpy()*(x**2) + C.numpy()*x + D.numpy()\n",
    "plot_functions(x, y, y_predicted, \"Original and predicted functions\")"
   ]
  },
  {
   "cell_type": "markdown",
   "id": "c614769f311b3b31",
   "metadata": {
    "collapsed": false
   },
   "source": [
    "## ✨ Questions ✨ \n",
    "\n",
    "1. What happens if you do not add noise to y? Why? Try it out.\n",
    "2. What happens if you add more noise (e.g., noise = np.random.normal(0, 1, len(x))). Why? Try it out."
   ]
  },
  {
   "cell_type": "markdown",
   "id": "d6440c3da7d486fa",
   "metadata": {
    "collapsed": false
   },
   "source": [
    "### Answers\n",
    "\n",
    "*Write your answers here.*\n",
    "\n"
   ]
  },
  {
   "cell_type": "markdown",
   "source": [
    "## Lesson learned\n",
    "\n",
    "We have seen how Tensorflow can be used to estimate the parameters of a function from data. We have to define the model (the \"shape\" of the function) and Tensorflow will learn the parameters. The same as we did with linear regression (both use Gradient Descent or any other optimizer to minimize the loss function and hence learn the parameters). The power of deep learning is that it can learn complex functions from data and we do not need to specify the function \"shape\" in advance."
   ],
   "metadata": {
    "collapsed": false
   },
   "id": "679071ca1094a904"
  }
 ],
 "metadata": {
  "kernelspec": {
   "display_name": "Python 3 (ipykernel)",
   "language": "python",
   "name": "python3"
  },
  "language_info": {
   "codemirror_mode": {
    "name": "ipython",
    "version": 3
   },
   "file_extension": ".py",
   "mimetype": "text/x-python",
   "name": "python",
   "nbconvert_exporter": "python",
   "pygments_lexer": "ipython3",
   "version": "3.11.4"
  }
 },
 "nbformat": 4,
 "nbformat_minor": 5
}
