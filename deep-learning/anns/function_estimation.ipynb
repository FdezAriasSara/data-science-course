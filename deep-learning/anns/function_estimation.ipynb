{
 "cells": [
  {
   "cell_type": "markdown",
   "id": "72ea15f3d70547f7",
   "metadata": {
    "collapsed": false
   },
   "source": [
    "# Function estimation with Keras/Tensorflow\n",
    "This function shows how keras and Tensorflow can be used to estimate the parameters of \n",
    "a given function, learning them from data. We must define the equation of the function,\n",
    "setting the parameters to be learned from data as Tensorflow variables.\n",
    "Then, an optimizer (such as Gradient Descent) is used to learn the parameters.\n",
    "The only requirement is that the function must be differentiable, because Tensorflow will \n",
    "compute the derivatives automatically in order to minimize the loss using Gradient Descent.\n",
    "\n",
    "## Imports"
   ]
  },
  {
   "cell_type": "code",
   "execution_count": 2,
   "id": "5f099c66705669f8",
   "metadata": {
    "collapsed": false,
    "ExecuteTime": {
     "end_time": "2024-09-12T18:34:34.348952700Z",
     "start_time": "2024-09-12T18:34:26.969952800Z"
    }
   },
   "outputs": [
    {
     "name": "stdout",
     "output_type": "stream",
     "text": [
      "WARNING:tensorflow:From C:\\Users\\ortin\\AppData\\Roaming\\Python\\Python311\\site-packages\\keras\\src\\losses.py:2976: The name tf.losses.sparse_softmax_cross_entropy is deprecated. Please use tf.compat.v1.losses.sparse_softmax_cross_entropy instead.\n"
     ]
    }
   ],
   "source": [
    "import numpy as np\n",
    "import tensorflow as tf\n",
    "from random import random\n",
    "from keras.src.optimizers import SGD, Adam\n",
    "from utils import plot_function, plot_functions"
   ]
  },
  {
   "cell_type": "markdown",
   "id": "e7c3e8a3ff34b7dc",
   "metadata": {
    "collapsed": false
   },
   "source": [
    "## Function\n",
    "We create data for x and y. x ranges from -10 to 10.\n",
    "The function to be learned follows the equation: `y = a*(x**3) + b*(x**2) + c*x + d`\n",
    "`a`, `b`, `c` and `d` are parameters to be learned from data."
   ]
  },
  {
   "cell_type": "code",
   "execution_count": 3,
   "id": "33531d19a75de77f",
   "metadata": {
    "collapsed": false,
    "ExecuteTime": {
     "end_time": "2024-09-12T18:34:34.362853500Z",
     "start_time": "2024-09-12T18:34:34.356381600Z"
    }
   },
   "outputs": [],
   "source": [
    "x = np.arange(-10, 11)\n",
    "# y is the function to learn from data\n",
    "a, b, c, d = 0.1, -0.2, 0.3, -0.4\n",
    "y = a*(x**3) + b*(x**2) + c*x + d"
   ]
  },
  {
   "cell_type": "markdown",
   "id": "802ac98cb6d019ad",
   "metadata": {
    "collapsed": false
   },
   "source": [
    "We add some noise to the target variable `y` in the dataset to make prediction more difficult."
   ]
  },
  {
   "cell_type": "code",
   "execution_count": 4,
   "id": "ba1108741a17ef06",
   "metadata": {
    "collapsed": false,
    "ExecuteTime": {
     "end_time": "2024-09-12T18:34:34.414537900Z",
     "start_time": "2024-09-12T18:34:34.367014700Z"
    }
   },
   "outputs": [],
   "source": [
    "noise = np.random.normal(0,0.01, len(x))\n",
    "y = y + noise"
   ]
  },
  {
   "cell_type": "markdown",
   "id": "52235b5e38e3ccf",
   "metadata": {
    "collapsed": false
   },
   "source": [
    "## Visualization\n",
    "Let's plot the y function:"
   ]
  },
  {
   "cell_type": "code",
   "execution_count": 5,
   "id": "e0e285a33f74265b",
   "metadata": {
    "collapsed": false,
    "ExecuteTime": {
     "end_time": "2024-09-12T18:34:34.642911100Z",
     "start_time": "2024-09-12T18:34:34.384987300Z"
    }
   },
   "outputs": [
    {
     "data": {
      "text/plain": "<Figure size 500x500 with 1 Axes>",
      "image/png": "[encoded data removed]"
     },
     "metadata": {},
     "output_type": "display_data"
    }
   ],
   "source": [
    "plot_function(x, y, f\"Function y = {a}*(x**3) + {b}*(x**2) + {c}*x + {d}\")"
   ]
  },
  {
   "cell_type": "markdown",
   "id": "edfd1a4a83763498",
   "metadata": {
    "collapsed": false
   },
   "source": [
    "## Tensorflow Variables\n",
    "We now create the four variables to be learned as Tensorflow variables. "
   ]
  },
  {
   "cell_type": "code",
   "execution_count": 6,
   "id": "e59cf1f79ad18fa0",
   "metadata": {
    "collapsed": false,
    "ExecuteTime": {
     "end_time": "2024-09-12T18:34:34.747874900Z",
     "start_time": "2024-09-12T18:34:34.700946700Z"
    }
   },
   "outputs": [],
   "source": [
    "A, B, C, D = tf.Variable(random()), tf.Variable(random()), tf.Variable(random()), tf.Variable(random())"
   ]
  },
  {
   "cell_type": "markdown",
   "id": "a35cb0e63baa551a",
   "metadata": {
    "collapsed": false
   },
   "source": [
    "## Loss function\n",
    "We use MSE to compute the loss function (it is regression problem)."
   ]
  },
  {
   "cell_type": "code",
   "execution_count": 7,
   "id": "12d7b20ccb899e96",
   "metadata": {
    "collapsed": false,
    "ExecuteTime": {
     "end_time": "2024-09-12T18:34:34.747874900Z",
     "start_time": "2024-09-12T18:34:34.707770600Z"
    }
   },
   "outputs": [],
   "source": [
    "loss_mse = lambda: sum((y - (A * (x ** 3) + B * (x ** 2) + C * x + D)) ** 2) / (2*len(x))"
   ]
  },
  {
   "cell_type": "markdown",
   "id": "9d71c4195679301f",
   "metadata": {
    "collapsed": false
   },
   "source": [
    "## Optimizer\n",
    "We use the Adam optimizer, which is much faster than SGD.\n",
    "Adam (Adaptive Moment Estimation) is a stochastic gradient descent method that is based on adaptive momentum.\n",
    "It is widely used in training deep neural networks. "
   ]
  },
  {
   "cell_type": "code",
   "execution_count": 8,
   "id": "902bdc98bcffd2a",
   "metadata": {
    "collapsed": false,
    "ExecuteTime": {
     "end_time": "2024-09-12T18:34:34.748962800Z",
     "start_time": "2024-09-12T18:34:34.719023100Z"
    }
   },
   "outputs": [],
   "source": [
    "optimizer = Adam(learning_rate=1)"
   ]
  },
  {
   "cell_type": "markdown",
   "id": "9a8a06a43d16c584",
   "metadata": {
    "collapsed": false
   },
   "source": [
    "## Training\n",
    "We now ask the optimizer to minimize the loss by applying the optimization algorith to the\n",
    "variables, learning their values from data. "
   ]
  },
  {
   "cell_type": "code",
   "execution_count": 9,
   "id": "10d584c42bb9c1e3",
   "metadata": {
    "collapsed": false,
    "ExecuteTime": {
     "end_time": "2024-09-12T18:34:44.092670500Z",
     "start_time": "2024-09-12T18:34:34.729861900Z"
    }
   },
   "outputs": [
    {
     "name": "stdout",
     "output_type": "stream",
     "text": [
      "WARNING:tensorflow:From C:\\Users\\ortin\\AppData\\Roaming\\Python\\Python311\\site-packages\\keras\\src\\optimizers\\legacy\\optimizer_v2.py:806: The name tf.executing_eagerly_outside_functions is deprecated. Please use tf.compat.v1.executing_eagerly_outside_functions instead.\n",
      "Epoch:   0, loss: 21061.7148437500, A:-0.3636, B: -0.2054, C:-0.4191, D:-0.4928.\n",
      "Epoch:   1, loss: 22873.9648437500, A:-0.3773, B: -0.8704, C:-0.4316, D:-1.1571.\n",
      "Epoch:   2, loss: 2326.9160156250, A:-0.0273, B: -0.9381, C:-0.0806, D:-1.2233.\n",
      "Epoch:   3, loss: 5878.4697265625, A:0.3437, B: -0.6800, C:0.2917, D:-0.9638.\n",
      "Epoch:   4, loss: 15206.3242187500, A:0.4997, B: -0.2970, C:0.4491, D:-0.5796.\n",
      "Epoch:   5, loss: 9281.0859375000, A:0.4116, B: 0.0668, C:0.3624, D:-0.2144.\n",
      "Epoch:   6, loss: 965.1318969727, A:0.1862, B: 0.2906, C:0.1385, D:0.0111.\n",
      "Epoch:   7, loss: 2660.5495605469, A:-0.0518, B: 0.3255, C:-0.0979, D:0.0477.\n",
      "Epoch:   8, loss: 8390.2724609375, A:-0.1880, B: 0.2017, C:-0.2325, D:-0.0744.\n",
      "Epoch:   9, loss: 7496.8461914062, A:-0.1747, B: -0.0186, C:-0.2175, D:-0.2931.\n",
      "Epoch:  10, loss: 2069.5524902344, A:-0.0431, B: -0.2654, C:-0.0842, D:-0.5382.\n",
      "Epoch:  11, loss: 200.7236328125, A:0.1368, B: -0.4685, C:0.0974, D:-0.7396.\n",
      "Epoch:  12, loss: 3356.4538574219, A:0.2844, B: -0.5752, C:0.2468, D:-0.8444.\n",
      "Epoch:  13, loss: 5553.1884765625, A:0.3390, B: -0.5675, C:0.3033, D:-0.8349.\n",
      "Epoch:  14, loss: 3420.5263671875, A:0.2887, B: -0.4626, C:0.2549, D:-0.7281.\n",
      "Epoch:  15, loss: 402.0992431641, A:0.1664, B: -0.2984, C:0.1345, D:-0.5622.\n",
      "Epoch:  16, loss: 534.0267944336, A:0.0291, B: -0.1232, C:-0.0009, D:-0.3851.\n",
      "Epoch:  17, loss: 2758.1704101562, A:-0.0643, B: 0.0154, C:-0.0923, D:-0.2447.\n",
      "Epoch:  18, loss: 3254.9233398438, A:-0.0779, B: 0.0825, C:-0.1038, D:-0.1757.\n",
      "Epoch:  19, loss: 1406.6529541016, A:-0.0140, B: 0.0667, C:-0.0379, D:-0.1896.\n",
      "Epoch:  20, loss: 48.9817085266, A:0.0934, B: -0.0194, C:0.0715, D:-0.2739.\n",
      "Epoch:  21, loss: 827.2721557617, A:0.1951, B: -0.1463, C:0.1753, D:-0.3990.\n",
      "Epoch:  22, loss: 2034.1253662109, A:0.2476, B: -0.2765, C:0.2299, D:-0.5273.\n",
      "Epoch:  23, loss: 1655.8903808594, A:0.2321, B: -0.3734, C:0.2166, D:-0.6224.\n",
      "Epoch:  24, loss: 391.6748657227, A:0.1616, B: -0.4125, C:0.1482, D:-0.6597.\n",
      "Epoch:  25, loss: 138.9401397705, A:0.0714, B: -0.3877, C:0.0602, D:-0.6332.\n",
      "Epoch:  26, loss: 971.4733886719, A:0.0032, B: -0.3117, C:-0.0058, D:-0.5554.\n",
      "Epoch:  27, loss: 1310.8395996094, A:-0.0138, B: -0.2103, C:-0.0206, D:-0.4522.\n",
      "Epoch:  28, loss: 611.0307617188, A:0.0237, B: -0.1147, C:0.0191, D:-0.3549.\n",
      "Epoch:  29, loss: 33.9610900879, A:0.0940, B: -0.0527, C:0.0917, D:-0.2912.\n",
      "Epoch:  30, loss: 374.5270690918, A:0.1621, B: -0.0399, C:0.1621, D:-0.2767.\n",
      "Epoch:  31, loss: 864.1604614258, A:0.1960, B: -0.0761, C:0.1983, D:-0.3113.\n",
      "Epoch:  32, loss: 621.8586425781, A:0.1825, B: -0.1463, C:0.1870, D:-0.3799.\n",
      "Epoch:  33, loss: 84.2473068237, A:0.1318, B: -0.2266, C:0.1387, D:-0.4586.\n",
      "Epoch:  34, loss: 103.3635025024, A:0.0714, B: -0.2913, C:0.0806, D:-0.5218.\n",
      "Epoch:  35, loss: 501.8335266113, A:0.0317, B: -0.3215, C:0.0432, D:-0.5504.\n",
      "Epoch:  36, loss: 513.4899291992, A:0.0306, B: -0.3103, C:0.0444, D:-0.5378.\n",
      "Epoch:  37, loss: 136.6591033936, A:0.0655, B: -0.2649, C:0.0816, D:-0.4909.\n",
      "Epoch:  38, loss: 17.9222030640, A:0.1159, B: -0.2025, C:0.1344, D:-0.4271.\n",
      "Epoch:  39, loss: 270.5682678223, A:0.1548, B: -0.1447, C:0.1756, D:-0.3680.\n",
      "Epoch:  40, loss: 367.3324584961, A:0.1630, B: -0.1104, C:0.1862, D:-0.3323.\n",
      "Epoch:  41, loss: 139.7427520752, A:0.1388, B: -0.1089, C:0.1643, D:-0.3296.\n",
      "Epoch:  42, loss: 6.9623427391, A:0.0975, B: -0.1381, C:0.1253, D:-0.3576.\n",
      "Epoch:  43, loss: 153.3146209717, A:0.0624, B: -0.1856, C:0.0926, D:-0.4039.\n",
      "Epoch:  44, loss: 245.4873046875, A:0.0519, B: -0.2337, C:0.0844, D:-0.4508.\n",
      "Epoch:  45, loss: 107.1792221069, A:0.0697, B: -0.2656, C:0.1045, D:-0.4816.\n",
      "Epoch:  46, loss: 6.7124686241, A:0.1036, B: -0.2716, C:0.1408, D:-0.4865.\n",
      "Epoch:  47, loss: 99.8297195435, A:0.1336, B: -0.2516, C:0.1732, D:-0.4655.\n",
      "Epoch:  48, loss: 164.4316711426, A:0.1432, B: -0.2150, C:0.1851, D:-0.4279.\n",
      "Epoch:  49, loss: 69.4642944336, A:0.1286, B: -0.1762, C:0.1728, D:-0.3882.\n",
      "Epoch:  50, loss: 3.5044910908, A:0.1002, B: -0.1496, C:0.1467, D:-0.3607.\n",
      "Epoch:  51, loss: 72.1472167969, A:0.0754, B: -0.1439, C:0.1242, D:-0.3541.\n",
      "Epoch:  52, loss: 111.6056976318, A:0.0682, B: -0.1595, C:0.1194, D:-0.3689.\n",
      "Epoch:  53, loss: 40.3477478027, A:0.0815, B: -0.1887, C:0.1349, D:-0.3974.\n",
      "Epoch:  54, loss: 1.8861871958, A:0.1056, B: -0.2195, C:0.1613, D:-0.4274.\n",
      "Epoch:  55, loss: 55.0017433167, A:0.1252, B: -0.2400, C:0.1832, D:-0.4472.\n",
      "Epoch:  56, loss: 73.7437667847, A:0.1289, B: -0.2432, C:0.1892, D:-0.4498.\n",
      "Epoch:  57, loss: 20.3337287903, A:0.1158, B: -0.2294, C:0.1783, D:-0.4353.\n",
      "Epoch:  58, loss: 4.0489010811, A:0.0953, B: -0.2053, C:0.1600, D:-0.4107.\n",
      "Epoch:  59, loss: 43.3276824951, A:0.0806, B: -0.1813, C:0.1476, D:-0.3862.\n",
      "Epoch:  60, loss: 45.0174179077, A:0.0804, B: -0.1670, C:0.1496, D:-0.3713.\n",
      "Epoch:  61, loss: 7.6976308823, A:0.0935, B: -0.1672, C:0.1649, D:-0.3711.\n",
      "Epoch:  62, loss: 8.2899885178, A:0.1106, B: -0.1806, C:0.1841, D:-0.3840.\n",
      "Epoch:  63, loss: 33.9207839966, A:0.1203, B: -0.2007, C:0.1960, D:-0.4037.\n",
      "Epoch:  64, loss: 23.7928161621, A:0.1171, B: -0.2186, C:0.1949, D:-0.4212.\n",
      "Epoch:  65, loss: 1.6004412174, A:0.1041, B: -0.2271, C:0.1841, D:-0.4294.\n",
      "Epoch:  66, loss: 12.1089334488, A:0.0906, B: -0.2236, C:0.1727, D:-0.4256.\n",
      "Epoch:  67, loss: 24.5937271118, A:0.0856, B: -0.2105, C:0.1698, D:-0.4122.\n",
      "Epoch:  68, loss: 9.6275863647, A:0.0915, B: -0.1942, C:0.1778, D:-0.3956.\n",
      "Epoch:  69, loss: 0.8673996925, A:0.1035, B: -0.1819, C:0.1918, D:-0.3831.\n",
      "Epoch:  70, loss: 13.6023969650, A:0.1130, B: -0.1785, C:0.2034, D:-0.3795.\n",
      "Epoch:  71, loss: 15.0823040009, A:0.1137, B: -0.1847, C:0.2061, D:-0.3855.\n",
      "Epoch:  72, loss: 2.1082434654, A:0.1060, B: -0.1970, C:0.2004, D:-0.3977.\n",
      "Epoch:  73, loss: 3.1298537254, A:0.0958, B: -0.2095, C:0.1921, D:-0.4100.\n",
      "Epoch:  74, loss: 11.9496097565, A:0.0903, B: -0.2166, C:0.1887, D:-0.4170.\n",
      "Epoch:  75, loss: 6.8406538963, A:0.0931, B: -0.2157, C:0.1933, D:-0.4159.\n",
      "Epoch:  76, loss: 0.1028629616, A:0.1013, B: -0.2079, C:0.2035, D:-0.4080.\n",
      "Epoch:  77, loss: 5.4245080948, A:0.1087, B: -0.1972, C:0.2128, D:-0.3973.\n",
      "Epoch:  78, loss: 7.8429622650, A:0.1101, B: -0.1889, C:0.2161, D:-0.3889.\n",
      "Epoch:  79, loss: 1.6815379858, A:0.1050, B: -0.1864, C:0.2128, D:-0.3864.\n",
      "Epoch:  80, loss: 1.3272118568, A:0.0976, B: -0.1904, C:0.2073, D:-0.3904.\n",
      "Epoch:  81, loss: 5.6442790031, A:0.0935, B: -0.1985, C:0.2050, D:-0.3984.\n",
      "Epoch:  82, loss: 3.3233332634, A:0.0953, B: -0.2065, C:0.2086, D:-0.4064.\n",
      "Epoch:  83, loss: 0.1644711196, A:0.1012, B: -0.2108, C:0.2162, D:-0.4107.\n",
      "Epoch:  84, loss: 2.9244756699, A:0.1064, B: -0.2096, C:0.2232, D:-0.4095.\n",
      "Epoch:  85, loss: 3.7016303539, A:0.1072, B: -0.2040, C:0.2257, D:-0.4039.\n",
      "Epoch:  86, loss: 0.5264006257, A:0.1033, B: -0.1970, C:0.2235, D:-0.3970.\n",
      "Epoch:  87, loss: 0.9383697510, A:0.0980, B: -0.1922, C:0.2199, D:-0.3922.\n",
      "Epoch:  88, loss: 2.9785413742, A:0.0955, B: -0.1916, C:0.2191, D:-0.3916.\n",
      "Epoch:  89, loss: 1.2764685154, A:0.0974, B: -0.1951, C:0.2226, D:-0.3952.\n",
      "Epoch:  90, loss: 0.0875913650, A:0.1018, B: -0.2008, C:0.2286, D:-0.4009.\n",
      "Epoch:  91, loss: 1.7658910751, A:0.1051, B: -0.2055, C:0.2335, D:-0.4057.\n",
      "Epoch:  92, loss: 1.6113873720, A:0.1049, B: -0.2071, C:0.2348, D:-0.4073.\n",
      "Epoch:  93, loss: 0.0890473649, A:0.1016, B: -0.2050, C:0.2330, D:-0.4053.\n",
      "Epoch:  94, loss: 0.7924745679, A:0.0980, B: -0.2007, C:0.2310, D:-0.4010.\n",
      "Epoch:  95, loss: 1.4212971926, A:0.0970, B: -0.1964, C:0.2315, D:-0.3968.\n",
      "Epoch:  96, loss: 0.3178462982, A:0.0992, B: -0.1944, C:0.2351, D:-0.3949.\n",
      "Epoch:  97, loss: 0.2815958261, A:0.1024, B: -0.1954, C:0.2398, D:-0.3960.\n",
      "Epoch:  98, loss: 1.0412595272, A:0.1040, B: -0.1987, C:0.2429, D:-0.3993.\n",
      "Epoch:  99, loss: 0.4658047855, A:0.1029, B: -0.2023, C:0.2432, D:-0.4030.\n",
      "Epoch: 100, loss: 0.0668647662, A:0.1002, B: -0.2044, C:0.2418, D:-0.4052.\n",
      "Epoch: 101, loss: 0.6778160930, A:0.0981, B: -0.2041, C:0.2411, D:-0.4049.\n",
      "Epoch: 102, loss: 0.5192943811, A:0.0984, B: -0.2016, C:0.2428, D:-0.4025.\n",
      "Epoch: 103, loss: 0.0127769578, A:0.1005, B: -0.1986, C:0.2462, D:-0.3995.\n",
      "Epoch: 104, loss: 0.3782538176, A:0.1026, B: -0.1966, C:0.2495, D:-0.3976.\n",
      "Epoch: 105, loss: 0.4874967039, A:0.1029, B: -0.1966, C:0.2511, D:-0.3976.\n",
      "Epoch: 106, loss: 0.0471445248, A:0.1013, B: -0.1984, C:0.2507, D:-0.3995.\n",
      "Epoch: 107, loss: 0.1772626638, A:0.0993, B: -0.2009, C:0.2500, D:-0.4021.\n",
      "Epoch: 108, loss: 0.3899395764, A:0.0986, B: -0.2027, C:0.2505, D:-0.4039.\n",
      "Epoch: 109, loss: 0.0925780609, A:0.0997, B: -0.2029, C:0.2528, D:-0.4041.\n",
      "Epoch: 110, loss: 0.0767740011, A:0.1014, B: -0.2015, C:0.2557, D:-0.4028.\n",
      "Epoch: 111, loss: 0.2816357017, A:0.1023, B: -0.1994, C:0.2576, D:-0.4008.\n",
      "Epoch: 112, loss: 0.1093018427, A:0.1016, B: -0.1979, C:0.2580, D:-0.3993.\n",
      "Epoch: 113, loss: 0.0334855095, A:0.1001, B: -0.1977, C:0.2576, D:-0.3991.\n",
      "Epoch: 114, loss: 0.1974137574, A:0.0991, B: -0.1988, C:0.2578, D:-0.4002.\n",
      "Epoch: 115, loss: 0.1066448689, A:0.0995, B: -0.2005, C:0.2592, D:-0.4020.\n",
      "Epoch: 116, loss: 0.0122205131, A:0.1007, B: -0.2017, C:0.2615, D:-0.4033.\n",
      "Epoch: 117, loss: 0.1352720857, A:0.1016, B: -0.2019, C:0.2634, D:-0.4035.\n",
      "Epoch: 118, loss: 0.0982546955, A:0.1015, B: -0.2010, C:0.2642, D:-0.4026.\n",
      "Epoch: 119, loss: 0.0039028507, A:0.1004, B: -0.1996, C:0.2642, D:-0.4012.\n",
      "Epoch: 120, loss: 0.0880327299, A:0.0995, B: -0.1986, C:0.2642, D:-0.4002.\n",
      "Epoch: 121, loss: 0.0849488303, A:0.0995, B: -0.1985, C:0.2651, D:-0.4001.\n",
      "Epoch: 122, loss: 0.0044111987, A:0.1003, B: -0.1992, C:0.2669, D:-0.4009.\n",
      "Epoch: 123, loss: 0.0558144487, A:0.1012, B: -0.2004, C:0.2686, D:-0.4021.\n",
      "Epoch: 124, loss: 0.0676475391, A:0.1012, B: -0.2012, C:0.2695, D:-0.4029.\n",
      "Epoch: 125, loss: 0.0063732513, A:0.1005, B: -0.2013, C:0.2697, D:-0.4030.\n",
      "Epoch: 126, loss: 0.0369527265, A:0.0998, B: -0.2006, C:0.2698, D:-0.4023.\n",
      "Epoch: 127, loss: 0.0514509454, A:0.0997, B: -0.1996, C:0.2705, D:-0.4014.\n",
      "Epoch: 128, loss: 0.0060656369, A:0.1002, B: -0.1990, C:0.2718, D:-0.4008.\n",
      "Epoch: 129, loss: 0.0257339869, A:0.1008, B: -0.1990, C:0.2732, D:-0.4008.\n",
      "Epoch: 130, loss: 0.0392561145, A:0.1010, B: -0.1996, C:0.2741, D:-0.4014.\n",
      "Epoch: 131, loss: 0.0047621410, A:0.1005, B: -0.2004, C:0.2744, D:-0.4021.\n",
      "Epoch: 132, loss: 0.0178974774, A:0.0999, B: -0.2009, C:0.2746, D:-0.4026.\n",
      "Epoch: 133, loss: 0.0300771371, A:0.0998, B: -0.2008, C:0.2752, D:-0.4025.\n",
      "Epoch: 134, loss: 0.0039932197, A:0.1001, B: -0.2002, C:0.2762, D:-0.4020.\n",
      "Epoch: 135, loss: 0.0124435825, A:0.1006, B: -0.1996, C:0.2774, D:-0.4014.\n",
      "Epoch: 136, loss: 0.0224797633, A:0.1007, B: -0.1993, C:0.2782, D:-0.4010.\n",
      "Epoch: 137, loss: 0.0035103033, A:0.1004, B: -0.1994, C:0.2785, D:-0.4012.\n",
      "Epoch: 138, loss: 0.0092085497, A:0.1000, B: -0.1999, C:0.2787, D:-0.4017.\n",
      "Epoch: 139, loss: 0.0163229760, A:0.0999, B: -0.2004, C:0.2792, D:-0.4022.\n",
      "Epoch: 140, loss: 0.0027283723, A:0.1001, B: -0.2006, C:0.2801, D:-0.4024.\n",
      "Epoch: 141, loss: 0.0073793787, A:0.1005, B: -0.2004, C:0.2810, D:-0.4022.\n",
      "Epoch: 142, loss: 0.0118126143, A:0.1006, B: -0.2000, C:0.2817, D:-0.4017.\n",
      "Epoch: 143, loss: 0.0017819756, A:0.1003, B: -0.1996, C:0.2820, D:-0.4014.\n",
      "Epoch: 144, loss: 0.0060598115, A:0.1000, B: -0.1995, C:0.2822, D:-0.4013.\n",
      "Epoch: 145, loss: 0.0086454581, A:0.0999, B: -0.1997, C:0.2827, D:-0.4015.\n",
      "Epoch: 146, loss: 0.0010879105, A:0.1002, B: -0.2001, C:0.2834, D:-0.4018.\n",
      "Epoch: 147, loss: 0.0049128681, A:0.1004, B: -0.2004, C:0.2842, D:-0.4021.\n",
      "Epoch: 148, loss: 0.0062747011, A:0.1004, B: -0.2004, C:0.2847, D:-0.4021.\n",
      "Epoch: 149, loss: 0.0007581959, A:0.1002, B: -0.2002, C:0.2850, D:-0.4019.\n",
      "Epoch: 150, loss: 0.0039869789, A:0.1000, B: -0.1999, C:0.2852, D:-0.4015.\n",
      "Epoch: 151, loss: 0.0043827072, A:0.1000, B: -0.1997, C:0.2857, D:-0.4014.\n",
      "Epoch: 152, loss: 0.0006307901, A:0.1002, B: -0.1997, C:0.2863, D:-0.4014.\n",
      "Epoch: 153, loss: 0.0033082792, A:0.1003, B: -0.2000, C:0.2869, D:-0.4016.\n",
      "Epoch: 154, loss: 0.0029134119, A:0.1003, B: -0.2002, C:0.2873, D:-0.4019.\n",
      "Epoch: 155, loss: 0.0005583400, A:0.1001, B: -0.2003, C:0.2875, D:-0.4020.\n",
      "Epoch: 156, loss: 0.0027751406, A:0.1000, B: -0.2002, C:0.2878, D:-0.4018.\n",
      "Epoch: 157, loss: 0.0018607808, A:0.1000, B: -0.2000, C:0.2882, D:-0.4016.\n",
      "Epoch: 158, loss: 0.0005151373, A:0.1002, B: -0.1998, C:0.2887, D:-0.4015.\n",
      "Epoch: 159, loss: 0.0022782616, A:0.1003, B: -0.1998, C:0.2892, D:-0.4014.\n",
      "Epoch: 160, loss: 0.0011550700, A:0.1002, B: -0.1999, C:0.2895, D:-0.4016.\n",
      "Epoch: 161, loss: 0.0005213185, A:0.1001, B: -0.2001, C:0.2897, D:-0.4017.\n",
      "Epoch: 162, loss: 0.0017881671, A:0.1000, B: -0.2002, C:0.2900, D:-0.4018.\n",
      "Epoch: 163, loss: 0.0006939496, A:0.1001, B: -0.2002, C:0.2903, D:-0.4018.\n",
      "Epoch: 164, loss: 0.0005664055, A:0.1002, B: -0.2000, C:0.2908, D:-0.4017.\n",
      "Epoch: 165, loss: 0.0013324074, A:0.1002, B: -0.1999, C:0.2911, D:-0.4015.\n",
      "Epoch: 166, loss: 0.0004006509, A:0.1002, B: -0.1999, C:0.2914, D:-0.4015.\n",
      "Epoch: 167, loss: 0.0006081348, A:0.1000, B: -0.1999, C:0.2915, D:-0.4015.\n",
      "Epoch: 168, loss: 0.0009435295, A:0.1000, B: -0.2000, C:0.2918, D:-0.4017.\n",
      "Epoch: 169, loss: 0.0002340553, A:0.1001, B: -0.2001, C:0.2921, D:-0.4017.\n",
      "Epoch: 170, loss: 0.0006099326, A:0.1002, B: -0.2001, C:0.2925, D:-0.4018.\n",
      "Epoch: 171, loss: 0.0006335918, A:0.1002, B: -0.2001, C:0.2927, D:-0.4017.\n",
      "Epoch: 172, loss: 0.0001655564, A:0.1001, B: -0.2000, C:0.2929, D:-0.4016.\n",
      "Epoch: 173, loss: 0.0005609297, A:0.1000, B: -0.1999, C:0.2931, D:-0.4015.\n",
      "Epoch: 174, loss: 0.0004003612, A:0.1000, B: -0.1999, C:0.2933, D:-0.4016.\n",
      "Epoch: 175, loss: 0.0001620234, A:0.1001, B: -0.2000, C:0.2936, D:-0.4016.\n",
      "Epoch: 176, loss: 0.0004725989, A:0.1001, B: -0.2001, C:0.2939, D:-0.4017.\n",
      "Epoch: 177, loss: 0.0002382575, A:0.1001, B: -0.2001, C:0.2941, D:-0.4017.\n",
      "Epoch: 178, loss: 0.0001864684, A:0.1000, B: -0.2000, C:0.2942, D:-0.4017.\n",
      "Epoch: 179, loss: 0.0003659943, A:0.1000, B: -0.2000, C:0.2944, D:-0.4016.\n",
      "Epoch: 180, loss: 0.0001403852, A:0.1001, B: -0.1999, C:0.2946, D:-0.4016.\n",
      "Epoch: 181, loss: 0.0002080826, A:0.1001, B: -0.2000, C:0.2948, D:-0.4016.\n",
      "Epoch: 182, loss: 0.0002608938, A:0.1001, B: -0.2000, C:0.2950, D:-0.4016.\n",
      "Epoch: 183, loss: 0.0000957361, A:0.1001, B: -0.2001, C:0.2952, D:-0.4017.\n",
      "Epoch: 184, loss: 0.0002096295, A:0.1000, B: -0.2001, C:0.2953, D:-0.4017.\n",
      "Epoch: 185, loss: 0.0001725926, A:0.1000, B: -0.2000, C:0.2954, D:-0.4017.\n",
      "Epoch: 186, loss: 0.0000874431, A:0.1001, B: -0.2000, C:0.2956, D:-0.4016.\n",
      "Epoch: 187, loss: 0.0001882137, A:0.1001, B: -0.2000, C:0.2958, D:-0.4016.\n",
      "Epoch: 188, loss: 0.0001100369, A:0.1001, B: -0.2000, C:0.2959, D:-0.4016.\n",
      "Epoch: 189, loss: 0.0000959151, A:0.1000, B: -0.2000, C:0.2961, D:-0.4016.\n",
      "Epoch: 190, loss: 0.0001513895, A:0.1000, B: -0.2000, C:0.2962, D:-0.4017.\n",
      "Epoch: 191, loss: 0.0000750612, A:0.1000, B: -0.2001, C:0.2963, D:-0.4017.\n",
      "Epoch: 192, loss: 0.0001043910, A:0.1001, B: -0.2000, C:0.2965, D:-0.4017.\n",
      "Epoch: 193, loss: 0.0001110934, A:0.1001, B: -0.2000, C:0.2966, D:-0.4016.\n",
      "Epoch: 194, loss: 0.0000627049, A:0.1000, B: -0.2000, C:0.2967, D:-0.4016.\n",
      "Epoch: 195, loss: 0.0001033291, A:0.1000, B: -0.2000, C:0.2968, D:-0.4016.\n",
      "Epoch: 196, loss: 0.0000780917, A:0.1000, B: -0.2000, C:0.2969, D:-0.4016.\n",
      "Epoch: 197, loss: 0.0000635424, A:0.1000, B: -0.2000, C:0.2970, D:-0.4017.\n",
      "Epoch: 198, loss: 0.0000916205, A:0.1001, B: -0.2000, C:0.2971, D:-0.4017.\n",
      "Epoch: 199, loss: 0.0000581000, A:0.1000, B: -0.2000, C:0.2972, D:-0.4017.\n",
      "Epoch: 200, loss: 0.0000675472, A:0.1000, B: -0.2000, C:0.2973, D:-0.4016.\n",
      "Epoch: 201, loss: 0.0000743619, A:0.1000, B: -0.2000, C:0.2974, D:-0.4016.\n",
      "Epoch: 202, loss: 0.0000507487, A:0.1000, B: -0.2000, C:0.2975, D:-0.4016.\n",
      "Epoch: 203, loss: 0.0000679098, A:0.1000, B: -0.2000, C:0.2976, D:-0.4016.\n",
      "Epoch: 204, loss: 0.0000584303, A:0.1000, B: -0.2000, C:0.2977, D:-0.4017.\n",
      "Epoch: 205, loss: 0.0000511923, A:0.1000, B: -0.2000, C:0.2977, D:-0.4017.\n",
      "Epoch: 206, loss: 0.0000628736, A:0.1000, B: -0.2000, C:0.2978, D:-0.4016.\n",
      "Epoch: 207, loss: 0.0000484577, A:0.1000, B: -0.2000, C:0.2979, D:-0.4016.\n",
      "Epoch: 208, loss: 0.0000534131, A:0.1000, B: -0.2000, C:0.2980, D:-0.4016.\n",
      "Epoch: 209, loss: 0.0000547870, A:0.1000, B: -0.2000, C:0.2980, D:-0.4016.\n",
      "Epoch: 210, loss: 0.0000450820, A:0.1000, B: -0.2000, C:0.2981, D:-0.4016.\n",
      "Epoch: 211, loss: 0.0000533091, A:0.1000, B: -0.2000, C:0.2981, D:-0.4017.\n",
      "Epoch: 212, loss: 0.0000475069, A:0.1000, B: -0.2000, C:0.2982, D:-0.4017.\n",
      "Epoch: 213, loss: 0.0000456508, A:0.1000, B: -0.2000, C:0.2983, D:-0.4016.\n",
      "Epoch: 214, loss: 0.0000501848, A:0.1000, B: -0.2000, C:0.2983, D:-0.4016.\n",
      "Epoch: 215, loss: 0.0000435102, A:0.1000, B: -0.2000, C:0.2984, D:-0.4016.\n",
      "Epoch: 216, loss: 0.0000467031, A:0.1000, B: -0.2000, C:0.2984, D:-0.4016.\n",
      "Epoch: 217, loss: 0.0000458578, A:0.1000, B: -0.2000, C:0.2984, D:-0.4017.\n",
      "Epoch: 218, loss: 0.0000427244, A:0.1000, B: -0.2000, C:0.2985, D:-0.4017.\n",
      "Epoch: 219, loss: 0.0000461351, A:0.1000, B: -0.2000, C:0.2985, D:-0.4016.\n",
      "Epoch: 220, loss: 0.0000425847, A:0.1000, B: -0.2000, C:0.2986, D:-0.4016.\n",
      "Epoch: 221, loss: 0.0000433283, A:0.1000, B: -0.2000, C:0.2986, D:-0.4016.\n",
      "Epoch: 222, loss: 0.0000441158, A:0.1000, B: -0.2000, C:0.2987, D:-0.4016.\n",
      "Epoch: 223, loss: 0.0000413692, A:0.1000, B: -0.2000, C:0.2987, D:-0.4016.\n",
      "Epoch: 224, loss: 0.0000434857, A:0.1000, B: -0.2000, C:0.2987, D:-0.4017.\n",
      "Epoch: 225, loss: 0.0000419974, A:0.1000, B: -0.2000, C:0.2988, D:-0.4017.\n",
      "Epoch: 226, loss: 0.0000415605, A:0.1000, B: -0.2000, C:0.2988, D:-0.4016.\n",
      "Epoch: 227, loss: 0.0000426136, A:0.1000, B: -0.2000, C:0.2988, D:-0.4016.\n",
      "Epoch: 228, loss: 0.0000408790, A:0.1000, B: -0.2000, C:0.2989, D:-0.4016.\n",
      "Epoch: 229, loss: 0.0000418779, A:0.1000, B: -0.2000, C:0.2989, D:-0.4016.\n",
      "Epoch: 230, loss: 0.0000413424, A:0.1000, B: -0.2000, C:0.2989, D:-0.4016.\n",
      "Epoch: 231, loss: 0.0000407977, A:0.1000, B: -0.2000, C:0.2989, D:-0.4016.\n",
      "Epoch: 232, loss: 0.0000415889, A:0.1000, B: -0.2000, C:0.2990, D:-0.4016.\n",
      "Epoch: 233, loss: 0.0000405230, A:0.1000, B: -0.2000, C:0.2990, D:-0.4016.\n",
      "Epoch: 234, loss: 0.0000410132, A:0.1000, B: -0.2000, C:0.2990, D:-0.4016.\n",
      "Epoch: 235, loss: 0.0000408895, A:0.1000, B: -0.2000, C:0.2990, D:-0.4016.\n",
      "Epoch: 236, loss: 0.0000403815, A:0.1000, B: -0.2000, C:0.2990, D:-0.4016.\n",
      "Epoch: 237, loss: 0.0000409338, A:0.1000, B: -0.2000, C:0.2991, D:-0.4016.\n",
      "Epoch: 238, loss: 0.0000403483, A:0.1000, B: -0.2000, C:0.2991, D:-0.4016.\n",
      "Epoch: 239, loss: 0.0000405376, A:0.1000, B: -0.2000, C:0.2991, D:-0.4016.\n",
      "Epoch: 240, loss: 0.0000405364, A:0.1000, B: -0.2000, C:0.2991, D:-0.4016.\n",
      "Epoch: 241, loss: 0.0000402161, A:0.1000, B: -0.2000, C:0.2991, D:-0.4016.\n",
      "Epoch: 242, loss: 0.0000405368, A:0.1000, B: -0.2000, C:0.2992, D:-0.4016.\n",
      "Epoch: 243, loss: 0.0000401920, A:0.1000, B: -0.2000, C:0.2992, D:-0.4016.\n",
      "Epoch: 244, loss: 0.0000402956, A:0.1000, B: -0.2000, C:0.2992, D:-0.4016.\n",
      "Epoch: 245, loss: 0.0000403228, A:0.1000, B: -0.2000, C:0.2992, D:-0.4016.\n",
      "Epoch: 246, loss: 0.0000401075, A:0.1000, B: -0.2000, C:0.2992, D:-0.4016.\n",
      "Epoch: 247, loss: 0.0000403127, A:0.1000, B: -0.2000, C:0.2992, D:-0.4016.\n",
      "Epoch: 248, loss: 0.0000401068, A:0.1000, B: -0.2000, C:0.2992, D:-0.4016.\n",
      "Epoch: 249, loss: 0.0000401646, A:0.1000, B: -0.2000, C:0.2992, D:-0.4016.\n",
      "Epoch: 250, loss: 0.0000401797, A:0.1000, B: -0.2000, C:0.2992, D:-0.4016.\n",
      "Epoch: 251, loss: 0.0000400564, A:0.1000, B: -0.2000, C:0.2993, D:-0.4016.\n",
      "Epoch: 252, loss: 0.0000401751, A:0.1000, B: -0.2000, C:0.2993, D:-0.4016.\n",
      "Epoch: 253, loss: 0.0000400479, A:0.1000, B: -0.2000, C:0.2993, D:-0.4016.\n",
      "Epoch: 254, loss: 0.0000400966, A:0.1000, B: -0.2000, C:0.2993, D:-0.4016.\n",
      "Epoch: 255, loss: 0.0000400961, A:0.1000, B: -0.2000, C:0.2993, D:-0.4016.\n",
      "Epoch: 256, loss: 0.0000400315, A:0.1000, B: -0.2000, C:0.2993, D:-0.4016.\n",
      "Epoch: 257, loss: 0.0000401004, A:0.1000, B: -0.2000, C:0.2993, D:-0.4016.\n",
      "Epoch: 258, loss: 0.0000400249, A:0.1000, B: -0.2000, C:0.2993, D:-0.4016.\n",
      "Epoch: 259, loss: 0.0000400562, A:0.1000, B: -0.2000, C:0.2993, D:-0.4016.\n",
      "Epoch: 260, loss: 0.0000400456, A:0.1000, B: -0.2000, C:0.2993, D:-0.4016.\n",
      "Epoch: 261, loss: 0.0000400151, A:0.1000, B: -0.2000, C:0.2993, D:-0.4016.\n",
      "Epoch: 262, loss: 0.0000400479, A:0.1000, B: -0.2000, C:0.2993, D:-0.4016.\n",
      "Epoch: 263, loss: 0.0000400047, A:0.1000, B: -0.2000, C:0.2993, D:-0.4016.\n",
      "Epoch: 264, loss: 0.0000400315, A:0.1000, B: -0.2000, C:0.2993, D:-0.4016.\n",
      "Epoch: 265, loss: 0.0000400166, A:0.1000, B: -0.2000, C:0.2993, D:-0.4016.\n",
      "Epoch: 266, loss: 0.0000400081, A:0.1000, B: -0.2000, C:0.2993, D:-0.4016.\n",
      "Epoch: 267, loss: 0.0000400292, A:0.1000, B: -0.2000, C:0.2993, D:-0.4016.\n",
      "Epoch: 268, loss: 0.0000399994, A:0.1000, B: -0.2000, C:0.2994, D:-0.4016.\n",
      "Epoch: 269, loss: 0.0000400171, A:0.1000, B: -0.2000, C:0.2994, D:-0.4016.\n",
      "Epoch: 270, loss: 0.0000400025, A:0.1000, B: -0.2000, C:0.2994, D:-0.4016.\n",
      "Epoch: 271, loss: 0.0000400042, A:0.1000, B: -0.2000, C:0.2994, D:-0.4016.\n",
      "Epoch: 272, loss: 0.0000400119, A:0.1000, B: -0.2000, C:0.2994, D:-0.4016.\n",
      "Epoch: 273, loss: 0.0000399994, A:0.1000, B: -0.2000, C:0.2994, D:-0.4016.\n",
      "Epoch: 274, loss: 0.0000400102, A:0.1000, B: -0.2000, C:0.2994, D:-0.4016.\n",
      "Epoch: 275, loss: 0.0000399977, A:0.1000, B: -0.2000, C:0.2994, D:-0.4016.\n",
      "Epoch: 276, loss: 0.0000400013, A:0.1000, B: -0.2000, C:0.2994, D:-0.4016.\n",
      "Epoch: 277, loss: 0.0000400010, A:0.1000, B: -0.2000, C:0.2994, D:-0.4016.\n",
      "Epoch: 278, loss: 0.0000399969, A:0.1000, B: -0.2000, C:0.2994, D:-0.4016.\n",
      "Epoch: 279, loss: 0.0000400076, A:0.1000, B: -0.2000, C:0.2994, D:-0.4016.\n",
      "Epoch: 280, loss: 0.0000400001, A:0.1000, B: -0.2000, C:0.2994, D:-0.4016.\n",
      "Epoch: 281, loss: 0.0000399962, A:0.1000, B: -0.2000, C:0.2994, D:-0.4016.\n",
      "Epoch: 282, loss: 0.0000399999, A:0.1000, B: -0.2000, C:0.2994, D:-0.4016.\n",
      "Epoch: 283, loss: 0.0000399941, A:0.1000, B: -0.2000, C:0.2994, D:-0.4016.\n",
      "Epoch: 284, loss: 0.0000400006, A:0.1000, B: -0.2000, C:0.2994, D:-0.4016.\n",
      "Epoch: 285, loss: 0.0000399917, A:0.1000, B: -0.2000, C:0.2994, D:-0.4016.\n",
      "Epoch: 286, loss: 0.0000399976, A:0.1000, B: -0.2000, C:0.2994, D:-0.4016.\n",
      "Epoch: 287, loss: 0.0000399983, A:0.1000, B: -0.2000, C:0.2994, D:-0.4016.\n",
      "Epoch: 288, loss: 0.0000399991, A:0.1000, B: -0.2000, C:0.2994, D:-0.4016.\n",
      "Epoch: 289, loss: 0.0000399928, A:0.1000, B: -0.2000, C:0.2994, D:-0.4016.\n",
      "Epoch: 290, loss: 0.0000400000, A:0.1000, B: -0.2000, C:0.2994, D:-0.4016.\n",
      "Epoch: 291, loss: 0.0000399945, A:0.1000, B: -0.2000, C:0.2994, D:-0.4016.\n",
      "Epoch: 292, loss: 0.0000399950, A:0.1000, B: -0.2000, C:0.2994, D:-0.4016.\n",
      "Epoch: 293, loss: 0.0000399916, A:0.1000, B: -0.2000, C:0.2994, D:-0.4016.\n",
      "Epoch: 294, loss: 0.0000399968, A:0.1000, B: -0.2000, C:0.2994, D:-0.4016.\n",
      "Epoch: 295, loss: 0.0000400005, A:0.1000, B: -0.2000, C:0.2994, D:-0.4016.\n",
      "Epoch: 296, loss: 0.0000399954, A:0.1000, B: -0.2000, C:0.2994, D:-0.4016.\n",
      "Epoch: 297, loss: 0.0000399975, A:0.1000, B: -0.2000, C:0.2994, D:-0.4016.\n",
      "Epoch: 298, loss: 0.0000399965, A:0.1000, B: -0.2000, C:0.2994, D:-0.4016.\n",
      "Epoch: 299, loss: 0.0000399937, A:0.1000, B: -0.2000, C:0.2994, D:-0.4016.\n"
     ]
    }
   ],
   "source": [
    "for epoch in range(300):\n",
    "    optimizer.minimize(loss_mse, var_list=[A, B, C, D])\n",
    "    print(\"Epoch: {:3d}, loss: {:.10f}, A:{:.4f}, B: {:.4f}, C:{:.4f}, D:{:.4f}.\".format(\n",
    "        epoch, loss_mse().numpy(), A.numpy(), B.numpy(), C.numpy(), D.numpy()))"
   ]
  },
  {
   "cell_type": "markdown",
   "id": "f0aabbbebc43ea38",
   "metadata": {
    "collapsed": false
   },
   "source": [
    "## Evaluation\n",
    "Let's see how far the parameters are from the actual function:"
   ]
  },
  {
   "cell_type": "code",
   "execution_count": 10,
   "id": "17975ed805d47757",
   "metadata": {
    "collapsed": false,
    "ExecuteTime": {
     "end_time": "2024-09-12T18:34:44.093889100Z",
     "start_time": "2024-09-12T18:34:44.080894900Z"
    }
   },
   "outputs": [
    {
     "name": "stdout",
     "output_type": "stream",
     "text": [
      "Original function: y = 0.1*(x**3) + -0.2*(x**2) + 0.3*x + -0.4.\n",
      "Function learned: y = 0.1000*(x**3) + -0.2000*(x**2) + 0.2994*x + -0.4016.\n"
     ]
    }
   ],
   "source": [
    "print(f\"Original function: y = {a}*(x**3) + {b}*(x**2) + {c}*x + {d}.\")\n",
    "print(\"Function learned: y = {:.4f}*(x**3) + {:.4f}*(x**2) + {:.4f}*x + {:.4f}.\".format(\n",
    "    A.numpy(), B.numpy(), C.numpy(), D.numpy()))"
   ]
  },
  {
   "cell_type": "markdown",
   "id": "d76c895e1d0b0dbd",
   "metadata": {
    "collapsed": false
   },
   "source": [
    "Not bad!\n",
    "Let's visualize both functions to see whether there are important differences."
   ]
  },
  {
   "cell_type": "code",
   "execution_count": 11,
   "id": "98b4aa88e78d2c35",
   "metadata": {
    "collapsed": false,
    "ExecuteTime": {
     "end_time": "2024-09-12T18:34:44.287557600Z",
     "start_time": "2024-09-12T18:34:44.093889100Z"
    }
   },
   "outputs": [
    {
     "data": {
      "text/plain": "<Figure size 500x500 with 1 Axes>",
      "image/png": "[encoded data removed]"
     },
     "metadata": {},
     "output_type": "display_data"
    }
   ],
   "source": [
    "y_predicted = A.numpy()*(x**3) + B.numpy()*(x**2) + C.numpy()*x + D.numpy()\n",
    "plot_functions(x, y, y_predicted, \"Original and predicted functions\")"
   ]
  },
  {
   "cell_type": "markdown",
   "id": "c614769f311b3b31",
   "metadata": {
    "collapsed": false
   },
   "source": [
    "## ✨ Questions ✨ \n",
    "\n",
    "1. What happens if you do not add noise to y? Why? Try it out.\n",
    "2. What happens if you add more noise (e.g., noise = np.random.normal(0, 1, len(x))). Why? Try it out."
   ]
  },
  {
   "cell_type": "markdown",
   "id": "d6440c3da7d486fa",
   "metadata": {
    "collapsed": false
   },
   "source": [
    "### Answers\n",
    "\n",
    "1. The prediction could convert to perfect because data perfectly fits the function and the network\n",
    "2. Parameters are not leaned that well because data do not hold the ground-truth information\n",
    " (there has been too much noise added). "
   ]
  },
  {
   "cell_type": "code",
   "execution_count": 11,
   "id": "693df7c865bf5b5a",
   "metadata": {
    "collapsed": false,
    "ExecuteTime": {
     "end_time": "2024-09-12T18:34:44.288723300Z",
     "start_time": "2024-09-12T18:34:44.285180800Z"
    }
   },
   "outputs": [],
   "source": []
  }
 ],
 "metadata": {
  "kernelspec": {
   "display_name": "Python 3 (ipykernel)",
   "language": "python",
   "name": "python3"
  },
  "language_info": {
   "codemirror_mode": {
    "name": "ipython",
    "version": 3
   },
   "file_extension": ".py",
   "mimetype": "text/x-python",
   "name": "python",
   "nbconvert_exporter": "python",
   "pygments_lexer": "ipython3",
   "version": "3.11.4"
  }
 },
 "nbformat": 4,
 "nbformat_minor": 5
}
