{
 "cells": [
  {
   "cell_type": "markdown",
   "source": [
    "[![Open In Colab](https://colab.research.google.com/assets/colab-badge.svg)](https://colab.research.google.com/github/francisco-ortin/data-science-course/blob/main/deep-learning/rnn/embeddings.ipynb)\n",
    "[![License: CC BY-NC-SA 4.0](https://img.shields.io/badge/License-CC%20BY--NC--SA%204.0-lightgrey.svg)](https://creativecommons.org/licenses/by-nc-sa/4.0/)"
   ],
   "metadata": {
    "collapsed": false,
    "id": "87540b40e3958a06"
   },
   "id": "87540b40e3958a06"
  },
  {
   "cell_type": "markdown",
   "source": [
    "# Embeddings\n",
    "\n",
    "Word embeddings are a type of word representation that allows words to be represented as dense vectors in a continuous space. Word embeddings are learned from a large corpus of text and are able to capture the semantic relationships between words. Word embeddings are used in many natural language processing tasks, such as text classification, named entity recognition, and machine translation.\n",
    "\n",
    "In this notebook, we use the existing [ELMo](https://tfhub.dev/google/elmo/3) (Embeddings from Language Models) system from TensorFlow Hub to get embeddings for individual words. ELMo is a deep contextualized word representation model trained on a large corpus of text. It uses a deep bidirectional (i.e., from start to end tokens and from end to start) LSTM network to learn the contextual representations of words in a sentence. ELMo embeddings are 1024-dimensional vectors for each word in a sentence.\n",
    "\n",
    "To compute the similarity between two words, we can use [cosine similarity](https://en.wikipedia.org/wiki/Cosine_similarity) between their ELMo embeddings.\n",
    "Cosine similarity is a measure of similarity between two non-zero vectors, giving a value between -1 and 1. A value of 1 means the vectors are identical, 0 means they are orthogonal, and -1 means they are opposite. [Inner product](https://en.wikipedia.org/wiki/Dot_product) (a.k.a., dot product) between two vectors, which also measures similarity, has a scale that depends on the magnitude of the vectors, while cosine similarity is normalized by the product of the magnitudes of the vectors."
   ],
   "metadata": {
    "collapsed": false
   },
   "id": "af819f8c13c3ccfa"
  },
  {
   "cell_type": "code",
   "execution_count": 1,
   "id": "5f099c66705669f8",
   "metadata": {
    "id": "5f099c66705669f8",
    "ExecuteTime": {
     "end_time": "2024-11-11T15:30:37.254688Z",
     "start_time": "2024-11-11T15:29:49.858522Z"
    }
   },
   "outputs": [
    {
     "name": "stdout",
     "output_type": "stream",
     "text": [
      "Note: you may need to restart the kernel to use updated packages.\n",
      "WARNING:tensorflow:From C:\\Users\\ortin\\AppData\\Roaming\\Python\\Python311\\site-packages\\tf_keras\\src\\losses.py:2976: The name tf.losses.sparse_softmax_cross_entropy is deprecated. Please use tf.compat.v1.losses.sparse_softmax_cross_entropy instead.\n"
     ]
    }
   ],
   "source": [
    "# make sure the required packages are installed\n",
    "%pip install pandas numpy seaborn matplotlib scikit-learn keras tensorflow --quiet\n",
    "# if running in colab, install the required packages and copy the necessary files\n",
    "directory='data-science-course/deep-learning/rnn'\n",
    "if get_ipython().__class__.__module__.startswith('google.colab'):\n",
    "    !git clone https://github.com/francisco-ortin/data-science-course.git  2>/dev/null\n",
    "    !cp --update {directory}/*.py .\n",
    "    !mkdir -p img data\n",
    "    !cp {directory}/data/* data/.\n",
    "    !cp {directory}/img/* img/.\n",
    "\n",
    "import numpy as np\n",
    "import tensorflow as tf\n",
    "import tensorflow_hub as hub\n",
    "from sklearn.metrics.pairwise import cosine_similarity\n",
    "from sklearn.manifold import TSNE\n",
    "import matplotlib.pyplot as plt"
   ]
  },
  {
   "cell_type": "markdown",
   "source": [
    "## Load the ELMo model\n",
    "\n",
    "We load the ELMo model from TensorFlow Hub."
   ],
   "metadata": {
    "collapsed": false
   },
   "id": "65cd51ca9dd147d"
  },
  {
   "cell_type": "code",
   "outputs": [
    {
     "name": "stdout",
     "output_type": "stream",
     "text": [
      "WARNING:tensorflow:From C:\\Users\\ortin\\AppData\\Roaming\\Python\\Python311\\site-packages\\tensorflow_hub\\resolver.py:120: The name tf.gfile.MakeDirs is deprecated. Please use tf.io.gfile.makedirs instead.\n"
     ]
    },
    {
     "name": "stderr",
     "output_type": "stream",
     "text": [
      "WARNING:tensorflow:From C:\\Users\\ortin\\AppData\\Roaming\\Python\\Python311\\site-packages\\tensorflow_hub\\resolver.py:120: The name tf.gfile.MakeDirs is deprecated. Please use tf.io.gfile.makedirs instead.\n",
      "\n"
     ]
    },
    {
     "name": "stdout",
     "output_type": "stream",
     "text": [
      "WARNING:tensorflow:From C:\\Users\\ortin\\AppData\\Roaming\\Python\\Python311\\site-packages\\tensorflow_hub\\module_v2.py:126: The name tf.saved_model.load_v2 is deprecated. Please use tf.compat.v2.saved_model.load instead.\n"
     ]
    },
    {
     "name": "stderr",
     "output_type": "stream",
     "text": [
      "WARNING:tensorflow:From C:\\Users\\ortin\\AppData\\Roaming\\Python\\Python311\\site-packages\\tensorflow_hub\\module_v2.py:126: The name tf.saved_model.load_v2 is deprecated. Please use tf.compat.v2.saved_model.load instead.\n",
      "\n"
     ]
    }
   ],
   "source": [
    "elmo_model = hub.load(\"https://tfhub.dev/google/elmo/3\")"
   ],
   "metadata": {
    "collapsed": false,
    "ExecuteTime": {
     "end_time": "2024-11-11T15:30:43.616644Z",
     "start_time": "2024-11-11T15:30:37.255960Z"
    }
   },
   "id": "958e5ce1e4e8001c",
   "execution_count": 2
  },
  {
   "cell_type": "markdown",
   "source": [
    "We define a `word_to_embedding` function that gets the ELMo embeddings for a word. The function receives a word as input and returns a 1024-dimensional embedding."
   ],
   "metadata": {
    "collapsed": false
   },
   "id": "4643b98ddbf7fd86"
  },
  {
   "cell_type": "code",
   "outputs": [],
   "source": [
    "def word_to_embedding(word: str, elmo_model_p) -> np.ndarray:\n",
    "    \"\"\"\n",
    "    Get the ELMo embeddings for a word.\n",
    "    :param word: the word to get the embeddings for\n",
    "    :param elmo_model_p: the ELMo model used\n",
    "    :return: a 1024-dimensional vector (embedding) representing the word\n",
    "    \"\"\"\n",
    "    # Get the ELMo embeddings for the word\n",
    "    # signatures is a dictionary with the available signatures for the model (default, tokens, sequence), tf.constant converts the word to a tensor, and ['elmo'] gets the embeddings returned by the model\n",
    "    word_embeddings = elmo_model_p.signatures['default'](tf.constant([word]))['elmo']\n",
    "    # the shape of embeddings is (batch_size, num_tokens, embedding_dim) = (1, 1, 1024)\n",
    "    return word_embeddings[0][0]"
   ],
   "metadata": {
    "collapsed": false,
    "ExecuteTime": {
     "end_time": "2024-11-11T15:30:43.625401Z",
     "start_time": "2024-11-11T15:30:43.617176Z"
    }
   },
   "id": "b045fd7083293dc7",
   "execution_count": 3
  },
  {
   "cell_type": "markdown",
   "source": [
    "## Word similarity\n",
    "\n",
    "Let's visualize the similarity between different words using ELMo embeddings. We define a list of word pairs, including related words, synonyms, and unrelated words. We calculate the [cosine similarity](https://en.wikipedia.org/wiki/Cosine_similarity) between the embeddings of the words in each pair. Cosine similarity is a measure of similarity between two non-zero vectors, giving a value between -1 and 1. A value of 1 means the vectors are identical, 0 means they are orthogonal, and -1 means they are opposite.\n",
    "\n",
    "Feel free to add more word pairs to the list and see how the similarity changes."
   ],
   "metadata": {
    "collapsed": false
   },
   "id": "a7e6ac944f5fef5a"
  },
  {
   "cell_type": "code",
   "outputs": [
    {
     "name": "stdout",
     "output_type": "stream",
     "text": [
      "Cosine similarity between 'apple' and 'banana': 0.6364566683769226\n",
      "Cosine similarity between 'apple' and 'orange': 0.6067031621932983\n",
      "Cosine similarity between 'apple' and 'apple': 1.0\n",
      "Cosine similarity between 'king' and 'queen': 0.8033543229103088\n",
      "Cosine similarity between 'red' and 'yellow': 0.7959626913070679\n",
      "Cosine similarity between 'film' and 'movie': 0.9009907841682434\n",
      "Cosine similarity between 'car' and 'automobile': 0.8173584938049316\n",
      "Cosine similarity between 'big' and 'large': 0.8099021911621094\n",
      "Cosine similarity between 'king' and 'eat': 0.18019330501556396\n",
      "Cosine similarity between 'drink' and 'movie': 0.346871554851532\n"
     ]
    }
   ],
   "source": [
    "word_pairs = [\n",
    "    # related words\n",
    "    (\"apple\", \"banana\"), (\"apple\", \"orange\"), (\"apple\", \"apple\"), (\"king\", \"queen\"), (\"red\", \"yellow\"),\n",
    "    # synonyms\n",
    "    (\"film\", \"movie\"), (\"car\", \"automobile\"), (\"big\", \"large\"),\n",
    "    # unrelated words\n",
    "    (\"king\", \"eat\"), (\"drink\", \"movie\"),\n",
    "]\n",
    "\n",
    "for word_pair in word_pairs:\n",
    "    # Get the ELMo embeddings for the words\n",
    "    embeddings_pair = [word_to_embedding(word, elmo_model) for word in word_pair]\n",
    "    # Calculate cosine similarity between the words\n",
    "    similarity_score = cosine_similarity([embeddings_pair[0]], [embeddings_pair[1]])\n",
    "    print(f\"Cosine similarity between '{word_pair[0]}' and '{word_pair[1]}': {similarity_score[0][0]}\")"
   ],
   "metadata": {
    "collapsed": false,
    "ExecuteTime": {
     "end_time": "2024-11-11T15:30:44.920393Z",
     "start_time": "2024-11-11T15:30:43.625401Z"
    }
   },
   "id": "e14a73f497875d41",
   "execution_count": 4
  },
  {
   "cell_type": "markdown",
   "source": [],
   "metadata": {
    "collapsed": false
   },
   "id": "a028e9c1060331e0"
  },
  {
   "cell_type": "markdown",
   "source": [
    "## 2D representation of word embeddings\n",
    "\n",
    "The word embedding represents that an object (e.g., word) is embedded in a high-dimensional space. Besides words, embeddings can be computed for sentences, paragraphs, or even entire documents. Moreover, embeddings can be used to represent other types of objects, such as images, graphs, audio, video and more.\n",
    "\n",
    "Since word embeddings are high-dimensional vectors, it is difficult to visualize them. However, we cas use a dimensionality reduction technique to reduce their dimensionality to 2D and visualize them. We use the [t-SNE](https://en.wikipedia.org/wiki/T-distributed_stochastic_neighbor_embedding) dimensionality reduction algorithm to represent the words in 2D. "
   ],
   "metadata": {
    "collapsed": false
   },
   "id": "f47c36bbf890ac04"
  },
  {
   "cell_type": "code",
   "outputs": [
    {
     "data": {
      "text/plain": "<Figure size 1000x1000 with 1 Axes>",
      "image/png": "[encoded data removed]"
     },
     "metadata": {},
     "output_type": "display_data"
    }
   ],
   "source": [
    "def visualize_embeddings(embeddings_p: np.array, words_p: list[str]) -> None:\n",
    "    \"\"\"\n",
    "    Visualize the embeddings in 2D using t-SNE.\n",
    "    :param embeddings_p: the embeddings to be visualized\n",
    "    :param words_p: the words corresponding to the embeddings\n",
    "    \"\"\"\n",
    "    tsne = TSNE(n_components=2, perplexity=5)\n",
    "    embeddings_2d = tsne.fit_transform(embeddings_p)\n",
    "    # Plot the 2D embeddings with scatter plot\n",
    "    plt.figure(figsize=(10, 10))\n",
    "    # plot the dots\n",
    "    plt.scatter(embeddings_2d[:, 0], embeddings_2d[:, 1], c='blue')\n",
    "    # plot each word close to the dot\n",
    "    for i, word in enumerate(words_p):\n",
    "        plt.annotate(word, (embeddings_2d[i, 0], embeddings_2d[i, 1]))\n",
    "    plt.show()\n",
    "\n",
    "\n",
    "# we take all the words from the word_pairs list\n",
    "words = list(set([word for word_pair in word_pairs for word in word_pair]))\n",
    "# Get the ELMo embeddings for all the words\n",
    "embeddings = np.array([word_to_embedding(word, elmo_model) for word in words])\n",
    "visualize_embeddings(embeddings, words)"
   ],
   "metadata": {
    "collapsed": false,
    "ExecuteTime": {
     "end_time": "2024-11-11T15:35:18.958879Z",
     "start_time": "2024-11-11T15:35:17.716760Z"
    }
   },
   "id": "8d621eb2871d144b",
   "execution_count": 5
  },
  {
   "cell_type": "markdown",
   "source": [
    "## ✨ Questions ✨\n",
    "\n",
    "1. Are related words closer in the 2D representation?\n",
    "2. Are there any words close that you thought they would not be close?\n",
    "3. Why do you think that is the case?"
   ],
   "metadata": {
    "collapsed": false
   },
   "id": "bfbc5ee97f2496b4"
  },
  {
   "cell_type": "markdown",
   "source": [
    "### Answers\n",
    "\n",
    "*Write your answers here*\n"
   ],
   "metadata": {
    "collapsed": false
   },
   "id": "4b1f2c4e0990ec04"
  }
 ],
 "metadata": {
  "kernelspec": {
   "name": "python3",
   "language": "python",
   "display_name": "Python 3 (ipykernel)"
  },
  "language_info": {
   "codemirror_mode": {
    "name": "ipython",
    "version": 3
   },
   "file_extension": ".py",
   "mimetype": "text/x-python",
   "name": "python",
   "nbconvert_exporter": "python",
   "pygments_lexer": "ipython3",
   "version": "3.11.4"
  },
  "colab": {
   "provenance": [],
   "gpuType": "T4"
  },
  "accelerator": "GPU"
 },
 "nbformat": 4,
 "nbformat_minor": 5
}
