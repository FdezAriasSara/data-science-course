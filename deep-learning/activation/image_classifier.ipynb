{
 "cells": [
  {
   "cell_type": "markdown",
   "source": [
    "[![Open In Colab](https://colab.research.google.com/assets/colab-badge.svg)](https://colab.research.google.com/github/francisco-ortin/data-science-course/blob/main/deep-learning/activation/image_classifier.ipynb)\n",
    "[![License: CC BY-NC-SA 4.0](https://img.shields.io/badge/License-CC%20BY--NC--SA%204.0-lightgrey.svg)](https://creativecommons.org/licenses/by-nc-sa/4.0/)"
   ],
   "metadata": {
    "collapsed": false
   },
   "id": "6ca88ed918d07"
  },
  {
   "cell_type": "markdown",
   "source": [
    "# Multiclass image classifier using an MLP\n",
    "\n",
    "We will build a multiclass image classifier using an MLP NN.\n",
    "\n",
    "We use [Fashion-MNIST](https://keras.io/api/datasets/fashion_mnist/), a Keras dataset of Zalando's article images—consisting of a training set of 60,000 examples and a test set of 10,000 examples. Each example is a 28x28 grayscale image, associated with a label from 10 classes. Each class represents an article of clothing:\n",
    "\n",
    "- 0 T-shirt/top.\n",
    "- 1 Trouser.\n",
    "- 2 Pullover.\n",
    "- 3 Dress.\n",
    "- 4 Coat.\n",
    "- 5 Sandal.\n",
    "- 6 Shirt.\n",
    "- 7 Sneaker.\n",
    "- 8 Bag.\n",
    "- 9 Ankle boot.\n",
    "\n",
    "<img src=\"img/fashion-mnist.png\" width=\"600px\"/>"
   ],
   "metadata": {
    "collapsed": false
   },
   "id": "72ea15f3d70547f7"
  },
  {
   "cell_type": "code",
   "outputs": [
    {
     "name": "stdout",
     "output_type": "stream",
     "text": [
      "Note: you may need to restart the kernel to use updated packages.\n"
     ]
    }
   ],
   "source": [
    "# make sure the required packages are installed\n",
    "%pip install pandas numpy seaborn matplotlib scikit-learn keras tensorflow --quiet\n",
    "# if running in colab, install the required packages and copy the necessary files\n",
    "directory='data-science-course/deep-learning/activation'\n",
    "if get_ipython().__class__.__module__.startswith('google.colab'):\n",
    "    !git clone https://github.com/francisco-ortin/data-science-course.git  2>/dev/null\n",
    "    !cp --update {directory}/*.py .\n",
    "    !mkdir -p img data\n",
    "    !cp {directory}/img/* img/.\n",
    "\n",
    "import tensorflow as tf\n",
    "import numpy as np\n",
    "import matplotlib.pyplot as plt\n",
    "from matplotlib import image as mpimg\n",
    "import pandas as pd\n",
    "import os"
   ],
   "metadata": {
    "collapsed": false,
    "ExecuteTime": {
     "end_time": "2024-10-08T13:37:59.738730400Z",
     "start_time": "2024-10-08T13:37:54.088322400Z"
    }
   },
   "id": "5f099c66705669f8",
   "execution_count": 42
  },
  {
   "cell_type": "markdown",
   "source": [
    "## Data preparation\n",
    "\n",
    "We download fashion MNIST the dataset from keras. It is already shuffled and split into a training set (60,000 images) and a test set (10,000 images). We take 10,000 images from the training set to create a validation set.\n"
   ],
   "metadata": {
    "collapsed": false
   },
   "id": "e7c3e8a3ff34b7dc"
  },
  {
   "cell_type": "code",
   "outputs": [
    {
     "name": "stdout",
     "output_type": "stream",
     "text": [
      "Shape of X_train = (50000, 28, 28) and y_train = (50000,).\n",
      "Shape of X_val = (10000, 28, 28) and y_val = (10000,).\n",
      "Shape of X_test = (10000, 28, 28) and y_test = (10000,).\n"
     ]
    }
   ],
   "source": [
    "CLASS_LABELS = [\"T-shirt/top\", \"Trouser\", \"Pullover\", \"Dress\", \"Coat\",\n",
    "                \"Sandal\", \"Shirt\", \"Sneaker\", \"Bag\", \"Ankle boot\"]\n",
    "(X_train_full, y_train_full), (X_test, y_test) = tf.keras.datasets.fashion_mnist.load_data()\n",
    "# We take the last 10,000 images from the training set for validation and the rest of them for training\n",
    "N_VAL_INSTANCES = 10_000\n",
    "# We take the last 10,000 images from the training set for validation and the rest of them for training\n",
    "X_train, y_train = X_train_full[:-N_VAL_INSTANCES], y_train_full[:-N_VAL_INSTANCES]\n",
    "X_val, y_val = X_train_full[-N_VAL_INSTANCES:], y_train_full[-N_VAL_INSTANCES:]\n",
    "# Show shapes of all the datasets\n",
    "print(f\"Shape of X_train = {X_train.shape} and y_train = {y_train.shape}.\")\n",
    "print(f\"Shape of X_val = {X_val.shape} and y_val = {y_val.shape}.\")\n",
    "print(f\"Shape of X_test = {X_test.shape} and y_test = {y_test.shape}.\")"
   ],
   "metadata": {
    "collapsed": false,
    "ExecuteTime": {
     "end_time": "2024-10-08T13:38:00.122185600Z",
     "start_time": "2024-10-08T13:37:59.742290200Z"
    }
   },
   "id": "33531d19a75de77f",
   "execution_count": 43
  },
  {
   "cell_type": "markdown",
   "source": [
    "We show the first image and its class label."
   ],
   "metadata": {
    "collapsed": false
   },
   "id": "802ac98cb6d019ad"
  },
  {
   "cell_type": "code",
   "outputs": [
    {
     "data": {
      "text/plain": "<Figure size 100x100 with 1 Axes>",
      "image/png": "[encoded data removed]"
     },
     "metadata": {},
     "output_type": "display_data"
    }
   ],
   "source": [
    "plt.figure(figsize=(1, 1))  # 1 inch x 1 inch figure\n",
    "plt.imshow(X_train[0], cmap=\"binary\")\n",
    "plt.title(CLASS_LABELS[y_train[0]])\n",
    "plt.axis('off')\n",
    "plt.show()"
   ],
   "metadata": {
    "collapsed": false,
    "ExecuteTime": {
     "end_time": "2024-10-08T13:38:00.227894900Z",
     "start_time": "2024-10-08T13:38:00.123147400Z"
    }
   },
   "id": "ba1108741a17ef06",
   "execution_count": 44
  },
  {
   "cell_type": "markdown",
   "source": [
    "X holds gray colors from 0 to 255 (1 byte) for each pixel. y holds the type of clothing: an int from 0 to 9."
   ],
   "metadata": {
    "collapsed": false
   },
   "id": "52235b5e38e3ccf"
  },
  {
   "cell_type": "code",
   "outputs": [
    {
     "name": "stdout",
     "output_type": "stream",
     "text": [
      "Values of X_train (gray colors): [  0   1   2   3   4   5   6   7   8   9  10  11  12  13  14  15  16  17\n",
      "  18  19  20  21  22  23  24  25  26  27  28  29  30  31  32  33  34  35\n",
      "  36  37  38  39  40  41  42  43  44  45  46  47  48  49  50  51  52  53\n",
      "  54  55  56  57  58  59  60  61  62  63  64  65  66  67  68  69  70  71\n",
      "  72  73  74  75  76  77  78  79  80  81  82  83  84  85  86  87  88  89\n",
      "  90  91  92  93  94  95  96  97  98  99 100 101 102 103 104 105 106 107\n",
      " 108 109 110 111 112 113 114 115 116 117 118 119 120 121 122 123 124 125\n",
      " 126 127 128 129 130 131 132 133 134 135 136 137 138 139 140 141 142 143\n",
      " 144 145 146 147 148 149 150 151 152 153 154 155 156 157 158 159 160 161\n",
      " 162 163 164 165 166 167 168 169 170 171 172 173 174 175 176 177 178 179\n",
      " 180 181 182 183 184 185 186 187 188 189 190 191 192 193 194 195 196 197\n",
      " 198 199 200 201 202 203 204 205 206 207 208 209 210 211 212 213 214 215\n",
      " 216 217 218 219 220 221 222 223 224 225 226 227 228 229 230 231 232 233\n",
      " 234 235 236 237 238 239 240 241 242 243 244 245 246 247 248 249 250 251\n",
      " 252 253 254 255]\n",
      "Values of Y_train (types of clothes): [0 1 2 3 4 5 6 7 8 9]\n"
     ]
    }
   ],
   "source": [
    "print(f\"Values of X_train (gray colors): {np.unique(X_train)}\")\n",
    "print(f\"Values of Y_train (types of clothes): {np.unique(y_train)}\")"
   ],
   "metadata": {
    "collapsed": false,
    "ExecuteTime": {
     "end_time": "2024-10-08T13:38:01.369004400Z",
     "start_time": "2024-10-08T13:38:00.224978700Z"
    }
   },
   "id": "e0e285a33f74265b",
   "execution_count": 45
  },
  {
   "cell_type": "markdown",
   "source": [
    "We rescale the colors to real numbers between 0 and 1. This is a very common preprocessing step in neural networks to make the optimization easier."
   ],
   "metadata": {
    "collapsed": false
   },
   "id": "edfd1a4a83763498"
  },
  {
   "cell_type": "code",
   "outputs": [
    {
     "name": "stdout",
     "output_type": "stream",
     "text": [
      "Values of X_train (gray colors): [0.    0.004 0.008 0.012 0.016 0.02  0.024 0.027 0.031 0.035 0.039 0.043\n",
      " 0.047 0.051 0.055 0.059 0.063 0.067 0.071 0.075 0.078 0.082 0.086 0.09\n",
      " 0.094 0.098 0.102 0.106 0.11  0.114 0.118 0.122 0.125 0.129 0.133 0.137\n",
      " 0.141 0.145 0.149 0.153 0.157 0.161 0.165 0.169 0.173 0.176 0.18  0.184\n",
      " 0.188 0.192 0.196 0.2   0.204 0.208 0.212 0.216 0.22  0.224 0.227 0.231\n",
      " 0.235 0.239 0.243 0.247 0.251 0.255 0.259 0.263 0.267 0.271 0.275 0.278\n",
      " 0.282 0.286 0.29  0.294 0.298 0.302 0.306 0.31  0.314 0.318 0.322 0.325\n",
      " 0.329 0.333 0.337 0.341 0.345 0.349 0.353 0.357 0.361 0.365 0.369 0.373\n",
      " 0.376 0.38  0.384 0.388 0.392 0.396 0.4   0.404 0.408 0.412 0.416 0.42\n",
      " 0.424 0.427 0.431 0.435 0.439 0.443 0.447 0.451 0.455 0.459 0.463 0.467\n",
      " 0.471 0.475 0.478 0.482 0.486 0.49  0.494 0.498 0.502 0.506 0.51  0.514\n",
      " 0.518 0.522 0.525 0.529 0.533 0.537 0.541 0.545 0.549 0.553 0.557 0.561\n",
      " 0.565 0.569 0.573 0.576 0.58  0.584 0.588 0.592 0.596 0.6   0.604 0.608\n",
      " 0.612 0.616 0.62  0.624 0.627 0.631 0.635 0.639 0.643 0.647 0.651 0.655\n",
      " 0.659 0.663 0.667 0.671 0.675 0.678 0.682 0.686 0.69  0.694 0.698 0.702\n",
      " 0.706 0.71  0.714 0.718 0.722 0.725 0.729 0.733 0.737 0.741 0.745 0.749\n",
      " 0.753 0.757 0.761 0.765 0.769 0.773 0.776 0.78  0.784 0.788 0.792 0.796\n",
      " 0.8   0.804 0.808 0.812 0.816 0.82  0.824 0.827 0.831 0.835 0.839 0.843\n",
      " 0.847 0.851 0.855 0.859 0.863 0.867 0.871 0.875 0.878 0.882 0.886 0.89\n",
      " 0.894 0.898 0.902 0.906 0.91  0.914 0.918 0.922 0.925 0.929 0.933 0.937\n",
      " 0.941 0.945 0.949 0.953 0.957 0.961 0.965 0.969 0.973 0.976 0.98  0.984\n",
      " 0.988 0.992 0.996 1.   ]\n"
     ]
    }
   ],
   "source": [
    "X_train, X_val, X_test = X_train / 255, X_val / 255, X_test / 255\n",
    "print(f\"Values of X_train (gray colors): {np.unique(X_train).round(decimals=3)}\")"
   ],
   "metadata": {
    "collapsed": false,
    "ExecuteTime": {
     "end_time": "2024-10-08T13:38:02.952864900Z",
     "start_time": "2024-10-08T13:38:01.364432100Z"
    }
   },
   "id": "e59cf1f79ad18fa0",
   "execution_count": 46
  },
  {
   "cell_type": "markdown",
   "source": [
    "## Multilayer Perceptron (MLP) model\n",
    "\n",
    "We create th MLP model using the Keras Sequential API. The different layers are placed one after the other and the data flows through them (forward propagation). That is why it is called \"sequential\".\n",
    "\n",
    "We use the following architecture:\n",
    "- Input layer: 28x28=784 neurons (each pixel is an input).\n",
    "- Hidden layer 1: 300 neurons with ReLU activation function.\n",
    "- Hidden layer 2: 100 neurons with ReLU activation function.\n",
    "- Output layer: 10 neurons with softmax activation function (multiclass classification)."
   ],
   "metadata": {
    "collapsed": false
   },
   "id": "a35cb0e63baa551a"
  },
  {
   "cell_type": "code",
   "outputs": [],
   "source": [
    "# ANN creation using the sequential approach\n",
    "model = tf.keras.Sequential()\n",
    "# The Input layer *just* specifies the size of the input (i.e., each individual)\n",
    "# Thus, the input *layer* is not actually a layer\n",
    "model.add(tf.keras.layers.InputLayer(input_shape=[28, 28]))\n",
    "# Since each individual is 2D, we use a Flatten layer to convert it to a 1D vector\n",
    "model.add(tf.keras.layers.Flatten())\n",
    "# First hidden layer with 300 neurons and relu activation function\n",
    "model.add(tf.keras.layers.Dense(300, activation=\"relu\"))\n",
    "# Second hidden layer with 100 neurons and relu activation function\n",
    "model.add(tf.keras.layers.Dense(100, activation=\"relu\"))\n",
    "# Last layer with 10 outputs and softmax activation function, since we have a multiclass classification problem\n",
    "model.add(tf.keras.layers.Dense(len(CLASS_LABELS), activation=\"softmax\"))\n",
    "\n",
    "tf.keras.backend.clear_session()  # Just resets the internal name of the layers (not necessary)"
   ],
   "metadata": {
    "collapsed": false,
    "ExecuteTime": {
     "end_time": "2024-10-08T13:38:03.044067600Z",
     "start_time": "2024-10-08T13:38:02.955862300Z"
    }
   },
   "id": "12d7b20ccb899e96",
   "execution_count": 47
  },
  {
   "cell_type": "markdown",
   "source": [
    "The previous sequential construction could be just performed with a single invocation (more common). Notice that, with this syntax, the Input *layer* is not passed. On the contrary, the first actual layer receives an \"input_shape\" parameter."
   ],
   "metadata": {
    "collapsed": false
   },
   "id": "9d71c4195679301f"
  },
  {
   "cell_type": "code",
   "outputs": [],
   "source": [
    "model = tf.keras.Sequential([\n",
    "    tf.keras.layers.Flatten(input_shape=[28, 28]),\n",
    "    tf.keras.layers.Dense(300, activation=\"relu\"),\n",
    "    tf.keras.layers.Dense(100, activation=\"relu\"),\n",
    "    tf.keras.layers.Dense(len(CLASS_LABELS), activation=\"softmax\")\n",
    "])"
   ],
   "metadata": {
    "collapsed": false,
    "ExecuteTime": {
     "end_time": "2024-10-08T13:38:03.138802200Z",
     "start_time": "2024-10-08T13:38:03.047046500Z"
    }
   },
   "id": "902bdc98bcffd2a",
   "execution_count": 48
  },
  {
   "cell_type": "markdown",
   "source": [
    "We print the ANN with model.summary(). We can see the number of parameters of each layer."
   ],
   "metadata": {
    "collapsed": false
   },
   "id": "9a8a06a43d16c584"
  },
  {
   "cell_type": "code",
   "outputs": [
    {
     "name": "stdout",
     "output_type": "stream",
     "text": [
      "Model: \"sequential\"\n",
      "_________________________________________________________________\n",
      " Layer (type)                Output Shape              Param #   \n",
      "=================================================================\n",
      " flatten (Flatten)           (None, 784)               0         \n",
      "                                                                 \n",
      " dense (Dense)               (None, 300)               235500    \n",
      "                                                                 \n",
      " dense_1 (Dense)             (None, 100)               30100     \n",
      "                                                                 \n",
      " dense_2 (Dense)             (None, 10)                1010      \n",
      "                                                                 \n",
      "=================================================================\n",
      "Total params: 266610 (1.02 MB)\n",
      "Trainable params: 266610 (1.02 MB)\n",
      "Non-trainable params: 0 (0.00 Byte)\n",
      "_________________________________________________________________\n"
     ]
    }
   ],
   "source": [
    "model.summary()"
   ],
   "metadata": {
    "collapsed": false,
    "ExecuteTime": {
     "end_time": "2024-10-08T13:38:03.213185600Z",
     "start_time": "2024-10-08T13:38:03.136795500Z"
    }
   },
   "id": "10d584c42bb9c1e3",
   "execution_count": 49
  },
  {
   "cell_type": "markdown",
   "source": [
    "266K parameters! It is a very powerful model. You can see how `Dense` layers are so expensive (they require a lot of parameters). You need lots of data to train this model. Otherwise, it could overfit."
   ],
   "metadata": {
    "collapsed": false
   },
   "id": "f0aabbbebc43ea38"
  },
  {
   "cell_type": "markdown",
   "source": [
    "## Graphical view of the ANN\n",
    "\n",
    "You can use the `plot_model` function from `keras.utils` to generate a graphical view of the ANN. It is useful to understand the topology of the network.\n",
    "\n",
    "*Notice*: The first `None` value in the shape represents that we do not know the size of the minibatch yet (the first value in the layer shape is the number of samples)."
   ],
   "metadata": {
    "collapsed": false
   },
   "id": "7e9813a279981d3d"
  },
  {
   "cell_type": "code",
   "outputs": [
    {
     "data": {
      "text/plain": "<Figure size 600x800 with 1 Axes>",
      "image/png": "[encoded data removed]"
     },
     "metadata": {},
     "output_type": "display_data"
    }
   ],
   "source": [
    "tf.keras.utils.plot_model(model, to_file='img/MLP-topology.png', show_shapes=True, show_layer_names=True)\n",
    "plt.figure(figsize=(6, 8))\n",
    "plt.imshow(mpimg.imread('img/MLP-topology.png'))\n",
    "plt.axis('off')\n",
    "plt.show()"
   ],
   "metadata": {
    "collapsed": false,
    "ExecuteTime": {
     "end_time": "2024-10-08T13:38:03.716567100Z",
     "start_time": "2024-10-08T13:38:03.188221200Z"
    }
   },
   "id": "17975ed805d47757",
   "execution_count": 50
  },
  {
   "cell_type": "markdown",
   "source": [
    "We can show textual information about the layers using `model.layers`."
   ],
   "metadata": {
    "collapsed": false
   },
   "id": "d76c895e1d0b0dbd"
  },
  {
   "cell_type": "code",
   "outputs": [
    {
     "name": "stdout",
     "output_type": "stream",
     "text": [
      "Layer number 0, name 'flatten', and class <class 'keras.src.layers.reshaping.flatten.Flatten'>\n",
      "Layer number 1, name 'dense', and class <class 'keras.src.layers.core.dense.Dense'>\n",
      "Layer number 2, name 'dense_1', and class <class 'keras.src.layers.core.dense.Dense'>\n",
      "Layer number 3, name 'dense_2', and class <class 'keras.src.layers.core.dense.Dense'>\n"
     ]
    }
   ],
   "source": [
    "for i, layer in enumerate(model.layers):\n",
    "    print(f\"Layer number {i}, name '{layer.name}', and class {layer.__class__}\")"
   ],
   "metadata": {
    "collapsed": false,
    "ExecuteTime": {
     "end_time": "2024-10-08T13:38:03.737023400Z",
     "start_time": "2024-10-08T13:38:03.724532200Z"
    }
   },
   "id": "98b4aa88e78d2c35",
   "execution_count": 51
  },
  {
   "cell_type": "markdown",
   "source": [
    "Let's show the parameters (W and b) of the last layer."
   ],
   "metadata": {
    "collapsed": false
   },
   "id": "c614769f311b3b31"
  },
  {
   "cell_type": "code",
   "outputs": [
    {
     "name": "stdout",
     "output_type": "stream",
     "text": [
      "Shape of the weights of the last layer: (100, 10)\n",
      "Values of the weights of the first row in the last layer: [-0.198  0.129  0.168 -0.233 -0.079  0.088  0.21   0.016 -0.158 -0.043]\n",
      "Biases of the last layer: [0. 0. 0. 0. 0. 0. 0. 0. 0. 0.]\n"
     ]
    }
   ],
   "source": [
    "weights, biases = model.layers[3].get_weights()\n",
    "print(\"Shape of the weights of the last layer:\", weights.shape)\n",
    "print(\"Values of the weights of the first row in the last layer:\", weights[0].round(decimals=3))\n",
    "print(\"Biases of the last layer:\", biases)"
   ],
   "metadata": {
    "collapsed": false,
    "ExecuteTime": {
     "end_time": "2024-10-08T13:38:03.861281400Z",
     "start_time": "2024-10-08T13:38:03.737023400Z"
    }
   },
   "id": "f335e8908f659c0e",
   "execution_count": 52
  },
  {
   "cell_type": "markdown",
   "source": [
    "Weights are initialized randomly to help backprop know the influence of each neuron in the cost. Multiple initializers can be used in keras; all of them set random values. Depending on the activation function, some of them are more appropriate than others:\n",
    "- Glorot/Xavier initializer for linear, tanh, sigmoid and softmax activation functions.s\n",
    "- He initializer for ReLU, Leaky ReLU, ELU, GELU, Swish and Mish activation functions.\n",
    "- LeCun for SELU activation function."
   ],
   "metadata": {
    "collapsed": false
   },
   "id": "733743480781d6b8"
  },
  {
   "cell_type": "markdown",
   "source": [
    "## Model compilation\n",
    "\n",
    "We compile the model.\n",
    "- Loss is sparse categorical cross entropy because the output is an int. If it was one-hot encoding, we would use categorical cross entropy.\n",
    "- Adam optimizer, a stochastic gradient descent method that is based on adaptive momentum.\n",
    "- We add accuracy as a metric (together with the loss values)."
   ],
   "metadata": {
    "collapsed": false
   },
   "id": "e0d2e6d7453747a8"
  },
  {
   "cell_type": "code",
   "outputs": [],
   "source": [
    "model.compile(loss=\"sparse_categorical_crossentropy\",\n",
    "              optimizer=\"adam\",\n",
    "              metrics=[\"accuracy\"])"
   ],
   "metadata": {
    "collapsed": false,
    "ExecuteTime": {
     "end_time": "2024-10-08T13:38:03.901453400Z",
     "start_time": "2024-10-08T13:38:03.763727800Z"
    }
   },
   "id": "b4da61923c013aa3",
   "execution_count": 53
  },
  {
   "cell_type": "markdown",
   "source": [
    "## Model training\n",
    "\n",
    "We train the model for 6 epochs, with batch_size of 32 instances. *Important*: In this case we use a validation set. The validation data is used to evaluate the model's performance after each epoch, **with a dataset different to the one used for training**."
   ],
   "metadata": {
    "collapsed": false
   },
   "id": "34a6429476bad96"
  },
  {
   "cell_type": "code",
   "outputs": [
    {
     "name": "stdout",
     "output_type": "stream",
     "text": [
      "Epoch 1/6\n",
      "1563/1563 [==============================] - 8s 5ms/step - loss: 0.4938 - accuracy: 0.8231 - val_loss: 0.4284 - val_accuracy: 0.8398\n",
      "Epoch 2/6\n",
      "1563/1563 [==============================] - 7s 4ms/step - loss: 0.3669 - accuracy: 0.8660 - val_loss: 0.3744 - val_accuracy: 0.8640\n",
      "Epoch 3/6\n",
      "1563/1563 [==============================] - 7s 4ms/step - loss: 0.3261 - accuracy: 0.8798 - val_loss: 0.3561 - val_accuracy: 0.8754\n",
      "Epoch 4/6\n",
      "1563/1563 [==============================] - 7s 5ms/step - loss: 0.3033 - accuracy: 0.8881 - val_loss: 0.3574 - val_accuracy: 0.8735\n",
      "Epoch 5/6\n",
      "1563/1563 [==============================] - 7s 5ms/step - loss: 0.2881 - accuracy: 0.8925 - val_loss: 0.3376 - val_accuracy: 0.8762\n",
      "Epoch 6/6\n",
      "1563/1563 [==============================] - 7s 5ms/step - loss: 0.2693 - accuracy: 0.8977 - val_loss: 0.3368 - val_accuracy: 0.8818\n"
     ]
    }
   ],
   "source": [
    "EPOCHS = 6\n",
    "history = model.fit(X_train, y_train, epochs=EPOCHS, batch_size=32, validation_data=(X_val, y_val))"
   ],
   "metadata": {
    "collapsed": false,
    "ExecuteTime": {
     "end_time": "2024-10-08T13:38:47.319924Z",
     "start_time": "2024-10-08T13:38:03.819361500Z"
    }
   },
   "id": "3ab8180f1bb3ef4",
   "execution_count": 54
  },
  {
   "cell_type": "markdown",
   "source": [
    "Let's take a look at how test and train loss and accuracy evolved during training"
   ],
   "metadata": {
    "collapsed": false
   },
   "id": "c06a7faeb2f39a52"
  },
  {
   "cell_type": "code",
   "outputs": [
    {
     "data": {
      "text/plain": "<Figure size 800x500 with 1 Axes>",
      "image/png": "[encoded data removed]"
     },
     "metadata": {},
     "output_type": "display_data"
    }
   ],
   "source": [
    "pd.DataFrame(history.history).plot(\n",
    "    figsize=(8, 5), xlim=[1, EPOCHS+1], ylim=[0, 1], grid=True, xlabel=\"Epoch\",\n",
    "    style=[\"r--\", \"r--.\", \"b-\", \"b-*\"])  # red/blue, dashed(--), continuous (-), shape(. or *)\n",
    "plt.show()"
   ],
   "metadata": {
    "collapsed": false,
    "ExecuteTime": {
     "end_time": "2024-10-08T13:38:47.538452600Z",
     "start_time": "2024-10-08T13:38:47.335645300Z"
    }
   },
   "id": "f7195cab27647c68",
   "execution_count": 55
  },
  {
   "cell_type": "markdown",
   "source": [],
   "metadata": {
    "collapsed": false
   },
   "id": "2de59f097fcf5e51"
  },
  {
   "cell_type": "markdown",
   "source": [
    "You can see how:\n",
    "- Train and validation losses decrease as the number of epochs increases.\n",
    "- Train and validation accuracies increase as the number of epochs increases.\n",
    "- Validation loss is usually higher than train loss (probably not in the first epochs because validation is computed after the whole epoch, while train is averaged after each mini-batch).\n",
    "- Validation accuracy is usually lower than train loss (probably not in the first epochs)."
   ],
   "metadata": {
    "collapsed": false
   },
   "id": "53fe46491b03f1a7"
  },
  {
   "cell_type": "markdown",
   "source": [
    "## Model evaluation\n",
    "\n",
    "Let's evaluate the model. For that purpose, we use the test set. *Never use the val or train sets!*"
   ],
   "metadata": {
    "collapsed": false
   },
   "id": "41e3824deddf24d9"
  },
  {
   "cell_type": "code",
   "outputs": [
    {
     "name": "stdout",
     "output_type": "stream",
     "text": [
      "313/313 [==============================] - 1s 3ms/step - loss: 0.3532 - accuracy: 0.8716\n",
      "Test loss: 0.3532. Test accuracy: 0.8716.\n"
     ]
    }
   ],
   "source": [
    "evaluation_results = model.evaluate(X_test, y_test)\n",
    "print(f\"Test loss: {evaluation_results[0]:.4f}. Test accuracy: {evaluation_results[1]:.4f}.\")"
   ],
   "metadata": {
    "collapsed": false,
    "ExecuteTime": {
     "end_time": "2024-10-08T13:38:48.504374100Z",
     "start_time": "2024-10-08T13:38:47.540249600Z"
    }
   },
   "id": "6cc781c9be603a85",
   "execution_count": 56
  },
  {
   "cell_type": "markdown",
   "source": [
    "## Making predictions (inference)\n",
    "\n",
    "We use the model to predict the classes of the first 5 clothes. Remember we used softmax so, for each instance, we'll get 10 probabilities of belonging to each class."
   ],
   "metadata": {
    "collapsed": false
   },
   "id": "a510447759a9f8aa"
  },
  {
   "cell_type": "code",
   "outputs": [
    {
     "name": "stdout",
     "output_type": "stream",
     "text": [
      "1/1 [==============================] - 0s 58ms/step\n",
      "Probabilities of belonging to each class:\n",
      " [[0.   0.   0.   0.   0.   0.01 0.   0.11 0.   0.88]\n",
      " [0.   0.   1.   0.   0.   0.   0.   0.   0.   0.  ]\n",
      " [0.   1.   0.   0.   0.   0.   0.   0.   0.   0.  ]\n",
      " [0.   1.   0.   0.   0.   0.   0.   0.   0.   0.  ]\n",
      " [0.22 0.   0.03 0.   0.   0.   0.74 0.   0.   0.  ]]\n"
     ]
    }
   ],
   "source": [
    "SAMPLES_TO_PREDICT = 5\n",
    "y_proba = model.predict(X_to_predict := X_test[:SAMPLES_TO_PREDICT])\n",
    "print(\"Probabilities of belonging to each class:\\n\", y_proba.round(2))"
   ],
   "metadata": {
    "collapsed": false,
    "ExecuteTime": {
     "end_time": "2024-10-08T13:38:48.631762800Z",
     "start_time": "2024-10-08T13:38:48.503235800Z"
    }
   },
   "id": "63ddffd4a09229b9",
   "execution_count": 57
  },
  {
   "cell_type": "markdown",
   "source": [
    "We get the class with the maximum probability."
   ],
   "metadata": {
    "collapsed": false
   },
   "id": "20121398dd9a5a8a"
  },
  {
   "cell_type": "code",
   "outputs": [
    {
     "name": "stdout",
     "output_type": "stream",
     "text": [
      "Classes predicted for each instance (as number): [9, 2, 1, 1, 6]\n",
      "Classes predicted for each instance (as text): ['Ankle boot', 'Pullover', 'Trouser', 'Trouser', 'Shirt']\n"
     ]
    }
   ],
   "source": [
    "y_pred = y_proba.argmax(axis=1)\n",
    "print(f\"Classes predicted for each instance (as number): {y_pred.tolist()}\")\n",
    "print(f\"Classes predicted for each instance (as text): {[CLASS_LABELS[class_idx] for class_idx in y_pred]}\")"
   ],
   "metadata": {
    "collapsed": false,
    "ExecuteTime": {
     "end_time": "2024-10-08T13:38:48.671053900Z",
     "start_time": "2024-10-08T13:38:48.633973600Z"
    }
   },
   "id": "69f4650ba8cc475b",
   "execution_count": 58
  },
  {
   "cell_type": "markdown",
   "source": [
    "Let's visualize how good we did. For each image, we show the predicted class as text."
   ],
   "metadata": {
    "collapsed": false
   },
   "id": "56ee8a97104c05cb"
  },
  {
   "cell_type": "code",
   "outputs": [
    {
     "data": {
      "text/plain": "<Figure size 720x240 with 5 Axes>",
      "image/png": "[encoded data removed]"
     },
     "metadata": {},
     "output_type": "display_data"
    }
   ],
   "source": [
    "plt.figure(figsize=(7.2, 2.4))\n",
    "for index, image in enumerate(X_to_predict):\n",
    "    plt.subplot(1, SAMPLES_TO_PREDICT, index + 1)\n",
    "    plt.imshow(image, cmap=\"binary\", interpolation=\"nearest\")\n",
    "    plt.axis('off')\n",
    "    plt.title(CLASS_LABELS[y_pred[index]])\n",
    "plt.subplots_adjust(wspace=0.2, hspace=0.5)\n",
    "plt.show()"
   ],
   "metadata": {
    "collapsed": false,
    "ExecuteTime": {
     "end_time": "2024-10-08T13:38:49.046115900Z",
     "start_time": "2024-10-08T13:38:48.643367700Z"
    }
   },
   "id": "db5b6507aa5b3f38",
   "execution_count": 59
  },
  {
   "cell_type": "markdown",
   "source": [
    "## Storing and restoring models\n",
    "\n",
    "Training could take many CPU time, so it is a good idea to store models after training them. Then, the model could be loaded to be used for predictions (inference) or to continue training.\n",
    "\n",
    "Model.`save` stores the model on disk. `tf.keras.models.load_model` loads a model from disk."
   ],
   "metadata": {
    "collapsed": false
   },
   "id": "ced79f6f512a4d57"
  },
  {
   "cell_type": "code",
   "outputs": [
    {
     "name": "stdout",
     "output_type": "stream",
     "text": [
      "Model loaded from 'models/mlp_model.keras'.\n",
      "313/313 [==============================] - 1s 2ms/step - loss: 0.3532 - accuracy: 0.8716\n",
      "Test loss: 0.3532. Test accuracy: 0.8716.\n"
     ]
    }
   ],
   "source": [
    "MODEL_FILE = \"models/mlp_model.keras\"\n",
    "# create the directory in MODEL_FILE if it does not exist\n",
    "os.makedirs(os.path.dirname(MODEL_FILE), exist_ok=True)\n",
    "model.save(MODEL_FILE)\n",
    "# We restore a serialized model from disk\n",
    "new_model = tf.keras.models.load_model(MODEL_FILE)\n",
    "print(f\"Model loaded from '{MODEL_FILE}'.\")\n",
    "# And evaluate its performance\n",
    "evaluation_results = new_model.evaluate(X_test, y_test)\n",
    "print(f\"Test loss: {evaluation_results[0]:.4f}. Test accuracy: {evaluation_results[1]:.4f}.\")"
   ],
   "metadata": {
    "collapsed": false,
    "ExecuteTime": {
     "end_time": "2024-10-08T13:53:17.099001900Z",
     "start_time": "2024-10-08T13:53:15.676449800Z"
    }
   },
   "id": "3ead5499511be424",
   "execution_count": 63
  },
  {
   "cell_type": "markdown",
   "source": [
    "## ✨ Questions ✨ \n",
    "\n",
    "1. What do you think it will happen with a) train loss, b) val loss, c) train accuracy and d) val accuracy if you increase EPOCHS to 20. Write it down and then run it.\n",
    "2. What has happened?\n",
    "3. Why?\n",
    "4. How do you think it could be solved? Name all the approaches you know."
   ],
   "metadata": {
    "collapsed": false
   },
   "id": "d6440c3da7d486fa"
  },
  {
   "cell_type": "markdown",
   "source": [
    "### Answers\n",
    "\n",
    "*Write your answers here*\n",
    "\n"
   ],
   "metadata": {
    "collapsed": false
   },
   "id": "161159eac285bee5"
  }
 ],
 "metadata": {
  "kernelspec": {
   "display_name": "Python 3",
   "language": "python",
   "name": "python3"
  },
  "language_info": {
   "codemirror_mode": {
    "name": "ipython",
    "version": 2
   },
   "file_extension": ".py",
   "mimetype": "text/x-python",
   "name": "python",
   "nbconvert_exporter": "python",
   "pygments_lexer": "ipython2",
   "version": "2.7.6"
  }
 },
 "nbformat": 4,
 "nbformat_minor": 5
}
