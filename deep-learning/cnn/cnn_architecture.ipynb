{
 "cells": [
  {
   "cell_type": "markdown",
   "source": [
    "[![Open In Colab](https://colab.research.google.com/assets/colab-badge.svg)](https://colab.research.google.com/github/francisco-ortin/data-science-course/blob/main/deep-learning/cnn/cnn_architecture.ipynb)\n",
    "[![License: CC BY-NC-SA 4.0](https://img.shields.io/badge/License-CC%20BY--NC--SA%204.0-lightgrey.svg)](https://creativecommons.org/licenses/by-nc-sa/4.0/)"
   ],
   "metadata": {
    "collapsed": false
   },
   "id": "87540b40e3958a06"
  },
  {
   "cell_type": "markdown",
   "id": "72ea15f3d70547f7",
   "metadata": {
    "collapsed": false
   },
   "source": [
    "# CNN for image classification\n",
    "\n",
    "We now see a common architecture followed in Convolutional Neural Networks (CNNs) for image classification tasks:\n",
    "- Different convolutional layers, using ReLU as the activation function.\n",
    "- Followed by pooling layers to reduce its memory requirements.\n",
    "- To perform the classification, the output of the CNN is passed to a dense layers.\n",
    "\n",
    "<img src=\"img/cnns.png\" width=\"600px\"/>\n",
    "\n",
    "Whit this architecture, it is very common that the size of the images / feature maps get smaller and smaller. Similarly, feature maps get deeper and deeper. "
   ]
  },
  {
   "cell_type": "code",
   "execution_count": 1,
   "id": "5f099c66705669f8",
   "metadata": {
    "collapsed": false,
    "ExecuteTime": {
     "end_time": "2024-10-11T17:02:40.303992500Z",
     "start_time": "2024-10-11T17:02:15.962273200Z"
    }
   },
   "outputs": [
    {
     "name": "stdout",
     "output_type": "stream",
     "text": [
      "Note: you may need to restart the kernel to use updated packages.\n",
      "WARNING:tensorflow:From C:\\Users\\ortin\\AppData\\Roaming\\Python\\Python311\\site-packages\\keras\\src\\losses.py:2976: The name tf.losses.sparse_softmax_cross_entropy is deprecated. Please use tf.compat.v1.losses.sparse_softmax_cross_entropy instead.\n"
     ]
    }
   ],
   "source": [
    "# make sure the required packages are installed\n",
    "%pip install pandas numpy seaborn matplotlib scikit-learn keras tensorflow --quiet\n",
    "# if running in colab, install the required packages and copy the necessary files\n",
    "directory='data-science-course/deep-learning/cnn'\n",
    "if get_ipython().__class__.__module__.startswith('google.colab'):\n",
    "    !git clone https://github.com/francisco-ortin/data-science-course.git  2>/dev/null\n",
    "    !cp --update {directory}/*.py .\n",
    "    !mkdir -p img data\n",
    "    !cp {directory}/img/* img/.\n",
    "\n",
    "import tensorflow as tf\n",
    "import numpy as np\n",
    "import pandas as pd\n",
    "import matplotlib.pyplot as plt"
   ]
  },
  {
   "cell_type": "markdown",
   "id": "e7c3e8a3ff34b7dc",
   "metadata": {
    "collapsed": false
   },
   "source": [
    "## Data preparation\n",
    "\n",
    "We use the [fashion MNIST](https://keras.io/api/datasets/fashion_mnist/) dataset from keras. This is a dataset of 60,000 28x28 grayscale images of 10 fashion categories, along with a test set of 10,000 images. "
   ]
  },
  {
   "cell_type": "code",
   "execution_count": 2,
   "id": "33531d19a75de77f",
   "metadata": {
    "collapsed": false,
    "ExecuteTime": {
     "end_time": "2024-10-11T17:02:41.016530200Z",
     "start_time": "2024-10-11T17:02:40.309892100Z"
    }
   },
   "outputs": [
    {
     "name": "stdout",
     "output_type": "stream",
     "text": [
      "Shape of X_train = (50000, 28, 28, 1) and y_train = (50000,).\n",
      "Shape of X_val = (10000, 28, 28, 1) and y_val = (10000,).\n",
      "Shape of X_test = (10000, 28, 28, 1) and y_test = (10000,).\n"
     ]
    }
   ],
   "source": [
    "# We download fashion MNIST the dataset from keras.\n",
    "mnist = tf.keras.datasets.fashion_mnist.load_data()\n",
    "(X_train_full, y_train_full), (X_test, y_test) = mnist\n",
    "\n",
    "# We change the shape of X_train_full from (60k, 28, 28) to (60k, 28, 28, 1)\n",
    "# This is because the images have only one channel (gray color), but we want to apply convolutional\n",
    "# layers the same way as we do for multichannel images (color images)\n",
    "X_train_full = np.expand_dims(X_train_full, axis=-1)\n",
    "# We re-scale the gray color to a number between 0 and 1\n",
    "X_train_full = X_train_full.astype(np.float32) / 255\n",
    "# We do the same with the test set\n",
    "X_test = np.expand_dims(X_test.astype(np.float32), axis=-1) / 255\n",
    "\n",
    "# We split the full training set into a training set and a validation set\n",
    "N_VAL_INSTANCES = 10_000\n",
    "X_train, X_val = X_train_full[:-N_VAL_INSTANCES], X_train_full[-N_VAL_INSTANCES:]\n",
    "y_train, y_val = y_train_full[:-N_VAL_INSTANCES], y_train_full[-N_VAL_INSTANCES:]\n",
    "\n",
    "# Show shapes of all the datasets\n",
    "print(f\"Shape of X_train = {X_train.shape} and y_train = {y_train.shape}.\")\n",
    "print(f\"Shape of X_val = {X_val.shape} and y_val = {y_val.shape}.\")\n",
    "print(f\"Shape of X_test = {X_test.shape} and y_test = {y_test.shape}.\")"
   ]
  },
  {
   "cell_type": "markdown",
   "id": "802ac98cb6d019ad",
   "metadata": {
    "collapsed": false
   },
   "source": [
    "## CNN model\n",
    "\n",
    "We create the convolutional neural network model using the Keras API. We use the following layers:\n",
    "- `Conv2D`: Convolutional layer with different filters, with padding, ReLU activation function, and he_normal kernel initializer (works well with ReLU).\n",
    "- `MaxPool2D`: Pooling layer to reduce the size of the feature maps and hence the memory requirements.\n",
    "- `Flatten`: Layer to flatten the feature maps into a vector that can be passed to a dense layer for classification.\n",
    "- `Dense`: Fully connected layer with ReLU activation function and he_normal kernel initializer, acting as hidden layers in a MLP.\n",
    "- `Dropout`: Regularization mechanism to reduce overfitting. Dropout randomly sets a fraction of the input units (0.5=50% in our case) to 0 at each update during training time, which helps prevent overfitting.\n",
    "\n",
    "Notice that the output layer has 10 units (one per class) and uses the softmax activation function."
   ]
  },
  {
   "cell_type": "code",
   "execution_count": 3,
   "id": "ba1108741a17ef06",
   "metadata": {
    "collapsed": false,
    "ExecuteTime": {
     "end_time": "2024-10-11T17:02:41.781509200Z",
     "start_time": "2024-10-11T17:02:41.023049700Z"
    }
   },
   "outputs": [
    {
     "name": "stdout",
     "output_type": "stream",
     "text": [
      "WARNING:tensorflow:From C:\\Users\\ortin\\AppData\\Roaming\\Python\\Python311\\site-packages\\keras\\src\\backend.py:873: The name tf.get_default_graph is deprecated. Please use tf.compat.v1.get_default_graph instead.\n",
      "WARNING:tensorflow:From C:\\Users\\ortin\\AppData\\Roaming\\Python\\Python311\\site-packages\\keras\\src\\layers\\pooling\\max_pooling2d.py:161: The name tf.nn.max_pool is deprecated. Please use tf.nn.max_pool2d instead.\n",
      "Model: \"sequential\"\n",
      "_________________________________________________________________\n",
      " Layer (type)                Output Shape              Param #   \n",
      "=================================================================\n",
      " conv2d (Conv2D)             (None, 28, 28, 64)        3200      \n",
      "                                                                 \n",
      " max_pooling2d (MaxPooling2  (None, 14, 14, 64)        0         \n",
      " D)                                                              \n",
      "                                                                 \n",
      " conv2d_1 (Conv2D)           (None, 14, 14, 128)       73856     \n",
      "                                                                 \n",
      " conv2d_2 (Conv2D)           (None, 14, 14, 128)       147584    \n",
      "                                                                 \n",
      " max_pooling2d_1 (MaxPoolin  (None, 7, 7, 128)         0         \n",
      " g2D)                                                            \n",
      "                                                                 \n",
      " conv2d_3 (Conv2D)           (None, 7, 7, 256)         295168    \n",
      "                                                                 \n",
      " conv2d_4 (Conv2D)           (None, 7, 7, 256)         590080    \n",
      "                                                                 \n",
      " max_pooling2d_2 (MaxPoolin  (None, 3, 3, 256)         0         \n",
      " g2D)                                                            \n",
      "                                                                 \n",
      " flatten (Flatten)           (None, 2304)              0         \n",
      "                                                                 \n",
      " dense (Dense)               (None, 128)               295040    \n",
      "                                                                 \n",
      " dropout (Dropout)           (None, 128)               0         \n",
      "                                                                 \n",
      " dense_1 (Dense)             (None, 64)                8256      \n",
      "                                                                 \n",
      " dropout_1 (Dropout)         (None, 64)                0         \n",
      "                                                                 \n",
      " dense_2 (Dense)             (None, 10)                650       \n",
      "                                                                 \n",
      "=================================================================\n",
      "Total params: 1413834 (5.39 MB)\n",
      "Trainable params: 1413834 (5.39 MB)\n",
      "Non-trainable params: 0 (0.00 Byte)\n",
      "_________________________________________________________________\n"
     ]
    }
   ],
   "source": [
    "model = tf.keras.Sequential([\n",
    "    tf.keras.layers.Conv2D(input_shape=[28, 28, 1], kernel_size=7, filters=64, padding=\"same\", activation=\"relu\", kernel_initializer=\"he_normal\"),\n",
    "    tf.keras.layers.MaxPool2D(),\n",
    "    tf.keras.layers.Conv2D(kernel_size=3, filters=128, padding=\"same\", activation=\"relu\", kernel_initializer=\"he_normal\"), \n",
    "    tf.keras.layers.Conv2D(kernel_size=3, filters=128, padding=\"same\", activation=\"relu\", kernel_initializer=\"he_normal\"),\n",
    "    tf.keras.layers.MaxPool2D(),\n",
    "    tf.keras.layers.Conv2D(kernel_size=3, filters=256, padding=\"same\", activation=\"relu\", kernel_initializer=\"he_normal\"),\n",
    "    tf.keras.layers.Conv2D(kernel_size=3, filters=256, padding=\"same\", activation=\"relu\", kernel_initializer=\"he_normal\"),\n",
    "    tf.keras.layers.MaxPool2D(),\n",
    "    tf.keras.layers.Flatten(),\n",
    "    tf.keras.layers.Dense(units=128, activation=\"relu\", kernel_initializer=\"he_normal\"),\n",
    "    # Regularization mechanism to reduce overfitting\n",
    "    tf.keras.layers.Dropout(0.5),\n",
    "    tf.keras.layers.Dense(units=64, activation=\"relu\", kernel_initializer=\"he_normal\"),\n",
    "    tf.keras.layers.Dropout(0.5),\n",
    "    # We have 10 possible outputs (softmax)\n",
    "    tf.keras.layers.Dense(units=10, activation=\"softmax\")\n",
    "])\n",
    "\n",
    "model.summary()"
   ]
  },
  {
   "cell_type": "markdown",
   "source": [
    "The CNN has more than 1.4 million parameters!"
   ],
   "metadata": {
    "collapsed": false
   },
   "id": "479a722dff9aeb5d"
  },
  {
   "cell_type": "markdown",
   "id": "52235b5e38e3ccf",
   "metadata": {
    "collapsed": false
   },
   "source": [
    "## Model training\n",
    "\n",
    "We train the model using for 10 epochs, using the NAdam optimizer (a variant of Adam), and sparse categorical cross-entropy as the loss function (multiclass classification with an ordinal value as output)."
   ]
  },
  {
   "cell_type": "code",
   "execution_count": 4,
   "id": "e0e285a33f74265b",
   "metadata": {
    "collapsed": false,
    "ExecuteTime": {
     "end_time": "2024-10-11T17:25:22.230778900Z",
     "start_time": "2024-10-11T17:02:41.771493300Z"
    }
   },
   "outputs": [
    {
     "name": "stdout",
     "output_type": "stream",
     "text": [
      "WARNING:tensorflow:From C:\\Users\\ortin\\AppData\\Roaming\\Python\\Python311\\site-packages\\keras\\src\\optimizers\\__init__.py:309: The name tf.train.Optimizer is deprecated. Please use tf.compat.v1.train.Optimizer instead.\n",
      "Epoch 1/10\n",
      "WARNING:tensorflow:From C:\\Users\\ortin\\AppData\\Roaming\\Python\\Python311\\site-packages\\keras\\src\\utils\\tf_utils.py:492: The name tf.ragged.RaggedTensorValue is deprecated. Please use tf.compat.v1.ragged.RaggedTensorValue instead.\n",
      "WARNING:tensorflow:From C:\\Users\\ortin\\AppData\\Roaming\\Python\\Python311\\site-packages\\keras\\src\\engine\\base_layer_utils.py:384: The name tf.executing_eagerly_outside_functions is deprecated. Please use tf.compat.v1.executing_eagerly_outside_functions instead.\n",
      "1563/1563 [==============================] - 141s 87ms/step - loss: 0.7652 - accuracy: 0.7344 - val_loss: 0.3612 - val_accuracy: 0.8675\n",
      "Epoch 2/10\n",
      "1563/1563 [==============================] - 139s 89ms/step - loss: 0.4305 - accuracy: 0.8546 - val_loss: 0.3133 - val_accuracy: 0.8880\n",
      "Epoch 3/10\n",
      "1563/1563 [==============================] - 137s 88ms/step - loss: 0.3633 - accuracy: 0.8800 - val_loss: 0.2879 - val_accuracy: 0.8901\n",
      "Epoch 4/10\n",
      "1563/1563 [==============================] - 139s 89ms/step - loss: 0.3234 - accuracy: 0.8910 - val_loss: 0.2762 - val_accuracy: 0.9025\n",
      "Epoch 5/10\n",
      "1563/1563 [==============================] - 136s 87ms/step - loss: 0.2936 - accuracy: 0.9013 - val_loss: 0.2580 - val_accuracy: 0.9062\n",
      "Epoch 6/10\n",
      "1563/1563 [==============================] - 129s 83ms/step - loss: 0.2748 - accuracy: 0.9071 - val_loss: 0.2686 - val_accuracy: 0.9049\n",
      "Epoch 7/10\n",
      "1563/1563 [==============================] - 137s 88ms/step - loss: 0.2578 - accuracy: 0.9112 - val_loss: 0.2613 - val_accuracy: 0.9141\n",
      "Epoch 8/10\n",
      "1563/1563 [==============================] - 132s 85ms/step - loss: 0.2380 - accuracy: 0.9191 - val_loss: 0.2877 - val_accuracy: 0.9083\n",
      "Epoch 9/10\n",
      "1563/1563 [==============================] - 135s 86ms/step - loss: 0.2294 - accuracy: 0.9218 - val_loss: 0.2608 - val_accuracy: 0.9092\n",
      "Epoch 10/10\n",
      "1563/1563 [==============================] - 135s 86ms/step - loss: 0.2165 - accuracy: 0.9250 - val_loss: 0.2632 - val_accuracy: 0.9146\n"
     ]
    },
    {
     "data": {
      "text/plain": "<Figure size 800x500 with 1 Axes>",
      "image/png": "[encoded data removed]"
     },
     "metadata": {},
     "output_type": "display_data"
    }
   ],
   "source": [
    "EPOCHS = 10\n",
    "model.compile(loss=\"sparse_categorical_crossentropy\", optimizer=\"nadam\", metrics=[\"accuracy\"])\n",
    "history = model.fit(X_train, y_train, epochs=10, validation_data=(X_val, y_val))\n",
    "# Let's take a look at how test and train loss and accuracy evolved during training\n",
    "pd.DataFrame(history.history).plot(\n",
    "    figsize=(8, 5), xlim=[0, EPOCHS], ylim=[0, 1], grid=True, xlabel=\"Epoch\",\n",
    "    # red/blue, dashed(--), continuous (-), shape(. or *)\n",
    "    style=[\"r-\", \"r--*\", \"b-\", \"b--*\"])  # train-loss=red(-), train-accuracy=red(--*), val_loss=blue(-), val_accuracy=blue(--*)\n",
    "plt.show()"
   ]
  },
  {
   "cell_type": "markdown",
   "source": [
    "## Evaluation\n",
    "\n",
    "Let's evaluate the model with the test dataset."
   ],
   "metadata": {
    "collapsed": false
   },
   "id": "144c20268c2a20a4"
  },
  {
   "cell_type": "code",
   "outputs": [
    {
     "name": "stdout",
     "output_type": "stream",
     "text": [
      "313/313 [==============================] - 7s 22ms/step - loss: 0.2796 - accuracy: 0.9073\n",
      "Test loss: 0.2796. Test accuracy: 0.9073.\n"
     ]
    }
   ],
   "source": [
    "evaluation_results = model.evaluate(X_test, y_test)\n",
    "print(f\"Test loss: {evaluation_results[0]:.4f}. Test accuracy: {evaluation_results[1]:.4f}.\")"
   ],
   "metadata": {
    "collapsed": false,
    "ExecuteTime": {
     "end_time": "2024-10-11T17:26:03.696526Z",
     "start_time": "2024-10-11T17:25:56.726929600Z"
    }
   },
   "id": "26d6929abc4bcade",
   "execution_count": 6
  },
  {
   "cell_type": "markdown",
   "source": [
    "In an example execution, the following values were obtained:\n",
    "- Val loss: 0.2632. Val accuracy: 0.9146.\n",
    "- Test loss: 0.2796. Test accuracy: 0.9073.\n",
    "\n",
    "These values are significantly better than the ones obtained with the MLP in `activation/image_classifier.ipynb` (266.6K parameters):\n",
    "- Test loss: 0.3532. Test accuracy: 0.8716."
   ],
   "metadata": {
    "collapsed": false
   },
   "id": "fcf24a68b5326835"
  },
  {
   "cell_type": "markdown",
   "id": "edfd1a4a83763498",
   "metadata": {
    "collapsed": false
   },
   "source": [
    "## ✨ Questions ✨ \n",
    "\n",
    "1. What do you think it is causing this improvement?\n",
    "2. Do you think an MLP with 1.4 million parameters would perform similarly?"
   ]
  },
  {
   "cell_type": "markdown",
   "id": "d6440c3da7d486fa",
   "metadata": {
    "collapsed": false
   },
   "source": [
    "### Answers\n",
    "\n",
    "*Write your answers here.*\n",
    "\n"
   ]
  },
  {
   "cell_type": "code",
   "outputs": [],
   "source": [],
   "metadata": {
    "collapsed": false
   },
   "id": "e0c9b18d1859ccc6"
  }
 ],
 "metadata": {
  "kernelspec": {
   "display_name": "Python 3 (ipykernel)",
   "language": "python",
   "name": "python3"
  },
  "language_info": {
   "codemirror_mode": {
    "name": "ipython",
    "version": 3
   },
   "file_extension": ".py",
   "mimetype": "text/x-python",
   "name": "python",
   "nbconvert_exporter": "python",
   "pygments_lexer": "ipython3",
   "version": "3.11.4"
  }
 },
 "nbformat": 4,
 "nbformat_minor": 5
}
