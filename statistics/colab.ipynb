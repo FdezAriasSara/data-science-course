{
 "cells": [
  {
   "cell_type": "markdown",
   "id": "91a6c76babd7e212",
   "metadata": {
    "collapsed": false,
    "jupyter": {
     "outputs_hidden": false
    }
   },
   "source": []
  },
  {
   "cell_type": "markdown",
   "id": "9265522edc47f7fb",
   "metadata": {
    "collapsed": false,
    "jupyter": {
     "outputs_hidden": false
    }
   },
   "source": [
    "\n",
    "[![Open In Colab](https://colab.research.google.com/assets/colab-badge.svg)](https://colab.research.google.com/github/francisco-ortin/data-science-course/blob/main/statistics/colab.ipynb)\n",
    "[![License: CC BY-NC-SA 4.0](https://img.shields.io/badge/License-CC%20BY--NC--SA%204.0-lightgrey.svg)](https://creativecommons.org/licenses/by-nc-sa/4.0/)\n",
    "[![CC BY-NC-SA 4.0](https://mirrors.creativecommons.org/presskit/buttons/88x31/svg/by-nc-sa.svg)](/LICENSE)"
   ]
  },
  {
   "cell_type": "code",
   "execution_count": 1,
   "id": "abd29d079dd54ab4",
   "metadata": {
    "ExecuteTime": {
     "end_time": "2024-09-26T15:05:02.426722700Z",
     "start_time": "2024-09-26T15:04:57.178967100Z"
    },
    "collapsed": false,
    "jupyter": {
     "outputs_hidden": false
    }
   },
   "outputs": [],
   "source": [
    "%%capture \n",
    "# make sure the required packages are installed\n",
    "%pip install numpy "
   ]
  },
  {
   "cell_type": "code",
   "execution_count": 3,
   "id": "383b342865f5a13d",
   "metadata": {
    "ExecuteTime": {
     "end_time": "2024-09-26T15:05:16.772902Z",
     "start_time": "2024-09-26T15:05:16.759960300Z"
    },
    "collapsed": false,
    "jupyter": {
     "outputs_hidden": false
    }
   },
   "outputs": [],
   "source": [
    "if get_ipython().__class__.__module__.startswith('google.colab'):\n",
    "    !directory=data-science-course/statistics\n",
    "    !git clone https://github.com/francisco-ortin/data-science-course.git  2>/dev/null\n",
    "    !cp --update $directory/*.py .\n",
    "    !mkdir -p img data\n",
    "    !cp directory/img/* img/.\n",
    "    !cp directory/data/* data/."
   ]
  },
  {
   "cell_type": "markdown",
   "id": "97c79df8d3f479fd",
   "metadata": {
    "collapsed": false,
    "jupyter": {
     "outputs_hidden": false
    }
   },
   "source": [
    "# SciKit learn\n",
    "\n",
    "<img src=\"img/sklearn-logo.png\" />"
   ]
  },
  {
   "cell_type": "code",
   "execution_count": 4,
   "id": "5b43cb4089acc0b5",
   "metadata": {
    "ExecuteTime": {
     "end_time": "2024-09-26T15:05:21.481469500Z",
     "start_time": "2024-09-26T15:05:21.431675800Z"
    },
    "collapsed": false,
    "jupyter": {
     "outputs_hidden": false
    }
   },
   "outputs": [
    {
     "name": "stdout",
     "output_type": "stream",
     "text": [
      "\tMinimum: 0.0006963379655807733.\n",
      "\t1st quartile (Q1): 0.23835475525326924.\n",
      "\tMedian (Q2): 0.4890018538779888.\n",
      "\t3rd quartile (Q3): 0.7075311999601263.\n",
      "\tMaximum: 0.9995913247862288.\n"
     ]
    },
    {
     "data": {
      "text/plain": [
       "(0.0006963379655807733,\n",
       " 0.23835475525326924,\n",
       " 0.4890018538779888,\n",
       " 0.7075311999601263,\n",
       " 0.9995913247862288)"
      ]
     },
     "execution_count": 4,
     "metadata": {},
     "output_type": "execute_result"
    }
   ],
   "source": [
    "import numpy as np\n",
    "import utils\n",
    "utils.five_number_summary(np.random.random(100), show=True)"
   ]
  }
 ],
 "metadata": {
  "kernelspec": {
   "display_name": "Python 3 (ipykernel)",
   "language": "python",
   "name": "python3"
  },
  "language_info": {
   "codemirror_mode": {
    "name": "ipython",
    "version": 3
   },
   "file_extension": ".py",
   "mimetype": "text/x-python",
   "name": "python",
   "nbconvert_exporter": "python",
   "pygments_lexer": "ipython3",
   "version": "3.11.4"
  }
 },
 "nbformat": 4,
 "nbformat_minor": 5
}
