{
 "cells": [
  {
   "cell_type": "markdown",
   "id": "91a6c76babd7e212",
   "metadata": {
    "collapsed": false
   },
   "source": []
  },
  {
   "cell_type": "markdown",
   "id": "9265522edc47f7fb",
   "metadata": {
    "collapsed": false
   },
   "source": [
    "\n",
    "[![Open In Colab](https://colab.research.google.com/assets/colab-badge.svg)](https://colab.research.google.com/github/francisco-ortin/data-science-course/blob/main/statistics/colab.ipynb)\n",
    "[![License: CC BY-NC-SA 4.0](https://img.shields.io/badge/License-CC%20BY--NC--SA%204.0-lightgrey.svg)](https://creativecommons.org/licenses/by-nc-sa/4.0/)\n",
    "[![CC BY-NC-SA 4.0](https://mirrors.creativecommons.org/presskit/buttons/88x31/svg/by-nc-sa.svg)](/LICENSE)"
   ]
  },
  {
   "cell_type": "code",
   "execution_count": 1,
   "id": "abd29d079dd54ab4",
   "metadata": {
    "collapsed": false,
    "ExecuteTime": {
     "end_time": "2024-09-30T11:05:06.244457800Z",
     "start_time": "2024-09-30T11:05:03.757009200Z"
    }
   },
   "outputs": [
    {
     "name": "stdout",
     "output_type": "stream",
     "text": [
      "Note: you may need to restart the kernel to use updated packages.\n"
     ]
    }
   ],
   "source": [
    "# make sure the required packages are installed\n",
    "%pip install numpy --quiet "
   ]
  },
  {
   "cell_type": "code",
   "execution_count": 2,
   "id": "383b342865f5a13d",
   "metadata": {
    "collapsed": false,
    "ExecuteTime": {
     "end_time": "2024-09-30T11:05:06.263463300Z",
     "start_time": "2024-09-30T11:05:06.254580800Z"
    }
   },
   "outputs": [],
   "source": [
    "directory='data-science-course/statistics'\n",
    "if get_ipython().__class__.__module__.startswith('google.colab'):\n",
    "    !export directory=\"data-science-course/statistics\"\n",
    "    !git clone https://github.com/francisco-ortin/data-science-course.git  2>/dev/null\n",
    "    !cp --update {directory}/*.py .\n",
    "    !mkdir -p img data\n",
    "    !cp {directory}/img/* img/.\n",
    "    !cp {directory}/data/* data/."
   ]
  },
  {
   "cell_type": "markdown",
   "id": "97c79df8d3f479fd",
   "metadata": {
    "collapsed": false
   },
   "source": [
    "# SciKit learn\n",
    "\n",
    "<img src=\"img/sklearn-logo.png\" />"
   ]
  },
  {
   "cell_type": "code",
   "execution_count": 3,
   "id": "5b43cb4089acc0b5",
   "metadata": {
    "collapsed": false,
    "ExecuteTime": {
     "end_time": "2024-09-30T11:05:07.738624Z",
     "start_time": "2024-09-30T11:05:06.265869500Z"
    }
   },
   "outputs": [
    {
     "name": "stdout",
     "output_type": "stream",
     "text": [
      "\tMinimum: 0.012319598592674508.\n",
      "\t1st quartile (Q1): 0.21595360220600687.\n",
      "\tMedian (Q2): 0.41826502580372826.\n",
      "\t3rd quartile (Q3): 0.6534429658175432.\n",
      "\tMaximum: 0.9944010468711637.\n"
     ]
    },
    {
     "data": {
      "text/plain": "(0.012319598592674508,\n 0.21595360220600687,\n 0.41826502580372826,\n 0.6534429658175432,\n 0.9944010468711637)"
     },
     "execution_count": 3,
     "metadata": {},
     "output_type": "execute_result"
    }
   ],
   "source": [
    "import numpy as np\n",
    "import utils\n",
    "utils.five_number_summary(np.random.random(100), show=True)"
   ]
  }
 ],
 "metadata": {
  "kernelspec": {
   "display_name": "Python 3 (ipykernel)",
   "language": "python",
   "name": "python3"
  },
  "language_info": {
   "codemirror_mode": {
    "name": "ipython",
    "version": 3
   },
   "file_extension": ".py",
   "mimetype": "text/x-python",
   "name": "python",
   "nbconvert_exporter": "python",
   "pygments_lexer": "ipython3",
   "version": "3.11.4"
  }
 },
 "nbformat": 4,
 "nbformat_minor": 5
}
