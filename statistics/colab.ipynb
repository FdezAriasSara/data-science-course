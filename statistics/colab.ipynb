{
 "cells": [
  {
   "cell_type": "markdown",
   "source": [],
   "metadata": {
    "collapsed": false
   },
   "id": "91a6c76babd7e212"
  },
  {
   "cell_type": "markdown",
   "source": [
    "\n",
    "<a target=\"_blank\" href=\"https://colab.research.google.com/github/francisco-ortin/data-science-course/blob/main/statistics/colab.ipynb\">\n",
    "  <img src=\"https://colab.research.google.com/assets/colab-badge.svg\" alt=\"Open In Colab\"/>\n",
    "</a>\n",
    "\n",
    "[![Open In Colab](https://colab.research.google.com/assets/colab-badge.svg)](https://colab.research.google.com/github/francisco-ortin/data-science-course/blob/main/statistics/colab.ipynb)\n"
   ],
   "metadata": {
    "collapsed": false
   },
   "id": "9265522edc47f7fb"
  },
  {
   "cell_type": "code",
   "outputs": [],
   "source": [
    "%%capture\n",
    "# make sure the required packages are installed\n",
    "%pip install numpy "
   ],
   "metadata": {
    "collapsed": false,
    "ExecuteTime": {
     "end_time": "2024-09-26T15:05:02.426722700Z",
     "start_time": "2024-09-26T15:04:57.178967100Z"
    }
   },
   "id": "abd29d079dd54ab4",
   "execution_count": 1
  },
  {
   "cell_type": "code",
   "outputs": [],
   "source": [
    "if get_ipython().__class__.__module__.startswith('google.colab'):\n",
    "    print(\"Running on CoLab\")\n",
    "    !git clone https://github.com/francisco-ortin/data-science-course.git  2>/dev/null\n",
    "    !cp --update data-science-course/statistics/*.py .\n",
    "    !mkdir -p img\n",
    "    !cp data-science-course/statistics/img/* img/."
   ],
   "metadata": {
    "collapsed": false,
    "ExecuteTime": {
     "end_time": "2024-09-26T15:05:16.772902Z",
     "start_time": "2024-09-26T15:05:16.759960300Z"
    }
   },
   "id": "383b342865f5a13d",
   "execution_count": 3
  },
  {
   "cell_type": "markdown",
   "source": [
    "# SciKit learn\n",
    "\n",
    "<img src=\"img/sklearn-logo.png\" />"
   ],
   "metadata": {
    "collapsed": false
   },
   "id": "97c79df8d3f479fd"
  },
  {
   "cell_type": "code",
   "outputs": [
    {
     "name": "stdout",
     "output_type": "stream",
     "text": [
      "\tMinimum: 0.0006963379655807733.\n",
      "\t1st quartile (Q1): 0.23835475525326924.\n",
      "\tMedian (Q2): 0.4890018538779888.\n",
      "\t3rd quartile (Q3): 0.7075311999601263.\n",
      "\tMaximum: 0.9995913247862288.\n"
     ]
    },
    {
     "data": {
      "text/plain": "(0.0006963379655807733,\n 0.23835475525326924,\n 0.4890018538779888,\n 0.7075311999601263,\n 0.9995913247862288)"
     },
     "execution_count": 4,
     "metadata": {},
     "output_type": "execute_result"
    }
   ],
   "source": [
    "import numpy as np\n",
    "import utils\n",
    "utils.five_number_summary(np.random.random(100), show=True)"
   ],
   "metadata": {
    "collapsed": false,
    "ExecuteTime": {
     "end_time": "2024-09-26T15:05:21.481469500Z",
     "start_time": "2024-09-26T15:05:21.431675800Z"
    }
   },
   "id": "5b43cb4089acc0b5",
   "execution_count": 4
  }
 ],
 "metadata": {
  "kernelspec": {
   "display_name": "Python 3",
   "language": "python",
   "name": "python3"
  },
  "language_info": {
   "codemirror_mode": {
    "name": "ipython",
    "version": 2
   },
   "file_extension": ".py",
   "mimetype": "text/x-python",
   "name": "python",
   "nbconvert_exporter": "python",
   "pygments_lexer": "ipython2",
   "version": "2.7.6"
  }
 },
 "nbformat": 4,
 "nbformat_minor": 5
}
