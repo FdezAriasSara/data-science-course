{
 "cells": [
  {
   "cell_type": "markdown",
   "source": [
    "# Dispersion\n",
    "\n",
    "Dispersion measures how spread out the data are. It is a measure of how much the data in a dataset varies. "
   ],
   "metadata": {
    "collapsed": false
   },
   "id": "ad441c1eca539d06"
  },
  {
   "cell_type": "code",
   "execution_count": 14,
   "id": "initial_id",
   "metadata": {
    "collapsed": true,
    "ExecuteTime": {
     "end_time": "2024-09-20T12:02:55.911329200Z",
     "start_time": "2024-09-20T12:02:54.438202500Z"
    }
   },
   "outputs": [],
   "source": [
    "%%capture\n",
    "# make sure the required packages are installed\n",
    "%pip install pandas seaborn matplotlib"
   ]
  },
  {
   "cell_type": "markdown",
   "source": [
    "## Dataset\n",
    "\n",
    "We will use the Titanic dataset, which contains information about the passengers of the Titanic. The dataset is available at the seaborn library."
   ],
   "metadata": {
    "collapsed": false
   },
   "id": "e3a143ced72f6693"
  },
  {
   "cell_type": "code",
   "outputs": [
    {
     "name": "stdout",
     "output_type": "stream",
     "text": [
      "Shape of the dataset: (891, 15).\n"
     ]
    },
    {
     "data": {
      "text/plain": "   survived  pclass     sex   age  sibsp  parch     fare embarked   class  \\\n0         0       3    male  22.0      1      0   7.2500        S   Third   \n1         1       1  female  38.0      1      0  71.2833        C   First   \n2         1       3  female  26.0      0      0   7.9250        S   Third   \n3         1       1  female  35.0      1      0  53.1000        S   First   \n4         0       3    male  35.0      0      0   8.0500        S   Third   \n5         0       3    male   NaN      0      0   8.4583        Q   Third   \n6         0       1    male  54.0      0      0  51.8625        S   First   \n7         0       3    male   2.0      3      1  21.0750        S   Third   \n8         1       3  female  27.0      0      2  11.1333        S   Third   \n9         1       2  female  14.0      1      0  30.0708        C  Second   \n\n     who  adult_male deck  embark_town alive  alone  \n0    man        True  NaN  Southampton    no  False  \n1  woman       False    C    Cherbourg   yes  False  \n2  woman       False  NaN  Southampton   yes   True  \n3  woman       False    C  Southampton   yes  False  \n4    man        True  NaN  Southampton    no   True  \n5    man        True  NaN   Queenstown    no   True  \n6    man        True    E  Southampton    no   True  \n7  child       False  NaN  Southampton    no  False  \n8  woman       False  NaN  Southampton   yes  False  \n9  child       False  NaN    Cherbourg   yes  False  ",
      "text/html": "<div>\n<style scoped>\n    .dataframe tbody tr th:only-of-type {\n        vertical-align: middle;\n    }\n\n    .dataframe tbody tr th {\n        vertical-align: top;\n    }\n\n    .dataframe thead th {\n        text-align: right;\n    }\n</style>\n<table border=\"1\" class=\"dataframe\">\n  <thead>\n    <tr style=\"text-align: right;\">\n      <th></th>\n      <th>survived</th>\n      <th>pclass</th>\n      <th>sex</th>\n      <th>age</th>\n      <th>sibsp</th>\n      <th>parch</th>\n      <th>fare</th>\n      <th>embarked</th>\n      <th>class</th>\n      <th>who</th>\n      <th>adult_male</th>\n      <th>deck</th>\n      <th>embark_town</th>\n      <th>alive</th>\n      <th>alone</th>\n    </tr>\n  </thead>\n  <tbody>\n    <tr>\n      <th>0</th>\n      <td>0</td>\n      <td>3</td>\n      <td>male</td>\n      <td>22.0</td>\n      <td>1</td>\n      <td>0</td>\n      <td>7.2500</td>\n      <td>S</td>\n      <td>Third</td>\n      <td>man</td>\n      <td>True</td>\n      <td>NaN</td>\n      <td>Southampton</td>\n      <td>no</td>\n      <td>False</td>\n    </tr>\n    <tr>\n      <th>1</th>\n      <td>1</td>\n      <td>1</td>\n      <td>female</td>\n      <td>38.0</td>\n      <td>1</td>\n      <td>0</td>\n      <td>71.2833</td>\n      <td>C</td>\n      <td>First</td>\n      <td>woman</td>\n      <td>False</td>\n      <td>C</td>\n      <td>Cherbourg</td>\n      <td>yes</td>\n      <td>False</td>\n    </tr>\n    <tr>\n      <th>2</th>\n      <td>1</td>\n      <td>3</td>\n      <td>female</td>\n      <td>26.0</td>\n      <td>0</td>\n      <td>0</td>\n      <td>7.9250</td>\n      <td>S</td>\n      <td>Third</td>\n      <td>woman</td>\n      <td>False</td>\n      <td>NaN</td>\n      <td>Southampton</td>\n      <td>yes</td>\n      <td>True</td>\n    </tr>\n    <tr>\n      <th>3</th>\n      <td>1</td>\n      <td>1</td>\n      <td>female</td>\n      <td>35.0</td>\n      <td>1</td>\n      <td>0</td>\n      <td>53.1000</td>\n      <td>S</td>\n      <td>First</td>\n      <td>woman</td>\n      <td>False</td>\n      <td>C</td>\n      <td>Southampton</td>\n      <td>yes</td>\n      <td>False</td>\n    </tr>\n    <tr>\n      <th>4</th>\n      <td>0</td>\n      <td>3</td>\n      <td>male</td>\n      <td>35.0</td>\n      <td>0</td>\n      <td>0</td>\n      <td>8.0500</td>\n      <td>S</td>\n      <td>Third</td>\n      <td>man</td>\n      <td>True</td>\n      <td>NaN</td>\n      <td>Southampton</td>\n      <td>no</td>\n      <td>True</td>\n    </tr>\n    <tr>\n      <th>5</th>\n      <td>0</td>\n      <td>3</td>\n      <td>male</td>\n      <td>NaN</td>\n      <td>0</td>\n      <td>0</td>\n      <td>8.4583</td>\n      <td>Q</td>\n      <td>Third</td>\n      <td>man</td>\n      <td>True</td>\n      <td>NaN</td>\n      <td>Queenstown</td>\n      <td>no</td>\n      <td>True</td>\n    </tr>\n    <tr>\n      <th>6</th>\n      <td>0</td>\n      <td>1</td>\n      <td>male</td>\n      <td>54.0</td>\n      <td>0</td>\n      <td>0</td>\n      <td>51.8625</td>\n      <td>S</td>\n      <td>First</td>\n      <td>man</td>\n      <td>True</td>\n      <td>E</td>\n      <td>Southampton</td>\n      <td>no</td>\n      <td>True</td>\n    </tr>\n    <tr>\n      <th>7</th>\n      <td>0</td>\n      <td>3</td>\n      <td>male</td>\n      <td>2.0</td>\n      <td>3</td>\n      <td>1</td>\n      <td>21.0750</td>\n      <td>S</td>\n      <td>Third</td>\n      <td>child</td>\n      <td>False</td>\n      <td>NaN</td>\n      <td>Southampton</td>\n      <td>no</td>\n      <td>False</td>\n    </tr>\n    <tr>\n      <th>8</th>\n      <td>1</td>\n      <td>3</td>\n      <td>female</td>\n      <td>27.0</td>\n      <td>0</td>\n      <td>2</td>\n      <td>11.1333</td>\n      <td>S</td>\n      <td>Third</td>\n      <td>woman</td>\n      <td>False</td>\n      <td>NaN</td>\n      <td>Southampton</td>\n      <td>yes</td>\n      <td>False</td>\n    </tr>\n    <tr>\n      <th>9</th>\n      <td>1</td>\n      <td>2</td>\n      <td>female</td>\n      <td>14.0</td>\n      <td>1</td>\n      <td>0</td>\n      <td>30.0708</td>\n      <td>C</td>\n      <td>Second</td>\n      <td>child</td>\n      <td>False</td>\n      <td>NaN</td>\n      <td>Cherbourg</td>\n      <td>yes</td>\n      <td>False</td>\n    </tr>\n  </tbody>\n</table>\n</div>"
     },
     "execution_count": 15,
     "metadata": {},
     "output_type": "execute_result"
    }
   ],
   "source": [
    "# get the titanic dataset from seaborn\n",
    "import seaborn as sns\n",
    "titanic_df = sns.load_dataset('titanic')\n",
    "print(f\"Shape of the dataset: {titanic_df.shape}.\")\n",
    "titanic_df.head(10)"
   ],
   "metadata": {
    "collapsed": false,
    "ExecuteTime": {
     "end_time": "2024-09-20T12:02:55.986260Z",
     "start_time": "2024-09-20T12:02:55.914911700Z"
    }
   },
   "id": "8077aad75c2639ed",
   "execution_count": 15
  },
  {
   "cell_type": "markdown",
   "source": [
    "## Frequency distribution\n",
    "\n",
    "For nominal data, dispersion can be measured with frequencies. The frequency distribution is a table that shows the number of instances in a dataset for each category. Pandas provides the `value_counts` method to calculate the frequency distribution. "
   ],
   "metadata": {
    "collapsed": false
   },
   "id": "3a916cc4daef346a"
  },
  {
   "cell_type": "code",
   "outputs": [
    {
     "name": "stdout",
     "output_type": "stream",
     "text": [
      "Values for the class variable: ['Third', 'First', 'Second']\n",
      "Categories (3, object): ['First', 'Second', 'Third'].\n",
      "Frequency distribution for class:\n"
     ]
    },
    {
     "data": {
      "text/plain": "class\nThird     491\nFirst     216\nSecond    184\nName: count, dtype: int64"
     },
     "execution_count": 16,
     "metadata": {},
     "output_type": "execute_result"
    }
   ],
   "source": [
    "# show the frequency distribution of the 'class' column\n",
    "print(f\"Values for the class variable: {titanic_df['class'].unique()}.\")\n",
    "print(\"Frequency distribution for class:\")\n",
    "titanic_df['class'].value_counts()"
   ],
   "metadata": {
    "collapsed": false,
    "ExecuteTime": {
     "end_time": "2024-09-20T12:02:55.987591100Z",
     "start_time": "2024-09-20T12:02:55.963089900Z"
    }
   },
   "id": "44b94cf592a373c1",
   "execution_count": 16
  },
  {
   "cell_type": "markdown",
   "source": [
    "A contingency table is a frequency distribution for two or more variables. It shows the number of instances for each combination of values. Pandas provides the `crosstab` method to calculate the contingency table."
   ],
   "metadata": {
    "collapsed": false
   },
   "id": "c796ee3ce57c47c"
  },
  {
   "cell_type": "code",
   "outputs": [
    {
     "name": "stdout",
     "output_type": "stream",
     "text": [
      "Contingency table for class and embark_town:\n"
     ]
    },
    {
     "data": {
      "text/plain": "embark_town  Cherbourg  Queenstown  Southampton\nclass                                          \nFirst               85           2          127\nSecond              17           3          164\nThird               66          72          353",
      "text/html": "<div>\n<style scoped>\n    .dataframe tbody tr th:only-of-type {\n        vertical-align: middle;\n    }\n\n    .dataframe tbody tr th {\n        vertical-align: top;\n    }\n\n    .dataframe thead th {\n        text-align: right;\n    }\n</style>\n<table border=\"1\" class=\"dataframe\">\n  <thead>\n    <tr style=\"text-align: right;\">\n      <th>embark_town</th>\n      <th>Cherbourg</th>\n      <th>Queenstown</th>\n      <th>Southampton</th>\n    </tr>\n    <tr>\n      <th>class</th>\n      <th></th>\n      <th></th>\n      <th></th>\n    </tr>\n  </thead>\n  <tbody>\n    <tr>\n      <th>First</th>\n      <td>85</td>\n      <td>2</td>\n      <td>127</td>\n    </tr>\n    <tr>\n      <th>Second</th>\n      <td>17</td>\n      <td>3</td>\n      <td>164</td>\n    </tr>\n    <tr>\n      <th>Third</th>\n      <td>66</td>\n      <td>72</td>\n      <td>353</td>\n    </tr>\n  </tbody>\n</table>\n</div>"
     },
     "execution_count": 17,
     "metadata": {},
     "output_type": "execute_result"
    }
   ],
   "source": [
    "import pandas as pd\n",
    "# show the contingency table for the 'class' and 'embark_town' columns\n",
    "print(\"Contingency table for class and embark_town:\")\n",
    "pd.crosstab(titanic_df['class'], titanic_df['embark_town'])"
   ],
   "metadata": {
    "collapsed": false,
    "ExecuteTime": {
     "end_time": "2024-09-20T12:02:56.106388200Z",
     "start_time": "2024-09-20T12:02:55.993809200Z"
    }
   },
   "id": "4beef251663756d1",
   "execution_count": 17
  },
  {
   "cell_type": "markdown",
   "source": [
    "## Range\n",
    "\n",
    "The range is the difference between the maximum and minimum values in a dataset. It is a simple measure of dispersion tha is valid for numerical (quantitative) interval-scale data. Pandas provides the `max` and `min` methods."
   ],
   "metadata": {
    "collapsed": false
   },
   "id": "ba2fec6a3962b99d"
  },
  {
   "cell_type": "code",
   "outputs": [
    {
     "name": "stdout",
     "output_type": "stream",
     "text": [
      "Fare range: 512.33.\n",
      "Age range: 79.58.\n"
     ]
    }
   ],
   "source": [
    "fare_range = titanic_df['fare'].max() - titanic_df['fare'].min()\n",
    "fare_age = titanic_df['age'].max() - titanic_df['age'].min()\n",
    "print(f\"Fare range: {fare_range:.2f}.\\nAge range: {fare_age:.2f}.\")"
   ],
   "metadata": {
    "collapsed": false,
    "ExecuteTime": {
     "end_time": "2024-09-20T12:02:56.107518700Z",
     "start_time": "2024-09-20T12:02:56.030407Z"
    }
   },
   "id": "3d22199f86b32927",
   "execution_count": 18
  },
  {
   "cell_type": "markdown",
   "source": [
    "If we want to know the maximum and minimum instance for a given column, we can use the `idxmax` and `idxmin` methods."
   ],
   "metadata": {
    "collapsed": false
   },
   "id": "423c0001a0b041fe"
  },
  {
   "cell_type": "code",
   "outputs": [
    {
     "name": "stdout",
     "output_type": "stream",
     "text": [
      "New fare range with an outlier: 1000000.00 (previously: 512.33).\n"
     ]
    }
   ],
   "source": [
    "# Let's add an outlier for the fare column\n",
    "# we take the index with the greatest fare value\n",
    "greatest_fare_index = titanic_df['fare'].idxmax()\n",
    "# we set the fare value to 1M\n",
    "previous_highest_fare = titanic_df.loc[greatest_fare_index, 'fare']\n",
    "titanic_df.loc[greatest_fare_index, 'fare'] = 1_000_000  # outlier\n",
    "\n",
    "print(f\"New fare range with an outlier: {titanic_df['fare'].max() - titanic_df['fare'].min():.2f}\"\n",
    "      f\" (previously: {fare_range:.2f}).\")"
   ],
   "metadata": {
    "collapsed": false,
    "ExecuteTime": {
     "end_time": "2024-09-20T12:02:56.107518700Z",
     "start_time": "2024-09-20T12:02:56.041929200Z"
    }
   },
   "id": "e0d5df13eafa1d2a",
   "execution_count": 19
  },
  {
   "cell_type": "markdown",
   "source": [],
   "metadata": {
    "collapsed": false
   },
   "id": "5ba5d132165a94"
  }
 ],
 "metadata": {
  "kernelspec": {
   "display_name": "Python 3",
   "language": "python",
   "name": "python3"
  },
  "language_info": {
   "codemirror_mode": {
    "name": "ipython",
    "version": 2
   },
   "file_extension": ".py",
   "mimetype": "text/x-python",
   "name": "python",
   "nbconvert_exporter": "python",
   "pygments_lexer": "ipython2",
   "version": "2.7.6"
  }
 },
 "nbformat": 4,
 "nbformat_minor": 5
}
