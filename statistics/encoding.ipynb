{
 "cells": [
  {
   "cell_type": "markdown",
   "source": [
    "# Variable encoding\n",
    "\n",
    "Using Pandas, we will see two ways of encoding nominal variables, which are very common in datasets: label and one-hot encoding."
   ],
   "metadata": {
    "collapsed": false
   },
   "id": "137bff049a6ed8fa"
  },
  {
   "cell_type": "code",
   "outputs": [
    {
     "name": "stdout",
     "output_type": "stream",
     "text": [
      "Note: you may need to restart the kernel to use updated packages.\n"
     ]
    }
   ],
   "source": [
    "# make sure the required packages are installed\n",
    "%pip install pandas seaborn --quiet "
   ],
   "metadata": {
    "collapsed": false,
    "ExecuteTime": {
     "end_time": "2024-10-01T11:53:02.130314700Z",
     "start_time": "2024-10-01T11:53:00.654490100Z"
    }
   },
   "id": "abd29d079dd54ab4",
   "execution_count": 6
  },
  {
   "cell_type": "markdown",
   "source": [
    "## Dataset\n",
    "\n",
    "We will use the Titanic dataset, which contains information about the passengers of the Titanic. The dataset is available at the seaborn library."
   ],
   "metadata": {
    "collapsed": false
   },
   "id": "b0ca00469c28f595"
  },
  {
   "cell_type": "code",
   "outputs": [
    {
     "data": {
      "text/plain": "   survived  pclass     sex   age  sibsp  parch     fare embarked   class  \\\n0         0       3    male  22.0      1      0   7.2500        S   Third   \n1         1       1  female  38.0      1      0  71.2833        C   First   \n2         1       3  female  26.0      0      0   7.9250        S   Third   \n3         1       1  female  35.0      1      0  53.1000        S   First   \n4         0       3    male  35.0      0      0   8.0500        S   Third   \n5         0       3    male   NaN      0      0   8.4583        Q   Third   \n6         0       1    male  54.0      0      0  51.8625        S   First   \n7         0       3    male   2.0      3      1  21.0750        S   Third   \n8         1       3  female  27.0      0      2  11.1333        S   Third   \n9         1       2  female  14.0      1      0  30.0708        C  Second   \n\n     who  adult_male deck  embark_town alive  alone  \n0    man        True  NaN  Southampton    no  False  \n1  woman       False    C    Cherbourg   yes  False  \n2  woman       False  NaN  Southampton   yes   True  \n3  woman       False    C  Southampton   yes  False  \n4    man        True  NaN  Southampton    no   True  \n5    man        True  NaN   Queenstown    no   True  \n6    man        True    E  Southampton    no   True  \n7  child       False  NaN  Southampton    no  False  \n8  woman       False  NaN  Southampton   yes  False  \n9  child       False  NaN    Cherbourg   yes  False  ",
      "text/html": "<div>\n<style scoped>\n    .dataframe tbody tr th:only-of-type {\n        vertical-align: middle;\n    }\n\n    .dataframe tbody tr th {\n        vertical-align: top;\n    }\n\n    .dataframe thead th {\n        text-align: right;\n    }\n</style>\n<table border=\"1\" class=\"dataframe\">\n  <thead>\n    <tr style=\"text-align: right;\">\n      <th></th>\n      <th>survived</th>\n      <th>pclass</th>\n      <th>sex</th>\n      <th>age</th>\n      <th>sibsp</th>\n      <th>parch</th>\n      <th>fare</th>\n      <th>embarked</th>\n      <th>class</th>\n      <th>who</th>\n      <th>adult_male</th>\n      <th>deck</th>\n      <th>embark_town</th>\n      <th>alive</th>\n      <th>alone</th>\n    </tr>\n  </thead>\n  <tbody>\n    <tr>\n      <th>0</th>\n      <td>0</td>\n      <td>3</td>\n      <td>male</td>\n      <td>22.0</td>\n      <td>1</td>\n      <td>0</td>\n      <td>7.2500</td>\n      <td>S</td>\n      <td>Third</td>\n      <td>man</td>\n      <td>True</td>\n      <td>NaN</td>\n      <td>Southampton</td>\n      <td>no</td>\n      <td>False</td>\n    </tr>\n    <tr>\n      <th>1</th>\n      <td>1</td>\n      <td>1</td>\n      <td>female</td>\n      <td>38.0</td>\n      <td>1</td>\n      <td>0</td>\n      <td>71.2833</td>\n      <td>C</td>\n      <td>First</td>\n      <td>woman</td>\n      <td>False</td>\n      <td>C</td>\n      <td>Cherbourg</td>\n      <td>yes</td>\n      <td>False</td>\n    </tr>\n    <tr>\n      <th>2</th>\n      <td>1</td>\n      <td>3</td>\n      <td>female</td>\n      <td>26.0</td>\n      <td>0</td>\n      <td>0</td>\n      <td>7.9250</td>\n      <td>S</td>\n      <td>Third</td>\n      <td>woman</td>\n      <td>False</td>\n      <td>NaN</td>\n      <td>Southampton</td>\n      <td>yes</td>\n      <td>True</td>\n    </tr>\n    <tr>\n      <th>3</th>\n      <td>1</td>\n      <td>1</td>\n      <td>female</td>\n      <td>35.0</td>\n      <td>1</td>\n      <td>0</td>\n      <td>53.1000</td>\n      <td>S</td>\n      <td>First</td>\n      <td>woman</td>\n      <td>False</td>\n      <td>C</td>\n      <td>Southampton</td>\n      <td>yes</td>\n      <td>False</td>\n    </tr>\n    <tr>\n      <th>4</th>\n      <td>0</td>\n      <td>3</td>\n      <td>male</td>\n      <td>35.0</td>\n      <td>0</td>\n      <td>0</td>\n      <td>8.0500</td>\n      <td>S</td>\n      <td>Third</td>\n      <td>man</td>\n      <td>True</td>\n      <td>NaN</td>\n      <td>Southampton</td>\n      <td>no</td>\n      <td>True</td>\n    </tr>\n    <tr>\n      <th>5</th>\n      <td>0</td>\n      <td>3</td>\n      <td>male</td>\n      <td>NaN</td>\n      <td>0</td>\n      <td>0</td>\n      <td>8.4583</td>\n      <td>Q</td>\n      <td>Third</td>\n      <td>man</td>\n      <td>True</td>\n      <td>NaN</td>\n      <td>Queenstown</td>\n      <td>no</td>\n      <td>True</td>\n    </tr>\n    <tr>\n      <th>6</th>\n      <td>0</td>\n      <td>1</td>\n      <td>male</td>\n      <td>54.0</td>\n      <td>0</td>\n      <td>0</td>\n      <td>51.8625</td>\n      <td>S</td>\n      <td>First</td>\n      <td>man</td>\n      <td>True</td>\n      <td>E</td>\n      <td>Southampton</td>\n      <td>no</td>\n      <td>True</td>\n    </tr>\n    <tr>\n      <th>7</th>\n      <td>0</td>\n      <td>3</td>\n      <td>male</td>\n      <td>2.0</td>\n      <td>3</td>\n      <td>1</td>\n      <td>21.0750</td>\n      <td>S</td>\n      <td>Third</td>\n      <td>child</td>\n      <td>False</td>\n      <td>NaN</td>\n      <td>Southampton</td>\n      <td>no</td>\n      <td>False</td>\n    </tr>\n    <tr>\n      <th>8</th>\n      <td>1</td>\n      <td>3</td>\n      <td>female</td>\n      <td>27.0</td>\n      <td>0</td>\n      <td>2</td>\n      <td>11.1333</td>\n      <td>S</td>\n      <td>Third</td>\n      <td>woman</td>\n      <td>False</td>\n      <td>NaN</td>\n      <td>Southampton</td>\n      <td>yes</td>\n      <td>False</td>\n    </tr>\n    <tr>\n      <th>9</th>\n      <td>1</td>\n      <td>2</td>\n      <td>female</td>\n      <td>14.0</td>\n      <td>1</td>\n      <td>0</td>\n      <td>30.0708</td>\n      <td>C</td>\n      <td>Second</td>\n      <td>child</td>\n      <td>False</td>\n      <td>NaN</td>\n      <td>Cherbourg</td>\n      <td>yes</td>\n      <td>False</td>\n    </tr>\n  </tbody>\n</table>\n</div>"
     },
     "execution_count": 7,
     "metadata": {},
     "output_type": "execute_result"
    }
   ],
   "source": [
    "# get the titanic dataset from seaborn\n",
    "import seaborn as sns\n",
    "titanic_df = sns.load_dataset('titanic')\n",
    "titanic_df.head(10)"
   ],
   "metadata": {
    "collapsed": false,
    "ExecuteTime": {
     "end_time": "2024-10-01T11:53:02.185802200Z",
     "start_time": "2024-10-01T11:53:02.127222600Z"
    }
   },
   "id": "383b342865f5a13d",
   "execution_count": 7
  },
  {
   "cell_type": "markdown",
   "source": [
    "## ✨ Questions ✨\n",
    "\n",
    "1. What type of variable is the `sex` column?\n",
    "2. What type of variable is the `pclass` column?\n",
    "3. What type of variable is the `embark_town` column?\n",
    "4. What type of variable is the `fare` column?\n",
    "5. What type of variable is the `survived` column?\n",
    "6. What type of variable is the `age` column?\n",
    "7. What type of variable is the `class` column?"
   ],
   "metadata": {
    "collapsed": false
   },
   "id": "d61b77e483d1be5d"
  },
  {
   "cell_type": "markdown",
   "source": [
    "### Answers:\n",
    "\n",
    "*Write your answers here.*\n",
    "\n"
   ],
   "metadata": {
    "collapsed": false
   },
   "id": "9061e08c9194904a"
  },
  {
   "cell_type": "markdown",
   "source": [
    "## Label encoding\n",
    "\n",
    "Label encoding is a way to encode categorical variables. It assigns a unique integer to each category. For example, the `class` column is a ordinal variable encoded with three categories: `First`, `Second` and `Third`. We can encode them as `0`, `1` and `2`. "
   ],
   "metadata": {
    "collapsed": false
   },
   "id": "a5a09bb3a1a6cd1c"
  },
  {
   "cell_type": "code",
   "outputs": [
    {
     "name": "stdout",
     "output_type": "stream",
     "text": [
      "Existing classes: ['Third', 'First', 'Second']\n",
      "Categories (3, object): ['First', 'Second', 'Third'].\n"
     ]
    },
    {
     "data": {
      "text/plain": "   survived  pclass     sex   age  sibsp  parch     fare embarked   class  \\\n0         0       3    male  22.0      1      0   7.2500        S   Third   \n1         1       1  female  38.0      1      0  71.2833        C   First   \n2         1       3  female  26.0      0      0   7.9250        S   Third   \n3         1       1  female  35.0      1      0  53.1000        S   First   \n4         0       3    male  35.0      0      0   8.0500        S   Third   \n5         0       3    male   NaN      0      0   8.4583        Q   Third   \n6         0       1    male  54.0      0      0  51.8625        S   First   \n7         0       3    male   2.0      3      1  21.0750        S   Third   \n8         1       3  female  27.0      0      2  11.1333        S   Third   \n9         1       2  female  14.0      1      0  30.0708        C  Second   \n\n     who  adult_male deck  embark_town alive  alone encoded_class  \n0    man        True  NaN  Southampton    no  False             3  \n1  woman       False    C    Cherbourg   yes  False             1  \n2  woman       False  NaN  Southampton   yes   True             3  \n3  woman       False    C  Southampton   yes  False             1  \n4    man        True  NaN  Southampton    no   True             3  \n5    man        True  NaN   Queenstown    no   True             3  \n6    man        True    E  Southampton    no   True             1  \n7  child       False  NaN  Southampton    no  False             3  \n8  woman       False  NaN  Southampton   yes  False             3  \n9  child       False  NaN    Cherbourg   yes  False             2  ",
      "text/html": "<div>\n<style scoped>\n    .dataframe tbody tr th:only-of-type {\n        vertical-align: middle;\n    }\n\n    .dataframe tbody tr th {\n        vertical-align: top;\n    }\n\n    .dataframe thead th {\n        text-align: right;\n    }\n</style>\n<table border=\"1\" class=\"dataframe\">\n  <thead>\n    <tr style=\"text-align: right;\">\n      <th></th>\n      <th>survived</th>\n      <th>pclass</th>\n      <th>sex</th>\n      <th>age</th>\n      <th>sibsp</th>\n      <th>parch</th>\n      <th>fare</th>\n      <th>embarked</th>\n      <th>class</th>\n      <th>who</th>\n      <th>adult_male</th>\n      <th>deck</th>\n      <th>embark_town</th>\n      <th>alive</th>\n      <th>alone</th>\n      <th>encoded_class</th>\n    </tr>\n  </thead>\n  <tbody>\n    <tr>\n      <th>0</th>\n      <td>0</td>\n      <td>3</td>\n      <td>male</td>\n      <td>22.0</td>\n      <td>1</td>\n      <td>0</td>\n      <td>7.2500</td>\n      <td>S</td>\n      <td>Third</td>\n      <td>man</td>\n      <td>True</td>\n      <td>NaN</td>\n      <td>Southampton</td>\n      <td>no</td>\n      <td>False</td>\n      <td>3</td>\n    </tr>\n    <tr>\n      <th>1</th>\n      <td>1</td>\n      <td>1</td>\n      <td>female</td>\n      <td>38.0</td>\n      <td>1</td>\n      <td>0</td>\n      <td>71.2833</td>\n      <td>C</td>\n      <td>First</td>\n      <td>woman</td>\n      <td>False</td>\n      <td>C</td>\n      <td>Cherbourg</td>\n      <td>yes</td>\n      <td>False</td>\n      <td>1</td>\n    </tr>\n    <tr>\n      <th>2</th>\n      <td>1</td>\n      <td>3</td>\n      <td>female</td>\n      <td>26.0</td>\n      <td>0</td>\n      <td>0</td>\n      <td>7.9250</td>\n      <td>S</td>\n      <td>Third</td>\n      <td>woman</td>\n      <td>False</td>\n      <td>NaN</td>\n      <td>Southampton</td>\n      <td>yes</td>\n      <td>True</td>\n      <td>3</td>\n    </tr>\n    <tr>\n      <th>3</th>\n      <td>1</td>\n      <td>1</td>\n      <td>female</td>\n      <td>35.0</td>\n      <td>1</td>\n      <td>0</td>\n      <td>53.1000</td>\n      <td>S</td>\n      <td>First</td>\n      <td>woman</td>\n      <td>False</td>\n      <td>C</td>\n      <td>Southampton</td>\n      <td>yes</td>\n      <td>False</td>\n      <td>1</td>\n    </tr>\n    <tr>\n      <th>4</th>\n      <td>0</td>\n      <td>3</td>\n      <td>male</td>\n      <td>35.0</td>\n      <td>0</td>\n      <td>0</td>\n      <td>8.0500</td>\n      <td>S</td>\n      <td>Third</td>\n      <td>man</td>\n      <td>True</td>\n      <td>NaN</td>\n      <td>Southampton</td>\n      <td>no</td>\n      <td>True</td>\n      <td>3</td>\n    </tr>\n    <tr>\n      <th>5</th>\n      <td>0</td>\n      <td>3</td>\n      <td>male</td>\n      <td>NaN</td>\n      <td>0</td>\n      <td>0</td>\n      <td>8.4583</td>\n      <td>Q</td>\n      <td>Third</td>\n      <td>man</td>\n      <td>True</td>\n      <td>NaN</td>\n      <td>Queenstown</td>\n      <td>no</td>\n      <td>True</td>\n      <td>3</td>\n    </tr>\n    <tr>\n      <th>6</th>\n      <td>0</td>\n      <td>1</td>\n      <td>male</td>\n      <td>54.0</td>\n      <td>0</td>\n      <td>0</td>\n      <td>51.8625</td>\n      <td>S</td>\n      <td>First</td>\n      <td>man</td>\n      <td>True</td>\n      <td>E</td>\n      <td>Southampton</td>\n      <td>no</td>\n      <td>True</td>\n      <td>1</td>\n    </tr>\n    <tr>\n      <th>7</th>\n      <td>0</td>\n      <td>3</td>\n      <td>male</td>\n      <td>2.0</td>\n      <td>3</td>\n      <td>1</td>\n      <td>21.0750</td>\n      <td>S</td>\n      <td>Third</td>\n      <td>child</td>\n      <td>False</td>\n      <td>NaN</td>\n      <td>Southampton</td>\n      <td>no</td>\n      <td>False</td>\n      <td>3</td>\n    </tr>\n    <tr>\n      <th>8</th>\n      <td>1</td>\n      <td>3</td>\n      <td>female</td>\n      <td>27.0</td>\n      <td>0</td>\n      <td>2</td>\n      <td>11.1333</td>\n      <td>S</td>\n      <td>Third</td>\n      <td>woman</td>\n      <td>False</td>\n      <td>NaN</td>\n      <td>Southampton</td>\n      <td>yes</td>\n      <td>False</td>\n      <td>3</td>\n    </tr>\n    <tr>\n      <th>9</th>\n      <td>1</td>\n      <td>2</td>\n      <td>female</td>\n      <td>14.0</td>\n      <td>1</td>\n      <td>0</td>\n      <td>30.0708</td>\n      <td>C</td>\n      <td>Second</td>\n      <td>child</td>\n      <td>False</td>\n      <td>NaN</td>\n      <td>Cherbourg</td>\n      <td>yes</td>\n      <td>False</td>\n      <td>2</td>\n    </tr>\n  </tbody>\n</table>\n</div>"
     },
     "execution_count": 8,
     "metadata": {},
     "output_type": "execute_result"
    }
   ],
   "source": [
    "# label encoding with pandas\n",
    "print(f\"Existing classes: {titanic_df['class'].unique()}.\")  # to check the unique values of the column 'class'\n",
    "class_codes = {'First': 1, 'Second': 2, 'Third': 3}\n",
    "titanic_df['encoded_class'] = titanic_df['class'].map(class_codes) \n",
    "titanic_df.head(10)"
   ],
   "metadata": {
    "collapsed": false,
    "ExecuteTime": {
     "end_time": "2024-10-01T11:53:02.275390800Z",
     "start_time": "2024-10-01T11:53:02.166344600Z"
    }
   },
   "id": "e425e557de04766a",
   "execution_count": 8
  },
  {
   "cell_type": "markdown",
   "source": [
    "## One-hot encoding\n",
    "\n",
    "The `class` variable was ordinal, so we used label encoding because the categories have a natural order. . But what if the variable is nominal (e.g., `embark_town`? In this case, we cannot use the `<` and `>` operators so label encoding is not appropriate. For this case scenario, we have one-hot encoding.\n",
    "\n",
    "One-hot encoding creates a new column for each category, and assigns `1` to the category and `0` to the others. The purpose is to avoid the model to interpret the categories as ordinal. That is, `==` and `!=` operators are valid, but not `<` and `>`."
   ],
   "metadata": {
    "collapsed": false
   },
   "id": "e0ca2057aa7ffc57"
  },
  {
   "cell_type": "code",
   "outputs": [
    {
     "name": "stdout",
     "output_type": "stream",
     "text": [
      "Existing embankment towns: ['Southampton' 'Cherbourg' 'Queenstown' nan].\n"
     ]
    },
    {
     "data": {
      "text/plain": "   survived  pclass     sex   age  sibsp  parch     fare embarked   class  \\\n0         0       3    male  22.0      1      0   7.2500        S   Third   \n1         1       1  female  38.0      1      0  71.2833        C   First   \n2         1       3  female  26.0      0      0   7.9250        S   Third   \n3         1       1  female  35.0      1      0  53.1000        S   First   \n4         0       3    male  35.0      0      0   8.0500        S   Third   \n5         0       3    male   NaN      0      0   8.4583        Q   Third   \n6         0       1    male  54.0      0      0  51.8625        S   First   \n7         0       3    male   2.0      3      1  21.0750        S   Third   \n8         1       3  female  27.0      0      2  11.1333        S   Third   \n9         1       2  female  14.0      1      0  30.0708        C  Second   \n\n     who  adult_male deck alive  alone encoded_class  embark_Cherbourg  \\\n0    man        True  NaN    no  False             3                 0   \n1  woman       False    C   yes  False             1                 1   \n2  woman       False  NaN   yes   True             3                 0   \n3  woman       False    C   yes  False             1                 0   \n4    man        True  NaN    no   True             3                 0   \n5    man        True  NaN    no   True             3                 0   \n6    man        True    E    no   True             1                 0   \n7  child       False  NaN    no  False             3                 0   \n8  woman       False  NaN   yes  False             3                 0   \n9  child       False  NaN   yes  False             2                 1   \n\n   embark_Queenstown  embark_Southampton  \n0                  0                   1  \n1                  0                   0  \n2                  0                   1  \n3                  0                   1  \n4                  0                   1  \n5                  1                   0  \n6                  0                   1  \n7                  0                   1  \n8                  0                   1  \n9                  0                   0  ",
      "text/html": "<div>\n<style scoped>\n    .dataframe tbody tr th:only-of-type {\n        vertical-align: middle;\n    }\n\n    .dataframe tbody tr th {\n        vertical-align: top;\n    }\n\n    .dataframe thead th {\n        text-align: right;\n    }\n</style>\n<table border=\"1\" class=\"dataframe\">\n  <thead>\n    <tr style=\"text-align: right;\">\n      <th></th>\n      <th>survived</th>\n      <th>pclass</th>\n      <th>sex</th>\n      <th>age</th>\n      <th>sibsp</th>\n      <th>parch</th>\n      <th>fare</th>\n      <th>embarked</th>\n      <th>class</th>\n      <th>who</th>\n      <th>adult_male</th>\n      <th>deck</th>\n      <th>alive</th>\n      <th>alone</th>\n      <th>encoded_class</th>\n      <th>embark_Cherbourg</th>\n      <th>embark_Queenstown</th>\n      <th>embark_Southampton</th>\n    </tr>\n  </thead>\n  <tbody>\n    <tr>\n      <th>0</th>\n      <td>0</td>\n      <td>3</td>\n      <td>male</td>\n      <td>22.0</td>\n      <td>1</td>\n      <td>0</td>\n      <td>7.2500</td>\n      <td>S</td>\n      <td>Third</td>\n      <td>man</td>\n      <td>True</td>\n      <td>NaN</td>\n      <td>no</td>\n      <td>False</td>\n      <td>3</td>\n      <td>0</td>\n      <td>0</td>\n      <td>1</td>\n    </tr>\n    <tr>\n      <th>1</th>\n      <td>1</td>\n      <td>1</td>\n      <td>female</td>\n      <td>38.0</td>\n      <td>1</td>\n      <td>0</td>\n      <td>71.2833</td>\n      <td>C</td>\n      <td>First</td>\n      <td>woman</td>\n      <td>False</td>\n      <td>C</td>\n      <td>yes</td>\n      <td>False</td>\n      <td>1</td>\n      <td>1</td>\n      <td>0</td>\n      <td>0</td>\n    </tr>\n    <tr>\n      <th>2</th>\n      <td>1</td>\n      <td>3</td>\n      <td>female</td>\n      <td>26.0</td>\n      <td>0</td>\n      <td>0</td>\n      <td>7.9250</td>\n      <td>S</td>\n      <td>Third</td>\n      <td>woman</td>\n      <td>False</td>\n      <td>NaN</td>\n      <td>yes</td>\n      <td>True</td>\n      <td>3</td>\n      <td>0</td>\n      <td>0</td>\n      <td>1</td>\n    </tr>\n    <tr>\n      <th>3</th>\n      <td>1</td>\n      <td>1</td>\n      <td>female</td>\n      <td>35.0</td>\n      <td>1</td>\n      <td>0</td>\n      <td>53.1000</td>\n      <td>S</td>\n      <td>First</td>\n      <td>woman</td>\n      <td>False</td>\n      <td>C</td>\n      <td>yes</td>\n      <td>False</td>\n      <td>1</td>\n      <td>0</td>\n      <td>0</td>\n      <td>1</td>\n    </tr>\n    <tr>\n      <th>4</th>\n      <td>0</td>\n      <td>3</td>\n      <td>male</td>\n      <td>35.0</td>\n      <td>0</td>\n      <td>0</td>\n      <td>8.0500</td>\n      <td>S</td>\n      <td>Third</td>\n      <td>man</td>\n      <td>True</td>\n      <td>NaN</td>\n      <td>no</td>\n      <td>True</td>\n      <td>3</td>\n      <td>0</td>\n      <td>0</td>\n      <td>1</td>\n    </tr>\n    <tr>\n      <th>5</th>\n      <td>0</td>\n      <td>3</td>\n      <td>male</td>\n      <td>NaN</td>\n      <td>0</td>\n      <td>0</td>\n      <td>8.4583</td>\n      <td>Q</td>\n      <td>Third</td>\n      <td>man</td>\n      <td>True</td>\n      <td>NaN</td>\n      <td>no</td>\n      <td>True</td>\n      <td>3</td>\n      <td>0</td>\n      <td>1</td>\n      <td>0</td>\n    </tr>\n    <tr>\n      <th>6</th>\n      <td>0</td>\n      <td>1</td>\n      <td>male</td>\n      <td>54.0</td>\n      <td>0</td>\n      <td>0</td>\n      <td>51.8625</td>\n      <td>S</td>\n      <td>First</td>\n      <td>man</td>\n      <td>True</td>\n      <td>E</td>\n      <td>no</td>\n      <td>True</td>\n      <td>1</td>\n      <td>0</td>\n      <td>0</td>\n      <td>1</td>\n    </tr>\n    <tr>\n      <th>7</th>\n      <td>0</td>\n      <td>3</td>\n      <td>male</td>\n      <td>2.0</td>\n      <td>3</td>\n      <td>1</td>\n      <td>21.0750</td>\n      <td>S</td>\n      <td>Third</td>\n      <td>child</td>\n      <td>False</td>\n      <td>NaN</td>\n      <td>no</td>\n      <td>False</td>\n      <td>3</td>\n      <td>0</td>\n      <td>0</td>\n      <td>1</td>\n    </tr>\n    <tr>\n      <th>8</th>\n      <td>1</td>\n      <td>3</td>\n      <td>female</td>\n      <td>27.0</td>\n      <td>0</td>\n      <td>2</td>\n      <td>11.1333</td>\n      <td>S</td>\n      <td>Third</td>\n      <td>woman</td>\n      <td>False</td>\n      <td>NaN</td>\n      <td>yes</td>\n      <td>False</td>\n      <td>3</td>\n      <td>0</td>\n      <td>0</td>\n      <td>1</td>\n    </tr>\n    <tr>\n      <th>9</th>\n      <td>1</td>\n      <td>2</td>\n      <td>female</td>\n      <td>14.0</td>\n      <td>1</td>\n      <td>0</td>\n      <td>30.0708</td>\n      <td>C</td>\n      <td>Second</td>\n      <td>child</td>\n      <td>False</td>\n      <td>NaN</td>\n      <td>yes</td>\n      <td>False</td>\n      <td>2</td>\n      <td>1</td>\n      <td>0</td>\n      <td>0</td>\n    </tr>\n  </tbody>\n</table>\n</div>"
     },
     "execution_count": 9,
     "metadata": {},
     "output_type": "execute_result"
    }
   ],
   "source": [
    "# one-hot encoding with pandas\n",
    "import pandas as pd\n",
    "print(f\"Existing embankment towns: {titanic_df['embark_town'].unique()}.\")  # to check the unique values of the column 'embark_town'\n",
    "# get_dummies creates the one-hot encoding, replacing the original column\n",
    "# use 0 and 1 instead of True and false\n",
    "titanic_with_dummies_df = pd.get_dummies(titanic_df, \n",
    "                                         columns=['embark_town'],  # column to encode \n",
    "                                         prefix='embark',  # prefix for the new columns\n",
    "                                         dtype=int)  # generate 0 and 1 instead of True and False\n",
    "titanic_with_dummies_df.head(10)"
   ],
   "metadata": {
    "collapsed": false,
    "ExecuteTime": {
     "end_time": "2024-10-01T11:53:02.277951200Z",
     "start_time": "2024-10-01T11:53:02.211506100Z"
    }
   },
   "id": "81d75f31f3adcbe7",
   "execution_count": 9
  },
  {
   "cell_type": "markdown",
   "source": [
    "## ✨ Questions ✨\n",
    "\n",
    "8. What is the best way to encode the `sex` column?\n",
    "9. Why?\n",
    "10. Do it?"
   ],
   "metadata": {
    "collapsed": false
   },
   "id": "6715f2d1c9272190"
  },
  {
   "cell_type": "markdown",
   "source": [
    "### Answers:\n",
    "\n",
    "*Write your answers here.*\n",
    "\n"
   ],
   "metadata": {
    "collapsed": false
   },
   "id": "c41a8912cc764a74"
  },
  {
   "cell_type": "code",
   "outputs": [],
   "source": [
    "# Answer to Question 10:\n",
    "\n",
    "# add your code here\n",
    "\n"
   ],
   "metadata": {
    "collapsed": false,
    "ExecuteTime": {
     "end_time": "2024-10-01T11:53:02.400179700Z",
     "start_time": "2024-10-01T11:53:02.234868900Z"
    }
   },
   "id": "5121cde9ab43d40c",
   "execution_count": 10
  }
 ],
 "metadata": {
  "kernelspec": {
   "display_name": "Python 3",
   "language": "python",
   "name": "python3"
  },
  "language_info": {
   "codemirror_mode": {
    "name": "ipython",
    "version": 2
   },
   "file_extension": ".py",
   "mimetype": "text/x-python",
   "name": "python",
   "nbconvert_exporter": "python",
   "pygments_lexer": "ipython2",
   "version": "2.7.6"
  }
 },
 "nbformat": 4,
 "nbformat_minor": 5
}
