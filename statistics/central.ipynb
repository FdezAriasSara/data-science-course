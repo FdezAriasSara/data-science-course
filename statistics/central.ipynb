{
 "cells": [
  {
   "cell_type": "markdown",
   "source": [
    "[![Open In Colab](https://colab.research.google.com/assets/colab-badge.svg)](https://colab.research.google.com/github/francisco-ortin/data-science-course/blob/main/statistics/central.ipynb)\n",
    "[![License: CC BY-NC-SA 4.0](https://img.shields.io/badge/License-CC%20BY--NC--SA%204.0-lightgrey.svg)](https://creativecommons.org/licenses/by-nc-sa/4.0/)"
   ],
   "metadata": {
    "collapsed": false
   },
   "id": "77f76148d5f67905"
  },
  {
   "cell_type": "markdown",
   "source": [
    "# Central tendency\n",
    "\n",
    "Pandas provide different methods to calculate the central tendency of a dataset. The most common are the mean, median, and mode. "
   ],
   "metadata": {
    "collapsed": false
   },
   "id": "137bff049a6ed8fa"
  },
  {
   "cell_type": "code",
   "outputs": [],
   "source": [
    "# make sure the required packages are installed\n",
    "%pip install pandas seaborn matplotlib --quiet\n",
    "# if running in colab, install the required packages and copy the necessary files\n",
    "directory='data-science-course/statistics'\n",
    "if get_ipython().__class__.__module__.startswith('google.colab'):\n",
    "    !git clone --depth 1 https://github.com/francisco-ortin/data-science-course.git  2>/dev/null\n",
    "    !cp --update {directory}/*.py .\n",
    "    !mkdir -p img data\n",
    "    !cp {directory}/img/* img/.\n",
    "    !cp {directory}/data/* data/."
   ],
   "metadata": {
    "collapsed": false,
    "ExecuteTime": {
     "end_time": "2024-09-20T11:46:28.586652200Z",
     "start_time": "2024-09-20T11:46:27.272783800Z"
    }
   },
   "id": "abd29d079dd54ab4",
   "execution_count": 74
  },
  {
   "cell_type": "markdown",
   "source": [
    "## Dataset\n",
    "\n",
    "We will use the Titanic dataset, which contains information about the passengers of the Titanic. The dataset is available at the seaborn library."
   ],
   "metadata": {
    "collapsed": false
   },
   "id": "b0ca00469c28f595"
  },
  {
   "cell_type": "code",
   "outputs": [
    {
     "name": "stdout",
     "output_type": "stream",
     "text": [
      "Shape of the dataset: (891, 15).\n"
     ]
    },
    {
     "data": {
      "text/plain": "   survived  pclass     sex   age  sibsp  parch     fare embarked   class  \\\n0         0       3    male  22.0      1      0   7.2500        S   Third   \n1         1       1  female  38.0      1      0  71.2833        C   First   \n2         1       3  female  26.0      0      0   7.9250        S   Third   \n3         1       1  female  35.0      1      0  53.1000        S   First   \n4         0       3    male  35.0      0      0   8.0500        S   Third   \n5         0       3    male   NaN      0      0   8.4583        Q   Third   \n6         0       1    male  54.0      0      0  51.8625        S   First   \n7         0       3    male   2.0      3      1  21.0750        S   Third   \n8         1       3  female  27.0      0      2  11.1333        S   Third   \n9         1       2  female  14.0      1      0  30.0708        C  Second   \n\n     who  adult_male deck  embark_town alive  alone  \n0    man        True  NaN  Southampton    no  False  \n1  woman       False    C    Cherbourg   yes  False  \n2  woman       False  NaN  Southampton   yes   True  \n3  woman       False    C  Southampton   yes  False  \n4    man        True  NaN  Southampton    no   True  \n5    man        True  NaN   Queenstown    no   True  \n6    man        True    E  Southampton    no   True  \n7  child       False  NaN  Southampton    no  False  \n8  woman       False  NaN  Southampton   yes  False  \n9  child       False  NaN    Cherbourg   yes  False  ",
      "text/html": "<div>\n<style scoped>\n    .dataframe tbody tr th:only-of-type {\n        vertical-align: middle;\n    }\n\n    .dataframe tbody tr th {\n        vertical-align: top;\n    }\n\n    .dataframe thead th {\n        text-align: right;\n    }\n</style>\n<table border=\"1\" class=\"dataframe\">\n  <thead>\n    <tr style=\"text-align: right;\">\n      <th></th>\n      <th>survived</th>\n      <th>pclass</th>\n      <th>sex</th>\n      <th>age</th>\n      <th>sibsp</th>\n      <th>parch</th>\n      <th>fare</th>\n      <th>embarked</th>\n      <th>class</th>\n      <th>who</th>\n      <th>adult_male</th>\n      <th>deck</th>\n      <th>embark_town</th>\n      <th>alive</th>\n      <th>alone</th>\n    </tr>\n  </thead>\n  <tbody>\n    <tr>\n      <th>0</th>\n      <td>0</td>\n      <td>3</td>\n      <td>male</td>\n      <td>22.0</td>\n      <td>1</td>\n      <td>0</td>\n      <td>7.2500</td>\n      <td>S</td>\n      <td>Third</td>\n      <td>man</td>\n      <td>True</td>\n      <td>NaN</td>\n      <td>Southampton</td>\n      <td>no</td>\n      <td>False</td>\n    </tr>\n    <tr>\n      <th>1</th>\n      <td>1</td>\n      <td>1</td>\n      <td>female</td>\n      <td>38.0</td>\n      <td>1</td>\n      <td>0</td>\n      <td>71.2833</td>\n      <td>C</td>\n      <td>First</td>\n      <td>woman</td>\n      <td>False</td>\n      <td>C</td>\n      <td>Cherbourg</td>\n      <td>yes</td>\n      <td>False</td>\n    </tr>\n    <tr>\n      <th>2</th>\n      <td>1</td>\n      <td>3</td>\n      <td>female</td>\n      <td>26.0</td>\n      <td>0</td>\n      <td>0</td>\n      <td>7.9250</td>\n      <td>S</td>\n      <td>Third</td>\n      <td>woman</td>\n      <td>False</td>\n      <td>NaN</td>\n      <td>Southampton</td>\n      <td>yes</td>\n      <td>True</td>\n    </tr>\n    <tr>\n      <th>3</th>\n      <td>1</td>\n      <td>1</td>\n      <td>female</td>\n      <td>35.0</td>\n      <td>1</td>\n      <td>0</td>\n      <td>53.1000</td>\n      <td>S</td>\n      <td>First</td>\n      <td>woman</td>\n      <td>False</td>\n      <td>C</td>\n      <td>Southampton</td>\n      <td>yes</td>\n      <td>False</td>\n    </tr>\n    <tr>\n      <th>4</th>\n      <td>0</td>\n      <td>3</td>\n      <td>male</td>\n      <td>35.0</td>\n      <td>0</td>\n      <td>0</td>\n      <td>8.0500</td>\n      <td>S</td>\n      <td>Third</td>\n      <td>man</td>\n      <td>True</td>\n      <td>NaN</td>\n      <td>Southampton</td>\n      <td>no</td>\n      <td>True</td>\n    </tr>\n    <tr>\n      <th>5</th>\n      <td>0</td>\n      <td>3</td>\n      <td>male</td>\n      <td>NaN</td>\n      <td>0</td>\n      <td>0</td>\n      <td>8.4583</td>\n      <td>Q</td>\n      <td>Third</td>\n      <td>man</td>\n      <td>True</td>\n      <td>NaN</td>\n      <td>Queenstown</td>\n      <td>no</td>\n      <td>True</td>\n    </tr>\n    <tr>\n      <th>6</th>\n      <td>0</td>\n      <td>1</td>\n      <td>male</td>\n      <td>54.0</td>\n      <td>0</td>\n      <td>0</td>\n      <td>51.8625</td>\n      <td>S</td>\n      <td>First</td>\n      <td>man</td>\n      <td>True</td>\n      <td>E</td>\n      <td>Southampton</td>\n      <td>no</td>\n      <td>True</td>\n    </tr>\n    <tr>\n      <th>7</th>\n      <td>0</td>\n      <td>3</td>\n      <td>male</td>\n      <td>2.0</td>\n      <td>3</td>\n      <td>1</td>\n      <td>21.0750</td>\n      <td>S</td>\n      <td>Third</td>\n      <td>child</td>\n      <td>False</td>\n      <td>NaN</td>\n      <td>Southampton</td>\n      <td>no</td>\n      <td>False</td>\n    </tr>\n    <tr>\n      <th>8</th>\n      <td>1</td>\n      <td>3</td>\n      <td>female</td>\n      <td>27.0</td>\n      <td>0</td>\n      <td>2</td>\n      <td>11.1333</td>\n      <td>S</td>\n      <td>Third</td>\n      <td>woman</td>\n      <td>False</td>\n      <td>NaN</td>\n      <td>Southampton</td>\n      <td>yes</td>\n      <td>False</td>\n    </tr>\n    <tr>\n      <th>9</th>\n      <td>1</td>\n      <td>2</td>\n      <td>female</td>\n      <td>14.0</td>\n      <td>1</td>\n      <td>0</td>\n      <td>30.0708</td>\n      <td>C</td>\n      <td>Second</td>\n      <td>child</td>\n      <td>False</td>\n      <td>NaN</td>\n      <td>Cherbourg</td>\n      <td>yes</td>\n      <td>False</td>\n    </tr>\n  </tbody>\n</table>\n</div>"
     },
     "execution_count": 75,
     "metadata": {},
     "output_type": "execute_result"
    }
   ],
   "source": [
    "# get the titanic dataset from seaborn\n",
    "import seaborn as sns\n",
    "titanic_df = sns.load_dataset('titanic')\n",
    "print(f\"Shape of the dataset: {titanic_df.shape}.\")\n",
    "titanic_df.head(10)"
   ],
   "metadata": {
    "collapsed": false,
    "ExecuteTime": {
     "end_time": "2024-09-20T11:46:28.642286800Z",
     "start_time": "2024-09-20T11:46:28.590202Z"
    }
   },
   "id": "383b342865f5a13d",
   "execution_count": 75
  },
  {
   "cell_type": "code",
   "outputs": [],
   "source": [
    "# Let's add an outlier for the fare column\n",
    "# we take the index with the greatest fare value\n",
    "greatest_fare_index = titanic_df['fare'].idxmax()\n",
    "# we set the fare value to 1M\n",
    "previous_highest_fare = titanic_df.loc[greatest_fare_index, 'fare']\n",
    "titanic_df.loc[greatest_fare_index, 'fare'] = 1_000_000  # outlier"
   ],
   "metadata": {
    "collapsed": false,
    "ExecuteTime": {
     "end_time": "2024-09-20T11:46:28.642508800Z",
     "start_time": "2024-09-20T11:46:28.612420700Z"
    }
   },
   "id": "27923d173c0480b3",
   "execution_count": 76
  },
  {
   "cell_type": "markdown",
   "source": [
    "## Mode\n",
    "\n",
    "Mode can be computed for nominal variables. It is the value that appears most frequently in the dataset."
   ],
   "metadata": {
    "collapsed": false
   },
   "id": "d61b77e483d1be5d"
  },
  {
   "cell_type": "code",
   "outputs": [
    {
     "name": "stdout",
     "output_type": "stream",
     "text": [
      "Mode of the embark_town column:\n",
      "0    Southampton\n",
      "Name: embark_town, dtype: object\n",
      "Mode of the embark_town column: Southampton.\n"
     ]
    }
   ],
   "source": [
    "# compute the mode of the embark_town column\n",
    "print(f\"Mode of the embark_town column:\\n{titanic_df['embark_town'].mode()}\")\n",
    "# mode returns a series, so we need to get the first element\n",
    "print(f\"Mode of the embark_town column: {titanic_df['embark_town'].mode()[0]}.\")"
   ],
   "metadata": {
    "collapsed": false,
    "ExecuteTime": {
     "end_time": "2024-09-20T11:46:28.643562400Z",
     "start_time": "2024-09-20T11:46:28.620529500Z"
    }
   },
   "id": "7a84439987b8560",
   "execution_count": 77
  },
  {
   "cell_type": "code",
   "outputs": [
    {
     "name": "stdout",
     "output_type": "stream",
     "text": [
      "Mode of the age column: 24.0.\n",
      "Number of occurrences of the mode: 30 out of 891.\n"
     ]
    }
   ],
   "source": [
    "# with enough data, it could make sense to compute the mode of a discrete numerical variable\n",
    "# compute the mode of the age column\n",
    "print(f\"Mode of the age column: {(age_mode := titanic_df['age'].mode()[0])}.\")\n",
    "# filter the dataset with age equal to age_mode \n",
    "print(f\"Number of occurrences of the mode: {titanic_df[titanic_df['age'] == age_mode].shape[0]} \"\n",
    "      f\"out of {titanic_df.shape[0]}.\")"
   ],
   "metadata": {
    "collapsed": false,
    "ExecuteTime": {
     "end_time": "2024-09-20T11:46:28.644667600Z",
     "start_time": "2024-09-20T11:46:28.630086300Z"
    }
   },
   "id": "e5aa583446c863bd",
   "execution_count": 78
  },
  {
   "cell_type": "code",
   "outputs": [
    {
     "name": "stdout",
     "output_type": "stream",
     "text": [
      "Mode of the fare column: 8.05.\n",
      "Number of occurrences of the mode: 2 out of 891.\n"
     ]
    }
   ],
   "source": [
    "# in general, it is not useful to compute the mode of a continuous numerical variable\n",
    "# compute the mode of the fare column\n",
    "print(f\"Mode of the fare column: {(fare_mode := titanic_df['fare'].mode()[0])}.\")\n",
    "print(f\"Number of occurrences of the mode: {titanic_df[titanic_df['fare'] == age_mode].shape[0]} \"\n",
    "      f\"out of {titanic_df.shape[0]}.\")"
   ],
   "metadata": {
    "collapsed": false,
    "ExecuteTime": {
     "end_time": "2024-09-20T11:46:28.671859300Z",
     "start_time": "2024-09-20T11:46:28.640668500Z"
    }
   },
   "id": "ba9e3ff0db8e2cf",
   "execution_count": 79
  },
  {
   "cell_type": "markdown",
   "source": [
    "## Median\n",
    "\n",
    "The median is the value that separates the higher half from the lower half of the dataset. It is the middle value of a dataset."
   ],
   "metadata": {
    "collapsed": false
   },
   "id": "db136b5b97e929a4"
  },
  {
   "cell_type": "code",
   "outputs": [
    {
     "name": "stdout",
     "output_type": "stream",
     "text": [
      "Median of the age column: 28.0.\n",
      "Median of the fare column: 14.4542.\n"
     ]
    }
   ],
   "source": [
    "# compute the median for age and fare columns\n",
    "print(f\"Median of the age column: {(age_median := titanic_df['age'].median())}.\")\n",
    "print(f\"Median of the fare column: {(fare_median := titanic_df['fare'].median())}.\")"
   ],
   "metadata": {
    "collapsed": false,
    "ExecuteTime": {
     "end_time": "2024-09-20T11:46:28.714318600Z",
     "start_time": "2024-09-20T11:46:28.644667600Z"
    }
   },
   "id": "ca4242b72d2cd4cf",
   "execution_count": 80
  },
  {
   "cell_type": "markdown",
   "source": [
    "## Arithmetic mean\n",
    "\n",
    "The arithmetic mean is the sum of all values in the dataset divided by the number of values."
   ],
   "metadata": {
    "collapsed": false
   },
   "id": "52745482e49183dd"
  },
  {
   "cell_type": "code",
   "outputs": [
    {
     "name": "stdout",
     "output_type": "stream",
     "text": [
      "Age column, mean: 29.70 and median 28.00.\n",
      "Fare column, mean: 1153.96 and median 14.45.\n"
     ]
    }
   ],
   "source": [
    "age_mean = titanic_df['age'].mean()\n",
    "fare_mean = titanic_df['fare'].mean()\n",
    "print(f\"Age column, mean: {age_mean:.2f} and median {age_median:.2f}.\")\n",
    "print(f\"Fare column, mean: {fare_mean:.2f} and median {fare_median:.2f}.\")  # must be different because of the fare outlier"
   ],
   "metadata": {
    "collapsed": false,
    "ExecuteTime": {
     "end_time": "2024-09-20T11:46:28.862249200Z",
     "start_time": "2024-09-20T11:46:28.654062800Z"
    }
   },
   "id": "3f2d65e6367f0251",
   "execution_count": 81
  },
  {
   "cell_type": "markdown",
   "source": [
    "## Outliers\n",
    "\n",
    "An outlier is an observation that is significantly different from the rest of observations in the dataset. Outliers can have a significant effect on statistics such as the mean value (as we saw in the fare column; previous cell)."
   ],
   "metadata": {
    "collapsed": false
   },
   "id": "225e085b051f861b"
  },
  {
   "cell_type": "code",
   "outputs": [
    {
     "data": {
      "text/plain": "<Figure size 1000x600 with 1 Axes>",
      "image/png": "[encoded data removed]"
     },
     "metadata": {},
     "output_type": "display_data"
    }
   ],
   "source": [
    "# scatter plot of the fare column\n",
    "import matplotlib.pyplot as plt\n",
    "import pandas as pd\n",
    "\n",
    "def plot_column(df: pd.DataFrame, column_name: str, title: str) -> None:\n",
    "    plt.figure(figsize=(10, 6))\n",
    "    plt.scatter(df.index, df[column_name])\n",
    "    plt.xlabel('Index')\n",
    "    plt.ylabel(column_name)\n",
    "    plt.title(title)\n",
    "    plt.show()\n",
    "    \n",
    "plot_column(titanic_df, 'fare', 'Fare column (with outliers)')"
   ],
   "metadata": {
    "collapsed": false,
    "ExecuteTime": {
     "end_time": "2024-09-20T11:46:28.914475800Z",
     "start_time": "2024-09-20T11:46:28.661871300Z"
    }
   },
   "id": "dbf71cd0fd1d2648",
   "execution_count": 82
  },
  {
   "cell_type": "code",
   "outputs": [
    {
     "data": {
      "text/plain": "<Figure size 1000x600 with 1 Axes>",
      "image/png": "[encoded data removed]"
     },
     "metadata": {},
     "output_type": "display_data"
    }
   ],
   "source": [
    "# restore the original value of the outlier\n",
    "titanic_df.loc[greatest_fare_index, 'fare'] = previous_highest_fare\n",
    "plot_column(titanic_df, 'fare', 'Fare column (without outliers)')"
   ],
   "metadata": {
    "collapsed": false,
    "ExecuteTime": {
     "end_time": "2024-09-20T11:46:29.074854400Z",
     "start_time": "2024-09-20T11:46:28.826150500Z"
    }
   },
   "id": "c78551fc15a32aad",
   "execution_count": 83
  },
  {
   "cell_type": "code",
   "outputs": [
    {
     "name": "stdout",
     "output_type": "stream",
     "text": [
      "New mean and median values for the fare column, without outliers:\n",
      "Mean: 32.20 (previously 1153.96).\n",
      "Median: 14.45 (previously 14.45).\n"
     ]
    }
   ],
   "source": [
    "print(\"New mean and median values for the fare column, without outliers:\")\n",
    "print(f\"Mean: {titanic_df['fare'].mean():.2f} (previously {fare_mean:.2f}).\")\n",
    "print(f\"Median: {titanic_df['fare'].median():.2f} (previously {fare_median:.2f}).\")"
   ],
   "metadata": {
    "collapsed": false,
    "ExecuteTime": {
     "end_time": "2024-09-20T11:46:49.649680700Z",
     "start_time": "2024-09-20T11:46:49.634122700Z"
    }
   },
   "id": "ce71b07ad10a66c7",
   "execution_count": 85
  },
  {
   "cell_type": "code",
   "outputs": [],
   "source": [],
   "metadata": {
    "collapsed": false,
    "ExecuteTime": {
     "end_time": "2024-09-20T11:46:29.075959400Z",
     "start_time": "2024-09-20T11:46:29.045061500Z"
    }
   },
   "id": "d4086cb7ef32a1d4",
   "execution_count": 84
  }
 ],
 "metadata": {
  "kernelspec": {
   "display_name": "Python 3",
   "language": "python",
   "name": "python3"
  },
  "language_info": {
   "codemirror_mode": {
    "name": "ipython",
    "version": 2
   },
   "file_extension": ".py",
   "mimetype": "text/x-python",
   "name": "python",
   "nbconvert_exporter": "python",
   "pygments_lexer": "ipython2",
   "version": "2.7.6"
  }
 },
 "nbformat": 4,
 "nbformat_minor": 5
}
