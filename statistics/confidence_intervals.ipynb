{
 "cells": [
  {
   "cell_type": "markdown",
   "source": [
    "[![Open In Colab](https://colab.research.google.com/assets/colab-badge.svg)](https://colab.research.google.com/github/francisco-ortin/data-science-course/blob/main/statistics/confidence_intervals.ipynb)\n",
    "[![License: CC BY-NC-SA 4.0](https://img.shields.io/badge/License-CC%20BY--NC--SA%204.0-lightgrey.svg)](https://creativecommons.org/licenses/by-nc-sa/4.0/)"
   ],
   "metadata": {
    "collapsed": false
   },
   "id": "944a566c0196eeeb"
  },
  {
   "cell_type": "markdown",
   "source": [
    "# Confidence intervals\n",
    "\n",
    "Confidence intervals provide a range of plausible values for an unknown parameter (e.g., mean), given a confidence level (e.g., 95%). The confidence level represents the probability that the interval contains the true value of the parameter. In this notebook, we will see how to compute confidence intervals from a data sample, using two different approaches."
   ],
   "metadata": {
    "collapsed": false
   },
   "id": "137bff049a6ed8fa"
  },
  {
   "cell_type": "code",
   "outputs": [
    {
     "name": "stdout",
     "output_type": "stream",
     "text": [
      "Note: you may need to restart the kernel to use updated packages.\n"
     ]
    }
   ],
   "source": [
    "# make sure the required packages are installed\n",
    "%pip install numpy matplotlib scipy --quiet\n",
    "# if running in colab, install the required packages and copy the necessary files\n",
    "directory='data-science-course/statistics'\n",
    "if get_ipython().__class__.__module__.startswith('google.colab'):\n",
    "    !git clone --depth 1 https://github.com/francisco-ortin/data-science-course.git  2>/dev/null\n",
    "    !cp --update {directory}/*.py .\n",
    "    !mkdir -p img data\n",
    "    !cp {directory}/img/* img/.\n",
    "    !cp {directory}/data/* data/."
   ],
   "metadata": {
    "collapsed": false,
    "ExecuteTime": {
     "end_time": "2024-10-01T11:42:45.087007100Z",
     "start_time": "2024-10-01T11:42:43.804333600Z"
    }
   },
   "id": "abd29d079dd54ab4",
   "execution_count": 1
  },
  {
   "cell_type": "markdown",
   "source": [
    "## Dataset\n",
    "\n",
    "Let's create a random dataset."
   ],
   "metadata": {
    "collapsed": false
   },
   "id": "b0ca00469c28f595"
  },
  {
   "cell_type": "code",
   "outputs": [
    {
     "name": "stdout",
     "output_type": "stream",
     "text": [
      "Shape of the dataset: (10000, 6).\n"
     ]
    }
   ],
   "source": [
    "import numpy as np\n",
    "random_seed = 42\n",
    "np.random.seed(random_seed)\n",
    "sample_size = 10000\n",
    "dataset = np.random.rand(sample_size, 6)  # 1000 samples, 6 variables (features or columns); the last column is the target variable\n",
    "print(f\"Shape of the dataset: {dataset.shape}.\")"
   ],
   "metadata": {
    "collapsed": false,
    "ExecuteTime": {
     "end_time": "2024-10-01T11:42:45.100785300Z",
     "start_time": "2024-10-01T11:42:45.091243500Z"
    }
   },
   "id": "383b342865f5a13d",
   "execution_count": 2
  },
  {
   "cell_type": "markdown",
   "source": [
    "## Getting the accuracies of retrained models\n",
    "\n",
    "Let's create two models for predicting continuous numeric values (float numbers)."
   ],
   "metadata": {
    "collapsed": false
   },
   "id": "aac41c33b198626f"
  },
  {
   "cell_type": "code",
   "outputs": [],
   "source": [
    "from models import Model\n",
    "modelA = Model(distribution='normal', mean=0.5, std=0.1)\n",
    "modelB = Model(distribution='normal', mean=0.8, std=0.05)"
   ],
   "metadata": {
    "collapsed": false,
    "ExecuteTime": {
     "end_time": "2024-10-01T11:42:45.179908500Z",
     "start_time": "2024-10-01T11:42:45.102068800Z"
    }
   },
   "id": "27d6bdb484bd9d2f",
   "execution_count": 3
  },
  {
   "cell_type": "markdown",
   "source": [
    "In a loop, we take one sample to train the model and evaluate it with the remaining samples. All the accuracies are stored in a list."
   ],
   "metadata": {
    "collapsed": false
   },
   "id": "2e132d2c2b0de65e"
  },
  {
   "cell_type": "code",
   "outputs": [
    {
     "name": "stdout",
     "output_type": "stream",
     "text": [
      "Model A accuracy mean: 0.5024.\n",
      "Model B accuracy mean: 0.7954.\n",
      "Summary of accuracies for model A:\n",
      "\tMinimum: 0.2548168443870841.\n",
      "\t1st quartile (Q1): 0.4154823624088747.\n",
      "\tMedian (Q2): 0.49231586820109824.\n",
      "\t3rd quartile (Q3): 0.5748866525007461.\n",
      "\tMaximum: 0.7065539181426641.\n",
      "Summary of accuracies for model B:\n",
      "\tMinimum: 0.7120258582207911.\n",
      "\t1st quartile (Q1): 0.7528029611084828.\n",
      "\tMedian (Q2): 0.7949051177340176.\n",
      "\t3rd quartile (Q3): 0.8399295403424012.\n",
      "\tMaximum: 0.8773435595915652.\n"
     ]
    }
   ],
   "source": [
    "iterations = 30\n",
    "modelA_accuracies, modelB_accuracies = [], []\n",
    "for i in range(iterations):\n",
    "    np.random.shuffle(dataset)\n",
    "    train_dataset = dataset[:-iterations, :]\n",
    "    test_dataset = dataset[-iterations:, :]\n",
    "    modelA.train(train_dataset)\n",
    "    modelB.train(train_dataset)\n",
    "    modelA_accuracies.append(modelA.accuracy(test_dataset))\n",
    "    modelB_accuracies.append(modelB.accuracy(test_dataset))\n",
    "print(f\"Model A accuracy mean: {np.mean(modelA_accuracies):.4f}.\")\n",
    "print(f\"Model B accuracy mean: {np.mean(modelB_accuracies):.4f}.\")\n",
    "from utils import five_number_summary\n",
    "print(\"Summary of accuracies for model A:\")\n",
    "five_number_summary(modelA_accuracies, show=True)\n",
    "print(\"Summary of accuracies for model B:\")\n",
    "five_number_summary(modelB_accuracies, show=True)\n",
    "pass"
   ],
   "metadata": {
    "collapsed": false,
    "ExecuteTime": {
     "end_time": "2024-10-01T11:42:45.564119500Z",
     "start_time": "2024-10-01T11:42:45.123171300Z"
    }
   },
   "id": "71e1a288b604e7b0",
   "execution_count": 4
  },
  {
   "cell_type": "markdown",
   "source": [
    "Let's test for normality both lists of accuracies."
   ],
   "metadata": {
    "collapsed": false
   },
   "id": "ee0717b9a57d5ad2"
  },
  {
   "cell_type": "code",
   "outputs": [
    {
     "name": "stdout",
     "output_type": "stream",
     "text": [
      "Do the model A accuracies follow a normal distribution? True.\n",
      "Do the model B accuracies follow a normal distribution? True.\n"
     ]
    }
   ],
   "source": [
    "from scipy.stats import shapiro\n",
    "_, p_value_A = shapiro(modelA_accuracies)\n",
    "_, p_value_B = shapiro(modelB_accuracies)\n",
    "print(f\"Do the model A accuracies follow a normal distribution? {p_value_A > 0.05}.\")\n",
    "print(f\"Do the model B accuracies follow a normal distribution? {p_value_B > 0.05}.\")\n"
   ],
   "metadata": {
    "collapsed": false,
    "ExecuteTime": {
     "end_time": "2024-10-01T11:42:45.573699900Z",
     "start_time": "2024-10-01T11:42:45.558514700Z"
    }
   },
   "id": "68306b59efba84d8",
   "execution_count": 5
  },
  {
   "cell_type": "markdown",
   "source": [
    "## ✨ Questions ✨\n",
    "\n",
    "1. Can we say that model B will perform better than A?\n",
    "2. Why?"
   ],
   "metadata": {
    "collapsed": false
   },
   "id": "61b0191690d7648f"
  },
  {
   "cell_type": "markdown",
   "source": [
    "### Answers\n",
    "\n",
    "*Write your answers here.*\n",
    "\n"
   ],
   "metadata": {
    "collapsed": false
   },
   "id": "bc185b811cd80a2e"
  },
  {
   "cell_type": "markdown",
   "source": [
    "## Confidence intervals for normal distribution samples\n",
    "\n",
    "We can compute the confidence interval for a normal distribution sample using either a normal or students' t-distribution"
   ],
   "metadata": {
    "collapsed": false
   },
   "id": "af7ccf8f3090b84d"
  },
  {
   "cell_type": "code",
   "outputs": [
    {
     "name": "stdout",
     "output_type": "stream",
     "text": [
      "Confidence interval for model A: (0.45897238972429033, 0.5458824793282182).\n",
      "Confidence interval for model B: (0.7763983165655681, 0.8143048820845595).\n",
      "Confidence intervals overlap? False.\n",
      "We can say that there are significant differences between the models.\n",
      "Model B has significantly higher accuracy.\n"
     ]
    }
   ],
   "source": [
    "import utils\n",
    "ci_model_a = utils.confidence_interval(sample=modelA_accuracies, confidence_level=0.95)\n",
    "ci_model_b = utils.confidence_interval(sample=modelB_accuracies, confidence_level=0.95)\n",
    "\n",
    "print (f\"Confidence interval for model A: {ci_model_a}.\")\n",
    "print (f\"Confidence interval for model B: {ci_model_b}.\")\n",
    "# Do confidence intervals overlap?\n",
    "overlap = utils.do_intervals_overlap(ci_model_a, ci_model_b)\n",
    "print(f\"Confidence intervals overlap? {overlap}.\")\n",
    "print(f\"We can{'not' if overlap else ''} say that there are significant differences between the models.\")\n",
    "if not overlap:\n",
    "    better_model = 'A' if ci_model_a[0] > ci_model_b[0] else 'B'\n",
    "    print(f\"Model {better_model} has significantly higher accuracy.\")"
   ],
   "metadata": {
    "collapsed": false,
    "ExecuteTime": {
     "end_time": "2024-10-01T11:42:45.588237600Z",
     "start_time": "2024-10-01T11:42:45.578671500Z"
    }
   },
   "id": "1368d00763136390",
   "execution_count": 6
  },
  {
   "cell_type": "markdown",
   "source": [
    "## Confidence intervals for non-normal distribution samples, using bootstrapping\n",
    "\n",
    "If the sample does not follow a normal distribution, we can use bootstrapping to compute the confidence intervals."
   ],
   "metadata": {
    "collapsed": false
   },
   "id": "99347571012a4e7f"
  },
  {
   "cell_type": "code",
   "outputs": [
    {
     "name": "stdout",
     "output_type": "stream",
     "text": [
      "Bootstrapped mean for model A: 0.5001.\n",
      "Bootstrapped mean for model B: 0.7991.\n"
     ]
    }
   ],
   "source": [
    "bootstrap_iterations = 10_000\n",
    "bootstrap_sample_size = sample_size \n",
    "modelA_accuracies_bootstrap, modelB_accuracies_bootstrap = [], []\n",
    "# bootstrap resampling\n",
    "for i in range(bootstrap_iterations):\n",
    "    # create a list of indices to sample from the dataset with replacement\n",
    "    indices = np.random.choice(sample_size, bootstrap_sample_size, replace=True)\n",
    "    bootstrap_sample = dataset[indices, :]\n",
    "    modelA_accuracies_bootstrap.append(modelA.accuracy(bootstrap_sample))\n",
    "    modelB_accuracies_bootstrap.append(modelB.accuracy(bootstrap_sample))\n",
    "# compute the bootstrapped estimate of the mean and confidence intervals (percentile method) \n",
    "print(f\"Bootstrapped mean for model A: {np.mean(modelA_accuracies_bootstrap):.4f}.\")\n",
    "print(f\"Bootstrapped mean for model B: {np.mean(modelB_accuracies_bootstrap):.4f}.\")    "
   ],
   "metadata": {
    "collapsed": false,
    "ExecuteTime": {
     "end_time": "2024-10-01T11:42:48.982603600Z",
     "start_time": "2024-10-01T11:42:45.590479600Z"
    }
   },
   "id": "323df34dbf83db55",
   "execution_count": 7
  },
  {
   "cell_type": "code",
   "outputs": [
    {
     "name": "stdout",
     "output_type": "stream",
     "text": [
      "Bootstrapped confidence interval for model A: (0.30564263141144016, 0.6924568639198916).\n",
      "Bootstrapped confidence interval for model B: (0.6998564158900382, 0.8987474719736712).\n",
      "Bootstrapped confidence intervals overlap? False.\n",
      "We can say that there are significant differences between the models.\n",
      "Model B has significantly higher accuracy.\n"
     ]
    }
   ],
   "source": [
    "bootstrap_ci_model_a = (np.percentile(modelA_accuracies_bootstrap, 2.5), np.percentile(modelA_accuracies_bootstrap, 97.5))\n",
    "bootstrap_ci_model_b = (np.percentile(modelB_accuracies_bootstrap, 2.5), np.percentile(modelB_accuracies_bootstrap, 97.5))\n",
    "print (f\"Bootstrapped confidence interval for model A: {bootstrap_ci_model_a}.\")\n",
    "print (f\"Bootstrapped confidence interval for model B: {bootstrap_ci_model_b}.\")\n",
    "# Do confidence intervals overlap?\n",
    "overlap = utils.do_intervals_overlap(bootstrap_ci_model_a, bootstrap_ci_model_b)\n",
    "print(f\"Bootstrapped confidence intervals overlap? {overlap}.\")\n",
    "print(f\"We can{'not' if overlap else ''} say that there are significant differences between the models.\")\n",
    "if not overlap:\n",
    "    better_model = 'A' if bootstrap_ci_model_a[0] > bootstrap_ci_model_b[0] else 'B'\n",
    "    print(f\"Model {better_model} has significantly higher accuracy.\")"
   ],
   "metadata": {
    "collapsed": false,
    "ExecuteTime": {
     "end_time": "2024-10-01T11:42:49.049896Z",
     "start_time": "2024-10-01T11:42:48.992064700Z"
    }
   },
   "id": "29548f90a9e74a4b",
   "execution_count": 8
  },
  {
   "cell_type": "code",
   "outputs": [],
   "source": [],
   "metadata": {
    "collapsed": false,
    "ExecuteTime": {
     "end_time": "2024-10-01T11:42:49.051066600Z",
     "start_time": "2024-10-01T11:42:49.009062900Z"
    }
   },
   "id": "2b2c9f8bfa7ff6e9",
   "execution_count": 8
  }
 ],
 "metadata": {
  "kernelspec": {
   "display_name": "Python 3",
   "language": "python",
   "name": "python3"
  },
  "language_info": {
   "codemirror_mode": {
    "name": "ipython",
    "version": 2
   },
   "file_extension": ".py",
   "mimetype": "text/x-python",
   "name": "python",
   "nbconvert_exporter": "python",
   "pygments_lexer": "ipython2",
   "version": "2.7.6"
  }
 },
 "nbformat": 4,
 "nbformat_minor": 5
}
