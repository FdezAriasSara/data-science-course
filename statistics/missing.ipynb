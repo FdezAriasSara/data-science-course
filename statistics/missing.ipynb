{
 "cells": [
  {
   "cell_type": "markdown",
   "source": [
    "# Treating missing values\n",
    "\n",
    "In this notebook, you will have to treat missing values of a subset of the housing dataset.\n",
    "\n",
    "You must apply deletion and (single column) imputation/attribution to the dataset, so that it will no longer contain missing values."
   ],
   "metadata": {
    "collapsed": false
   },
   "id": "488488e8dda616c3"
  },
  {
   "cell_type": "code",
   "outputs": [],
   "source": [
    "%%capture\n",
    "# make sure the required packages are installed\n",
    "%pip install numpy matplotlib pandas"
   ],
   "metadata": {
    "collapsed": false,
    "ExecuteTime": {
     "end_time": "2024-09-23T18:14:27.784659600Z",
     "start_time": "2024-09-23T18:14:26.258640300Z"
    }
   },
   "id": "bd61bdc050939188",
   "execution_count": 82
  },
  {
   "cell_type": "markdown",
   "source": [
    "## Loading the dataset\n",
    "\n",
    "Let's start by loading the dataset."
   ],
   "metadata": {
    "collapsed": false
   },
   "id": "3c5e396bafa8e233"
  },
  {
   "cell_type": "code",
   "outputs": [],
   "source": [
    "import pandas as pd\n",
    "data = pd.read_csv('data/missing_housing.csv')"
   ],
   "metadata": {
    "collapsed": false,
    "ExecuteTime": {
     "end_time": "2024-09-23T18:14:27.867373600Z",
     "start_time": "2024-09-23T18:14:27.788855600Z"
    }
   },
   "id": "86c2f7073563ce1e",
   "execution_count": 83
  },
  {
   "cell_type": "markdown",
   "source": [
    "## Showing the number of missing values per column\n",
    "\n",
    "Show the number of missing values per column in the dataset."
   ],
   "metadata": {
    "collapsed": false
   },
   "id": "57017ae832d07098"
  },
  {
   "cell_type": "code",
   "outputs": [
    {
     "name": "stdout",
     "output_type": "stream",
     "text": [
      "Total number of instances: 20818\n",
      "Number of missing values per column:\n",
      "\tId: 20818    0.00%\n",
      "\tSold Price: 20818    0.00%\n",
      "\tType: 20818    0.00%\n",
      "\tYear built: 20818    1.95%\n",
      "\tCooling: 20818    86.67%\n",
      "\tLot: 20818    87.48%\n",
      "\tBathrooms: 20818    7.25%\n",
      "\tTotal interior livable area: 20818    5.39%\n",
      "\tTotal spaces: 20818    1.66%\n",
      "\tRegion: 20818    0.01%\n",
      "\tParking features: 20818    9.75%\n",
      "\tAnnual tax amount: 20818    9.51%\n",
      "\tListed Price: 20818    0.00%\n",
      "\tLast Sold Price: 20818    38.71%\n",
      "\tCity: 20818    0.00%\n",
      "\tState: 20818    0.00%\n",
      "Columns with more than 60% missing values: ['Cooling', 'Lot']\n",
      "Columns with missing values: ['Year built', 'Bathrooms', 'Total interior livable area', 'Total spaces', 'Region', 'Parking features', 'Annual tax amount', 'Last Sold Price']\n"
     ]
    }
   ],
   "source": [
    "# write your code here\n",
    "\n",
    "# print the number of missing values per column\n",
    "number_of_instances = len(data)\n",
    "print(f'Total number of instances: {number_of_instances}')\n",
    "print(\"Number of missing values per column:\")\n",
    "columns_with_60_percent_missing_values = []\n",
    "columns_with_missing_values = []\n",
    "for column in data.columns:\n",
    "    number_of_missing_instances = data[column].isnull().sum()\n",
    "    missing_values_percentage = number_of_missing_instances / number_of_instances * 100\n",
    "    print(f'\\t{column}: {number_of_instances}    {number_of_missing_instances/number_of_instances*100:.2f}%')\n",
    "    if missing_values_percentage > 60:\n",
    "        columns_with_60_percent_missing_values.append(column)\n",
    "    if number_of_missing_instances > 0 and missing_values_percentage <= 60:\n",
    "        columns_with_missing_values.append(column)\n",
    "print(f'Columns with more than 60% missing values: {columns_with_60_percent_missing_values}')\n",
    "print(f'Columns with missing values: {columns_with_missing_values}')"
   ],
   "metadata": {
    "collapsed": false,
    "ExecuteTime": {
     "end_time": "2024-09-23T18:14:27.905816300Z",
     "start_time": "2024-09-23T18:14:27.878308100Z"
    }
   },
   "id": "36649d31afbf7567",
   "execution_count": 84
  },
  {
   "cell_type": "markdown",
   "source": [
    "## Deletion\n",
    "\n",
    "Delete the missing values you have identified."
   ],
   "metadata": {
    "collapsed": false
   },
   "id": "90141bdc92c3373f"
  },
  {
   "cell_type": "code",
   "outputs": [
    {
     "name": "stdout",
     "output_type": "stream",
     "text": [
      "<class 'pandas.core.frame.DataFrame'>\n",
      "RangeIndex: 20818 entries, 0 to 20817\n",
      "Data columns (total 14 columns):\n",
      " #   Column                       Non-Null Count  Dtype  \n",
      "---  ------                       --------------  -----  \n",
      " 0   Id                           20818 non-null  int64  \n",
      " 1   Sold Price                   20818 non-null  int64  \n",
      " 2   Type                         20818 non-null  object \n",
      " 3   Year built                   20413 non-null  float64\n",
      " 4   Bathrooms                    19308 non-null  float64\n",
      " 5   Total interior livable area  19696 non-null  float64\n",
      " 6   Total spaces                 20473 non-null  float64\n",
      " 7   Region                       20816 non-null  object \n",
      " 8   Parking features             18788 non-null  object \n",
      " 9   Annual tax amount            18838 non-null  float64\n",
      " 10  Listed Price                 20818 non-null  int64  \n",
      " 11  Last Sold Price              12760 non-null  float64\n",
      " 12  City                         20818 non-null  object \n",
      " 13  State                        20818 non-null  object \n",
      "dtypes: float64(6), int64(3), object(5)\n",
      "memory usage: 2.2+ MB\n",
      "None\n"
     ]
    }
   ],
   "source": [
    "# write your code here\n",
    "\n",
    "# drop columns with more than 60% missing values\n",
    "data = data.drop(columns=columns_with_60_percent_missing_values)\n",
    "print(data.info())"
   ],
   "metadata": {
    "collapsed": false,
    "ExecuteTime": {
     "end_time": "2024-09-23T18:14:27.942638900Z",
     "start_time": "2024-09-23T18:14:27.909579800Z"
    }
   },
   "id": "1384a02a655960d2",
   "execution_count": 85
  },
  {
   "cell_type": "markdown",
   "source": [
    "## Single-column imputation/attribution\n",
    "\n",
    "Analyze all the columns with missing values and decide which imputation/attribution method is more appropriate for each one of them. Then, apply the chosen method to the dataset. Do it for single column imputation/attribution. For multiple column imputation/attribution, just include them in the cell at the end of the notebook."
   ],
   "metadata": {
    "collapsed": false
   },
   "id": "449e28620cc29cf4"
  },
  {
   "cell_type": "code",
   "outputs": [
    {
     "name": "stdout",
     "output_type": "stream",
     "text": [
      "Previous median of year: 1964.0. New median: 1964.0\n",
      "Number of instances with year of construction missing: 0.\n",
      "Row with missing region:\n",
      "      Id     City Region\n",
      "964  964  Isleton    NaN\n",
      "969  969  Isleton    NaN\n",
      "City of the missing region: Isleton\n",
      "Region of the missing region: Isleton Region\n",
      "Number of instances with region missing: 0.\n",
      "Number of instances with parking features missing: 0.\n",
      "Columns with missing values that require imputation with multiple variables:\n",
      "\tBathrooms.\n",
      "\tTotal interior livable area.\n",
      "\tTotal spaces.\n",
      "\tAnnual tax amount.\n",
      "\tLast Sold Price.\n"
     ]
    }
   ],
   "source": [
    "# write your code here\n",
    "\n",
    "# Year built\n",
    "# It is an ordinal value. No way we can infer the year of construction from other columns. We'll use the median value.\n",
    "median_year_of_construction = data['Year built'].median()\n",
    "data['Year built'] = data['Year built'].fillna(median_year_of_construction)\n",
    "print(f\"Previous median of year: {median_year_of_construction}. New median: {data['Year built'].median()}\")\n",
    "print(f\"Number of instances with year of construction missing: {data['Year built'].isnull().sum()}.\")\n",
    "\n",
    "# Region\n",
    "# show the row with missing region\n",
    "print(\"Row with missing region:\")\n",
    "print(data[data['Region'].isnull()][['Id', 'City', 'Region']])\n",
    "# We can infer the region from the city. Let's find the citi \n",
    "city = data[data['Region'].isnull()]['City'].values[0]  # get the city name (all the values are the same)\n",
    "print(f\"City of the missing region: {city}\")\n",
    "region = data[(data['City'] == city) & (data['Region'].notnull())]['Region'].values[0]\n",
    "print(f\"Region of the missing region: {region}\")\n",
    "# imputation\n",
    "data['Region'] = data['Region'].fillna(region)\n",
    "print(f\"Number of instances with region missing: {data['Region'].isnull().sum()}.\")\n",
    "\n",
    "\n",
    "# Parking features\n",
    "# it is a nominal value. We cannot infer it. We'll use the mode.\n",
    "mode_parking_features = data['Parking features'].mode()[0]\n",
    "data['Parking features'] = data['Parking features'].fillna(mode_parking_features)\n",
    "print(f\"Number of instances with parking features missing: {data['Parking features'].isnull().sum()}.\")\n",
    "\n",
    "\n",
    "print(\"Columns with missing values that require imputation with multiple variables:\")\n",
    "for column in data.columns:\n",
    "    if data[column].isnull().sum() > 0:\n",
    "        print(f'\\t{column}.')"
   ],
   "metadata": {
    "collapsed": false,
    "ExecuteTime": {
     "end_time": "2024-09-23T18:14:28.000108900Z",
     "start_time": "2024-09-23T18:14:27.952585800Z"
    }
   },
   "id": "c2717e402cc2345c",
   "execution_count": 86
  },
  {
   "cell_type": "markdown",
   "source": [],
   "metadata": {
    "collapsed": false
   },
   "id": "29d17ca641e465b9"
  },
  {
   "cell_type": "markdown",
   "source": [
    "## Multiple-column imputation/attribution\n",
    "\n",
    "Write below a list of columns that you think must be used a method that requires multiple columns for the imputation. Include, for each column, an indication of the columns required for the imputation. Indicate if it is a regression or classificiation imputation. Justify your choices. "
   ],
   "metadata": {
    "collapsed": false
   },
   "id": "7a9e1ecc3991047c"
  },
  {
   "cell_type": "markdown",
   "source": [
    "*Write your answer here*\n",
    "\n",
    "1. Bathrooms. Classification imputation. We can infer the number of bathrooms from the total interior livable area, total spaces, and listed price.\n",
    "2. Total interior livable area. Regression imputation. We can infer the total interior livable area from the total spaces, the number of bedrooms, and the listed price.\n",
    "3. Total spaces. Classification imputation. We can infer the total spaces from the total interior livable area, the number of bedrooms, and the listed price.\n",
    "4. Annual tax amount. Regression imputation. We can infer the annual tax amount from the listed price and the lot.\n",
    "5. Last sold price. Regression imputation. We can infer the last sold price from probably all (most) of the features."
   ],
   "metadata": {
    "collapsed": false
   },
   "id": "c2b875e4f31eed69"
  }
 ],
 "metadata": {
  "kernelspec": {
   "display_name": "Python 3",
   "language": "python",
   "name": "python3"
  },
  "language_info": {
   "codemirror_mode": {
    "name": "ipython",
    "version": 2
   },
   "file_extension": ".py",
   "mimetype": "text/x-python",
   "name": "python",
   "nbconvert_exporter": "python",
   "pygments_lexer": "ipython2",
   "version": "2.7.6"
  }
 },
 "nbformat": 4,
 "nbformat_minor": 5
}
