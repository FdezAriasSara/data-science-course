{
 "cells": [
  {
   "cell_type": "markdown",
   "source": [
    "[![Open In Colab](https://colab.research.google.com/assets/colab-badge.svg)](https://colab.research.google.com/github/francisco-ortin/data-science-course/blob/main/statistics/missing.ipynb)\n",
    "[![License: CC BY-NC-SA 4.0](https://img.shields.io/badge/License-CC%20BY--NC--SA%204.0-lightgrey.svg)](https://creativecommons.org/licenses/by-nc-sa/4.0/)"
   ],
   "metadata": {
    "collapsed": false
   },
   "id": "2284eabc3cf7341d"
  },
  {
   "cell_type": "markdown",
   "source": [
    "# Treating missing values\n",
    "\n",
    "In this notebook, you will have to treat missing values of a subset of the housing dataset.\n",
    "\n",
    "You must apply deletion and (single column) imputation/attribution to the dataset, so that it will no longer contain missing values."
   ],
   "metadata": {
    "collapsed": false
   },
   "id": "488488e8dda616c3"
  },
  {
   "cell_type": "code",
   "outputs": [
    {
     "name": "stdout",
     "output_type": "stream",
     "text": [
      "Note: you may need to restart the kernel to use updated packages.\n"
     ]
    }
   ],
   "source": [
    "# make sure the required packages are installed\n",
    "%pip install numpy matplotlib pandas --quiet\n",
    "# if running in colab, install the required packages and copy the necessary files\n",
    "directory='data-science-course/statistics'\n",
    "if get_ipython().__class__.__module__.startswith('google.colab'):\n",
    "    !git clone --depth 1 https://github.com/francisco-ortin/data-science-course.git  2>/dev/null\n",
    "    !cp --update {directory}/*.py .\n",
    "    !mkdir -p img data\n",
    "    !cp {directory}/img/* img/.\n",
    "    !cp {directory}/data/* data/."
   ],
   "metadata": {
    "collapsed": false,
    "ExecuteTime": {
     "end_time": "2024-10-01T15:13:00.973710800Z",
     "start_time": "2024-10-01T15:12:59.109584300Z"
    }
   },
   "id": "bd61bdc050939188",
   "execution_count": 1
  },
  {
   "cell_type": "markdown",
   "source": [
    "## Loading the dataset\n",
    "\n",
    "Let's start by loading the dataset."
   ],
   "metadata": {
    "collapsed": false
   },
   "id": "3c5e396bafa8e233"
  },
  {
   "cell_type": "code",
   "outputs": [],
   "source": [
    "import pandas as pd\n",
    "data = pd.read_csv('data/missing_housing.csv')"
   ],
   "metadata": {
    "collapsed": false,
    "ExecuteTime": {
     "end_time": "2024-10-01T15:13:01.087581100Z",
     "start_time": "2024-10-01T15:13:00.966617Z"
    }
   },
   "id": "86c2f7073563ce1e",
   "execution_count": 2
  },
  {
   "cell_type": "markdown",
   "source": [
    "## Showing the number of missing values per column\n",
    "\n",
    "Show the number of missing values per column in the dataset."
   ],
   "metadata": {
    "collapsed": false
   },
   "id": "57017ae832d07098"
  },
  {
   "cell_type": "code",
   "outputs": [],
   "source": [
    "# write your code here\n",
    "\n"
   ],
   "metadata": {
    "collapsed": false,
    "ExecuteTime": {
     "end_time": "2024-10-01T15:13:01.087581100Z",
     "start_time": "2024-10-01T15:13:01.057103Z"
    }
   },
   "id": "36649d31afbf7567",
   "execution_count": 3
  },
  {
   "cell_type": "markdown",
   "source": [
    "## Deletion\n",
    "\n",
    "Delete the missing values you have identified."
   ],
   "metadata": {
    "collapsed": false
   },
   "id": "90141bdc92c3373f"
  },
  {
   "cell_type": "code",
   "outputs": [],
   "source": [
    "# write your code here\n",
    "\n"
   ],
   "metadata": {
    "collapsed": false,
    "ExecuteTime": {
     "end_time": "2024-10-01T15:13:01.090233300Z",
     "start_time": "2024-10-01T15:13:01.065156300Z"
    }
   },
   "id": "1384a02a655960d2",
   "execution_count": 4
  },
  {
   "cell_type": "markdown",
   "source": [
    "## Single-column imputation/attribution\n",
    "\n",
    "Analyze all the columns with missing values and decide which imputation/attribution method is more appropriate for each one of them. Then, apply the chosen method to the dataset. Do it for single column imputation/attribution. For multiple column imputation/attribution, just include them in the cell at the end of the notebook."
   ],
   "metadata": {
    "collapsed": false
   },
   "id": "449e28620cc29cf4"
  },
  {
   "cell_type": "code",
   "outputs": [],
   "source": [
    "# write your code here\n",
    "\n",
    " "
   ],
   "metadata": {
    "collapsed": false,
    "ExecuteTime": {
     "end_time": "2024-10-01T15:13:01.128344600Z",
     "start_time": "2024-10-01T15:13:01.075576800Z"
    }
   },
   "id": "c2717e402cc2345c",
   "execution_count": 5
  },
  {
   "cell_type": "markdown",
   "source": [],
   "metadata": {
    "collapsed": false
   },
   "id": "29d17ca641e465b9"
  },
  {
   "cell_type": "markdown",
   "source": [
    "## Multiple-column imputation/attribution\n",
    "\n",
    "Write below a list of columns that you think must be used a method that requires multiple columns for the imputation. Include, for each column, an indication of the columns required for the imputation. Indicate if it is a regression or classificiation imputation. Justify your choices. "
   ],
   "metadata": {
    "collapsed": false
   },
   "id": "7a9e1ecc3991047c"
  },
  {
   "cell_type": "markdown",
   "source": [
    "*Write your answer here*\n",
    "\n"
   ],
   "metadata": {
    "collapsed": false
   },
   "id": "c2b875e4f31eed69"
  }
 ],
 "metadata": {
  "kernelspec": {
   "display_name": "Python 3",
   "language": "python",
   "name": "python3"
  },
  "language_info": {
   "codemirror_mode": {
    "name": "ipython",
    "version": 2
   },
   "file_extension": ".py",
   "mimetype": "text/x-python",
   "name": "python",
   "nbconvert_exporter": "python",
   "pygments_lexer": "ipython2",
   "version": "2.7.6"
  }
 },
 "nbformat": 4,
 "nbformat_minor": 5
}
