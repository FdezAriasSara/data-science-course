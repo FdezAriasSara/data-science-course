{
 "cells": [
  {
   "cell_type": "markdown",
   "id": "a67409bd4a77d301",
   "metadata": {
    "collapsed": false
   },
   "source": [
    "<img src=\"img/pandas-logo.png\" width=\"400\">\n",
    "\n",
    "# Pandas\n",
    "\n",
    "Python [pandas](https://pandas.pydata.org/) is an open-source data manipulation and analysis library designed to simplify data processing. It is particularly well-suited for working with tabular data in data frames, similar to those in spreadsheets. Pandas is an essential tool for data scientists and analysts working in Python.\n",
    "\n",
    "Here are some key aspects of [pandas](https://pandas.pydata.org/):\n",
    "\n",
    "1. Data Structures:\n",
    "- [`Series`](https://pandas.pydata.org/pandas-docs/stable/reference/api/pandas.Series.html): One-dimensional labeled array capable of holding any data type. It is similar to a column in a table.\n",
    "- [`DataFrame`](https://pandas.pydata.org/pandas-docs/stable/reference/api/pandas.DataFrame.html): Two-dimensional labeled data structure with columns of potentially different types. It is similar to a table in a database.\n",
    "2. Data Handling and Manipulation:\n",
    "- Reading and writing data: Supports a wide range of file formats, including CSV, Excel, SQL and JSON.\n",
    "- Data cleaning: Tools for handling missing data, duplicate data, and data type conversions.\n",
    "- Filtering data: Methods to subset rows and columns based on conditions.\n",
    "- Merging and joining: Functions to combine data from multiple sources, similar to SQL joins.\n",
    "- Grouping and aggregating: Grouping data for summarization, transformation and aggregation.\n",
    "3. Data Analysis and Exploration:\n",
    "- Descriptive statistics and basic data analytics.\n",
    "- Data visualization integration with libraries like Matplotlib and Seaborn.\n",
    "4. Performance Optimization:\n",
    "- Efficient handling of large datasets.\n",
    "- Vectorized operations that are faster than traditional loops."
   ]
  },
  {
   "cell_type": "code",
   "outputs": [
    {
     "name": "stdout",
     "output_type": "stream",
     "text": [
      "Note: you may need to restart the kernel to use updated packages.\n"
     ]
    }
   ],
   "source": [
    "# make sure the required packages are installed\n",
    "%pip install numpy pandas --quiet"
   ],
   "metadata": {
    "collapsed": false,
    "ExecuteTime": {
     "end_time": "2024-10-01T09:46:20.980154800Z",
     "start_time": "2024-10-01T09:46:19.414638500Z"
    }
   },
   "id": "d328377ead75f907",
   "execution_count": 64
  },
  {
   "cell_type": "markdown",
   "id": "12d716ad0c31702d",
   "metadata": {
    "collapsed": false
   },
   "source": [
    "# Series\n",
    "\n",
    "A `Series` is a one-dimensional labeled array capable of holding any data type, but all elements must be of the same type. It is similar to a column in a table or spreadsheet. \n",
    "\n",
    "We can create a `Series` from a list, a NumPy array, or a dictionary. Let's see how to create a `Series` from a list."
   ]
  },
  {
   "cell_type": "code",
   "execution_count": 65,
   "id": "69205375156cf7d9",
   "metadata": {
    "collapsed": false,
    "ExecuteTime": {
     "end_time": "2024-10-01T09:46:20.991272500Z",
     "start_time": "2024-10-01T09:46:20.936456100Z"
    }
   },
   "outputs": [
    {
     "name": "stdout",
     "output_type": "stream",
     "text": [
      "Series:\n",
      "0    25\n",
      "1    36\n",
      "2    29\n",
      "3    42\n",
      "Name: ages, dtype: int64\n"
     ]
    }
   ],
   "source": [
    "import pandas as pd\n",
    "ages = [25, 36, 29, 42]\n",
    "ages_series = pd.Series(ages, name='ages')  # name is optional; it is used to label the Series\n",
    "print(f\"Series:\\n{ages_series}\")"
   ]
  },
  {
   "cell_type": "markdown",
   "id": "7eb0b69634e62eef",
   "metadata": {
    "collapsed": false
   },
   "source": [
    "You can see how the `Series` is printed with an index on the left and the values on the right. The index is created automatically starting from 0. Also, you can see the data type of the `Series` at the bottom (`dtype: int64`).\n",
    "\n",
    "We can access indexes and values with the `index` and `values` attributes, respectively. `values` returns a NumPy array with the values of the `Series`.\n",
    "\n",
    "The type of the elements in the `Series` can be accessed with the `dtype` attribute.\n",
    "\n",
    "As with NumPy arrays, we can get the shape of the `Series` with the `shape` attribute. By convention, the shape is always a tuple so, for a `Series`, it will only have  one element (the number of values in the `Series`).\n",
    "\n",
    "We can also get the name of the `Series` with the `name` attribute (`None` if no name was given)."
   ]
  },
  {
   "cell_type": "code",
   "execution_count": 66,
   "id": "2b23e04ef79b9e1e",
   "metadata": {
    "collapsed": false,
    "ExecuteTime": {
     "end_time": "2024-10-01T09:46:21.003138400Z",
     "start_time": "2024-10-01T09:46:20.946201400Z"
    }
   },
   "outputs": [
    {
     "name": "stdout",
     "output_type": "stream",
     "text": [
      "Indexes: RangeIndex(start=0, stop=4, step=1)\n",
      "Type of indexes: <class 'pandas.core.indexes.range.RangeIndex'>\n",
      "Values: [25 36 29 42]\n",
      "Type of values: <class 'numpy.ndarray'>\n",
      "Data type: int64\n",
      "Shape: (4,)\n",
      "Name: ages\n"
     ]
    }
   ],
   "source": [
    "print(f\"Indexes: {ages_series.index}\")\n",
    "print(f\"Type of indexes: {type(ages_series.index)}\")\n",
    "print(f\"Values: {ages_series.values}\")\n",
    "print(f\"Type of values: {type(ages_series.values)}\")\n",
    "print(f\"Data type: {ages_series.dtype}\")\n",
    "print(f\"Shape: {ages_series.shape}\")\n",
    "print(f\"Name: {ages_series.name}\")"
   ]
  },
  {
   "cell_type": "markdown",
   "id": "ecd555ff3175be30",
   "metadata": {
    "collapsed": false
   },
   "source": [
    "`Series` objects provide many methods to aggregate their values such as `sum`, `mean`, `min`, `max`, `std`, `quantile`, `unique` and many more. Let's see some examples."
   ]
  },
  {
   "cell_type": "code",
   "execution_count": 67,
   "id": "a5df902ae55f5557",
   "metadata": {
    "collapsed": false,
    "ExecuteTime": {
     "end_time": "2024-10-01T09:46:21.210837800Z",
     "start_time": "2024-10-01T09:46:20.961886800Z"
    }
   },
   "outputs": [
    {
     "name": "stdout",
     "output_type": "stream",
     "text": [
      "Ages sum 132, go from 25 to 42 and average 33.0.\n",
      "Ages percentiles: 25%=28.0, 50%=32.5, 75%=37.5.\n",
      "Unique ages: [  0   1   2   3   4   5   6   8   9  10  11  12  13  15  17  21  22  24\n",
      "  26  29  30  32  34  35  36  40  41  42  43  45  46  48  49  54  56  57\n",
      "  60  62  63  69  70  71  72  75  77  79  80  81  82  83  84  85  87  88\n",
      "  89  91  92  93  94  97  98  99 100]\n"
     ]
    }
   ],
   "source": [
    "print(f\"Ages sum {ages_series.sum()}, go from {ages_series.min()} to {ages_series.max()} and average {ages_series.mean()}.\")\n",
    "print(f\"Ages percentiles: 25%={ages_series.quantile(0.25)}, 50%={ages_series.quantile(0.5)}, 75%={ages_series.quantile(0.75)}.\")\n",
    "import numpy as np\n",
    "random_ages = pd.Series(np.random.randint(0, 101, 100))  # create a Series with 100 random ages from 0 to 100\n",
    "print(f\"Unique ages: {np.sort(random_ages.unique())}\")"
   ]
  },
  {
   "cell_type": "markdown",
   "id": "bbd0c4120ca839df",
   "metadata": {
    "collapsed": false
   },
   "source": [
    "# Indexes\n",
    "\n",
    "We saw that the index of a `Series` is created automatically starting from 0, incrementing by 1. An index is modelled with an instance of the `Index` class (`RangeIndex` implements `Index`).\n",
    "\n",
    "As with `Series`, we can access the values of the `Index` with the `values` attribute. The type of the `Index` can be accessed with the `dtype` attribute. The `shape` attribute will return a tuple with the number of elements in the `Index`."
   ]
  },
  {
   "cell_type": "code",
   "execution_count": 68,
   "id": "ae07438eb559930e",
   "metadata": {
    "collapsed": false,
    "ExecuteTime": {
     "end_time": "2024-10-01T09:46:21.262892200Z",
     "start_time": "2024-10-01T09:46:20.981361800Z"
    }
   },
   "outputs": [
    {
     "name": "stdout",
     "output_type": "stream",
     "text": [
      "Index values: [0 1 2 3]\n",
      "Type of index values: <class 'numpy.ndarray'>\n",
      "Index data type: int64\n",
      "Index shape: (4,)\n"
     ]
    }
   ],
   "source": [
    "print(f\"Index values: {ages_series.index.values}\")\n",
    "print(f\"Type of index values: {type(ages_series.index.values)}\")\n",
    "print(f\"Index data type: {ages_series.index.dtype}\")\n",
    "print(f\"Index shape: {ages_series.index.shape}\")"
   ]
  },
  {
   "cell_type": "markdown",
   "id": "6671e1485e84c584",
   "metadata": {
    "collapsed": false
   },
   "source": [
    "`Index`es provide versatility in data manipulation. We can create a `Series` with a custom index. We can also create a `Series` selecting particular elements by using an `Index`."
   ]
  },
  {
   "cell_type": "code",
   "execution_count": 69,
   "id": "24aaffb374f0f8b5",
   "metadata": {
    "collapsed": false,
    "ExecuteTime": {
     "end_time": "2024-10-01T09:46:21.326946900Z",
     "start_time": "2024-10-01T09:46:20.989938200Z"
    }
   },
   "outputs": [
    {
     "name": "stdout",
     "output_type": "stream",
     "text": [
      "Value of the first element in series: 25\n",
      "Series with custom index:\n",
      "John     25\n",
      "Anna     36\n",
      "Peter    29\n",
      "Linda    42\n",
      "dtype: int64\n",
      "Value of 'Anna': 36\n",
      "Series with even indexes:\n",
      "0    25\n",
      "2    29\n",
      "Name: ages, dtype: int64\n"
     ]
    }
   ],
   "source": [
    "print(f\"Value of the first element in series: {ages_series[0]}\")\n",
    "ages_series_custom_index = pd.Series(ages, index=['John', 'Anna', 'Peter', 'Linda'])\n",
    "print(f\"Series with custom index:\\n{ages_series_custom_index}\")\n",
    "print(f\"Value of 'Anna': {ages_series_custom_index['Anna']}\")\n",
    "even_indexes = [0, 2]\n",
    "even_seres = ages_series[even_indexes]\n",
    "print(f\"Series with even indexes:\\n{even_seres}\")"
   ]
  },
  {
   "cell_type": "markdown",
   "id": "8df5a4329b52ba34",
   "metadata": {
    "collapsed": false
   },
   "source": [
    "# DataFrames\n",
    "\n",
    "The key data structure in Pandas is `DataFrame`. A `DataFrame` is basically a tabular data structure, with rows and columns. Rows have a specific `Index` to access them. Columns are `Series`, so a `Series` is a single column of a DataFrame. A DataFrame can have several columns. Therefore, a `DataFrame` data structure can be seen as a spreadsheet.\n",
    "\n",
    "## Creating DataFrames from dictionaries\n",
    "\n",
    "We can create a `DataFrame` from a dictionary, a list of dictionaries, a list of lists, or from a file. Let's see how to create a `DataFrame` from a dictionary."
   ]
  },
  {
   "cell_type": "code",
   "execution_count": 70,
   "id": "6e11bd1798917771",
   "metadata": {
    "collapsed": false,
    "ExecuteTime": {
     "end_time": "2024-10-01T09:46:21.329391200Z",
     "start_time": "2024-10-01T09:46:21.008126300Z"
    }
   },
   "outputs": [
    {
     "name": "stdout",
     "output_type": "stream",
     "text": [
      "DataFrame:\n"
     ]
    },
    {
     "data": {
      "text/plain": "    name  age      city\n0   John   25  New York\n1   Anna   36     Paris\n2  Peter   29    Berlin\n3  Linda   42    London",
      "text/html": "<div>\n<style scoped>\n    .dataframe tbody tr th:only-of-type {\n        vertical-align: middle;\n    }\n\n    .dataframe tbody tr th {\n        vertical-align: top;\n    }\n\n    .dataframe thead th {\n        text-align: right;\n    }\n</style>\n<table border=\"1\" class=\"dataframe\">\n  <thead>\n    <tr style=\"text-align: right;\">\n      <th></th>\n      <th>name</th>\n      <th>age</th>\n      <th>city</th>\n    </tr>\n  </thead>\n  <tbody>\n    <tr>\n      <th>0</th>\n      <td>John</td>\n      <td>25</td>\n      <td>New York</td>\n    </tr>\n    <tr>\n      <th>1</th>\n      <td>Anna</td>\n      <td>36</td>\n      <td>Paris</td>\n    </tr>\n    <tr>\n      <th>2</th>\n      <td>Peter</td>\n      <td>29</td>\n      <td>Berlin</td>\n    </tr>\n    <tr>\n      <th>3</th>\n      <td>Linda</td>\n      <td>42</td>\n      <td>London</td>\n    </tr>\n  </tbody>\n</table>\n</div>"
     },
     "execution_count": 70,
     "metadata": {},
     "output_type": "execute_result"
    }
   ],
   "source": [
    "ages_per_name = {\n",
    "    'name': ['John', 'Anna', 'Peter', 'Linda'],\n",
    "    'age': [25, 36, 29, 42],\n",
    "    'city': ['New York', 'Paris', 'Berlin', 'London']\n",
    "}\n",
    "df = pd.DataFrame(ages_per_name)\n",
    "print(\"DataFrame:\")\n",
    "df  # you must print(df) if you are not using a Jupyter notebook"
   ]
  },
  {
   "cell_type": "markdown",
   "id": "d1ccbef217d012bf",
   "metadata": {
    "collapsed": false
   },
   "source": [
    "The `DataFrame` is a table where each entry in the dictionary is a column or `Series`. The `Index` of each row is created automatically taking the position of its elements inside the entry lists, starting from 0. Most of the time what we will load data from files or databases."
   ]
  },
  {
   "cell_type": "markdown",
   "id": "3a4a73cd0d0db2cc",
   "metadata": {
    "collapsed": false
   },
   "source": [
    "## Basic attributes of DataFrames\n",
    "\n",
    "Let's see some basic attributes of `DataFrame`s. As in NumPy arrays, we can access the shape of the `DataFrame` with the `shape` attribute."
   ]
  },
  {
   "cell_type": "code",
   "execution_count": 71,
   "id": "4d118f72dc672cde",
   "metadata": {
    "collapsed": false,
    "ExecuteTime": {
     "end_time": "2024-10-01T09:46:21.581572300Z",
     "start_time": "2024-10-01T09:46:21.028965200Z"
    }
   },
   "outputs": [
    {
     "name": "stdout",
     "output_type": "stream",
     "text": [
      "Shape: (4, 3)\n"
     ]
    }
   ],
   "source": [
    "print(f\"Shape: {df.shape}\")  # returns a tuple"
   ]
  },
  {
   "cell_type": "markdown",
   "id": "3c900c70936030a1",
   "metadata": {
    "collapsed": false
   },
   "source": [
    "We can check the type of the underlying data with `dtypes` (plural). This attribute will return the data type of each column in the `DataFrame`. The type of the `dtypes` attribute is a `Series` with the column names as indexes and the data types as values."
   ]
  },
  {
   "cell_type": "code",
   "execution_count": 72,
   "id": "c9123269b43be3d",
   "metadata": {
    "collapsed": false,
    "ExecuteTime": {
     "end_time": "2024-10-01T09:46:21.661830300Z",
     "start_time": "2024-10-01T09:46:21.036968700Z"
    }
   },
   "outputs": [
    {
     "name": "stdout",
     "output_type": "stream",
     "text": [
      "Data types:\n",
      "name    object\n",
      "age      int64\n",
      "city    object\n",
      "dtype: object\n",
      "The type of dtypes is: <class 'pandas.core.series.Series'>\n"
     ]
    }
   ],
   "source": [
    "print(f\"Data types:\\n{df.dtypes}\")\n",
    "print(f\"The type of dtypes is: {type(df.dtypes)}\")"
   ]
  },
  {
   "cell_type": "markdown",
   "id": "6e011fa74ba16252",
   "metadata": {
    "collapsed": false
   },
   "source": [
    "We can get the values of the whole `DataFrame` with the `values` attribute. This will return a NumPy array with the values of the `DataFrame`. The name of the columns and the indexes are lost, since they are not supported in NumPy arrays. "
   ]
  },
  {
   "cell_type": "code",
   "execution_count": 73,
   "id": "a7da49dc5261e871",
   "metadata": {
    "collapsed": false,
    "ExecuteTime": {
     "end_time": "2024-10-01T09:46:21.665755Z",
     "start_time": "2024-10-01T09:46:21.050599400Z"
    }
   },
   "outputs": [
    {
     "name": "stdout",
     "output_type": "stream",
     "text": [
      "Values:\n",
      "[['John' 25 'New York']\n",
      " ['Anna' 36 'Paris']\n",
      " ['Peter' 29 'Berlin']\n",
      " ['Linda' 42 'London']]\n",
      "The type of values is: <class 'numpy.ndarray'>\n"
     ]
    }
   ],
   "source": [
    "print(f\"Values:\\n{df.values}\")\n",
    "print(f\"The type of values is: {type(df.values)}\")"
   ]
  },
  {
   "cell_type": "markdown",
   "id": "b3fb6832f87acb7f",
   "metadata": {
    "collapsed": false
   },
   "source": [
    "We can access the columns and the indexes of the `DataFrame` with the `columns` and `index` attributes, respectively. Both will return an `Index` object."
   ]
  },
  {
   "cell_type": "code",
   "execution_count": 74,
   "id": "b445ccde3807ba4b",
   "metadata": {
    "collapsed": false,
    "ExecuteTime": {
     "end_time": "2024-10-01T09:46:21.666917400Z",
     "start_time": "2024-10-01T09:46:21.058080500Z"
    }
   },
   "outputs": [
    {
     "name": "stdout",
     "output_type": "stream",
     "text": [
      "Columns: Index(['name', 'age', 'city'], dtype='object')\n",
      "Type of columns: <class 'pandas.core.indexes.base.Index'>\n",
      "Index: RangeIndex(start=0, stop=4, step=1)\n",
      "Type of index: <class 'pandas.core.indexes.range.RangeIndex'>\n"
     ]
    }
   ],
   "source": [
    "print(f\"Columns: {df.columns}\")\n",
    "print(f\"Type of columns: {type(df.columns)}\")\n",
    "print(f\"Index: {df.index}\")\n",
    "print(f\"Type of index: {type(df.index)}\")"
   ]
  },
  {
   "cell_type": "markdown",
   "id": "6d5b0b238f5d8e44",
   "metadata": {
    "collapsed": false
   },
   "source": [
    "It is pretty common to create a `DataFrame` from a 2D NumPy array. In this case, we can specify the column names and the index labels. Let's see how to create a `DataFrame` from a 2D NumPy array."
   ]
  },
  {
   "cell_type": "code",
   "execution_count": 75,
   "id": "9510cc5d02d97328",
   "metadata": {
    "collapsed": false,
    "ExecuteTime": {
     "end_time": "2024-10-01T09:46:21.688639300Z",
     "start_time": "2024-10-01T09:46:21.068102400Z"
    }
   },
   "outputs": [
    {
     "name": "stdout",
     "output_type": "stream",
     "text": [
      "DataFrame from NumPy array, all the columns but only even rows (keeping the index):\n",
      "    name age      city\n",
      "0   John  25  New York\n",
      "2  Peter  29    Berlin\n"
     ]
    }
   ],
   "source": [
    "data = df.values  # get the values of the DataFrame as a 2D NumPy array\n",
    "# create a DataFrame with all the columns and even rows, using the original column names and index labels\n",
    "df_from_numpy = pd.DataFrame(data[::2, :], columns=df.columns, index=df.index[::2])\n",
    "print(f\"DataFrame from NumPy array, all the columns but only even rows (keeping the index):\\n{df_from_numpy}\")"
   ]
  },
  {
   "cell_type": "markdown",
   "id": "a934300b45cd865b",
   "metadata": {
    "collapsed": false
   },
   "source": [
    "## Reading and writing DataFrames\n",
    "\n",
    "Pandas supports a wide range of file formats, including CSV, Excel, SQL, and JSON. We can read and write data from and to these formats using the `read_` and `to_` functions.\n",
    " \n",
    "Let's see how to read and write a CSV file. We load the file 'data/housing.csv' into a `DataFrame` and then write it to a new CSV file."
   ]
  },
  {
   "cell_type": "code",
   "execution_count": 76,
   "id": "d79d7eaa532da4ef",
   "metadata": {
    "collapsed": false,
    "ExecuteTime": {
     "end_time": "2024-10-01T09:46:22.234223400Z",
     "start_time": "2024-10-01T09:46:21.077660Z"
    }
   },
   "outputs": [],
   "source": [
    "df = pd.read_csv('data/housing.csv', header=0, #  the first row is the header (by default)\n",
    "                 sep=',')  # the separator is a comma (by default)"
   ]
  },
  {
   "cell_type": "code",
   "execution_count": 77,
   "id": "9eb5f5f21764feef",
   "metadata": {
    "collapsed": false,
    "ExecuteTime": {
     "end_time": "2024-10-01T09:46:23.761427300Z",
     "start_time": "2024-10-01T09:46:21.835120100Z"
    }
   },
   "outputs": [
    {
     "name": "stdout",
     "output_type": "stream",
     "text": [
      "DataFrame with shape (47439, 41) and columns Index(['Id', 'Address', 'Sold Price', 'Summary', 'Type', 'Year built',\n",
      "       'Heating', 'Cooling', 'Parking', 'Lot', 'Bedrooms', 'Bathrooms',\n",
      "       'Full bathrooms', 'Total interior livable area', 'Total spaces',\n",
      "       'Garage spaces', 'Region', 'Elementary School',\n",
      "       'Elementary School Score', 'Elementary School Distance',\n",
      "       'Middle School', 'Middle School Score', 'Middle School Distance',\n",
      "       'High School', 'High School Score', 'High School Distance', 'Flooring',\n",
      "       'Heating features', 'Cooling features', 'Appliances included',\n",
      "       'Laundry features', 'Parking features', 'Tax assessed value',\n",
      "       'Annual tax amount', 'Listed On', 'Listed Price', 'Last Sold On',\n",
      "       'Last Sold Price', 'City', 'Zip', 'State'],\n",
      "      dtype='object').\n"
     ]
    },
    {
     "data": {
      "text/plain": "          Id                   Address  Sold Price  \\\n0          0               540 Pine Ln   3825000.0   \n1          1            1727 W 67th St    505000.0   \n2          2            28093 Pine Ave    140000.0   \n3          3         10750 Braddock Dr   1775000.0   \n4          4         7415 O Donovan Rd   1175000.0   \n...      ...                       ...         ...   \n47434  47434        2409 Florence Blvd    159000.0   \n47435  47435  1085 Tasman Dr SPACE 818    255000.0   \n47436  47436   1338 N Orange Grove Ave   2300000.0   \n47437  47437         9996 Fan Shell Ln    500000.0   \n47438  47438           4552 Howard Ave    760000.0   \n\n                                                 Summary                Type  \\\n0      540 Pine Ln, Los Altos, CA 94022 is a single f...        SingleFamily   \n1      HURRY, HURRY.......Great house 3 bed and 2 bat...        SingleFamily   \n2      'THE PERFECT CABIN TO FLIP!  Strawberry deligh...        SingleFamily   \n3      Rare 2-story Gated 5 bedroom Modern Mediterran...        SingleFamily   \n4      Beautiful 200 acre ranch land with several pas...          VacantLand   \n...                                                  ...                 ...   \n47434  2409 Florence Blvd, Blythe, CA 92225 is a sing...        SingleFamily   \n47435  LOOK AT THIS PRICE $30k PRICE REDUCTION, USE T...  MobileManufactured   \n47436  Beautifully restored historic Colonial Revival...        SingleFamily   \n47437  Great opportunity to live in the friendly gate...        SingleFamily   \n47438  This fantastic single story home is on a large...        SingleFamily   \n\n       Year built                                       Heating  \\\n0          1969.0  Heating - 2+ Zones, Central Forced Air - Gas   \n1          1926.0                                   Combination   \n2          1958.0                                    Forced air   \n3          1947.0                                       Central   \n4             NaN                                           NaN   \n...           ...                                           ...   \n47434      1965.0                                       Central   \n47435      1999.0                       Central Forced Air, Gas   \n47436      1919.0                                       Central   \n47437      2017.0                                       Central   \n47438      1948.0                                           NaN   \n\n                                                 Cooling  \\\n0        Multi-Zone, Central AC, Whole House / Attic Fan   \n1      Wall/Window Unit(s), Evaporative Cooling, See ...   \n2                                                    NaN   \n3                                            Central Air   \n4                                                    NaN   \n...                                                  ...   \n47434                                        Central Air   \n47435                                         Central AC   \n47436                                        Central Air   \n47437                                        Central Air   \n47438                                                NaN   \n\n                                             Parking      Lot  ...  \\\n0                 Garage, Garage - Attached, Covered      1.0  ...   \n1                           Detached Carport, Garage   4047.0  ...   \n2                                           0 spaces   9147.0  ...   \n3      Detached Carport, Driveway, Garage - Two Door      NaN  ...   \n4                                           0 spaces      NaN  ...   \n...                                              ...      ...  ...   \n47434                               Carport, Covered  20908.8  ...   \n47435                                        Carport      NaN  ...   \n47436                                       Driveway   6756.0  ...   \n47437    Garage, Carport, Garage - Attached, Covered   5945.0  ...   \n47438                              Garage - Attached   8250.0  ...   \n\n                                    Parking features  Tax assessed value  \\\n0                 Garage, Garage - Attached, Covered            886486.0   \n1                           Detached Carport, Garage            505000.0   \n2                                                NaN             49627.0   \n3      Detached Carport, Driveway, Garage - Two Door           1775000.0   \n4                                                NaN                 NaN   \n...                                              ...                 ...   \n47434                               Carport, Covered            125049.0   \n47435                                        Carport             68924.0   \n47436                                       Driveway            578000.0   \n47437    Garage, Carport, Garage - Attached, Covered            484696.0   \n47438                              Garage - Attached             49671.0   \n\n       Annual tax amount   Listed On  Listed Price  Last Sold On  \\\n0                12580.0  2019-10-24     4198000.0           NaN   \n1                 6253.0  2019-10-16      525000.0    2019-08-30   \n2                  468.0  2019-08-25      180000.0           NaN   \n3                20787.0  2019-10-24     1895000.0    2016-08-30   \n4                    NaN  2019-06-07     1595000.0    2016-06-27   \n...                  ...         ...           ...           ...   \n47434             1298.0  2020-09-04      155000.0           NaN   \n47435              721.0  2020-07-23      295900.0           NaN   \n47436             7211.0  2020-12-01     2295000.0    2015-05-01   \n47437             7627.0  2020-08-01      499888.0    2020-08-24   \n47438             1089.0  2020-11-02      748000.0           NaN   \n\n      Last Sold Price          City    Zip  State  \n0                 NaN     Los Altos  94022     CA  \n1            328000.0   Los Angeles  90047     CA  \n2                 NaN    Strawberry  95375     CA  \n3           1500000.0   Culver City  90230     CA  \n4            900000.0       Creston  93432     CA  \n...               ...           ...    ...    ...  \n47434             NaN        Blythe  92225     CA  \n47435             NaN     Sunnyvale  94089     CA  \n47436       2150000.0   Los Angeles  90046     CA  \n47437        500000.0     Elk Grove  95757     CA  \n47438             NaN  Los Alamitos  90720     CA  \n\n[47439 rows x 41 columns]",
      "text/html": "<div>\n<style scoped>\n    .dataframe tbody tr th:only-of-type {\n        vertical-align: middle;\n    }\n\n    .dataframe tbody tr th {\n        vertical-align: top;\n    }\n\n    .dataframe thead th {\n        text-align: right;\n    }\n</style>\n<table border=\"1\" class=\"dataframe\">\n  <thead>\n    <tr style=\"text-align: right;\">\n      <th></th>\n      <th>Id</th>\n      <th>Address</th>\n      <th>Sold Price</th>\n      <th>Summary</th>\n      <th>Type</th>\n      <th>Year built</th>\n      <th>Heating</th>\n      <th>Cooling</th>\n      <th>Parking</th>\n      <th>Lot</th>\n      <th>...</th>\n      <th>Parking features</th>\n      <th>Tax assessed value</th>\n      <th>Annual tax amount</th>\n      <th>Listed On</th>\n      <th>Listed Price</th>\n      <th>Last Sold On</th>\n      <th>Last Sold Price</th>\n      <th>City</th>\n      <th>Zip</th>\n      <th>State</th>\n    </tr>\n  </thead>\n  <tbody>\n    <tr>\n      <th>0</th>\n      <td>0</td>\n      <td>540 Pine Ln</td>\n      <td>3825000.0</td>\n      <td>540 Pine Ln, Los Altos, CA 94022 is a single f...</td>\n      <td>SingleFamily</td>\n      <td>1969.0</td>\n      <td>Heating - 2+ Zones, Central Forced Air - Gas</td>\n      <td>Multi-Zone, Central AC, Whole House / Attic Fan</td>\n      <td>Garage, Garage - Attached, Covered</td>\n      <td>1.0</td>\n      <td>...</td>\n      <td>Garage, Garage - Attached, Covered</td>\n      <td>886486.0</td>\n      <td>12580.0</td>\n      <td>2019-10-24</td>\n      <td>4198000.0</td>\n      <td>NaN</td>\n      <td>NaN</td>\n      <td>Los Altos</td>\n      <td>94022</td>\n      <td>CA</td>\n    </tr>\n    <tr>\n      <th>1</th>\n      <td>1</td>\n      <td>1727 W 67th St</td>\n      <td>505000.0</td>\n      <td>HURRY, HURRY.......Great house 3 bed and 2 bat...</td>\n      <td>SingleFamily</td>\n      <td>1926.0</td>\n      <td>Combination</td>\n      <td>Wall/Window Unit(s), Evaporative Cooling, See ...</td>\n      <td>Detached Carport, Garage</td>\n      <td>4047.0</td>\n      <td>...</td>\n      <td>Detached Carport, Garage</td>\n      <td>505000.0</td>\n      <td>6253.0</td>\n      <td>2019-10-16</td>\n      <td>525000.0</td>\n      <td>2019-08-30</td>\n      <td>328000.0</td>\n      <td>Los Angeles</td>\n      <td>90047</td>\n      <td>CA</td>\n    </tr>\n    <tr>\n      <th>2</th>\n      <td>2</td>\n      <td>28093 Pine Ave</td>\n      <td>140000.0</td>\n      <td>'THE PERFECT CABIN TO FLIP!  Strawberry deligh...</td>\n      <td>SingleFamily</td>\n      <td>1958.0</td>\n      <td>Forced air</td>\n      <td>NaN</td>\n      <td>0 spaces</td>\n      <td>9147.0</td>\n      <td>...</td>\n      <td>NaN</td>\n      <td>49627.0</td>\n      <td>468.0</td>\n      <td>2019-08-25</td>\n      <td>180000.0</td>\n      <td>NaN</td>\n      <td>NaN</td>\n      <td>Strawberry</td>\n      <td>95375</td>\n      <td>CA</td>\n    </tr>\n    <tr>\n      <th>3</th>\n      <td>3</td>\n      <td>10750 Braddock Dr</td>\n      <td>1775000.0</td>\n      <td>Rare 2-story Gated 5 bedroom Modern Mediterran...</td>\n      <td>SingleFamily</td>\n      <td>1947.0</td>\n      <td>Central</td>\n      <td>Central Air</td>\n      <td>Detached Carport, Driveway, Garage - Two Door</td>\n      <td>NaN</td>\n      <td>...</td>\n      <td>Detached Carport, Driveway, Garage - Two Door</td>\n      <td>1775000.0</td>\n      <td>20787.0</td>\n      <td>2019-10-24</td>\n      <td>1895000.0</td>\n      <td>2016-08-30</td>\n      <td>1500000.0</td>\n      <td>Culver City</td>\n      <td>90230</td>\n      <td>CA</td>\n    </tr>\n    <tr>\n      <th>4</th>\n      <td>4</td>\n      <td>7415 O Donovan Rd</td>\n      <td>1175000.0</td>\n      <td>Beautiful 200 acre ranch land with several pas...</td>\n      <td>VacantLand</td>\n      <td>NaN</td>\n      <td>NaN</td>\n      <td>NaN</td>\n      <td>0 spaces</td>\n      <td>NaN</td>\n      <td>...</td>\n      <td>NaN</td>\n      <td>NaN</td>\n      <td>NaN</td>\n      <td>2019-06-07</td>\n      <td>1595000.0</td>\n      <td>2016-06-27</td>\n      <td>900000.0</td>\n      <td>Creston</td>\n      <td>93432</td>\n      <td>CA</td>\n    </tr>\n    <tr>\n      <th>...</th>\n      <td>...</td>\n      <td>...</td>\n      <td>...</td>\n      <td>...</td>\n      <td>...</td>\n      <td>...</td>\n      <td>...</td>\n      <td>...</td>\n      <td>...</td>\n      <td>...</td>\n      <td>...</td>\n      <td>...</td>\n      <td>...</td>\n      <td>...</td>\n      <td>...</td>\n      <td>...</td>\n      <td>...</td>\n      <td>...</td>\n      <td>...</td>\n      <td>...</td>\n      <td>...</td>\n    </tr>\n    <tr>\n      <th>47434</th>\n      <td>47434</td>\n      <td>2409 Florence Blvd</td>\n      <td>159000.0</td>\n      <td>2409 Florence Blvd, Blythe, CA 92225 is a sing...</td>\n      <td>SingleFamily</td>\n      <td>1965.0</td>\n      <td>Central</td>\n      <td>Central Air</td>\n      <td>Carport, Covered</td>\n      <td>20908.8</td>\n      <td>...</td>\n      <td>Carport, Covered</td>\n      <td>125049.0</td>\n      <td>1298.0</td>\n      <td>2020-09-04</td>\n      <td>155000.0</td>\n      <td>NaN</td>\n      <td>NaN</td>\n      <td>Blythe</td>\n      <td>92225</td>\n      <td>CA</td>\n    </tr>\n    <tr>\n      <th>47435</th>\n      <td>47435</td>\n      <td>1085 Tasman Dr SPACE 818</td>\n      <td>255000.0</td>\n      <td>LOOK AT THIS PRICE $30k PRICE REDUCTION, USE T...</td>\n      <td>MobileManufactured</td>\n      <td>1999.0</td>\n      <td>Central Forced Air, Gas</td>\n      <td>Central AC</td>\n      <td>Carport</td>\n      <td>NaN</td>\n      <td>...</td>\n      <td>Carport</td>\n      <td>68924.0</td>\n      <td>721.0</td>\n      <td>2020-07-23</td>\n      <td>295900.0</td>\n      <td>NaN</td>\n      <td>NaN</td>\n      <td>Sunnyvale</td>\n      <td>94089</td>\n      <td>CA</td>\n    </tr>\n    <tr>\n      <th>47436</th>\n      <td>47436</td>\n      <td>1338 N Orange Grove Ave</td>\n      <td>2300000.0</td>\n      <td>Beautifully restored historic Colonial Revival...</td>\n      <td>SingleFamily</td>\n      <td>1919.0</td>\n      <td>Central</td>\n      <td>Central Air</td>\n      <td>Driveway</td>\n      <td>6756.0</td>\n      <td>...</td>\n      <td>Driveway</td>\n      <td>578000.0</td>\n      <td>7211.0</td>\n      <td>2020-12-01</td>\n      <td>2295000.0</td>\n      <td>2015-05-01</td>\n      <td>2150000.0</td>\n      <td>Los Angeles</td>\n      <td>90046</td>\n      <td>CA</td>\n    </tr>\n    <tr>\n      <th>47437</th>\n      <td>47437</td>\n      <td>9996 Fan Shell Ln</td>\n      <td>500000.0</td>\n      <td>Great opportunity to live in the friendly gate...</td>\n      <td>SingleFamily</td>\n      <td>2017.0</td>\n      <td>Central</td>\n      <td>Central Air</td>\n      <td>Garage, Carport, Garage - Attached, Covered</td>\n      <td>5945.0</td>\n      <td>...</td>\n      <td>Garage, Carport, Garage - Attached, Covered</td>\n      <td>484696.0</td>\n      <td>7627.0</td>\n      <td>2020-08-01</td>\n      <td>499888.0</td>\n      <td>2020-08-24</td>\n      <td>500000.0</td>\n      <td>Elk Grove</td>\n      <td>95757</td>\n      <td>CA</td>\n    </tr>\n    <tr>\n      <th>47438</th>\n      <td>47438</td>\n      <td>4552 Howard Ave</td>\n      <td>760000.0</td>\n      <td>This fantastic single story home is on a large...</td>\n      <td>SingleFamily</td>\n      <td>1948.0</td>\n      <td>NaN</td>\n      <td>NaN</td>\n      <td>Garage - Attached</td>\n      <td>8250.0</td>\n      <td>...</td>\n      <td>Garage - Attached</td>\n      <td>49671.0</td>\n      <td>1089.0</td>\n      <td>2020-11-02</td>\n      <td>748000.0</td>\n      <td>NaN</td>\n      <td>NaN</td>\n      <td>Los Alamitos</td>\n      <td>90720</td>\n      <td>CA</td>\n    </tr>\n  </tbody>\n</table>\n<p>47439 rows × 41 columns</p>\n</div>"
     },
     "execution_count": 77,
     "metadata": {},
     "output_type": "execute_result"
    }
   ],
   "source": [
    "print(f\"DataFrame with shape {df.shape} and columns {df.columns}.\")\n",
    "df.to_csv('data/housing_copy.csv', index=False)  # we don't want to write the index as a column\n",
    "df  # you must print(df) if you are not using a Jupyter notebook"
   ]
  },
  {
   "cell_type": "markdown",
   "id": "671c877d30f8b59d",
   "metadata": {
    "collapsed": false
   },
   "source": [
    "## Viewing DataFrames\n",
    "\n",
    "We can visualize the first and last rows of a `DataFrame` with the `head` and `tail` methods, respectively. By default, they will return the first and last 5 rows, but we can specify the number of rows to return."
   ]
  },
  {
   "cell_type": "code",
   "execution_count": 78,
   "id": "2dc6647275f5f098",
   "metadata": {
    "collapsed": false,
    "ExecuteTime": {
     "end_time": "2024-10-01T09:46:23.786163400Z",
     "start_time": "2024-10-01T09:46:23.768062100Z"
    }
   },
   "outputs": [
    {
     "name": "stdout",
     "output_type": "stream",
     "text": [
      "First 2 rows:\n",
      "   Id         Address  Sold Price  \\\n",
      "0   0     540 Pine Ln   3825000.0   \n",
      "1   1  1727 W 67th St    505000.0   \n",
      "\n",
      "                                             Summary          Type  \\\n",
      "0  540 Pine Ln, Los Altos, CA 94022 is a single f...  SingleFamily   \n",
      "1  HURRY, HURRY.......Great house 3 bed and 2 bat...  SingleFamily   \n",
      "\n",
      "   Year built                                       Heating  \\\n",
      "0      1969.0  Heating - 2+ Zones, Central Forced Air - Gas   \n",
      "1      1926.0                                   Combination   \n",
      "\n",
      "                                             Cooling  \\\n",
      "0    Multi-Zone, Central AC, Whole House / Attic Fan   \n",
      "1  Wall/Window Unit(s), Evaporative Cooling, See ...   \n",
      "\n",
      "                              Parking     Lot  ...  \\\n",
      "0  Garage, Garage - Attached, Covered     1.0  ...   \n",
      "1            Detached Carport, Garage  4047.0  ...   \n",
      "\n",
      "                     Parking features  Tax assessed value  Annual tax amount  \\\n",
      "0  Garage, Garage - Attached, Covered            886486.0            12580.0   \n",
      "1            Detached Carport, Garage            505000.0             6253.0   \n",
      "\n",
      "    Listed On  Listed Price  Last Sold On Last Sold Price         City    Zip  \\\n",
      "0  2019-10-24     4198000.0           NaN             NaN    Los Altos  94022   \n",
      "1  2019-10-16      525000.0    2019-08-30        328000.0  Los Angeles  90047   \n",
      "\n",
      "   State  \n",
      "0     CA  \n",
      "1     CA  \n",
      "\n",
      "[2 rows x 41 columns]\n",
      "Last 2 rows:\n",
      "          Id            Address  Sold Price  \\\n",
      "47437  47437  9996 Fan Shell Ln    500000.0   \n",
      "47438  47438    4552 Howard Ave    760000.0   \n",
      "\n",
      "                                                 Summary          Type  \\\n",
      "47437  Great opportunity to live in the friendly gate...  SingleFamily   \n",
      "47438  This fantastic single story home is on a large...  SingleFamily   \n",
      "\n",
      "       Year built  Heating      Cooling  \\\n",
      "47437      2017.0  Central  Central Air   \n",
      "47438      1948.0      NaN          NaN   \n",
      "\n",
      "                                           Parking     Lot  ...  \\\n",
      "47437  Garage, Carport, Garage - Attached, Covered  5945.0  ...   \n",
      "47438                            Garage - Attached  8250.0  ...   \n",
      "\n",
      "                                  Parking features  Tax assessed value  \\\n",
      "47437  Garage, Carport, Garage - Attached, Covered            484696.0   \n",
      "47438                            Garage - Attached             49671.0   \n",
      "\n",
      "       Annual tax amount   Listed On  Listed Price  Last Sold On  \\\n",
      "47437             7627.0  2020-08-01      499888.0    2020-08-24   \n",
      "47438             1089.0  2020-11-02      748000.0           NaN   \n",
      "\n",
      "      Last Sold Price          City    Zip  State  \n",
      "47437        500000.0     Elk Grove  95757     CA  \n",
      "47438             NaN  Los Alamitos  90720     CA  \n",
      "\n",
      "[2 rows x 41 columns]\n"
     ]
    }
   ],
   "source": [
    "print(f\"First 2 rows:\\n{df.head(2)}\")\n",
    "print(f\"Last 2 rows:\\n{df.tail(2)}\")"
   ]
  },
  {
   "cell_type": "markdown",
   "id": "154a1e6d65274727",
   "metadata": {
    "collapsed": false
   },
   "source": [
    "The `info` method provides a summary of the `DataFrame`, including the number of non-null values in each column and the data type of each column."
   ]
  },
  {
   "cell_type": "code",
   "execution_count": 79,
   "id": "86aac469636156b0",
   "metadata": {
    "collapsed": false,
    "ExecuteTime": {
     "end_time": "2024-10-01T09:46:23.855689800Z",
     "start_time": "2024-10-01T09:46:23.773310900Z"
    }
   },
   "outputs": [
    {
     "name": "stdout",
     "output_type": "stream",
     "text": [
      "<class 'pandas.core.frame.DataFrame'>\n",
      "RangeIndex: 47439 entries, 0 to 47438\n",
      "Data columns (total 41 columns):\n",
      " #   Column                       Non-Null Count  Dtype  \n",
      "---  ------                       --------------  -----  \n",
      " 0   Id                           47439 non-null  int64  \n",
      " 1   Address                      47439 non-null  object \n",
      " 2   Sold Price                   47439 non-null  float64\n",
      " 3   Summary                      47085 non-null  object \n",
      " 4   Type                         47439 non-null  object \n",
      " 5   Year built                   46394 non-null  float64\n",
      " 6   Heating                      40587 non-null  object \n",
      " 7   Cooling                      26745 non-null  object \n",
      " 8   Parking                      46065 non-null  object \n",
      " 9   Lot                          33258 non-null  float64\n",
      " 10  Bedrooms                     44567 non-null  object \n",
      " 11  Bathrooms                    43974 non-null  float64\n",
      " 12  Full bathrooms               39574 non-null  float64\n",
      " 13  Total interior livable area  44913 non-null  float64\n",
      " 14  Total spaces                 46523 non-null  float64\n",
      " 15  Garage spaces                46522 non-null  float64\n",
      " 16  Region                       47437 non-null  object \n",
      " 17  Elementary School            42697 non-null  object \n",
      " 18  Elementary School Score      42543 non-null  float64\n",
      " 19  Elementary School Distance   42697 non-null  float64\n",
      " 20  Middle School                30735 non-null  object \n",
      " 21  Middle School Score          30734 non-null  float64\n",
      " 22  Middle School Distance       30735 non-null  float64\n",
      " 23  High School                  42439 non-null  object \n",
      " 24  High School Score            42220 non-null  float64\n",
      " 25  High School Distance         42438 non-null  float64\n",
      " 26  Flooring                     35870 non-null  object \n",
      " 27  Heating features             39746 non-null  object \n",
      " 28  Cooling features             25216 non-null  object \n",
      " 29  Appliances included          33846 non-null  object \n",
      " 30  Laundry features             32828 non-null  object \n",
      " 31  Parking features             42664 non-null  object \n",
      " 32  Tax assessed value           43787 non-null  float64\n",
      " 33  Annual tax amount            43129 non-null  float64\n",
      " 34  Listed On                    47439 non-null  object \n",
      " 35  Listed Price                 47439 non-null  float64\n",
      " 36  Last Sold On                 29673 non-null  object \n",
      " 37  Last Sold Price              29673 non-null  float64\n",
      " 38  City                         47439 non-null  object \n",
      " 39  Zip                          47439 non-null  int64  \n",
      " 40  State                        47439 non-null  object \n",
      "dtypes: float64(18), int64(2), object(21)\n",
      "memory usage: 14.8+ MB\n",
      "None\n"
     ]
    }
   ],
   "source": [
    "print(df.info())"
   ]
  },
  {
   "cell_type": "markdown",
   "id": "18a88fbe824d8ea5",
   "metadata": {
    "collapsed": false
   },
   "source": [
    "The `describe` method generates descriptive statistics of the `DataFrame`, including the count, mean, standard deviation, minimum, maximum, and percentiles only of the numerical columns."
   ]
  },
  {
   "cell_type": "code",
   "execution_count": 80,
   "id": "681094712e151973",
   "metadata": {
    "collapsed": false,
    "ExecuteTime": {
     "end_time": "2024-10-01T09:46:24.651136400Z",
     "start_time": "2024-10-01T09:46:23.817992300Z"
    }
   },
   "outputs": [
    {
     "data": {
      "text/plain": "                 Id    Sold Price    Year built           Lot     Bathrooms  \\\ncount  47439.000000  4.743900e+04  46394.000000  3.325800e+04  43974.000000   \nmean   23719.000000  1.296050e+06   1956.634888  2.353383e+05      2.355642   \nstd    13694.604047  1.694452e+06    145.802456  1.192507e+07      1.188805   \nmin        0.000000  1.005000e+05      0.000000  0.000000e+00      0.000000   \n25%    11859.500000  5.650000e+05   1946.000000  4.991000e+03      2.000000   \n50%    23719.000000  9.600000e+05   1967.000000  6.502000e+03      2.000000   \n75%    35578.500000  1.525000e+06   1989.000000  1.045400e+04      3.000000   \nmax    47438.000000  9.000000e+07   9999.000000  1.897474e+09     24.000000   \n\n       Full bathrooms  Total interior livable area  Total spaces  \\\ncount    39574.000000                 4.491300e+04  46523.000000   \nmean         2.094961                 5.774587e+03      1.567117   \nstd          0.963320                 8.324363e+05      9.011608   \nmin          1.000000                 1.000000e+00    -15.000000   \n25%          2.000000                 1.187000e+03      0.000000   \n50%          2.000000                 1.566000e+03      1.000000   \n75%          2.000000                 2.142000e+03      2.000000   \nmax         17.000000                 1.764164e+08   1000.000000   \n\n       Garage spaces  Elementary School Score  Elementary School Distance  \\\ncount   46522.000000             42543.000000                42697.000000   \nmean        1.491746                 5.720824                    1.152411   \nstd         8.964319                 2.103350                    2.332367   \nmin       -15.000000                 1.000000                    0.000000   \n25%         0.000000                 4.000000                    0.300000   \n50%         1.000000                 6.000000                    0.500000   \n75%         2.000000                 7.000000                    1.000000   \nmax      1000.000000                10.000000                   57.200000   \n\n       Middle School Score  Middle School Distance  High School Score  \\\ncount         30734.000000            30735.000000       42220.000000   \nmean              5.317206                1.691593           6.134344   \nstd               2.002768                2.462879           1.984711   \nmin               1.000000                0.000000           1.000000   \n25%               4.000000                0.600000           5.000000   \n50%               5.000000                1.000000           6.000000   \n75%               7.000000                1.800000           8.000000   \nmax               9.000000               57.200000          10.000000   \n\n       High School Distance  Tax assessed value  Annual tax amount  \\\ncount          42438.000000        4.378700e+04       43129.000000   \nmean               2.410366        7.863118e+05        9956.843817   \nstd                3.596120        1.157796e+06       13884.254976   \nmin                0.000000        0.000000e+00           0.000000   \n25%                0.800000        2.549615e+05        3467.000000   \n50%                1.300000        5.475240e+05        7129.000000   \n75%                2.400000        9.371625e+05       12010.000000   \nmax               73.900000        4.590000e+07      552485.000000   \n\n       Listed Price  Last Sold Price           Zip  \ncount  4.743900e+04     2.967300e+04  47439.000000  \nmean   1.315890e+06     8.078537e+05  93279.178587  \nstd    2.628695e+06     1.177903e+06   2263.459104  \nmin    0.000000e+00     0.000000e+00  85611.000000  \n25%    5.745000e+05     3.350000e+05  90220.000000  \n50%    9.490000e+05     5.980000e+05  94114.000000  \n75%    1.498844e+06     9.500000e+05  95073.000000  \nmax    4.025320e+08     9.000000e+07  96155.000000  ",
      "text/html": "<div>\n<style scoped>\n    .dataframe tbody tr th:only-of-type {\n        vertical-align: middle;\n    }\n\n    .dataframe tbody tr th {\n        vertical-align: top;\n    }\n\n    .dataframe thead th {\n        text-align: right;\n    }\n</style>\n<table border=\"1\" class=\"dataframe\">\n  <thead>\n    <tr style=\"text-align: right;\">\n      <th></th>\n      <th>Id</th>\n      <th>Sold Price</th>\n      <th>Year built</th>\n      <th>Lot</th>\n      <th>Bathrooms</th>\n      <th>Full bathrooms</th>\n      <th>Total interior livable area</th>\n      <th>Total spaces</th>\n      <th>Garage spaces</th>\n      <th>Elementary School Score</th>\n      <th>Elementary School Distance</th>\n      <th>Middle School Score</th>\n      <th>Middle School Distance</th>\n      <th>High School Score</th>\n      <th>High School Distance</th>\n      <th>Tax assessed value</th>\n      <th>Annual tax amount</th>\n      <th>Listed Price</th>\n      <th>Last Sold Price</th>\n      <th>Zip</th>\n    </tr>\n  </thead>\n  <tbody>\n    <tr>\n      <th>count</th>\n      <td>47439.000000</td>\n      <td>4.743900e+04</td>\n      <td>46394.000000</td>\n      <td>3.325800e+04</td>\n      <td>43974.000000</td>\n      <td>39574.000000</td>\n      <td>4.491300e+04</td>\n      <td>46523.000000</td>\n      <td>46522.000000</td>\n      <td>42543.000000</td>\n      <td>42697.000000</td>\n      <td>30734.000000</td>\n      <td>30735.000000</td>\n      <td>42220.000000</td>\n      <td>42438.000000</td>\n      <td>4.378700e+04</td>\n      <td>43129.000000</td>\n      <td>4.743900e+04</td>\n      <td>2.967300e+04</td>\n      <td>47439.000000</td>\n    </tr>\n    <tr>\n      <th>mean</th>\n      <td>23719.000000</td>\n      <td>1.296050e+06</td>\n      <td>1956.634888</td>\n      <td>2.353383e+05</td>\n      <td>2.355642</td>\n      <td>2.094961</td>\n      <td>5.774587e+03</td>\n      <td>1.567117</td>\n      <td>1.491746</td>\n      <td>5.720824</td>\n      <td>1.152411</td>\n      <td>5.317206</td>\n      <td>1.691593</td>\n      <td>6.134344</td>\n      <td>2.410366</td>\n      <td>7.863118e+05</td>\n      <td>9956.843817</td>\n      <td>1.315890e+06</td>\n      <td>8.078537e+05</td>\n      <td>93279.178587</td>\n    </tr>\n    <tr>\n      <th>std</th>\n      <td>13694.604047</td>\n      <td>1.694452e+06</td>\n      <td>145.802456</td>\n      <td>1.192507e+07</td>\n      <td>1.188805</td>\n      <td>0.963320</td>\n      <td>8.324363e+05</td>\n      <td>9.011608</td>\n      <td>8.964319</td>\n      <td>2.103350</td>\n      <td>2.332367</td>\n      <td>2.002768</td>\n      <td>2.462879</td>\n      <td>1.984711</td>\n      <td>3.596120</td>\n      <td>1.157796e+06</td>\n      <td>13884.254976</td>\n      <td>2.628695e+06</td>\n      <td>1.177903e+06</td>\n      <td>2263.459104</td>\n    </tr>\n    <tr>\n      <th>min</th>\n      <td>0.000000</td>\n      <td>1.005000e+05</td>\n      <td>0.000000</td>\n      <td>0.000000e+00</td>\n      <td>0.000000</td>\n      <td>1.000000</td>\n      <td>1.000000e+00</td>\n      <td>-15.000000</td>\n      <td>-15.000000</td>\n      <td>1.000000</td>\n      <td>0.000000</td>\n      <td>1.000000</td>\n      <td>0.000000</td>\n      <td>1.000000</td>\n      <td>0.000000</td>\n      <td>0.000000e+00</td>\n      <td>0.000000</td>\n      <td>0.000000e+00</td>\n      <td>0.000000e+00</td>\n      <td>85611.000000</td>\n    </tr>\n    <tr>\n      <th>25%</th>\n      <td>11859.500000</td>\n      <td>5.650000e+05</td>\n      <td>1946.000000</td>\n      <td>4.991000e+03</td>\n      <td>2.000000</td>\n      <td>2.000000</td>\n      <td>1.187000e+03</td>\n      <td>0.000000</td>\n      <td>0.000000</td>\n      <td>4.000000</td>\n      <td>0.300000</td>\n      <td>4.000000</td>\n      <td>0.600000</td>\n      <td>5.000000</td>\n      <td>0.800000</td>\n      <td>2.549615e+05</td>\n      <td>3467.000000</td>\n      <td>5.745000e+05</td>\n      <td>3.350000e+05</td>\n      <td>90220.000000</td>\n    </tr>\n    <tr>\n      <th>50%</th>\n      <td>23719.000000</td>\n      <td>9.600000e+05</td>\n      <td>1967.000000</td>\n      <td>6.502000e+03</td>\n      <td>2.000000</td>\n      <td>2.000000</td>\n      <td>1.566000e+03</td>\n      <td>1.000000</td>\n      <td>1.000000</td>\n      <td>6.000000</td>\n      <td>0.500000</td>\n      <td>5.000000</td>\n      <td>1.000000</td>\n      <td>6.000000</td>\n      <td>1.300000</td>\n      <td>5.475240e+05</td>\n      <td>7129.000000</td>\n      <td>9.490000e+05</td>\n      <td>5.980000e+05</td>\n      <td>94114.000000</td>\n    </tr>\n    <tr>\n      <th>75%</th>\n      <td>35578.500000</td>\n      <td>1.525000e+06</td>\n      <td>1989.000000</td>\n      <td>1.045400e+04</td>\n      <td>3.000000</td>\n      <td>2.000000</td>\n      <td>2.142000e+03</td>\n      <td>2.000000</td>\n      <td>2.000000</td>\n      <td>7.000000</td>\n      <td>1.000000</td>\n      <td>7.000000</td>\n      <td>1.800000</td>\n      <td>8.000000</td>\n      <td>2.400000</td>\n      <td>9.371625e+05</td>\n      <td>12010.000000</td>\n      <td>1.498844e+06</td>\n      <td>9.500000e+05</td>\n      <td>95073.000000</td>\n    </tr>\n    <tr>\n      <th>max</th>\n      <td>47438.000000</td>\n      <td>9.000000e+07</td>\n      <td>9999.000000</td>\n      <td>1.897474e+09</td>\n      <td>24.000000</td>\n      <td>17.000000</td>\n      <td>1.764164e+08</td>\n      <td>1000.000000</td>\n      <td>1000.000000</td>\n      <td>10.000000</td>\n      <td>57.200000</td>\n      <td>9.000000</td>\n      <td>57.200000</td>\n      <td>10.000000</td>\n      <td>73.900000</td>\n      <td>4.590000e+07</td>\n      <td>552485.000000</td>\n      <td>4.025320e+08</td>\n      <td>9.000000e+07</td>\n      <td>96155.000000</td>\n    </tr>\n  </tbody>\n</table>\n</div>"
     },
     "execution_count": 80,
     "metadata": {},
     "output_type": "execute_result"
    }
   ],
   "source": [
    "df.describe()  # only numerical columns are considered (use print(df.describe()) if you are not using a Jupyter notebook)"
   ]
  },
  {
   "cell_type": "markdown",
   "id": "761a9ffb79548a46",
   "metadata": {
    "collapsed": false
   },
   "source": [
    "## Indexing and selecting data\n",
    "\n",
    "We use `[ ]`  to select a subset of data from a `DataFrame`. The subset can be specified in several ways. If we want to select only one column from a DataFrame, we only need to put its name between the square brackets. The result will be a `Series` since only one column is retrieved. If we want to select multiple columns, we need to pass a list of column names. The result will be a `DataFrame` with the selected columns."
   ]
  },
  {
   "cell_type": "code",
   "execution_count": 81,
   "id": "43c99fabfcc6a263",
   "metadata": {
    "collapsed": false,
    "ExecuteTime": {
     "end_time": "2024-10-01T09:46:24.687634400Z",
     "start_time": "2024-10-01T09:46:24.390839600Z"
    }
   },
   "outputs": [
    {
     "name": "stdout",
     "output_type": "stream",
     "text": [
      "Column 'Sold Price':\n",
      "0        3825000.0\n",
      "1         505000.0\n",
      "2         140000.0\n",
      "3        1775000.0\n",
      "4        1175000.0\n",
      "           ...    \n",
      "47434     159000.0\n",
      "47435     255000.0\n",
      "47436    2300000.0\n",
      "47437     500000.0\n",
      "47438     760000.0\n",
      "Name: Sold Price, Length: 47439, dtype: float64\n",
      "Columns 'Sold Price' and 'City':\n",
      "       Sold Price          City\n",
      "0       3825000.0     Los Altos\n",
      "1        505000.0   Los Angeles\n",
      "2        140000.0    Strawberry\n",
      "3       1775000.0   Culver City\n",
      "4       1175000.0       Creston\n",
      "...           ...           ...\n",
      "47434    159000.0        Blythe\n",
      "47435    255000.0     Sunnyvale\n",
      "47436   2300000.0   Los Angeles\n",
      "47437    500000.0     Elk Grove\n",
      "47438    760000.0  Los Alamitos\n",
      "\n",
      "[47439 rows x 2 columns]\n"
     ]
    }
   ],
   "source": [
    "print(f\"Column 'Sold Price':\\n{df['Sold Price']}\")\n",
    "print(f\"Columns 'Sold Price' and 'City':\\n{df[['Sold Price', 'City']]}\")  # notice the double square brackets (you are passing a list)"
   ]
  },
  {
   "cell_type": "markdown",
   "id": "f5d764355c938576",
   "metadata": {
    "collapsed": false
   },
   "source": [
    "With `Series`, we can get the *i*-th element with a position-based index. If multiple elements are selected, the result will be a `Series`."
   ]
  },
  {
   "cell_type": "code",
   "execution_count": 82,
   "id": "3060c818a1f25aeb",
   "metadata": {
    "collapsed": false,
    "ExecuteTime": {
     "end_time": "2024-10-01T09:46:24.691773Z",
     "start_time": "2024-10-01T09:46:24.390839600Z"
    }
   },
   "outputs": [
    {
     "name": "stdout",
     "output_type": "stream",
     "text": [
      "Value of the first house: 3825000.0\n",
      "Values of the last 3 houses:\n",
      "47436    2300000.0\n",
      "47437     500000.0\n",
      "47438     760000.0\n",
      "Name: Sold Price, dtype: float64\n"
     ]
    }
   ],
   "source": [
    "prices_series = df['Sold Price']\n",
    "print(f\"Value of the first house: {prices_series[0]}\")\n",
    "print(f\"Values of the last 3 houses:\\n{prices_series[-3:]}\")"
   ]
  },
  {
   "cell_type": "markdown",
   "id": "7ddd344eeb3acf87",
   "metadata": {
    "collapsed": false
   },
   "source": [
    "We can use all the slicing operations that we saw in NumPy arrays. *Important*: in this case, the position of the element is used to select the rows (not the index). Notice that the original indexes are kept, so we can use them to access the original rows."
   ]
  },
  {
   "cell_type": "code",
   "execution_count": 83,
   "id": "e682356dd25f9011",
   "metadata": {
    "collapsed": false,
    "ExecuteTime": {
     "end_time": "2024-10-01T09:46:24.695892200Z",
     "start_time": "2024-10-01T09:46:24.390839600Z"
    }
   },
   "outputs": [
    {
     "name": "stdout",
     "output_type": "stream",
     "text": [
      "Value of the cheapest house:\n",
      "3825000.0\n",
      "Value of the most expensive house:\n",
      "90000000.0\n",
      "First 3 cheapest houses (check out their indexes and the original indexes):\n",
      "10882    100500.0\n",
      "9214     101000.0\n",
      "9377     102000.0\n",
      "Name: Sold Price, dtype: float64\n"
     ]
    }
   ],
   "source": [
    "sorted_df_by_price = df.sort_values(by='Sold Price')\n",
    "print(f\"Value of the cheapest house:\\n{sorted_df_by_price['Sold Price'][0]}\")\n",
    "print(f\"Value of the most expensive house:\\n{sorted_df_by_price['Sold Price'].values[-1]}\")\n",
    "print(f\"First 3 cheapest houses (check out their indexes and the original indexes):\\n{sorted_df_by_price['Sold Price'][:3]}\")"
   ]
  },
  {
   "cell_type": "markdown",
   "id": "44878807c931cb",
   "metadata": {
    "collapsed": false
   },
   "source": [
    "We must tell position slicing (previous code) from index slicing. If we want to select rows by their index, we use the `loc` attribute. We can use the index directly or a list of indexes. *Notice*, since `loc` is for label/index indexing, the last index is included in the selection (e.g., `[1:10]` represents label 1 up to 10, both included).\n",
    "\n",
    "On the contrary, if we want to select rows by their position (integer), we use the `iloc` attribute (integer location). *Notice*, since `iloc` is for position indexing, the last index is not included in the selection (e.g., `[1:10]` represents position 1 up to 9).\n",
    "\n",
    "By combining `loc` and `iloc`, we can select rows by index and position at the same time. This allows us to avoid cloning the `DataFrame` everytime we reorder of the dataset (very important for huge datasets). "
   ]
  },
  {
   "cell_type": "code",
   "execution_count": 84,
   "id": "4280fa33e1dac4f7",
   "metadata": {
    "collapsed": false,
    "ExecuteTime": {
     "end_time": "2024-10-01T09:46:24.698416400Z",
     "start_time": "2024-10-01T09:46:24.390839600Z"
    }
   },
   "outputs": [
    {
     "name": "stdout",
     "output_type": "stream",
     "text": [
      "First two houses in the dataset:\n",
      "   Id  Sold Price         City\n",
      "0   0   3825000.0    Los Altos\n",
      "1   1    505000.0  Los Angeles\n",
      "Last two houses in the dataset:\n",
      "          Id  Sold Price          City\n",
      "47437  47437    500000.0     Elk Grove\n",
      "47438  47438    760000.0  Los Alamitos\n",
      "Two cheapest houses in the dataset:\n",
      "          Id  Sold Price        City\n",
      "10882  10882    100500.0  Calipatria\n",
      "9214    9214    101000.0    San Jose\n",
      "Two most expensive houses in the dataset:\n",
      "          Id  Sold Price         City\n",
      "3674    3674  60000000.0  Los Angeles\n",
      "43398  43398  90000000.0       Rialto\n"
     ]
    }
   ],
   "source": [
    "print(f\"First two houses in the dataset:\\n{df.loc[:1][['Id', 'Sold Price', 'City']]}\")  # Notice that the last index (1) is included\n",
    "number_of_houses = df.shape[0]\n",
    "# A comma can be used to select columns: df.loc[rows, columns] == df.loc[rows][columns]\n",
    "print(f\"Last two houses in the dataset:\\n{df.loc[number_of_houses-2:number_of_houses-1, ['Id', 'Sold Price', 'City']]}\")  \n",
    "\n",
    "print(f\"Two cheapest houses in the dataset:\\n{sorted_df_by_price.iloc[:2][['Id', 'Sold Price', 'City']]}\")\n",
    "print(f\"Two most expensive houses in the dataset:\\n{sorted_df_by_price.iloc[-2:][['Id', 'Sold Price', 'City']]}\")"
   ]
  },
  {
   "cell_type": "markdown",
   "id": "7b110beb8143572c",
   "metadata": {
    "collapsed": false
   },
   "source": [
    "## Filtering data\n",
    "\n",
    "As in NumPy, we can filter data in a `DataFrame` based on conditions. We use the square brackets `[ ]` to specify the condition. The result will be a `Series` with boolean values indicating whether the condition is met or not (`True` or `False`). We can use this `Series` to filter the `DataFrame`."
   ]
  },
  {
   "cell_type": "code",
   "execution_count": 85,
   "id": "e65f99d16ae61eb6",
   "metadata": {
    "collapsed": false,
    "ExecuteTime": {
     "end_time": "2024-10-01T09:46:24.714721200Z",
     "start_time": "2024-10-01T09:46:24.405875Z"
    }
   },
   "outputs": [
    {
     "name": "stdout",
     "output_type": "stream",
     "text": [
      "Shape of the condition for houses cheaper than 1M: (47439,)\n",
      "First 5 condition values for houses cheaper than 1M:\n",
      "0    False\n",
      "1     True\n",
      "2     True\n",
      "3    False\n",
      "4    False\n",
      "Name: Sold Price, dtype: bool\n",
      "\n",
      "Type of the condition for houses cheaper than 1M: <class 'pandas.core.series.Series'>\n",
      "First 5 houses cheaper than 1M:\n",
      "    Id  Sold Price          City\n",
      "1    1    505000.0   Los Angeles\n",
      "2    2    140000.0    Strawberry\n",
      "5    5    221000.0      Stockton\n",
      "7    7    480000.0  Taylorsville\n",
      "11  11    810000.0      San Jose\n",
      "Last 5 houses cheaper than 1M:\n",
      "          Id  Sold Price          City\n",
      "47433  47433    165000.0        Fresno\n",
      "47434  47434    159000.0        Blythe\n",
      "47435  47435    255000.0     Sunnyvale\n",
      "47437  47437    500000.0     Elk Grove\n",
      "47438  47438    760000.0  Los Alamitos\n"
     ]
    }
   ],
   "source": [
    "houses_cheaper_than_1M = df['Sold Price'] < 1e6\n",
    "print(f\"Shape of the condition for houses cheaper than 1M: {houses_cheaper_than_1M.shape}\")\n",
    "print(f\"First 5 condition values for houses cheaper than 1M:\\n{houses_cheaper_than_1M.head(5)}\")\n",
    "print(f\"\\nType of the condition for houses cheaper than 1M: {type(houses_cheaper_than_1M)}\")\n",
    "print(f\"First 5 houses cheaper than 1M:\\n{df[houses_cheaper_than_1M][['Id', 'Sold Price', 'City']].head(5)}\")\n",
    "print(f\"Last 5 houses cheaper than 1M:\\n{df[df['Sold Price'] < 1e6][['Id', 'Sold Price', 'City']].tail(5)}\")  # Notice the nested square brackets"
   ]
  },
  {
   "cell_type": "markdown",
   "id": "4930c8468cf1b0f1",
   "metadata": {
    "collapsed": false
   },
   "source": [
    "If you want to apply boolean operations, you must use the bitwise operators: `&` for `and`, `|` for `or`, and `~` for `not`. Be aware of the operator precedence (use parentheses to separate the conditions when necessary)."
   ]
  },
  {
   "cell_type": "code",
   "execution_count": 86,
   "id": "6bbcdd085f686b10",
   "metadata": {
    "collapsed": false,
    "ExecuteTime": {
     "end_time": "2024-10-01T09:46:24.715905800Z",
     "start_time": "2024-10-01T09:46:24.405875Z"
    }
   },
   "outputs": [
    {
     "name": "stdout",
     "output_type": "stream",
     "text": [
      "First 5 houses in Fresno and cheaper than 1M:\n",
      "        Id  Sold Price    City\n",
      "3935  3935    240000.0  Fresno\n",
      "8878  8878    190000.0  Fresno\n",
      "8936  8936    175000.0  Fresno\n",
      "9211  9211    295000.0  Fresno\n",
      "9761  9761    255000.0  Fresno\n"
     ]
    }
   ],
   "source": [
    "houses_in_fresno_and_cheaper_than_1M = (df['City'] == 'Fresno') & (df['Sold Price'] < 1e6)\n",
    "print(f\"First 5 houses in Fresno and cheaper than 1M:\\n{df[houses_in_fresno_and_cheaper_than_1M][['Id', 'Sold Price', 'City']].head(5)}\")"
   ]
  },
  {
   "cell_type": "markdown",
   "id": "5ba42db43a455109",
   "metadata": {
    "collapsed": false
   },
   "source": [
    "We can also filter data using lambda expressions or functions. We use the `apply` method to apply the function to each row or column. The function must return a boolean value."
   ]
  },
  {
   "cell_type": "code",
   "execution_count": 87,
   "id": "95bfae0365de39e9",
   "metadata": {
    "collapsed": false,
    "ExecuteTime": {
     "end_time": "2024-10-01T09:46:24.718248700Z",
     "start_time": "2024-10-01T09:46:24.406985100Z"
    }
   },
   "outputs": [
    {
     "name": "stdout",
     "output_type": "stream",
     "text": [
      "First 5 houses in cities starting with 'C':\n",
      "    Id  Sold Price         City\n",
      "3    3   1775000.0  Culver City\n",
      "4    4   1175000.0      Creston\n",
      "19  19    415000.0      Compton\n",
      "20  20    335000.0      Compton\n",
      "22  22    360000.0     Carlotta\n"
     ]
    }
   ],
   "source": [
    "houses_in_cities_starting_with_n = df['City'].apply(lambda city: city.upper()[0] == 'C')\n",
    "print(f\"First 5 houses in cities starting with 'C':\\n{df[houses_in_cities_starting_with_n][['Id', 'Sold Price', 'City']].head(5)}\")"
   ]
  },
  {
   "cell_type": "markdown",
   "id": "dbb480c3cfa1650b",
   "metadata": {
    "collapsed": false
   },
   "source": [
    "Treating missing values is a common task in data analysis. Pandas provides the `isnull` method to detect missing values. `isnull` of another `Series` returns a `Series` with boolean values indicating whether the value is missing (`True`) or not (`False`). We can use this `Series` to filter the `DataFrame`. `isnull` of a `DataFrame` returns a `DataFrame` with boolean values indicating whether the value is missing."
   ]
  },
  {
   "cell_type": "code",
   "execution_count": 88,
   "id": "c56df4b571df124",
   "metadata": {
    "collapsed": false,
    "ExecuteTime": {
     "end_time": "2024-10-01T09:46:24.719552500Z",
     "start_time": "2024-10-01T09:46:24.407422800Z"
    }
   },
   "outputs": [
    {
     "name": "stdout",
     "output_type": "stream",
     "text": [
      "Number of missing values in the 'Cooling' column: 20694\n",
      "First 5 houses with missing values in the 'Cooling' column:\n",
      "    Id Cooling\n",
      "2    2     NaN\n",
      "4    4     NaN\n",
      "8    8     NaN\n",
      "9    9     NaN\n",
      "12  12     NaN\n",
      "Samples with missing values in the dataset: 47439\n",
      "Number of missing values in the dataset: 260734\n"
     ]
    }
   ],
   "source": [
    "# Find missing values in df\n",
    "missing_values_in_cooling = df['Cooling'].isnull()  # returns a Series with boolean values\n",
    "print(f\"Number of missing values in the 'Cooling' column: {len(df[missing_values_in_cooling])}\")\n",
    "print(f\"First 5 houses with missing values in the 'Cooling' column:\\n{df[missing_values_in_cooling][['Id', 'Cooling']].head(5)}\")\n",
    "all_missing_values = df.isnull()  # returns a DataFrame with boolean values\n",
    "print(f\"Samples with missing values in the dataset: {len(all_missing_values)}\")\n",
    "# Sum all the rows and then the columns. \n",
    "# In Python, booleans can be sum: True is 1 and False is 0. \n",
    "print(f\"Number of missing values in the dataset: {all_missing_values.sum().sum()}\")  "
   ]
  },
  {
   "cell_type": "markdown",
   "id": "e1befe640ff3fc1",
   "metadata": {
    "collapsed": false
   },
   "source": [
    "# ✨ Activity ✨\n",
    "\n",
    "As mentioned, treating missing values is an important task in data science. Set all the missing values in the dataset to the average value of the column if the type is numeric. Otherwise, set it to the mode value. Hint: you may want to take a look at the `fillna` method of the `DataFrame` and `Series` classes. "
   ]
  },
  {
   "cell_type": "code",
   "execution_count": 89,
   "id": "93a4eb30e0a66dcd",
   "metadata": {
    "collapsed": false,
    "ExecuteTime": {
     "end_time": "2024-10-01T09:46:24.721782500Z",
     "start_time": "2024-10-01T09:46:24.407422800Z"
    }
   },
   "outputs": [],
   "source": [
    "# Write your code here\n",
    "\n"
   ]
  },
  {
   "cell_type": "markdown",
   "id": "82e9977fe7c4f95f",
   "metadata": {
    "collapsed": false
   },
   "source": [
    "## Adding new data\n",
    "\n",
    "If we assign a value to a column that does not exist, a new column will be created. All the rows will have the same value. This is called broadcasting."
   ]
  },
  {
   "cell_type": "code",
   "execution_count": 90,
   "id": "cacb3835b059d3fd",
   "metadata": {
    "collapsed": false,
    "ExecuteTime": {
     "end_time": "2024-10-01T09:46:24.723168300Z",
     "start_time": "2024-10-01T09:46:24.408549300Z"
    }
   },
   "outputs": [
    {
     "name": "stdout",
     "output_type": "stream",
     "text": [
      "<class 'pandas.core.frame.DataFrame'>\n",
      "RangeIndex: 47439 entries, 0 to 47438\n",
      "Data columns (total 42 columns):\n",
      " #   Column                       Non-Null Count  Dtype  \n",
      "---  ------                       --------------  -----  \n",
      " 0   Id                           47439 non-null  int64  \n",
      " 1   Address                      47439 non-null  object \n",
      " 2   Sold Price                   47439 non-null  float64\n",
      " 3   Summary                      47085 non-null  object \n",
      " 4   Type                         47439 non-null  object \n",
      " 5   Year built                   46394 non-null  float64\n",
      " 6   Heating                      40587 non-null  object \n",
      " 7   Cooling                      26745 non-null  object \n",
      " 8   Parking                      46065 non-null  object \n",
      " 9   Lot                          33258 non-null  float64\n",
      " 10  Bedrooms                     44567 non-null  object \n",
      " 11  Bathrooms                    43974 non-null  float64\n",
      " 12  Full bathrooms               39574 non-null  float64\n",
      " 13  Total interior livable area  44913 non-null  float64\n",
      " 14  Total spaces                 46523 non-null  float64\n",
      " 15  Garage spaces                46522 non-null  float64\n",
      " 16  Region                       47437 non-null  object \n",
      " 17  Elementary School            42697 non-null  object \n",
      " 18  Elementary School Score      42543 non-null  float64\n",
      " 19  Elementary School Distance   42697 non-null  float64\n",
      " 20  Middle School                30735 non-null  object \n",
      " 21  Middle School Score          30734 non-null  float64\n",
      " 22  Middle School Distance       30735 non-null  float64\n",
      " 23  High School                  42439 non-null  object \n",
      " 24  High School Score            42220 non-null  float64\n",
      " 25  High School Distance         42438 non-null  float64\n",
      " 26  Flooring                     35870 non-null  object \n",
      " 27  Heating features             39746 non-null  object \n",
      " 28  Cooling features             25216 non-null  object \n",
      " 29  Appliances included          33846 non-null  object \n",
      " 30  Laundry features             32828 non-null  object \n",
      " 31  Parking features             42664 non-null  object \n",
      " 32  Tax assessed value           43787 non-null  float64\n",
      " 33  Annual tax amount            43129 non-null  float64\n",
      " 34  Listed On                    47439 non-null  object \n",
      " 35  Listed Price                 47439 non-null  float64\n",
      " 36  Last Sold On                 29673 non-null  object \n",
      " 37  Last Sold Price              29673 non-null  float64\n",
      " 38  City                         47439 non-null  object \n",
      " 39  Zip                          47439 non-null  int64  \n",
      " 40  State                        47439 non-null  object \n",
      " 41  Sold                         47439 non-null  bool   \n",
      "dtypes: bool(1), float64(18), int64(2), object(21)\n",
      "memory usage: 14.9+ MB\n",
      "DataFrame with the new column 'Sold':\n",
      "None\n"
     ]
    }
   ],
   "source": [
    "df['Sold'] = True  # create a new column with all the values set to True\n",
    "print(f\"DataFrame with the new column 'Sold':\\n{df.info()}\")"
   ]
  },
  {
   "cell_type": "markdown",
   "id": "67836b67cd2254a1",
   "metadata": {
    "collapsed": false
   },
   "source": [
    "We can add a new column with different values for each row by setting a `Series` as the value of the new column. The `Series` must have the same length as the `DataFrame`. Remember how powerful the `apply` method is. We can use it to create a new column based on the values of other columns."
   ]
  },
  {
   "cell_type": "code",
   "execution_count": 91,
   "id": "7b8a842729bb8549",
   "metadata": {
    "collapsed": false,
    "ExecuteTime": {
     "end_time": "2024-10-01T09:46:25.435178200Z",
     "start_time": "2024-10-01T09:46:24.408687700Z"
    }
   },
   "outputs": [
    {
     "name": "stdout",
     "output_type": "stream",
     "text": [
      "Number of cheap houses in Fresno: 132.\n",
      "Number of unique values of the 'Flooring' column: 1348.\n",
      "Number houses containing 'Laminate' in the 'Flooring' column: 400.\n",
      "First 5 houses with different values of the 'Listed Price' and 'Increased Price' columns:\n",
      "    Listed Price  Increased Price  Annual tax amount  \\\n",
      "10     1428000.0        1570800.0              904.0   \n",
      "13      565000.0         621500.0             5734.0   \n",
      "14      187500.0         206250.0             1586.0   \n",
      "17      888000.0         976800.0             3125.0   \n",
      "19      430000.0         473000.0             3416.0   \n",
      "\n",
      "                              Flooring  \n",
      "10                      Tile, Laminate  \n",
      "13                      Laminate, Tile  \n",
      "14            Laminate, Linoleum/Vinyl  \n",
      "17  Carpet, Laminate, Linoleum / Vinyl  \n",
      "19                            Laminate  \n"
     ]
    }
   ],
   "source": [
    "# create a new column indicating whether the 'Sold Price' is lower than the average and the 'City' is 'Fresno'\n",
    "df['Cheap House in Fresno'] = (df['Sold Price'] < df['Sold Price'].mean()) & (df['City'] == 'Fresno')\n",
    "print(f\"Number of cheap houses in Fresno: {df['Cheap House in Fresno'].sum()}.\")\n",
    "# there are many different types of flooring, some of the contain the word 'laminate'\n",
    "print(f\"Number of unique values of the 'Flooring' column: {len(df['Flooring'].unique())}.\")\n",
    "print(f\"Number houses containing 'Laminate' in the 'Flooring' column: \"\n",
    "      f\"{len([flooring for flooring in df['Flooring'].unique() if isinstance(flooring, str) and 'laminate' in flooring.lower()])}.\")\n",
    "# potentially, those houses with laminate flooring and annual tax amount below 10,000 USD could be increased in 10%\n",
    "df['Increased Price'] = df.apply(lambda row: row['Listed Price'] * 1.1 \\\n",
    "    if isinstance(row['Flooring'], str) and 'laminate' in row['Flooring'].lower() and row['Annual tax amount'] < 1e4 \\\n",
    "    else row['Listed Price'], axis=1)  # axis=1 means that DataFrame's columns are passed as Series to the lambda function (axis=0 passes indexes (rows))\n",
    "# Show the listed price and increased price of the first 5 houses with different values of the two columns\n",
    "print(f\"First 5 houses with different values of the 'Listed Price' and 'Increased Price' columns:\\n\"\n",
    "      f\"{df[df['Listed Price'] != df['Increased Price']][['Listed Price', 'Increased Price', 'Annual tax amount', 'Flooring']].head(5)}\")"
   ]
  },
  {
   "cell_type": "markdown",
   "id": "fe96536f32417a51",
   "metadata": {
    "collapsed": false
   },
   "source": [
    "The `concat` method can be used to add new columns or new rows. "
   ]
  },
  {
   "cell_type": "code",
   "execution_count": 92,
   "id": "d46e07517b01bde0",
   "metadata": {
    "collapsed": false,
    "ExecuteTime": {
     "end_time": "2024-10-01T09:46:25.437566900Z",
     "start_time": "2024-10-01T09:46:24.790844Z"
    }
   },
   "outputs": [
    {
     "name": "stdout",
     "output_type": "stream",
     "text": [
      "Last three houses:\n",
      "          Id            Address  Sold Price  \\\n",
      "47437  47437  9996 Fan Shell Ln    500000.0   \n",
      "47438  47438    4552 Howard Ave    760000.0   \n",
      "47439  47439                NaN   1000000.0   \n",
      "\n",
      "                                                 Summary          Type  \\\n",
      "47437  Great opportunity to live in the friendly gate...  SingleFamily   \n",
      "47438  This fantastic single story home is on a large...  SingleFamily   \n",
      "47439                                                NaN           NaN   \n",
      "\n",
      "       Year built  Heating      Cooling  \\\n",
      "47437      2017.0  Central  Central Air   \n",
      "47438      1948.0      NaN          NaN   \n",
      "47439         NaN      NaN      Central   \n",
      "\n",
      "                                           Parking     Lot  ...   Listed On  \\\n",
      "47437  Garage, Carport, Garage - Attached, Covered  5945.0  ...  2020-08-01   \n",
      "47438                            Garage - Attached  8250.0  ...  2020-11-02   \n",
      "47439                                          NaN     NaN  ...         NaN   \n",
      "\n",
      "       Listed Price  Last Sold On  Last Sold Price          City      Zip  \\\n",
      "47437      499888.0    2020-08-24         500000.0     Elk Grove  95757.0   \n",
      "47438      748000.0           NaN              NaN  Los Alamitos  90720.0   \n",
      "47439     1100000.0           NaN              NaN        Fresno      NaN   \n",
      "\n",
      "      State   Sold  Cheap House in Fresno  Increased Price  \n",
      "47437    CA   True                  False         549876.8  \n",
      "47438    CA   True                  False         748000.0  \n",
      "47439   NaN  False                   True        1100000.0  \n",
      "\n",
      "[3 rows x 44 columns]\n"
     ]
    }
   ],
   "source": [
    "# Add a new row to the dataframe\n",
    "new_house = pd.DataFrame({'Id': max(df['Id'])+1, 'Sold Price': 1e6, 'Listed Price': 1.1e6, 'City': 'Fresno', 'Cooling': 'Central', 'Flooring': 'Laminate', 'Annual tax amount': 8000, 'Sold': False, 'Cheap House in Fresno': True, 'Increased Price': 1.1e6}, index=[max(df.index)+1])\n",
    "df = pd.concat([df, new_house], axis=0)  # axis=0 means that we are concatenating rows\n",
    "print(f\"Last three houses:\\n{df.tail(3)}\")"
   ]
  },
  {
   "cell_type": "markdown",
   "id": "af631d9939d51850",
   "metadata": {
    "collapsed": false
   },
   "source": [
    "## Removing data\n",
    "\n",
    "We can remove entire columns and rows using the `drop` method. To remove a column, we must specify the column name and the axis (`axis=1`). To remove a row, we must specify the index and the axis (`axis=0`, by default). Multiple columns and rows could be removed. The `inplace` indicates whether we want to modify the `DataFrame` or return a new one (by default, `inplace=False`). \n",
    "  "
   ]
  },
  {
   "cell_type": "code",
   "execution_count": 93,
   "id": "cc10a635178ef68a",
   "metadata": {
    "collapsed": false,
    "ExecuteTime": {
     "end_time": "2024-10-01T09:46:25.480924500Z",
     "start_time": "2024-10-01T09:46:24.827661Z"
    }
   },
   "outputs": [
    {
     "name": "stdout",
     "output_type": "stream",
     "text": [
      "Do the 'Increased Price' and 'Cheap House in Fresno' columns exist in new_df? False.\n",
      "Do the 'Increased Price' and 'Cheap House in Fresno' columns still exist in df? False.\n",
      "Last three houses:\n",
      "          Id                  Address  Sold Price  \\\n",
      "47436  47436  1338 N Orange Grove Ave   2300000.0   \n",
      "47437  47437        9996 Fan Shell Ln    500000.0   \n",
      "47438  47438          4552 Howard Ave    760000.0   \n",
      "\n",
      "                                                 Summary          Type  \\\n",
      "47436  Beautifully restored historic Colonial Revival...  SingleFamily   \n",
      "47437  Great opportunity to live in the friendly gate...  SingleFamily   \n",
      "47438  This fantastic single story home is on a large...  SingleFamily   \n",
      "\n",
      "       Year built  Heating      Cooling  \\\n",
      "47436      1919.0  Central  Central Air   \n",
      "47437      2017.0  Central  Central Air   \n",
      "47438      1948.0      NaN          NaN   \n",
      "\n",
      "                                           Parking     Lot  ...  \\\n",
      "47436                                     Driveway  6756.0  ...   \n",
      "47437  Garage, Carport, Garage - Attached, Covered  5945.0  ...   \n",
      "47438                            Garage - Attached  8250.0  ...   \n",
      "\n",
      "      Tax assessed value  Annual tax amount   Listed On  Listed Price  \\\n",
      "47436           578000.0             7211.0  2020-12-01     2295000.0   \n",
      "47437           484696.0             7627.0  2020-08-01      499888.0   \n",
      "47438            49671.0             1089.0  2020-11-02      748000.0   \n",
      "\n",
      "       Last Sold On  Last Sold Price          City      Zip  State  Sold  \n",
      "47436    2015-05-01        2150000.0   Los Angeles  90046.0     CA  True  \n",
      "47437    2020-08-24         500000.0     Elk Grove  95757.0     CA  True  \n",
      "47438           NaN              NaN  Los Alamitos  90720.0     CA  True  \n",
      "\n",
      "[3 rows x 42 columns]\n"
     ]
    }
   ],
   "source": [
    "# remove the column 'Increased Price' and 'Cheap House in Fresno' without modifying the dataframe\n",
    "new_df = df.drop(['Increased Price', 'Cheap House in Fresno'], axis=1, inplace=False)  # remove the column 'Increased Price' without modifying the dataframe\n",
    "print(f\"Do the 'Increased Price' and 'Cheap House in Fresno' columns exist in new_df? \"\n",
    "      f\"{'Increased Price' in new_df.columns and 'Cheap House in Fresno' in new_df.columns}.\")\n",
    "# remove the two previous columns from df, using drop and del\n",
    "df.drop('Increased Price', axis=1, inplace=True)\n",
    "del df['Cheap House in Fresno']  # the del operator can also be used to remove columns\n",
    "print(f\"Do the 'Increased Price' and 'Cheap House in Fresno' columns still exist in df? \"\n",
    "      f\"{'Increased Price' in df.columns and 'Cheap House in Fresno' in df.columns}.\")\n",
    "df.drop([max(df.index)], axis=0, inplace=True)  # remove the last row added above\n",
    "print(f\"Last three houses:\\n{df.tail(3)}\")"
   ]
  },
  {
   "cell_type": "markdown",
   "id": "a9104902d20b5e27",
   "metadata": {
    "collapsed": false
   },
   "source": [
    "`drop` can be used to remove rows based on conditions. To do that, we can filter the dataframe on the condition and then use the `index` attribute to select the rows to remove. "
   ]
  },
  {
   "cell_type": "code",
   "execution_count": 94,
   "id": "71c3a04f3f9bd0bc",
   "metadata": {
    "collapsed": false,
    "ExecuteTime": {
     "end_time": "2024-10-01T09:46:25.780118500Z",
     "start_time": "2024-10-01T09:46:24.942285Z"
    }
   },
   "outputs": [
    {
     "name": "stdout",
     "output_type": "stream",
     "text": [
      "Number of houses with 'City' equal to 'Fresno' and 'Cooling' equal to 'Central': 95.\n",
      "Number of houses with 'City' equal to 'Fresno' and 'Cooling' equal to 'Central': 0.\n"
     ]
    }
   ],
   "source": [
    "# get the rows with 'City' equal to 'Fresno' and 'Cooling' equal to 'Central'\n",
    "fresno_central_cooling_df = df[(df['City'] == 'Fresno') & (df['Cooling'] == 'Central')]\n",
    "print(f\"Number of houses with 'City' equal to 'Fresno' and 'Cooling' equal to 'Central': {len(fresno_central_cooling_df)}.\")\n",
    "# remove the rows with 'City' equal to 'Fresno' and 'Cooling' equal to 'Central'\n",
    "df.drop(fresno_central_cooling_df.index, axis=0, inplace=True)\n",
    "print(f\"Number of houses with 'City' equal to 'Fresno' and 'Cooling' equal to 'Central': {len(df[(df['City'] == 'Fresno') & (df['Cooling'] == 'Central')])}.\")"
   ]
  },
  {
   "cell_type": "markdown",
   "id": "f5a25e010c42df62",
   "metadata": {
    "collapsed": false
   },
   "source": [
    "## Grouping and aggregating data\n",
    "\n",
    "Pandas provides the `groupby` method to group data in a `DataFrame`. We can group data based on one or more columns. The result is a `DataFrameGroupBy` object that behaves like a dictionary, where the key is the group name and the value is a data frame with the group data (dictionary of `DataFrame`s). "
   ]
  },
  {
   "cell_type": "code",
   "execution_count": 95,
   "id": "6dcf4245a78eded6",
   "metadata": {
    "collapsed": false,
    "ExecuteTime": {
     "end_time": "2024-10-01T09:46:25.782838100Z",
     "start_time": "2024-10-01T09:46:24.994137600Z"
    }
   },
   "outputs": [
    {
     "name": "stdout",
     "output_type": "stream",
     "text": [
      "Group 1, city: 'Acampo', content:\n",
      "          Id  Sold Price    City\n",
      "29726  29726    750000.0  Acampo\n",
      "30283  30283    515000.0  Acampo\n",
      "30408  30408    300000.0  Acampo\n",
      "Group 2, city: 'Acton', content:\n",
      "          Id  Sold Price   City\n",
      "36723  36723    425000.0  Acton\n",
      "Group 3, city: 'Aguanga', content:\n",
      "          Id  Sold Price     City\n",
      "45690  45690    455000.0  Aguanga\n",
      "47059  47059    290000.0  Aguanga\n",
      "Group 4, city: 'Ahwahnee', content:\n",
      "          Id  Sold Price      City\n",
      "10441  10441    325000.0  Ahwahnee\n",
      "14880  14880    240000.0  Ahwahnee\n",
      "15436  15436    125000.0  Ahwahnee\n",
      "Group 5, city: 'Alameda', content:\n",
      "          Id  Sold Price     City\n",
      "39445  39445    905000.0  Alameda\n",
      "39895  39895    903000.0  Alameda\n",
      "39905  39905    847000.0  Alameda\n",
      "Group 6, city: 'Alamo', content:\n",
      "          Id  Sold Price   City\n",
      "46304  46304   2125000.0  Alamo\n",
      "46395  46395   1835000.0  Alamo\n",
      "46966  46966   2200000.0  Alamo\n",
      "Group 7, city: 'Albany', content:\n",
      "          Id  Sold Price    City\n",
      "34522  34522    703000.0  Albany\n",
      "34903  34903   1430000.0  Albany\n",
      "35435  35435    595000.0  Albany\n",
      "Group 8, city: 'Albion', content:\n",
      "        Id  Sold Price    City\n",
      "339    339    556000.0  Albion\n",
      "3685  3685    210000.0  Albion\n",
      "3976  3976    560000.0  Albion\n",
      "Group 9, city: 'Alderpoint', content:\n",
      "          Id  Sold Price        City\n",
      "21136  21136    191000.0  Alderpoint\n",
      "24057  24057   1400000.0  Alderpoint\n",
      "24072  24072   1400000.0  Alderpoint\n",
      "Group 10, city: 'Alhambra', content:\n",
      "          Id  Sold Price      City\n",
      "33017  33017    840990.0  Alhambra\n",
      "33824  33824    750000.0  Alhambra\n",
      "34445  34445    640000.0  Alhambra\n"
     ]
    }
   ],
   "source": [
    "# group the data by 'City' \n",
    "grouped_by_city = df.groupby('City')\n",
    "for i, (name, group_df) in enumerate(grouped_by_city):\n",
    "    print(f\"Group {i+1}, city: '{name}', content:\\n{group_df[['Id', 'Sold Price', 'City']].head(3)}\")\n",
    "    if i >= 9: break  # show only the first 10 groups"
   ]
  },
  {
   "cell_type": "markdown",
   "id": "fe4e3efdd68ac5ad",
   "metadata": {
    "collapsed": false
   },
   "source": [
    "The `groups` attribute of the `DataFrameGroupBy` object is a dictionary with the group name as the key and the indexes as the values. "
   ]
  },
  {
   "cell_type": "code",
   "execution_count": 96,
   "id": "872b3977da232ac1",
   "metadata": {
    "collapsed": false,
    "ExecuteTime": {
     "end_time": "2024-10-01T09:46:25.808630100Z",
     "start_time": "2024-10-01T09:46:25.062841800Z"
    }
   },
   "outputs": [
    {
     "name": "stdout",
     "output_type": "stream",
     "text": [
      "Houses grouped by city:\n",
      "{'Acampo': [29726, 30283, 30408, 31139, 31620, 31971, 31978, 31981, 32321, 33906, 35163, 35598, 35630, 36171, 37359, 39678, 39777, 42230, 44227, 44780, 45201, 46076, 46619, 47115, 47245], 'Acton': [36723], 'Aguanga': [45690, 47059], 'Ahwahnee': [10441, 14880, 15436, 17188, 22376, 22464, 23217, 23315, 23899, 24054, 24187, 25471, 26194, 27118, 27966, 31461, 31506, 35269, 38605, 40637, 47063], 'Alameda': [39445, 39895, 39905, 40303, 40436, 40887, 40891, 41030, 41110, 42728, 42729, 42982, 42999, 43197, 44157, 45175, 45446, 46065, 46152], 'Alamo': [46304, 46395, 46966], 'Albany': [34522, 34903, 35435, 35662, 36251, 36628, 36964, 37320, 37449, 37746, 38437, 39312, 39855, 40772, 42616, 42687, 42903, 43243, 45757], 'Albion': [339, 3685, 3976, 5851, 6519, 8522, 18712, 25648, 25813, 27288, 30265, 30287, 33403, 36791, 39876], 'Alderpoint': [21136, 24057, 24072, 32124, 33702, 34576], 'Alhambra': [33017, 33824, 34445, 34611, 34849, 34870, 35075, 35297, 35949, 36424, 37728, 37734, 38312, 38817, 39263, 39832, 41863, 42682, 42922, 42963, 43178, 43696, 43744, 44435, 45112, 45385, 45930, 46945], 'Alpaugh': [10804, 17269], 'Alpine': [38668], 'Alta': [5981, 7105, 9034, 10701, 11106, 11458, 13759, 15513, 17282, 18134, 19414, 19417, 20520, 23856, 28851, 29400, 32386, 33286, 34905, 35180, 36375, 38968, 44661], 'Alturas': [31346, 32406, 32525, 32707, 33693, 34052, 34497, 34741, 34750, 36029, 39233, 40103, 41773, 45868], 'Alviso': [4223, 12553, 19330, 26435, 29827, 33257, 35223], 'Amador City': [1706, 1745, 4659, 4778, 6199, 28956, 31488], 'American Canyon': [39377, 39763, 40102, 40223, 41710, 42846, 42855, 43043, 43592, 44084, 44235, 44452, 44611, 44744, 44753, 44775, 45527, 46126], 'Anaheim': [36805, 37472, 39786, 40667, 42601, 42615, 42890, 43136, 43736, 43952, 43981, 44066, 44109, 44305, 44460, 44503, 44570, 44581, 44794, 45496, 45923, 45988, 46113, 47401], 'Angels Camp': [30717, 31469, 32052, 32362, 32655, 33597, 33701, 33712, 36536, 38188, 38355, 40099, 42021, 42456, 43690, 43734, 44059, 44228, 46989], 'Angelus Oaks': [16976, 17157, 19536, 19665, 20037, 20173, 20186, 20311, 20467, 20519, 21536, 22450, 27659, 28556, 28965, 29146, 29498, 32976, 33328, 37514], 'Angwin': [2606, 5900, 8809, 9869, 10081, 11827, 14796, 16731, 17456, 19252, 22758, 23492, 23717, 24974, 26005, 26284, 31218, 31231, 31338, 31698, 34979, 39094], 'Annapolis': [12007, 29354, 34749], 'Anza': [47390], 'Apple Valley': [38404, 38902], 'Applegate': [6104, 6374, 8918, 9025, 9076, 9180, 9779, 13074, 13244, 14009, 15132, 17871, 19580, 19612, 22106, 22990, 23631, 23783, 26891, 27585, 28524, 28817, 30296, 31835, 34715, 36606, 37522, 39607, 46073], 'Aptos': [9, 59, 93, 192, 246, 361, 502, 550, 810, 939, 946, 1043, 1176, 1226, 1374, 1387, 1439, 1552, 1646, 1893, 1992, 2078, 2266, 2270, 2400, 2470, 2865, 2899, 2933, 3016, 3307, 3394, 3426, 3625, 3626, 3700, 3769, 3811, 3842, 4520, 4850, 5022, 5083, 5240, 5374, 5415, 5416, 5543, 5788, 5832, 5833, 5894, 5940, 5946, 6171, 6223, 6258, 6283, 6373, 6570, 6659, 6723, 6811, 6915, 6936, 7049, 7101, 7149, 7235, 7318, 7379, 7436, 7446, 7461, 7487, 7592, 7632, 7676, 7789, 8015, 8030, 8119, 8179, 8347, 8428, 8431, 8434, 8477, 8611, 8709, 8847, 8880, 8947, 9215, 9254, 9424, 9852, 9854, 9856, 9911, ...], 'Arbuckle': [8813, 10057, 10082, 10583, 10738, 11614, 11716, 13730, 13996, 15562, 17071, 17916, 20777, 21551, 21861, 22340, 22633, 23672, 27373, 31865, 32261, 32757, 40034, 41357, 44919, 45460], 'Arcata': [43553, 44517, 46012, 46235, 47102, 47217], 'Armona': [2919, 3617, 7122, 7800, 8091, 10326, 14478, 25777, 35866, 41226, 44322], 'Arnold': [39037], 'Aromas': [12062, 15119, 15646, 16882, 17498, 17724, 17866, 18380, 18459, 18557, 19861, 19925, 23443, 24791, 24935, 25506, 27535, 31776, 33948, 36331, 37035, 38345, 38905, 41512, 42487, 44275, 44987], 'Artesia': [25357, 26142, 26287, 26894, 27866, 29872, 30144, 32036, 32150, 33518, 34542, 35258, 35262, 36485, 36707, 37526, 37983, 40350, 40725, 41532, 41908, 42694, 42990, 45746], 'Arvin': [15450, 17807, 18100, 18573, 20705, 23235, 26922, 28724, 30244, 32134, 36065, 37938, 44249], 'Atascadero': [43844], 'Atherton': [153, 270, 1605, 1879, 2347, 2359, 2536, 2729, 2825, 4184, 4458, 4975, 5220, 5445, 6105, 6116, 6267, 8462, 9915, 10351, 10521, 11163, 11530, 11590, 11906, 12298, 15072, 15208, 16722, 16788, 17224, 17774, 19278, 19380, 19590, 19767, 20229, 20332, 20880, 22933, 23078, 23316, 23757, 23847, 24677, 25585, 25664, 25693, 25729, 25883, 26963, 27144, 28138, 28730, 29303, 29973, 31269, 31415, 31602, 31661, 31896, 31907, 32289, 32440, 32598, 33196, 33832, 34471, 34835, 35106, 35325, 35725, 36852, 36923, 37609, 38566, 38699, 38985, 41585, 41777, 41849, 42010, 43803, 44181, 44419], 'Atwater': [46086, 47267], 'Auberry': [27366, 27479, 28807, 29761, 29970, 29981, 30291, 30511, 30870, 32400, 32484, 33530, 33820, 33947, 36797, 38069, 38275, 39549, 40497, 40786], 'Auburn': [42691], 'Avalon': [5251, 5310, 5364, 5536, 7802, 11175, 11798, 12276, 14346, 20660, 21043, 22470, 22977, 24627, 25108, 25164, 26720, 28058, 31092, 31141, 37500, 40049, 45071, 45624], 'Avenal': [10579, 11836, 13198, 15717, 18154, 18229, 20836, 21524, 22509, 25571, 28559, 31438, 39547, 39731, 42082, 46951], 'Avery': [35422, 40913, 40963], 'Avila Beach': [27521, 29129, 29264, 29732, 30379, 30703, 30723, 31660, 31686, 33924, 34490, 35280, 35346, 35361, 35414, 35804, 36854, 37049, 37810, 38528, 41638, 42569, 43910], 'Badger': [7100, 12415, 13557, 20206], 'Baker': [26983], 'Bakersfield': [36523, 36586, 36642, 38277, 39573, 40346, 41291, 42172, 42237, 42646, 43186, 43328, 43508, 43630, 44748, 45037, 45324, 45532, 46651, 46946], 'Ballico': [10667, 18763, 34020], 'Bangor': [2897, 5577, 9047, 9242, 10281, 11453, 11555, 14243, 16950, 16964, 25402, 26120, 33244, 36274, 37644, 40765, 41037, 42791, 44242], 'Bard': [27160], 'Bass Lake': [26084, 26127, 26674, 26959, 27786, 30145, 30370, 30510, 30602, 30957, 31210, 32974, 34941, 36655, 36906, 36914, 37465, 39896, 40506, 40798, 41351, 41574, 42669, 43883, 45675, 46950], 'Bayside': [5157, 5365, 6339, 6614, 10077, 16409, 17491, 22897, 25505, 26205, 26694, 29829, 30332, 30442, 31184, 32894, 34824, 42284], 'Beale Afb': [18376, 21137, 22329, 38180], 'Beaumont': [37908], 'Beckwourth': [2098, 10477, 19570, 21544, 26890], 'Bell Gardens': [123, 388, 467, 484, 1062, 1434, 1510, 1567, 1905, 2000, 2104, 2250, 2405, 2835, 3251, 3562, 3593, 3748, 3986, 3993, 4539, 5493, 5666, 6278, 6447, 6462, 6719, 39038, 39159, 39815, 40513, 42109, 42143, 42430, 42567, 43181, 44476, 44786, 46455], 'Bella Vista': [3638, 4111, 5723, 5821, 6081, 7999, 8132, 9728, 14231, 21178, 22312, 24038, 27727, 29582, 32721, 36450, 36861, 44934], 'Belmont': [233, 307, 340, 359, 584, 1163, 1825, 1894, 2505, 2992, 3161, 3183, 3342, 3620, 3715, 3852, 3853, 3889, 3985, 4150, 4320, 4498, 4672, 4899, 4917, 4983, 5046, 5330, 5746, 6185, 6640, 6745, 6749, 6989, 7381, 7430, 7432, 7935, 8041, 8065, 8113, 8446, 8887, 9060, 9183, 9253, 9312, 9336, 9361, 9545, 9753, 9947, 9964, 10123, 10191, 10462, 10491, 10508, 10835, 11036, 12323, 12391, 12670, 12801, 13455, 13507, 13875, 14453, 14706, 14964, 15555, 15581, 15610, 15744, 15829, 15833, 16001, 16037, 16130, 16200, 16240, 16680, 16734, 17196, 17545, 17633, 17662, 17831, 17838, 17939, 18070, 18181, 18729, 19056, 19302, 19432, 19523, 19932, 20601, 21099, ...], 'Belvedere Tiburon': [40183, 41187, 41290, 41586, 43100, 43468, 43622, 43657, 43806, 43864, 44116, 44438, 44466, 44525, 45336, 45590, 46025, 46325, 46328, 46341], 'Ben Lomond': [117, 120, 2678, 2712, 2782, 3422, 5357, 5492, 6067, 6290, 6439, 6453, 6930, 7298, 7420, 7611, 8439, 8770, 8986, 9586, 9645, 10223, 10811, 10876, 11410, 12719, 13012, 13179, 13282, 13333, 13343, 13408, 13899, 14336, 14908, 15087, 15747, 15994, 16092, 16810, 17376, 17854, 18823, 19333, 21030, 21314, 24624, 25053, 25732, 25885, 26076, 26631, 26785, 27633, 29522, 29643, 30161, 31133, 33362, 33744, 34369, 38164, 38776, 39831, 43435, 44992, 46832], 'Benton': [12286, 25154, 44856], 'Berkeley': [4587, 8802, 8937, 10054, 10104, 11959, 12039, 13973, 14826, 15168, 15632, 16609, 17322, 17443, 17505, 18495, 19396, 19781, 20428, 22174, 22408, 22618, 23417, 23526, 23962, 24352, 24354, 25494, 25577, 25695, 26805, 29078, 30327, 30411, 30521, 30812, 32189, 32720, 32759, 32771, 32843, 33133, 33185, 33491, 33493, 33604, 33787, 33992, 34241, 34570, 34685, 34730, 34900, 35000, 35006, 35072, 35275, 35364, 35372, 35532, 35587, 35635, 36026, 36054, 36114, 36221, 36386, 36696, 36775, 36792, 36813, 36848, 36908, 36966, 36971, 37147, 37596, 37678, 37804, 37866, 38305, 38480, 38522, 38631, 38691, 38744, 38899, 39062, 39227, 39288, 39329, 39440, 39481, 39493, 39508, 39531, 39712, 39769, 39779, 39806, ...], 'Berry Creek': [18268, 18295, 19275, 19416, 19546, 20663, 31613, 33225, 40288, 45494, 46099], 'Bethel Island': [18255, 18800, 19277, 19356, 21534, 22831, 22964, 23232, 24603, 26356, 26823, 29975, 30342, 31783, 37179, 41007], 'Beverly Hills': [28, 43, 94, 104, 255, 298, 374, 379, 474, 478, 655, 693, 726, 990, 1057, 1141, 1229, 1236, 1355, 1414, 1485, 1500, 1602, 1622, 1947, 1979, 2033, 2101, 2113, 2168, 2225, 2279, 2293, 2426, 2428, 2457, 2502, 2612, 2619, 2638, 2675, 2677, 2733, 2762, 2833, 2983, 3229, 3257, 3729, 3749, 3762, 3817, 3833, 3929, 3934, 3940, 3983, 3990, 3995, 4121, 4136, 4160, 4206, 4229, 4330, 4509, 4616, 4884, 4929, 5082, 5145, 5380, 5477, 5638, 5700, 5707, 6021, 6037, 6123, 6241, 6270, 6350, 6354, 6382, 6521, 6550, 6852, 6864, 7067, 7220, 7612, 7694, 7739, 7792, 7812, 8124, 8135, 8178, 8258, 8562, ...], 'Bieber': [3802, 6120, 10891], 'Big Bar': [23514, 41097], 'Big Bend': [18330, 21397], 'Big Creek': [18698], 'Big Pine': [9809, 10495, 12048, 16201, 17344, 20732, 26058, 27591, 28464, 28748, 30323, 42064], 'Big Sur': [472, 503, 1446, 6660, 8442, 9838, 15657, 15750, 17516, 17639, 19451, 24103, 29807, 30054, 30182, 37192], 'Biggs': [9582, 10769, 10904, 10968, 12482, 17132, 18003, 18803, 19339, 20879, 21848, 23079, 23360, 23853, 26452, 28339, 31277, 40641, 43239, 44422, 45069, 47216], 'Biola': [31070], 'Birds Landing': [34748], 'Bishop': [39673, 39849, 40033, 40864, 40868, 41456, 42865, 43269, 44487, 44874, 45308], 'Blairsden Graeagle': [38611, 39923, 40494, 40780, 41084, 41766, 42129, 42747, 43731, 44962, 45693, 45826, 46263, 46279], 'Bloomington': [44441, 44459, 44797, 44830, 44908, 45353, 45436, 46424, 46538, 46709], 'Blue Lake': [3407, 3868, 18407, 18636, 19349, 19771, 20086, 20394, 20514, 20852, 21176, 22419, 25321, 25651, 28900], 'Blythe': [47434], 'Bodega': [12622, 22723, 22789], 'Bodega Bay': [24679, 24723, 24867, 26049, 26215, 26413, 27088, 27397, 27512, 27632, 28392, 29363, 29554, 29730, 32811, 32945, 33999, 36032, 36165, 36265, 36310, 36604, 36738, 37610, 39215, 41005, 42132, 45397], 'Bodfish': [13079, 15073, 15218, 16017, 17231, 18217, 19256, 20135, 22148, 22606, 27619, 28513, 29218, 29240, 31643, 45315], 'Bolinas': [458, 1907, 3698, 4412, 4491, 4724, 5460, 12425, 12764, 13044, 14583, 20083, 20944, 22378, 22998, 25637, 28737, 38840, 40292], 'Bonita': [41439, 41620, 42384, 44340, 44836, 45546, 47340], 'Bonsall': [38613, 38861, 39676, 40314, 40408, 42106, 42312, 42746, 43752, 45491, 46624, 46626, 46870], 'Boonville': [18855, 23207, 40217], 'Boron': [22740, 24267, 28358, 32821, 44583], 'Borrego Springs': [35754, 38575], 'Boulder Creek': [274, 512, 1155, 1223, 1367, 1436, 1492, 1566, 1892, 2277, 2519, 3466, 3493, 3708, 3900, 4177, 4332, 4406, 4716, 5030, 5812, 5935, 5972, 7050, 7870, 8516, 8528, 8991, 9111, 9554, 9808, 9822, 10347, 10437, 10730, 10780, 10789, 10915, 10960, 11128, 11193, 11330, 11396, 11415, 11571, 11648, 11702, 11751, 11839, 12064, 12220, 12245, 12462, 12582, 12626, 12855, 12902, 13217, 13404, 13468, 13497, 13720, 13822, 14099, 14509, 14776, 14949, 15019, 15129, 15322, 15412, 15464, 15659, 15719, 15783, 16044, 16260, 16400, 16613, 16854, 17332, 17533, 17876, 17926, 18044, 18663, 18821, 19148, 19391, 19436, 19601, 19760, 19898, 21057, 21472, 23255, 24079, 25268, 25611, 25882, ...], 'Boulevard': [19909, 21007, 22206, 22260, 23989, 24506, 25170, 25640, 26382, 30008, 30326, 32927, 35638, 36388, 42656, 44076], 'Bradley': [28017, 29466, 29524, 30564, 31743, 31752, 35791, 39219, 41261, 42463, 42563, 43200, 44086, 46158], 'Branscomb': [4802], 'Brawley': [39450, 39882, 40253, 40694, 40702, 41531, 41642, 42690, 42933, 43960, 44010, 45852, 45967], 'Brea': [28140, 28182, 29757, 30796, 32080, 32465, 32494, 33662, 33796, 36457, 38498, 38534, 40358, 40412, 40784, 43501, 43861, 45199], 'Bridgeport': [674, 868, 1407, 7956, 12716, 16621, 16740, 19486, 21461, 21579, 22129, 23469, 29046, 37760, 44558], 'Bridgeville': [4035, 24047, 29454, 33193, 35409, 39714, 45894, 46038], 'Brisbane': [1264, 1522, 1658, 1717, 2628, 3241, 3298, 4361, 4636, 5066, 5604, 6129, 6499, 6545, 8087, 8251, 8390, 8896, 9316, 10378, 12961, 13187, 13221, 13917, 14688, 14962, 15437, 15677, 19800, 19818, 20435, 22886, 25179, 25690, 29758, 31900, 32115, 34147, 34198, 34264, 35478, 35649, 36038, 36818, 40090, 41588, 43309, 44471, 44561, 45692, 46106, 47136], 'Brookdale': [549, 1202, 1933, 8550, 9740, 12802, 14088, 38809, 40853], 'Browns Valley': [20047, 20197, 21016, 22271, 22671, 23795, 23937, 23978, 24248, 25026, 27986, 29023, 29254, 29483, 32845, 32965, 33167, 33797, 33900, 34208, 36045, 38916, 39522, 43177, 43691], 'Brownsville': [1612, 1675, 2233, 3081, 4946, 5228, 8563, 9760, 9909, 10284, 18558, 23375, 26767, 27435, 28874, 34140, 45538], 'Buellton': [27250, 27900, 28037, 28461, 28738, 29601, 29689, 30101, 30200, 31138, 31569, 33544, 33598, 34286, 34859, 35224, 35446, 35938, 38019, 41473, 42604, 42617, 42634, 43540, 45830, 46211, 47073], 'Buena Park': [45438, 45600, 45686, 46454, 46668, 46703], ...}\n"
     ]
    }
   ],
   "source": [
    "print(f\"Houses grouped by city:\\n{grouped_by_city.groups}\")  # show the groups; it is a dictionary with the group name as key and the indexes as values"
   ]
  },
  {
   "cell_type": "markdown",
   "source": [
    "The `get_group` method of the `DataFrameGroupBy` object allows us to get the data of a specific group. We must pass the group name as an argument. The result is a `DataFrame` with the data of the group."
   ],
   "metadata": {
    "collapsed": false
   },
   "id": "5116507ec0e02a84"
  },
  {
   "cell_type": "code",
   "outputs": [
    {
     "data": {
      "text/plain": "          Id                     Address  Sold Price  \\\n16800  16800              96 W Birch Ave    145000.0   \n17717  17717             2826 E Clay Ave    125000.0   \n18065  18065                5756 N St #7    281500.0   \n18959  18959           171 N College Ave    195000.0   \n19479  19479           7027 N Farris Ave    200000.0   \n21253  21253              422 N Clark St    140000.0   \n21301  21301           1121 W Locust Ave    191000.0   \n22455  22455            479 W Spruce Ave    170000.0   \n23851  23851         114 N San Pablo Ave    160000.0   \n25445  25445                3971 N St #1    285000.0   \n26619  26619            2029 E White Ave    157500.0   \n26654  26654                6614 N St #3    182500.0   \n29493  29493  121 W Alluvial Ave APT 101    325000.0   \n32714  32714             3020 Ventura St    150000.0   \n32961  32961       2725 E Washington Ave    162000.0   \n33749  33749            382 N Valeria St    190000.0   \n34178  34178             5159 E Pitt Ave    290000.0   \n37026  37026                12511 W A St    195000.0   \n37052  37052            2627 E Grant Ave    120000.0   \n37773  37773          2826 E Madison Ave    155000.0   \n38617  38617       13419 Northwoods Blvd    568000.0   \n39226  39226         470 N San Pablo Ave    174500.0   \n39346  39346          8595 Kilbarchan Ct   2450000.0   \n39663  39663           156 W Herndon Ave    135000.0   \n39670  39670            5254 N Bonta Ave    450000.0   \n40675  40675              143 N Echo Ave    395000.0   \n42127  42127                5543 N St #7    340000.0   \n43039  43039            377 N Valeria St    141000.0   \n43795  43795        1373 E Via Viola Way    380000.0   \n43973  43973           10444 S Marks Ave    680000.0   \n44142  44142         1728 W La Sierra Dr    155000.0   \n45024  45024            737 E Magill Ave    320500.0   \n46259  46259            1217 E Calwa Ave    215000.0   \n46539  46539     10730 N Windham Bay Cir    325000.0   \n46610  46610           6576 N Orchard St    301500.0   \n46686  46686            904 S Chance Ave    400000.0   \n47365  47365             2431 S Page Ave    220000.0   \n47376  47376           7761 S Cherry Ave    513000.0   \n\n                                                 Summary             Type  \\\n16800  96 W Birch Ave, Pinedale, CA 93650 is a single...     SingleFamily   \n17717  2826 E Clay Ave, Fresno, CA 93701 is a single ...     SingleFamily   \n18065  The auction for Hubzu property 00016229371 end...     SingleFamily   \n18959  This 4 bedroom 2 bathroom home is located in t...     SingleFamily   \n19479  Welcome to 7027 N Farris Ave. This beautiful r...     SingleFamily   \n21253  422 N Clark St, Fresno, CA 93701 is a single f...     SingleFamily   \n21301  This beautiful 3 bedroom, 1 bathroom home come...     SingleFamily   \n22455  New renovation the whole house.\\n\\nlandlord pa...     SingleFamily   \n23851  114 N San Pablo Ave, Fresno, CA 93701 is a sin...     SingleFamily   \n25445  3 bedroom Ranch style home on a large lot. Thi...     SingleFamily   \n26619  Two houses on the same lot. House A# 2bed 1 ba...     SingleFamily   \n26654  6614 N St #3, Fresno, CA 93721 is a condo home...            Condo   \n29493  121 W Alluvial Ave APT 101, Fresno, CA 93650 i...      MultiFamily   \n32714  3020 Ventura St, Fresno, CA 93721 is a single ...     SingleFamily   \n32961  Great location near downtown for convince. Cut...     SingleFamily   \n33749  Welcome to this beautifully updated home ready...     SingleFamily   \n34178  This home is fantastic for a first time home b...     SingleFamily   \n37026  12511 W A St, Fresno, CA 93723 is a single fam...     SingleFamily   \n37052  Great investment opportunity.\\nHouse has fire ...     SingleFamily   \n37773  2826 E Madison Ave, Fresno, CA 93701 is a sing...     SingleFamily   \n38617  Move right in and enjoy life in the mountains!...     SingleFamily   \n39226  Welcome to 470 N San Pablo Ave! Located minute...     SingleFamily   \n39346  8595 Kilbarchan Ct, Truckee, CA 96161 is a vac...  Residential Lot   \n39663  156 W Herndon Ave, Pinedale, CA 93650 is a vac...       VacantLand   \n39670  5254 N Bonta Ave, Fresno, CA 93723 is a single...     SingleFamily   \n40675  143 N Echo Ave, Fresno, CA 93701 is a multi fa...      MultiFamily   \n42127  5543 N St #7, Fresno, CA 93721 is a single fam...     SingleFamily   \n43039  377 N Valeria St, Fresno, CA 93701 is a single...     SingleFamily   \n43795  SPECIAL OFFER - $1000.00 Promotional offer for...     SingleFamily   \n43973  10444 S Marks Ave, Fresno, CA 93706 is a vacan...       VacantLand   \n44142  1728 W La Sierra Dr, Fresno, CA 93706 is a sin...     SingleFamily   \n45024  This fantastic property is located with easy a...     SingleFamily   \n46259  1217 E Calwa Ave, Fresno, CA 93706 is a single...     SingleFamily   \n46539  Freshly painted cabinets. \\nNew flooring in li...     SingleFamily   \n46610  Nice 3/2 Hallmark Home.  Has updated kitchen a...     SingleFamily   \n46686  Cute little 8 Plex in a mixed use residential ...            Condo   \n47365  2431 S Page Ave, Fresno, CA 93725 is a single ...     SingleFamily   \n47376  7761 S Cherry Ave, Fresno, CA 93725 is a singl...     SingleFamily   \n\n       Year built                           Heating  \\\n16800      1962.0                               NaN   \n17717      1947.0                             Other   \n18065      1968.0                        Forced air   \n18959      1912.0                        Forced air   \n19479      1952.0                               NaN   \n21253      1910.0                               NaN   \n21301      1952.0                               NaN   \n22455      1989.0                        Forced air   \n23851      1921.0                               NaN   \n25445      1954.0                        Forced air   \n26619      1910.0                        Forced air   \n26654      1972.0                               NaN   \n29493      1987.0                   Forced air, Gas   \n32714      1916.0                               NaN   \n32961      1917.0                               NaN   \n33749      1925.0                               NaN   \n34178      1993.0              Forced air, Electric   \n37026      1986.0                        Forced air   \n37052      1949.0                               NaN   \n37773      1913.0                               NaN   \n38617      1991.0                        Stove, Gas   \n39226      1929.0                               NaN   \n39346         NaN                               NaN   \n39663      1925.0                               NaN   \n39670      2017.0                        Forced air   \n40675      1960.0                               NaN   \n42127      1955.0             Central, Fireplace(s)   \n43039      1915.0                              Wall   \n43795      2018.0                        Forced air   \n43973         NaN                               NaN   \n44142      1973.0                               NaN   \n45024      1970.0                        Forced air   \n46259      1961.0                               NaN   \n46539      1990.0                        Forced air   \n46610      1970.0  Natural Gas, Central, Forced Air   \n46686      1957.0                     Floor Furnace   \n47365      1954.0                               NaN   \n47376      1945.0                               NaN   \n\n                                     Cooling  \\\n16800                                    NaN   \n17717                                    NaN   \n18065                           Refrigerator   \n18959                                  Other   \n19479                      Evaporative, Wall   \n21253                      Evaporative, Wall   \n21301                            Evaporative   \n22455                                  Other   \n23851                                   Wall   \n25445                           Refrigerator   \n26619                                  Other   \n26654                           Refrigerator   \n29493                           Refrigerator   \n32714                            Evaporative   \n32961                            Central Air   \n33749                    Wall/Window Unit(s)   \n34178                    Refrigerator, Other   \n37026                   Central, Evaporative   \n37052                      Evaporative, Wall   \n37773                                    NaN   \n38617                                    NaN   \n39226                      Evaporative, Wall   \n39346                                    NaN   \n39663                                    NaN   \n39670                            Central Air   \n40675                                   Wall   \n42127  Central Air, Electric, Ceiling Fan(s)   \n43039                                   Wall   \n43795                                  Other   \n43973                                    NaN   \n44142                      Evaporative, Wall   \n45024                           Refrigerator   \n46259                           Refrigerator   \n46539                                  Other   \n46610            Central Air, Ceiling Fan(s)   \n46686                    Evaporative Cooling   \n47365                      Evaporative, Wall   \n47376                                    NaN   \n\n                                              Parking       Lot  ...  \\\n16800                                         Carport    6250.0  ...   \n17717                                        0 spaces    7901.0  ...   \n18065                       Garage, Garage - Attached    9000.0  ...   \n18959                     Garage, Off-street, Covered    4791.0  ...   \n19479              Garage, Garage - Detached, Covered    6534.0  ...   \n21253                                        0 spaces    6250.0  ...   \n21301                                        0 spaces    6351.0  ...   \n22455                           Garage, None, Covered    6250.0  ...   \n23851                                        0 spaces    6599.0  ...   \n25445                       Garage, Garage - Attached   12632.4  ...   \n26619                                    Garage, None    7501.0  ...   \n26654                                         Carport       NaN  ...   \n29493              Garage, Garage - Detached, Covered       NaN  ...   \n32714                                          Street    6851.0  ...   \n32961                                          Garage    3750.0  ...   \n33749                                             NaN    5000.0  ...   \n34178              Garage, Garage - Attached, Covered    6912.0  ...   \n37026              Garage, Garage - Attached, Covered    6425.0  ...   \n37052              Garage, Garage - Detached, Covered    6250.0  ...   \n37773                       Garage, Garage - Attached    6250.0  ...   \n38617                      Garage - Attached, Covered   13503.6  ...   \n39226                       Garage, Garage - Attached    6599.0  ...   \n39346                                        0 spaces       NaN  ...   \n39663                                        0 spaces       NaN  ...   \n39670              Garage, Garage - Attached, Covered    6425.0  ...   \n40675                                Covered, Carport       NaN  ...   \n42127                                        0 spaces   23086.8  ...   \n43039              Garage, Garage - Detached, Covered    6250.0  ...   \n43795  Garage, Garage - Detached, Off-street, Covered    2304.0  ...   \n43973                                        0 spaces       NaN  ...   \n44142                                         Carport    7200.0  ...   \n45024                             Auto Opener, Street    7906.0  ...   \n46259                       Garage, Garage - Attached    7971.0  ...   \n46539              Garage, Garage - Detached, Covered    4199.0  ...   \n46610              Garage, Garage - Attached, Covered    7370.0  ...   \n46686                                 Assigned, Paved       NaN  ...   \n47365                                          Street    6098.0  ...   \n47376                                        0 spaces  707414.4  ...   \n\n      Tax assessed value  Annual tax amount   Listed On  Listed Price  \\\n16800            55676.0              696.0  2020-07-02      134900.0   \n17717            10984.0              174.0  2020-07-13      125000.0   \n18065           289200.0             3635.0  2020-05-08      296800.0   \n18959           136825.0             1656.0  2020-06-25      185000.0   \n19479            66769.0              831.0  2020-07-11      195000.0   \n21253            83100.0             1055.0  2020-07-17      145000.0   \n21301            57166.0              714.0  2020-07-02      189999.0   \n22455           108176.0             2007.0  2020-06-01      189000.0   \n23851           118800.0             1501.0  2020-07-01      175000.0   \n25445           149944.0             1808.0  2020-01-10      150100.0   \n26619           146000.0             1858.0  2018-08-11      149900.0   \n26654           118320.0             1496.0  2017-10-23      135000.0   \n29493           145000.0             1787.0  2014-06-08      250000.0   \n32714            57037.0              790.0  2020-06-25      187000.0   \n32961           117300.0             1482.0  2020-01-29      160000.0   \n33749           115000.0             1467.0  2020-08-06      200000.0   \n34178           149023.0             1939.0  2020-09-02      289900.0   \n37026            93840.0             1700.0  2020-05-13      125000.0   \n37052            97300.0             1239.0  2020-11-05      105000.0   \n37773           132600.0             1673.0  2020-10-07      170000.0   \n38617           419176.0             5711.0  2020-10-27      550000.0   \n39226            75208.0              965.0  2020-07-31      180000.0   \n39346           631672.0             7545.0  2020-09-06     2450000.0   \n39663            74439.0              976.0  2019-02-27      100000.0   \n39670           412692.0             5533.0  2018-08-23      425000.0   \n40675                NaN                NaN  2020-11-24      424000.0   \n42127            99482.0             1181.0  2020-06-03      399000.0   \n43039            89760.0             1138.0  2020-11-18      149999.0   \n43795           363100.0             4838.0  2020-11-19      380000.0   \n43973                NaN                NaN  2020-09-30      700000.0   \n44142            66228.0              859.0  2020-09-25      155500.0   \n45024           222853.0             2800.0  2020-11-18      320000.0   \n46259            67884.0              819.0  2011-09-23       35700.0   \n46539           209427.0             2477.0  2020-09-11      370000.0   \n46610           180000.0             2178.0  2020-10-28      305000.0   \n46686                NaN                NaN  2020-10-26      480000.0   \n47365            64970.0              844.0  2020-11-20      235000.0   \n47376           128073.0             2116.0  2020-04-29      524850.0   \n\n       Last Sold On  Last Sold Price    City      Zip  State  Sold  \n16800           NaN              NaN  Fresno  93650.0     CA  True  \n17717    2013-08-09          10000.0  Fresno  93701.0     CA  True  \n18065    2019-12-23         293000.0  Fresno  93721.0     CA  True  \n18959    2014-09-18         127000.0  Fresno  93701.0     CA  True  \n19479    2020-03-02          80000.0  Fresno  93650.0     CA  True  \n21253           NaN              NaN  Fresno  93701.0     CA  True  \n21301    2020-03-04          75000.0  Fresno  93650.0     CA  True  \n22455           NaN              NaN  Fresno  93650.0     CA  True  \n23851           NaN              NaN  Fresno  93701.0     CA  True  \n25445    2020-02-18         173500.0  Fresno  93721.0     CA  True  \n26619    2018-10-22         146000.0  Fresno  93701.0     CA  True  \n26654    2017-12-11         116000.0  Fresno  93721.0     CA  True  \n29493    2004-09-17         180000.0  Fresno  93650.0     CA  True  \n32714           NaN              NaN  Fresno  93721.0     CA  True  \n32961           NaN              NaN  Fresno  93701.0     CA  True  \n33749    2018-08-17         115000.0  Fresno  93701.0     CA  True  \n34178           NaN              NaN  Fresno  93725.0     CA  True  \n37026    2020-05-28         125000.0  Fresno  93723.0     CA  True  \n37052    2019-08-13          81500.0  Fresno  93701.0     CA  True  \n37773           NaN              NaN  Fresno  93701.0     CA  True  \n38617    2017-01-08         395000.0  Fresno  93705.0     CA  True  \n39226    2020-05-29         109500.0  Fresno  93701.0     CA  True  \n39346    2012-03-23         550000.0  Fresno  93703.0     CA  True  \n39663    2019-03-20         110000.0  Fresno  93650.0     CA  True  \n39670    2017-08-30         390500.0  Fresno  93723.0     CA  True  \n40675           NaN              NaN  Fresno  93701.0     CA  True  \n42127           NaN              NaN  Fresno  93721.0     CA  True  \n43039    2017-08-15          88000.0  Fresno  93701.0     CA  True  \n43795    2018-12-19         363500.0  Fresno  93730.0     CA  True  \n43973           NaN              NaN  Fresno  93706.0     CA  True  \n44142    2013-05-07          60000.0  Fresno  93706.0     CA  True  \n45024    2016-02-29         210000.0  Fresno  93710.0     CA  True  \n46259    2020-09-02         118000.0  Fresno  93706.0     CA  True  \n46539           NaN              NaN  Fresno  93730.0     CA  True  \n46610           NaN              NaN  Fresno  93710.0     CA  True  \n46686           NaN              NaN  Fresno  93702.0     CA  True  \n47365    2020-04-20         135000.0  Fresno  93725.0     CA  True  \n47376           NaN              NaN  Fresno  93725.0     CA  True  \n\n[38 rows x 42 columns]",
      "text/html": "<div>\n<style scoped>\n    .dataframe tbody tr th:only-of-type {\n        vertical-align: middle;\n    }\n\n    .dataframe tbody tr th {\n        vertical-align: top;\n    }\n\n    .dataframe thead th {\n        text-align: right;\n    }\n</style>\n<table border=\"1\" class=\"dataframe\">\n  <thead>\n    <tr style=\"text-align: right;\">\n      <th></th>\n      <th>Id</th>\n      <th>Address</th>\n      <th>Sold Price</th>\n      <th>Summary</th>\n      <th>Type</th>\n      <th>Year built</th>\n      <th>Heating</th>\n      <th>Cooling</th>\n      <th>Parking</th>\n      <th>Lot</th>\n      <th>...</th>\n      <th>Tax assessed value</th>\n      <th>Annual tax amount</th>\n      <th>Listed On</th>\n      <th>Listed Price</th>\n      <th>Last Sold On</th>\n      <th>Last Sold Price</th>\n      <th>City</th>\n      <th>Zip</th>\n      <th>State</th>\n      <th>Sold</th>\n    </tr>\n  </thead>\n  <tbody>\n    <tr>\n      <th>16800</th>\n      <td>16800</td>\n      <td>96 W Birch Ave</td>\n      <td>145000.0</td>\n      <td>96 W Birch Ave, Pinedale, CA 93650 is a single...</td>\n      <td>SingleFamily</td>\n      <td>1962.0</td>\n      <td>NaN</td>\n      <td>NaN</td>\n      <td>Carport</td>\n      <td>6250.0</td>\n      <td>...</td>\n      <td>55676.0</td>\n      <td>696.0</td>\n      <td>2020-07-02</td>\n      <td>134900.0</td>\n      <td>NaN</td>\n      <td>NaN</td>\n      <td>Fresno</td>\n      <td>93650.0</td>\n      <td>CA</td>\n      <td>True</td>\n    </tr>\n    <tr>\n      <th>17717</th>\n      <td>17717</td>\n      <td>2826 E Clay Ave</td>\n      <td>125000.0</td>\n      <td>2826 E Clay Ave, Fresno, CA 93701 is a single ...</td>\n      <td>SingleFamily</td>\n      <td>1947.0</td>\n      <td>Other</td>\n      <td>NaN</td>\n      <td>0 spaces</td>\n      <td>7901.0</td>\n      <td>...</td>\n      <td>10984.0</td>\n      <td>174.0</td>\n      <td>2020-07-13</td>\n      <td>125000.0</td>\n      <td>2013-08-09</td>\n      <td>10000.0</td>\n      <td>Fresno</td>\n      <td>93701.0</td>\n      <td>CA</td>\n      <td>True</td>\n    </tr>\n    <tr>\n      <th>18065</th>\n      <td>18065</td>\n      <td>5756 N St #7</td>\n      <td>281500.0</td>\n      <td>The auction for Hubzu property 00016229371 end...</td>\n      <td>SingleFamily</td>\n      <td>1968.0</td>\n      <td>Forced air</td>\n      <td>Refrigerator</td>\n      <td>Garage, Garage - Attached</td>\n      <td>9000.0</td>\n      <td>...</td>\n      <td>289200.0</td>\n      <td>3635.0</td>\n      <td>2020-05-08</td>\n      <td>296800.0</td>\n      <td>2019-12-23</td>\n      <td>293000.0</td>\n      <td>Fresno</td>\n      <td>93721.0</td>\n      <td>CA</td>\n      <td>True</td>\n    </tr>\n    <tr>\n      <th>18959</th>\n      <td>18959</td>\n      <td>171 N College Ave</td>\n      <td>195000.0</td>\n      <td>This 4 bedroom 2 bathroom home is located in t...</td>\n      <td>SingleFamily</td>\n      <td>1912.0</td>\n      <td>Forced air</td>\n      <td>Other</td>\n      <td>Garage, Off-street, Covered</td>\n      <td>4791.0</td>\n      <td>...</td>\n      <td>136825.0</td>\n      <td>1656.0</td>\n      <td>2020-06-25</td>\n      <td>185000.0</td>\n      <td>2014-09-18</td>\n      <td>127000.0</td>\n      <td>Fresno</td>\n      <td>93701.0</td>\n      <td>CA</td>\n      <td>True</td>\n    </tr>\n    <tr>\n      <th>19479</th>\n      <td>19479</td>\n      <td>7027 N Farris Ave</td>\n      <td>200000.0</td>\n      <td>Welcome to 7027 N Farris Ave. This beautiful r...</td>\n      <td>SingleFamily</td>\n      <td>1952.0</td>\n      <td>NaN</td>\n      <td>Evaporative, Wall</td>\n      <td>Garage, Garage - Detached, Covered</td>\n      <td>6534.0</td>\n      <td>...</td>\n      <td>66769.0</td>\n      <td>831.0</td>\n      <td>2020-07-11</td>\n      <td>195000.0</td>\n      <td>2020-03-02</td>\n      <td>80000.0</td>\n      <td>Fresno</td>\n      <td>93650.0</td>\n      <td>CA</td>\n      <td>True</td>\n    </tr>\n    <tr>\n      <th>21253</th>\n      <td>21253</td>\n      <td>422 N Clark St</td>\n      <td>140000.0</td>\n      <td>422 N Clark St, Fresno, CA 93701 is a single f...</td>\n      <td>SingleFamily</td>\n      <td>1910.0</td>\n      <td>NaN</td>\n      <td>Evaporative, Wall</td>\n      <td>0 spaces</td>\n      <td>6250.0</td>\n      <td>...</td>\n      <td>83100.0</td>\n      <td>1055.0</td>\n      <td>2020-07-17</td>\n      <td>145000.0</td>\n      <td>NaN</td>\n      <td>NaN</td>\n      <td>Fresno</td>\n      <td>93701.0</td>\n      <td>CA</td>\n      <td>True</td>\n    </tr>\n    <tr>\n      <th>21301</th>\n      <td>21301</td>\n      <td>1121 W Locust Ave</td>\n      <td>191000.0</td>\n      <td>This beautiful 3 bedroom, 1 bathroom home come...</td>\n      <td>SingleFamily</td>\n      <td>1952.0</td>\n      <td>NaN</td>\n      <td>Evaporative</td>\n      <td>0 spaces</td>\n      <td>6351.0</td>\n      <td>...</td>\n      <td>57166.0</td>\n      <td>714.0</td>\n      <td>2020-07-02</td>\n      <td>189999.0</td>\n      <td>2020-03-04</td>\n      <td>75000.0</td>\n      <td>Fresno</td>\n      <td>93650.0</td>\n      <td>CA</td>\n      <td>True</td>\n    </tr>\n    <tr>\n      <th>22455</th>\n      <td>22455</td>\n      <td>479 W Spruce Ave</td>\n      <td>170000.0</td>\n      <td>New renovation the whole house.\\n\\nlandlord pa...</td>\n      <td>SingleFamily</td>\n      <td>1989.0</td>\n      <td>Forced air</td>\n      <td>Other</td>\n      <td>Garage, None, Covered</td>\n      <td>6250.0</td>\n      <td>...</td>\n      <td>108176.0</td>\n      <td>2007.0</td>\n      <td>2020-06-01</td>\n      <td>189000.0</td>\n      <td>NaN</td>\n      <td>NaN</td>\n      <td>Fresno</td>\n      <td>93650.0</td>\n      <td>CA</td>\n      <td>True</td>\n    </tr>\n    <tr>\n      <th>23851</th>\n      <td>23851</td>\n      <td>114 N San Pablo Ave</td>\n      <td>160000.0</td>\n      <td>114 N San Pablo Ave, Fresno, CA 93701 is a sin...</td>\n      <td>SingleFamily</td>\n      <td>1921.0</td>\n      <td>NaN</td>\n      <td>Wall</td>\n      <td>0 spaces</td>\n      <td>6599.0</td>\n      <td>...</td>\n      <td>118800.0</td>\n      <td>1501.0</td>\n      <td>2020-07-01</td>\n      <td>175000.0</td>\n      <td>NaN</td>\n      <td>NaN</td>\n      <td>Fresno</td>\n      <td>93701.0</td>\n      <td>CA</td>\n      <td>True</td>\n    </tr>\n    <tr>\n      <th>25445</th>\n      <td>25445</td>\n      <td>3971 N St #1</td>\n      <td>285000.0</td>\n      <td>3 bedroom Ranch style home on a large lot. Thi...</td>\n      <td>SingleFamily</td>\n      <td>1954.0</td>\n      <td>Forced air</td>\n      <td>Refrigerator</td>\n      <td>Garage, Garage - Attached</td>\n      <td>12632.4</td>\n      <td>...</td>\n      <td>149944.0</td>\n      <td>1808.0</td>\n      <td>2020-01-10</td>\n      <td>150100.0</td>\n      <td>2020-02-18</td>\n      <td>173500.0</td>\n      <td>Fresno</td>\n      <td>93721.0</td>\n      <td>CA</td>\n      <td>True</td>\n    </tr>\n    <tr>\n      <th>26619</th>\n      <td>26619</td>\n      <td>2029 E White Ave</td>\n      <td>157500.0</td>\n      <td>Two houses on the same lot. House A# 2bed 1 ba...</td>\n      <td>SingleFamily</td>\n      <td>1910.0</td>\n      <td>Forced air</td>\n      <td>Other</td>\n      <td>Garage, None</td>\n      <td>7501.0</td>\n      <td>...</td>\n      <td>146000.0</td>\n      <td>1858.0</td>\n      <td>2018-08-11</td>\n      <td>149900.0</td>\n      <td>2018-10-22</td>\n      <td>146000.0</td>\n      <td>Fresno</td>\n      <td>93701.0</td>\n      <td>CA</td>\n      <td>True</td>\n    </tr>\n    <tr>\n      <th>26654</th>\n      <td>26654</td>\n      <td>6614 N St #3</td>\n      <td>182500.0</td>\n      <td>6614 N St #3, Fresno, CA 93721 is a condo home...</td>\n      <td>Condo</td>\n      <td>1972.0</td>\n      <td>NaN</td>\n      <td>Refrigerator</td>\n      <td>Carport</td>\n      <td>NaN</td>\n      <td>...</td>\n      <td>118320.0</td>\n      <td>1496.0</td>\n      <td>2017-10-23</td>\n      <td>135000.0</td>\n      <td>2017-12-11</td>\n      <td>116000.0</td>\n      <td>Fresno</td>\n      <td>93721.0</td>\n      <td>CA</td>\n      <td>True</td>\n    </tr>\n    <tr>\n      <th>29493</th>\n      <td>29493</td>\n      <td>121 W Alluvial Ave APT 101</td>\n      <td>325000.0</td>\n      <td>121 W Alluvial Ave APT 101, Fresno, CA 93650 i...</td>\n      <td>MultiFamily</td>\n      <td>1987.0</td>\n      <td>Forced air, Gas</td>\n      <td>Refrigerator</td>\n      <td>Garage, Garage - Detached, Covered</td>\n      <td>NaN</td>\n      <td>...</td>\n      <td>145000.0</td>\n      <td>1787.0</td>\n      <td>2014-06-08</td>\n      <td>250000.0</td>\n      <td>2004-09-17</td>\n      <td>180000.0</td>\n      <td>Fresno</td>\n      <td>93650.0</td>\n      <td>CA</td>\n      <td>True</td>\n    </tr>\n    <tr>\n      <th>32714</th>\n      <td>32714</td>\n      <td>3020 Ventura St</td>\n      <td>150000.0</td>\n      <td>3020 Ventura St, Fresno, CA 93721 is a single ...</td>\n      <td>SingleFamily</td>\n      <td>1916.0</td>\n      <td>NaN</td>\n      <td>Evaporative</td>\n      <td>Street</td>\n      <td>6851.0</td>\n      <td>...</td>\n      <td>57037.0</td>\n      <td>790.0</td>\n      <td>2020-06-25</td>\n      <td>187000.0</td>\n      <td>NaN</td>\n      <td>NaN</td>\n      <td>Fresno</td>\n      <td>93721.0</td>\n      <td>CA</td>\n      <td>True</td>\n    </tr>\n    <tr>\n      <th>32961</th>\n      <td>32961</td>\n      <td>2725 E Washington Ave</td>\n      <td>162000.0</td>\n      <td>Great location near downtown for convince. Cut...</td>\n      <td>SingleFamily</td>\n      <td>1917.0</td>\n      <td>NaN</td>\n      <td>Central Air</td>\n      <td>Garage</td>\n      <td>3750.0</td>\n      <td>...</td>\n      <td>117300.0</td>\n      <td>1482.0</td>\n      <td>2020-01-29</td>\n      <td>160000.0</td>\n      <td>NaN</td>\n      <td>NaN</td>\n      <td>Fresno</td>\n      <td>93701.0</td>\n      <td>CA</td>\n      <td>True</td>\n    </tr>\n    <tr>\n      <th>33749</th>\n      <td>33749</td>\n      <td>382 N Valeria St</td>\n      <td>190000.0</td>\n      <td>Welcome to this beautifully updated home ready...</td>\n      <td>SingleFamily</td>\n      <td>1925.0</td>\n      <td>NaN</td>\n      <td>Wall/Window Unit(s)</td>\n      <td>NaN</td>\n      <td>5000.0</td>\n      <td>...</td>\n      <td>115000.0</td>\n      <td>1467.0</td>\n      <td>2020-08-06</td>\n      <td>200000.0</td>\n      <td>2018-08-17</td>\n      <td>115000.0</td>\n      <td>Fresno</td>\n      <td>93701.0</td>\n      <td>CA</td>\n      <td>True</td>\n    </tr>\n    <tr>\n      <th>34178</th>\n      <td>34178</td>\n      <td>5159 E Pitt Ave</td>\n      <td>290000.0</td>\n      <td>This home is fantastic for a first time home b...</td>\n      <td>SingleFamily</td>\n      <td>1993.0</td>\n      <td>Forced air, Electric</td>\n      <td>Refrigerator, Other</td>\n      <td>Garage, Garage - Attached, Covered</td>\n      <td>6912.0</td>\n      <td>...</td>\n      <td>149023.0</td>\n      <td>1939.0</td>\n      <td>2020-09-02</td>\n      <td>289900.0</td>\n      <td>NaN</td>\n      <td>NaN</td>\n      <td>Fresno</td>\n      <td>93725.0</td>\n      <td>CA</td>\n      <td>True</td>\n    </tr>\n    <tr>\n      <th>37026</th>\n      <td>37026</td>\n      <td>12511 W A St</td>\n      <td>195000.0</td>\n      <td>12511 W A St, Fresno, CA 93723 is a single fam...</td>\n      <td>SingleFamily</td>\n      <td>1986.0</td>\n      <td>Forced air</td>\n      <td>Central, Evaporative</td>\n      <td>Garage, Garage - Attached, Covered</td>\n      <td>6425.0</td>\n      <td>...</td>\n      <td>93840.0</td>\n      <td>1700.0</td>\n      <td>2020-05-13</td>\n      <td>125000.0</td>\n      <td>2020-05-28</td>\n      <td>125000.0</td>\n      <td>Fresno</td>\n      <td>93723.0</td>\n      <td>CA</td>\n      <td>True</td>\n    </tr>\n    <tr>\n      <th>37052</th>\n      <td>37052</td>\n      <td>2627 E Grant Ave</td>\n      <td>120000.0</td>\n      <td>Great investment opportunity.\\nHouse has fire ...</td>\n      <td>SingleFamily</td>\n      <td>1949.0</td>\n      <td>NaN</td>\n      <td>Evaporative, Wall</td>\n      <td>Garage, Garage - Detached, Covered</td>\n      <td>6250.0</td>\n      <td>...</td>\n      <td>97300.0</td>\n      <td>1239.0</td>\n      <td>2020-11-05</td>\n      <td>105000.0</td>\n      <td>2019-08-13</td>\n      <td>81500.0</td>\n      <td>Fresno</td>\n      <td>93701.0</td>\n      <td>CA</td>\n      <td>True</td>\n    </tr>\n    <tr>\n      <th>37773</th>\n      <td>37773</td>\n      <td>2826 E Madison Ave</td>\n      <td>155000.0</td>\n      <td>2826 E Madison Ave, Fresno, CA 93701 is a sing...</td>\n      <td>SingleFamily</td>\n      <td>1913.0</td>\n      <td>NaN</td>\n      <td>NaN</td>\n      <td>Garage, Garage - Attached</td>\n      <td>6250.0</td>\n      <td>...</td>\n      <td>132600.0</td>\n      <td>1673.0</td>\n      <td>2020-10-07</td>\n      <td>170000.0</td>\n      <td>NaN</td>\n      <td>NaN</td>\n      <td>Fresno</td>\n      <td>93701.0</td>\n      <td>CA</td>\n      <td>True</td>\n    </tr>\n    <tr>\n      <th>38617</th>\n      <td>38617</td>\n      <td>13419 Northwoods Blvd</td>\n      <td>568000.0</td>\n      <td>Move right in and enjoy life in the mountains!...</td>\n      <td>SingleFamily</td>\n      <td>1991.0</td>\n      <td>Stove, Gas</td>\n      <td>NaN</td>\n      <td>Garage - Attached, Covered</td>\n      <td>13503.6</td>\n      <td>...</td>\n      <td>419176.0</td>\n      <td>5711.0</td>\n      <td>2020-10-27</td>\n      <td>550000.0</td>\n      <td>2017-01-08</td>\n      <td>395000.0</td>\n      <td>Fresno</td>\n      <td>93705.0</td>\n      <td>CA</td>\n      <td>True</td>\n    </tr>\n    <tr>\n      <th>39226</th>\n      <td>39226</td>\n      <td>470 N San Pablo Ave</td>\n      <td>174500.0</td>\n      <td>Welcome to 470 N San Pablo Ave! Located minute...</td>\n      <td>SingleFamily</td>\n      <td>1929.0</td>\n      <td>NaN</td>\n      <td>Evaporative, Wall</td>\n      <td>Garage, Garage - Attached</td>\n      <td>6599.0</td>\n      <td>...</td>\n      <td>75208.0</td>\n      <td>965.0</td>\n      <td>2020-07-31</td>\n      <td>180000.0</td>\n      <td>2020-05-29</td>\n      <td>109500.0</td>\n      <td>Fresno</td>\n      <td>93701.0</td>\n      <td>CA</td>\n      <td>True</td>\n    </tr>\n    <tr>\n      <th>39346</th>\n      <td>39346</td>\n      <td>8595 Kilbarchan Ct</td>\n      <td>2450000.0</td>\n      <td>8595 Kilbarchan Ct, Truckee, CA 96161 is a vac...</td>\n      <td>Residential Lot</td>\n      <td>NaN</td>\n      <td>NaN</td>\n      <td>NaN</td>\n      <td>0 spaces</td>\n      <td>NaN</td>\n      <td>...</td>\n      <td>631672.0</td>\n      <td>7545.0</td>\n      <td>2020-09-06</td>\n      <td>2450000.0</td>\n      <td>2012-03-23</td>\n      <td>550000.0</td>\n      <td>Fresno</td>\n      <td>93703.0</td>\n      <td>CA</td>\n      <td>True</td>\n    </tr>\n    <tr>\n      <th>39663</th>\n      <td>39663</td>\n      <td>156 W Herndon Ave</td>\n      <td>135000.0</td>\n      <td>156 W Herndon Ave, Pinedale, CA 93650 is a vac...</td>\n      <td>VacantLand</td>\n      <td>1925.0</td>\n      <td>NaN</td>\n      <td>NaN</td>\n      <td>0 spaces</td>\n      <td>NaN</td>\n      <td>...</td>\n      <td>74439.0</td>\n      <td>976.0</td>\n      <td>2019-02-27</td>\n      <td>100000.0</td>\n      <td>2019-03-20</td>\n      <td>110000.0</td>\n      <td>Fresno</td>\n      <td>93650.0</td>\n      <td>CA</td>\n      <td>True</td>\n    </tr>\n    <tr>\n      <th>39670</th>\n      <td>39670</td>\n      <td>5254 N Bonta Ave</td>\n      <td>450000.0</td>\n      <td>5254 N Bonta Ave, Fresno, CA 93723 is a single...</td>\n      <td>SingleFamily</td>\n      <td>2017.0</td>\n      <td>Forced air</td>\n      <td>Central Air</td>\n      <td>Garage, Garage - Attached, Covered</td>\n      <td>6425.0</td>\n      <td>...</td>\n      <td>412692.0</td>\n      <td>5533.0</td>\n      <td>2018-08-23</td>\n      <td>425000.0</td>\n      <td>2017-08-30</td>\n      <td>390500.0</td>\n      <td>Fresno</td>\n      <td>93723.0</td>\n      <td>CA</td>\n      <td>True</td>\n    </tr>\n    <tr>\n      <th>40675</th>\n      <td>40675</td>\n      <td>143 N Echo Ave</td>\n      <td>395000.0</td>\n      <td>143 N Echo Ave, Fresno, CA 93701 is a multi fa...</td>\n      <td>MultiFamily</td>\n      <td>1960.0</td>\n      <td>NaN</td>\n      <td>Wall</td>\n      <td>Covered, Carport</td>\n      <td>NaN</td>\n      <td>...</td>\n      <td>NaN</td>\n      <td>NaN</td>\n      <td>2020-11-24</td>\n      <td>424000.0</td>\n      <td>NaN</td>\n      <td>NaN</td>\n      <td>Fresno</td>\n      <td>93701.0</td>\n      <td>CA</td>\n      <td>True</td>\n    </tr>\n    <tr>\n      <th>42127</th>\n      <td>42127</td>\n      <td>5543 N St #7</td>\n      <td>340000.0</td>\n      <td>5543 N St #7, Fresno, CA 93721 is a single fam...</td>\n      <td>SingleFamily</td>\n      <td>1955.0</td>\n      <td>Central, Fireplace(s)</td>\n      <td>Central Air, Electric, Ceiling Fan(s)</td>\n      <td>0 spaces</td>\n      <td>23086.8</td>\n      <td>...</td>\n      <td>99482.0</td>\n      <td>1181.0</td>\n      <td>2020-06-03</td>\n      <td>399000.0</td>\n      <td>NaN</td>\n      <td>NaN</td>\n      <td>Fresno</td>\n      <td>93721.0</td>\n      <td>CA</td>\n      <td>True</td>\n    </tr>\n    <tr>\n      <th>43039</th>\n      <td>43039</td>\n      <td>377 N Valeria St</td>\n      <td>141000.0</td>\n      <td>377 N Valeria St, Fresno, CA 93701 is a single...</td>\n      <td>SingleFamily</td>\n      <td>1915.0</td>\n      <td>Wall</td>\n      <td>Wall</td>\n      <td>Garage, Garage - Detached, Covered</td>\n      <td>6250.0</td>\n      <td>...</td>\n      <td>89760.0</td>\n      <td>1138.0</td>\n      <td>2020-11-18</td>\n      <td>149999.0</td>\n      <td>2017-08-15</td>\n      <td>88000.0</td>\n      <td>Fresno</td>\n      <td>93701.0</td>\n      <td>CA</td>\n      <td>True</td>\n    </tr>\n    <tr>\n      <th>43795</th>\n      <td>43795</td>\n      <td>1373 E Via Viola Way</td>\n      <td>380000.0</td>\n      <td>SPECIAL OFFER - $1000.00 Promotional offer for...</td>\n      <td>SingleFamily</td>\n      <td>2018.0</td>\n      <td>Forced air</td>\n      <td>Other</td>\n      <td>Garage, Garage - Detached, Off-street, Covered</td>\n      <td>2304.0</td>\n      <td>...</td>\n      <td>363100.0</td>\n      <td>4838.0</td>\n      <td>2020-11-19</td>\n      <td>380000.0</td>\n      <td>2018-12-19</td>\n      <td>363500.0</td>\n      <td>Fresno</td>\n      <td>93730.0</td>\n      <td>CA</td>\n      <td>True</td>\n    </tr>\n    <tr>\n      <th>43973</th>\n      <td>43973</td>\n      <td>10444 S Marks Ave</td>\n      <td>680000.0</td>\n      <td>10444 S Marks Ave, Fresno, CA 93706 is a vacan...</td>\n      <td>VacantLand</td>\n      <td>NaN</td>\n      <td>NaN</td>\n      <td>NaN</td>\n      <td>0 spaces</td>\n      <td>NaN</td>\n      <td>...</td>\n      <td>NaN</td>\n      <td>NaN</td>\n      <td>2020-09-30</td>\n      <td>700000.0</td>\n      <td>NaN</td>\n      <td>NaN</td>\n      <td>Fresno</td>\n      <td>93706.0</td>\n      <td>CA</td>\n      <td>True</td>\n    </tr>\n    <tr>\n      <th>44142</th>\n      <td>44142</td>\n      <td>1728 W La Sierra Dr</td>\n      <td>155000.0</td>\n      <td>1728 W La Sierra Dr, Fresno, CA 93706 is a sin...</td>\n      <td>SingleFamily</td>\n      <td>1973.0</td>\n      <td>NaN</td>\n      <td>Evaporative, Wall</td>\n      <td>Carport</td>\n      <td>7200.0</td>\n      <td>...</td>\n      <td>66228.0</td>\n      <td>859.0</td>\n      <td>2020-09-25</td>\n      <td>155500.0</td>\n      <td>2013-05-07</td>\n      <td>60000.0</td>\n      <td>Fresno</td>\n      <td>93706.0</td>\n      <td>CA</td>\n      <td>True</td>\n    </tr>\n    <tr>\n      <th>45024</th>\n      <td>45024</td>\n      <td>737 E Magill Ave</td>\n      <td>320500.0</td>\n      <td>This fantastic property is located with easy a...</td>\n      <td>SingleFamily</td>\n      <td>1970.0</td>\n      <td>Forced air</td>\n      <td>Refrigerator</td>\n      <td>Auto Opener, Street</td>\n      <td>7906.0</td>\n      <td>...</td>\n      <td>222853.0</td>\n      <td>2800.0</td>\n      <td>2020-11-18</td>\n      <td>320000.0</td>\n      <td>2016-02-29</td>\n      <td>210000.0</td>\n      <td>Fresno</td>\n      <td>93710.0</td>\n      <td>CA</td>\n      <td>True</td>\n    </tr>\n    <tr>\n      <th>46259</th>\n      <td>46259</td>\n      <td>1217 E Calwa Ave</td>\n      <td>215000.0</td>\n      <td>1217 E Calwa Ave, Fresno, CA 93706 is a single...</td>\n      <td>SingleFamily</td>\n      <td>1961.0</td>\n      <td>NaN</td>\n      <td>Refrigerator</td>\n      <td>Garage, Garage - Attached</td>\n      <td>7971.0</td>\n      <td>...</td>\n      <td>67884.0</td>\n      <td>819.0</td>\n      <td>2011-09-23</td>\n      <td>35700.0</td>\n      <td>2020-09-02</td>\n      <td>118000.0</td>\n      <td>Fresno</td>\n      <td>93706.0</td>\n      <td>CA</td>\n      <td>True</td>\n    </tr>\n    <tr>\n      <th>46539</th>\n      <td>46539</td>\n      <td>10730 N Windham Bay Cir</td>\n      <td>325000.0</td>\n      <td>Freshly painted cabinets. \\nNew flooring in li...</td>\n      <td>SingleFamily</td>\n      <td>1990.0</td>\n      <td>Forced air</td>\n      <td>Other</td>\n      <td>Garage, Garage - Detached, Covered</td>\n      <td>4199.0</td>\n      <td>...</td>\n      <td>209427.0</td>\n      <td>2477.0</td>\n      <td>2020-09-11</td>\n      <td>370000.0</td>\n      <td>NaN</td>\n      <td>NaN</td>\n      <td>Fresno</td>\n      <td>93730.0</td>\n      <td>CA</td>\n      <td>True</td>\n    </tr>\n    <tr>\n      <th>46610</th>\n      <td>46610</td>\n      <td>6576 N Orchard St</td>\n      <td>301500.0</td>\n      <td>Nice 3/2 Hallmark Home.  Has updated kitchen a...</td>\n      <td>SingleFamily</td>\n      <td>1970.0</td>\n      <td>Natural Gas, Central, Forced Air</td>\n      <td>Central Air, Ceiling Fan(s)</td>\n      <td>Garage, Garage - Attached, Covered</td>\n      <td>7370.0</td>\n      <td>...</td>\n      <td>180000.0</td>\n      <td>2178.0</td>\n      <td>2020-10-28</td>\n      <td>305000.0</td>\n      <td>NaN</td>\n      <td>NaN</td>\n      <td>Fresno</td>\n      <td>93710.0</td>\n      <td>CA</td>\n      <td>True</td>\n    </tr>\n    <tr>\n      <th>46686</th>\n      <td>46686</td>\n      <td>904 S Chance Ave</td>\n      <td>400000.0</td>\n      <td>Cute little 8 Plex in a mixed use residential ...</td>\n      <td>Condo</td>\n      <td>1957.0</td>\n      <td>Floor Furnace</td>\n      <td>Evaporative Cooling</td>\n      <td>Assigned, Paved</td>\n      <td>NaN</td>\n      <td>...</td>\n      <td>NaN</td>\n      <td>NaN</td>\n      <td>2020-10-26</td>\n      <td>480000.0</td>\n      <td>NaN</td>\n      <td>NaN</td>\n      <td>Fresno</td>\n      <td>93702.0</td>\n      <td>CA</td>\n      <td>True</td>\n    </tr>\n    <tr>\n      <th>47365</th>\n      <td>47365</td>\n      <td>2431 S Page Ave</td>\n      <td>220000.0</td>\n      <td>2431 S Page Ave, Fresno, CA 93725 is a single ...</td>\n      <td>SingleFamily</td>\n      <td>1954.0</td>\n      <td>NaN</td>\n      <td>Evaporative, Wall</td>\n      <td>Street</td>\n      <td>6098.0</td>\n      <td>...</td>\n      <td>64970.0</td>\n      <td>844.0</td>\n      <td>2020-11-20</td>\n      <td>235000.0</td>\n      <td>2020-04-20</td>\n      <td>135000.0</td>\n      <td>Fresno</td>\n      <td>93725.0</td>\n      <td>CA</td>\n      <td>True</td>\n    </tr>\n    <tr>\n      <th>47376</th>\n      <td>47376</td>\n      <td>7761 S Cherry Ave</td>\n      <td>513000.0</td>\n      <td>7761 S Cherry Ave, Fresno, CA 93725 is a singl...</td>\n      <td>SingleFamily</td>\n      <td>1945.0</td>\n      <td>NaN</td>\n      <td>NaN</td>\n      <td>0 spaces</td>\n      <td>707414.4</td>\n      <td>...</td>\n      <td>128073.0</td>\n      <td>2116.0</td>\n      <td>2020-04-29</td>\n      <td>524850.0</td>\n      <td>NaN</td>\n      <td>NaN</td>\n      <td>Fresno</td>\n      <td>93725.0</td>\n      <td>CA</td>\n      <td>True</td>\n    </tr>\n  </tbody>\n</table>\n<p>38 rows × 42 columns</p>\n</div>"
     },
     "execution_count": 97,
     "metadata": {},
     "output_type": "execute_result"
    }
   ],
   "source": [
    "# show the houses in Fresno\n",
    "grouped_by_city.get_group('Fresno')  # returns a DataFrame where the 'City' is 'Fresno'"
   ],
   "metadata": {
    "collapsed": false,
    "ExecuteTime": {
     "end_time": "2024-10-01T09:46:25.836923900Z",
     "start_time": "2024-10-01T09:46:25.101515600Z"
    }
   },
   "id": "4eb30735caec005e",
   "execution_count": 97
  },
  {
   "cell_type": "markdown",
   "id": "d30b46dd9194feb5",
   "metadata": {
    "collapsed": false
   },
   "source": [
    "`DataFrameGroupBy` many aggregation functions, such as `size`, `sum`, `mean`, `min`, `max`, `std`, `count` and `agg`. We can use these functions to aggregate data in each group. They return a `DataFrame` with the group name as the index and the aggregated value(s) as the column(s)."
   ]
  },
  {
   "cell_type": "code",
   "execution_count": 98,
   "id": "6ddd45dd2e9b1626",
   "metadata": {
    "collapsed": false,
    "ExecuteTime": {
     "end_time": "2024-10-01T09:46:25.839630800Z",
     "start_time": "2024-10-01T09:46:25.158285100Z"
    }
   },
   "outputs": [
    {
     "name": "stdout",
     "output_type": "stream",
     "text": [
      "Number of houses in each city:\n",
      "City\n",
      "Acampo        25\n",
      "Acton          1\n",
      "Aguanga        2\n",
      "Ahwahnee      21\n",
      "Alameda       19\n",
      "              ..\n",
      "Yountville    32\n",
      "Yreka         12\n",
      "Yuba City     30\n",
      "Zamora         1\n",
      "Zenia          2\n",
      "Length: 929, dtype: int64\n"
     ]
    }
   ],
   "source": [
    "print(f\"Number of houses in each city:\\n{grouped_by_city.size()}\")  # size computes the number of elements (rows) in each group"
   ]
  },
  {
   "cell_type": "markdown",
   "id": "bd71f8fd416afc7c",
   "metadata": {
    "collapsed": false
   },
   "source": []
  },
  {
   "cell_type": "markdown",
   "id": "f1a83c2b00407122",
   "metadata": {
    "collapsed": false
   },
   "source": [
    "If we use the `[]` operator in a `DataFrameGroupBy` object, we can select a column or multiple columns instead of all of them. In this way, we can aggregate only the selected columns."
   ]
  },
  {
   "cell_type": "code",
   "execution_count": 99,
   "id": "7f3bf8afa2c3a247",
   "metadata": {
    "collapsed": false,
    "ExecuteTime": {
     "end_time": "2024-10-01T09:46:25.863045100Z",
     "start_time": "2024-10-01T09:46:25.166469900Z"
    }
   },
   "outputs": [
    {
     "name": "stdout",
     "output_type": "stream",
     "text": [
      "Average 'Sold Price' in each city:\n",
      "City\n",
      "Acampo        6.530200e+05\n",
      "Acton         4.250000e+05\n",
      "Aguanga       3.725000e+05\n",
      "Ahwahnee      3.495476e+05\n",
      "Alameda       9.791842e+05\n",
      "                  ...     \n",
      "Yountville    1.045266e+06\n",
      "Yreka         2.476458e+05\n",
      "Yuba City     3.798433e+05\n",
      "Zamora        8.000000e+05\n",
      "Zenia         5.800000e+05\n",
      "Name: Sold Price, Length: 929, dtype: float64\n"
     ]
    }
   ],
   "source": [
    "# first, select the 'Sold Price' column and then apply the aggregation function\n",
    "print(f\"Average 'Sold Price' in each city:\\n{grouped_by_city['Sold Price'].mean()}\")  "
   ]
  },
  {
   "cell_type": "markdown",
   "id": "8a42d720d728de8b",
   "metadata": {
    "collapsed": false
   },
   "source": [
    "Any aggregation can be performed using the `apply` method, passing a lambda function that will be applied to each group. The lambda function will receive the grouped data as a `DataFrame`."
   ]
  },
  {
   "cell_type": "code",
   "execution_count": 100,
   "id": "6459f89ba45d3f12",
   "metadata": {
    "collapsed": false,
    "ExecuteTime": {
     "end_time": "2024-10-01T09:46:26.037750700Z",
     "start_time": "2024-10-01T09:46:25.182890600Z"
    }
   },
   "outputs": [
    {
     "name": "stdout",
     "output_type": "stream",
     "text": [
      "First 10 houses with the new column 'Sold Price Difference':\n",
      "   Id  Sold Price           City  Sold Price Difference\n",
      "0   0   3825000.0      Los Altos           63519.587413\n",
      "1   1    505000.0    Los Angeles         -849864.209936\n",
      "2   2    140000.0     Strawberry         -277633.333333\n",
      "3   3   1775000.0    Culver City          643024.834975\n",
      "4   4   1175000.0        Creston          432583.333333\n",
      "5   5    221000.0       Stockton         -124942.307692\n",
      "6   6   1589000.0    Los Angeles          234135.790064\n",
      "7   7    480000.0   Taylorsville          181318.181818\n",
      "8   8   1590000.0  San Francisco         -106127.912545\n",
      "9   9   1275000.0          Aptos          135424.693182\n"
     ]
    }
   ],
   "source": [
    "# calculate the average sold price group by cities\n",
    "average_sold_price = grouped_by_city['Sold Price'].mean()\n",
    "# add a new column with the difference between the 'Sold Price' and the average 'Sold Price' in each city\n",
    "df['Sold Price Difference'] = df.apply(lambda row: row['Sold Price'] - average_sold_price[row['City']], axis=1)\n",
    "# print the first 10 houses with the new column 'Sold Price Difference'\n",
    "print(f\"First 10 houses with the new column 'Sold Price Difference':\\n{df[['Id', 'Sold Price', 'City', 'Sold Price Difference']].head(10)}\")"
   ]
  },
  {
   "cell_type": "markdown",
   "id": "44d0671120faa7ac",
   "metadata": {
    "collapsed": false
   },
   "source": [
    "# ✨ Activity ✨\n",
    "\n",
    "Perform the following tasks:\n",
    "\n",
    "2. Count the number of houses sold for more than 1M USD and with any type of cooling (not empty and not 'None').\n",
    "3.  Find the average 'Sold Price' houses with more than 3 Bedrooms and Bathrooms that were built after 1990.\n",
    "4. Create a new column, 'Price per Square Foot'. Then, show the average price per square foot of the houses.\n",
    "5. Calculate the average 'Tax assessed value' for houses in each State and add its value to a new 'Average Tax assessed value' column. Print the 'Id', 'State', 'Tax assessed value', and 'Average Tax assessed value' of the first 3 houses in each state. "
   ]
  },
  {
   "cell_type": "code",
   "execution_count": 101,
   "id": "200fdae2fb16d89f",
   "metadata": {
    "collapsed": false,
    "ExecuteTime": {
     "end_time": "2024-10-01T09:46:26.075891Z",
     "start_time": "2024-10-01T09:46:25.625049100Z"
    }
   },
   "outputs": [],
   "source": [
    "# Write your code here\n",
    "\n"
   ]
  }
 ],
 "metadata": {
  "kernelspec": {
   "display_name": "Python 3 (ipykernel)",
   "language": "python",
   "name": "python3"
  },
  "language_info": {
   "codemirror_mode": {
    "name": "ipython",
    "version": 3
   },
   "file_extension": ".py",
   "mimetype": "text/x-python",
   "name": "python",
   "nbconvert_exporter": "python",
   "pygments_lexer": "ipython3",
   "version": "3.11.4"
  }
 },
 "nbformat": 4,
 "nbformat_minor": 5
}
