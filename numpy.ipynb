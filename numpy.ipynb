{
 "cells": [
  {
   "cell_type": "markdown",
   "id": "69cdf8f2e57495b3",
   "metadata": {
    "collapsed": false
   },
   "source": [
    "<img src=\"img/numpy-logo.png\">\n",
    "\n",
    "# NumPy\n",
    "\n",
    "In this lab, we will learn the basics of the Python NumPy package. NumPy is a Python package for scientific computing. It is a Python library that provides a multidimensional array object and many routines for fast operations.\n",
    "\n",
    "There are several important differences between NumPy arrays and the standard Python sequences:\n",
    "\n",
    "1. Performance:\n",
    "- Speed: NumPy arrays are more efficient than Python lists because they are implemented in C and use contiguous blocks of memory. This allows for faster access and processing.\n",
    "- Vectorization: NumPy supports vectorized operations, which means that you can apply operations to entire arrays without the need for explicit loops, leading to significant speed improvements.\n",
    "\n",
    "2. Memory Efficiency:\n",
    "- Compact Storage: NumPy arrays use a homogeneous data type, which makes them more memory-efficient than Python lists that can contain elements of different types.\n",
    "- Efficient Data Representation: NumPy arrays store data in contiguous blocks of memory, reducing the overhead associated with dynamic type checking and pointer dereferencing found in Python lists.\n",
    "\n",
    "3. Functionality and Flexibility:\n",
    "- Broad Range of Functions: NumPy provides a wide range of mathematical functions, including statistical, linear algebra, and random number generation functions, which are not available with standard Python sequences.\n",
    "- Advanced Indexing and Slicing: NumPy supports advanced indexing and slicing operations, allowing for more complex data manipulation compared to standard Python sequences.\n",
    "-   Automatic Expansion (Broadcasting): NumPy allows operations between arrays of different shapes and sizes through broadcasting, where smaller arrays are automatically expanded to match the dimensions of larger arrays. This simplifies code and improves readability.\n",
    "- Built-in Mathematical Functions: NumPy comes with a plethora of built-in functions for mathematical operations, reducing the need to implement these manually.\n",
    "\n",
    "4. Interoperability:\n",
    "- Integration with Other Libraries: NumPy is the foundation of many other scientific computing libraries in Python, such as SciPy, pandas, and scikit-learn. Using NumPy arrays makes it easier to work with these libraries.\n",
    "- Compatibility with C/C++: NumPy can interface with code written in C or C++, making it suitable for high-performance applications that require integration with these languages.\n",
    "\n",
    "5. Numerical Precision:\n",
    "- Precision Control: NumPy allows you to specify the data type of the elements, enabling control over the precision of the numerical computations.\n",
    "- Avoiding Overflows: NumPy operations are designed to be numerically stable and to avoid common pitfalls such as overflows and underflows."
   ]
  },
  {
   "cell_type": "markdown",
   "id": "9fac0169b778478f",
   "metadata": {
    "collapsed": false
   },
   "source": [
    "# Jupyter Notebook\n",
    "\n",
    "Jupyter Notebook is an open-source web application that allows you to create and share documents that contain live code, equations, visualizations, and narrative text. It is widely used for data cleaning and transformation, numerical simulation, statistical modeling, data visualization and machine learning. A Jupyter Notebook document is called a notebook and consists of cells. Each cell can contain code or Markdown text (like this cell). Code cells can be executed interactively, and the results appear directly below the cell. "
   ]
  },
  {
   "cell_type": "code",
   "execution_count": 1,
   "id": "5a36160c4badce09",
   "metadata": {
    "collapsed": false,
    "ExecuteTime": {
     "end_time": "2024-09-19T08:25:44.411255400Z",
     "start_time": "2024-09-19T08:25:44.323532100Z"
    }
   },
   "outputs": [
    {
     "name": "stdout",
     "output_type": "stream",
     "text": [
      "Hello, World!\n"
     ]
    },
    {
     "data": {
      "text/plain": "5"
     },
     "execution_count": 1,
     "metadata": {},
     "output_type": "execute_result"
    }
   ],
   "source": [
    "# this is a code cell\n",
    "print(\"Hello, World!\")  # with print, you can output text (as in classic Python scripts)\n",
    "3 + 2  # the last line of a cell is evaluated and its result is printed\n",
    "# it is similar to write IPython.display.display(3 + 2)  \n",
    "# not exactly the same as print, since depending on its type, it might enrich its display (e.g., HTML, images, Pandas`s DataFrames)"
   ]
  },
  {
   "cell_type": "markdown",
   "id": "3708356a9f3f3dce",
   "metadata": {
    "collapsed": false
   },
   "source": [
    "# NumPy's arrays\n",
    "\n",
    "NumPy’s main object is the homogeneous multidimensional `ndarray`,  also known by the alias `array`. It is a table of elements (usually numbers), all the same type, indexed by a tuple of non-negative integers. \n",
    "\n",
    "In NumPy dimensions are called _axes_. For example, the array for the coordinates of a point in 3D space,  `[1,  2,  1]`, has one axis. That axis has 3 elements in it, so we say it has a length of 3. \n",
    "\n",
    "Consider the following array:\n"
   ]
  },
  {
   "cell_type": "code",
   "execution_count": 2,
   "id": "d6fbb5d126684d56",
   "metadata": {
    "collapsed": false,
    "ExecuteTime": {
     "end_time": "2024-09-19T08:25:44.560259700Z",
     "start_time": "2024-09-19T08:25:44.378726200Z"
    }
   },
   "outputs": [
    {
     "name": "stdout",
     "output_type": "stream",
     "text": [
      "Dimensions of my_array: 2.\n",
      "Array: [[1. 0. 0.]\n",
      " [0. 1. 2.]]\n",
      "Type of the array: <class 'numpy.ndarray'>.\n"
     ]
    }
   ],
   "source": [
    "import numpy as np\n",
    "my_array = np.array([(1., 0., 0.), (0., 1., 2.)])\n",
    "print(f\"Dimensions of my_array: {my_array.ndim}.\")\n",
    "print(f\"Array: {my_array}\")\n",
    "print(f\"Type of the array: {type(my_array)}.\")"
   ]
  },
  {
   "cell_type": "markdown",
   "id": "1a4fbeef79430f52",
   "metadata": {
    "collapsed": false
   },
   "source": [
    "In the example above, the array has 2 axes (`ndim` attribute). The first axis has a length of 2, the second axis has a length of 3.\n"
   ]
  },
  {
   "cell_type": "code",
   "execution_count": 3,
   "id": "5ca894aeb9de581",
   "metadata": {
    "collapsed": false,
    "ExecuteTime": {
     "end_time": "2024-09-19T08:25:44.561460800Z",
     "start_time": "2024-09-19T08:25:44.525125200Z"
    }
   },
   "outputs": [
    {
     "name": "stdout",
     "output_type": "stream",
     "text": [
      "Length of the first dimension: 2.\n",
      "Length of the second dimension: 3.\n"
     ]
    }
   ],
   "source": [
    "print(f\"Length of the first dimension: {len(my_array)}.\")\n",
    "print(f\"Length of the second dimension: {len(my_array[0])}.\")"
   ]
  },
  {
   "cell_type": "markdown",
   "id": "e346fd187cd02955",
   "metadata": {
    "collapsed": false
   },
   "source": [
    "The `shape` attribute returns a tuple of integers with as many elements as dimensions or axes in the array. The length of the  `shape`  tuple is therefore the number of axes,  `ndim`. Each value in the tuple indicates the length in each dimension. For a matrix with  _n_  rows and  _m_  columns,  `shape`  will be  `(n,m)`. `shape` is a very **important** attribute of the NumPy array."
   ]
  },
  {
   "cell_type": "code",
   "execution_count": 4,
   "id": "be0f6efd6b7815c9",
   "metadata": {
    "collapsed": false,
    "ExecuteTime": {
     "end_time": "2024-09-19T08:25:44.578739500Z",
     "start_time": "2024-09-19T08:25:44.529070700Z"
    }
   },
   "outputs": [
    {
     "name": "stdout",
     "output_type": "stream",
     "text": [
      "Shape of the my_array: (2, 3).\n"
     ]
    }
   ],
   "source": [
    "print(f\"Shape of the my_array: {my_array.shape}.\")"
   ]
  },
  {
   "cell_type": "markdown",
   "id": "30154511f0a4b58e",
   "metadata": {
    "collapsed": false
   },
   "source": [
    "The `dtype` attribute is an object describing the type of the elements in the array. NumPy provides types of its own, such as `numpy.int32`, `numpy.int16`, `numpy.float64`, `numpy.float32` and `numpy.bool`."
   ]
  },
  {
   "cell_type": "code",
   "execution_count": 5,
   "id": "13feec0005f3153b",
   "metadata": {
    "collapsed": false,
    "ExecuteTime": {
     "end_time": "2024-09-19T08:25:44.579887200Z",
     "start_time": "2024-09-19T08:25:44.539187600Z"
    }
   },
   "outputs": [
    {
     "name": "stdout",
     "output_type": "stream",
     "text": [
      "Type of the elements in the array: float64.\n",
      "[[1 0 0]\n",
      " [0 1 2]]\n"
     ]
    }
   ],
   "source": [
    "print(f\"Type of the elements in the array: {my_array.dtype}.\")\n",
    "my_int_array = my_array.astype(np.int32)\n",
    "print(my_int_array)"
   ]
  },
  {
   "cell_type": "markdown",
   "id": "b0d524b7227a9eb1",
   "metadata": {
    "collapsed": false
   },
   "source": [
    "The `size` attribute is the total number of elements of the array. This, `size` is equal to the product of the elements of `shape`."
   ]
  },
  {
   "cell_type": "code",
   "execution_count": 6,
   "id": "dcda388a7950348",
   "metadata": {
    "collapsed": false,
    "ExecuteTime": {
     "end_time": "2024-09-19T08:25:44.669847800Z",
     "start_time": "2024-09-19T08:25:44.545836Z"
    }
   },
   "outputs": [
    {
     "name": "stdout",
     "output_type": "stream",
     "text": [
      "Size of the array: 6.\n"
     ]
    }
   ],
   "source": [
    "print(f\"Size of the array: {my_array.size}.\")"
   ]
  },
  {
   "cell_type": "markdown",
   "id": "c6c945a5ca4f12f6",
   "metadata": {
    "collapsed": false
   },
   "source": [
    "# Array Creation\n",
    "\n",
    "There are several ways to create arrays in NumPy. \n",
    "\n",
    "You can create an array from a regular Python list or tuple using the `array` function. `array` transforms sequences of sequences into two-dimensional arrays, sequences of sequences of sequences into three-dimensional arrays, and so on."
   ]
  },
  {
   "cell_type": "code",
   "execution_count": 7,
   "id": "f0a2a6ee4b4765b7",
   "metadata": {
    "collapsed": false,
    "ExecuteTime": {
     "end_time": "2024-09-19T08:25:44.673426900Z",
     "start_time": "2024-09-19T08:25:44.555238300Z"
    }
   },
   "outputs": [
    {
     "name": "stdout",
     "output_type": "stream",
     "text": [
      "[[1.5 2.  3. ]\n",
      " [4.  5.  6. ]]\n"
     ]
    }
   ],
   "source": [
    "my_array = np.array([(1.5, 2, 3), (4, 5, 6)])\n",
    "print(my_array)"
   ]
  },
  {
   "cell_type": "markdown",
   "id": "a8718901fc91630a",
   "metadata": {
    "collapsed": false
   },
   "source": [
    "Notice that the type of the elements in the array is not the same as the type of the elements in the list. Integers have been promoted to `float`s. You can specify the type of the elements in the array using the `dtype` argument.\n",
    "\n",
    "Often, the elements of an array are originally unknown, but its size is known. Hence, NumPy offers several functions to create arrays with initial placeholder content. You can use the methods `zeros`, `ones` and `empty`to create arrays with placeholder content (0, 1 and uninitialized (exiting values on memory)), respectively)."
   ]
  },
  {
   "cell_type": "code",
   "execution_count": 8,
   "id": "94a79ab0a2050511",
   "metadata": {
    "collapsed": false,
    "ExecuteTime": {
     "end_time": "2024-09-19T08:25:44.693789100Z",
     "start_time": "2024-09-19T08:25:44.564907500Z"
    }
   },
   "outputs": [
    {
     "name": "stdout",
     "output_type": "stream",
     "text": [
      "[[0. 0.]\n",
      " [0. 0.]\n",
      " [0. 0.]]\n",
      "[[2.12199579e-314 8.36066342e-312 4.76279283e-321 3.79442416e-321]]\n"
     ]
    }
   ],
   "source": [
    "print(np.zeros((3, 2), dtype=np.float32))\n",
    "print(np.empty((1, 4)))"
   ]
  },
  {
   "cell_type": "markdown",
   "id": "e51e1cff24f84cf5",
   "metadata": {
    "collapsed": false
   },
   "source": [
    "To create sequences of numbers, NumPy provides functions analogous to `range` that returns arrays instead of lists. The `arange` function returns evenly spaced values within a given interval for integer numbers, while the `linspace` function returns evenly spaced values within a given number of elements (the third parameter).\n",
    "\n",
    "The `reshape` function returns an array containing the same data with a new shape (the original array is not modified)."
   ]
  },
  {
   "cell_type": "code",
   "execution_count": 9,
   "id": "19b229560624a11d",
   "metadata": {
    "collapsed": false,
    "ExecuteTime": {
     "end_time": "2024-09-19T08:25:44.694025100Z",
     "start_time": "2024-09-19T08:25:44.571086100Z"
    }
   },
   "outputs": [
    {
     "name": "stdout",
     "output_type": "stream",
     "text": [
      "[10 15 20 25]\n",
      "[10. 15. 20. 25. 30.]\n",
      "\n",
      "Showing a 3D array (2,3,4):\n",
      "[[[ 1  2  3  4]\n",
      "  [ 5  6  7  8]\n",
      "  [ 9 10 11 12]]\n",
      "\n",
      " [[13 14 15 16]\n",
      "  [17 18 19 20]\n",
      "  [21 22 23 24]]]\n",
      "\n",
      "\n",
      "Showing a 3D array with the size inferred (3, -1=2, 4):\n",
      "[[[ 1  2  3  4]\n",
      "  [ 5  6  7  8]]\n",
      "\n",
      " [[ 9 10 11 12]\n",
      "  [13 14 15 16]]\n",
      "\n",
      " [[17 18 19 20]\n",
      "  [21 22 23 24]]]\n"
     ]
    }
   ],
   "source": [
    "print(np.arange(10, 30, 5))  # 5 is the step (increment); 30 is not included\n",
    "print(np.linspace(10, 30, 5))  # 5 is the number of elements; 30 is included\n",
    "print(\"\\nShowing a 3D array (2,3,4):\")\n",
    "print(np.arange(1, 2*3*4 + 1).reshape(2, 3, 4), end='\\n\\n')  \n",
    "print(\"\\nShowing a 3D array with the size inferred (3, -1=2, 4):\")\n",
    "print(np.arange(1, 2*3*4 + 1).reshape(3, -1, 4))  # -1 means that the size is inferred"
   ]
  },
  {
   "cell_type": "markdown",
   "id": "e108a26b66736565",
   "metadata": {
    "collapsed": false
   },
   "source": [
    "# Mathematical Operations\n",
    "\n",
    "Arithmetic operators on arrays apply elementwise. A new array is created and filled with the result (functional style)."
   ]
  },
  {
   "cell_type": "code",
   "execution_count": 10,
   "id": "53c68097ef168aca",
   "metadata": {
    "collapsed": false,
    "ExecuteTime": {
     "end_time": "2024-09-19T08:25:44.704837400Z",
     "start_time": "2024-09-19T08:25:44.578739500Z"
    }
   },
   "outputs": [
    {
     "name": "stdout",
     "output_type": "stream",
     "text": [
      "Subtraction a-b = [20 29 38 47]\n",
      "Exponential: b**2 = [0 1 4 9]\n",
      "Scalar product and sin function: 10 * sin(a) = [ 9.12945251 -9.88031624  7.4511316  -2.62374854]\n",
      "Logical operations: a < 35 [ True  True False False]\n"
     ]
    }
   ],
   "source": [
    "a = np.array([20, 30, 40, 50])\n",
    "b = np.arange(4)\n",
    "print(f\"Subtraction a-b = {a - b}\")\n",
    "print(f\"Exponential: b**2 = {b**2}\")\n",
    "print(f\"Scalar product and sin function: 10 * sin(a) = {10 * np.sin(a)}\")\n",
    "print(f\"Logical operations: a < 35 {a < 35}\")"
   ]
  },
  {
   "cell_type": "markdown",
   "id": "cefddaa06281c406",
   "metadata": {
    "collapsed": false
   },
   "source": [
    "Unlike in many matrix languages, the product operator `*` operates elementwise in NumPy arrays. The matrix product can be performed using the `@` operator (in python >=3.5) or the `dot` function or method:"
   ]
  },
  {
   "cell_type": "code",
   "execution_count": 11,
   "id": "915e0a93dbc205e4",
   "metadata": {
    "collapsed": false,
    "ExecuteTime": {
     "end_time": "2024-09-19T08:25:44.705991600Z",
     "start_time": "2024-09-19T08:25:44.588652600Z"
    }
   },
   "outputs": [
    {
     "name": "stdout",
     "output_type": "stream",
     "text": [
      "Elementwise product a * b = \n",
      "[[2 0]\n",
      " [0 4]]\n",
      "Matrix product a @ b = \n",
      "[[5 4]\n",
      " [3 4]]\n",
      "Matrix product a.dot(b) = \n",
      "[[5 4]\n",
      " [3 4]]\n"
     ]
    }
   ],
   "source": [
    "a = np.array([[1, 1],\n",
    "              [0, 1]])\n",
    "b = np.array([[2, 0],\n",
    "              [3, 4]])\n",
    "print(f\"Elementwise product a * b = \\n{a * b}\") \n",
    "print(f\"Matrix product a @ b = \\n{a @ b}\") \n",
    "print(f\"Matrix product a.dot(b) = \\n{a.dot(b)}\") "
   ]
  },
  {
   "cell_type": "code",
   "execution_count": 11,
   "id": "ca524546f36605b4",
   "metadata": {
    "collapsed": false,
    "ExecuteTime": {
     "end_time": "2024-09-19T08:25:44.707080Z",
     "start_time": "2024-09-19T08:25:44.595474800Z"
    }
   },
   "outputs": [],
   "source": []
  },
  {
   "cell_type": "markdown",
   "id": "fdb95eeda6457e95",
   "metadata": {
    "collapsed": false
   },
   "source": [
    "Many unary operations, such `sum`, `min`, `max`, `exp` and `sqrt`, are implemented as methods of the `ndarray` class."
   ]
  },
  {
   "cell_type": "code",
   "execution_count": 12,
   "id": "66b74d70f0fc3d11",
   "metadata": {
    "collapsed": false,
    "ExecuteTime": {
     "end_time": "2024-09-19T08:25:44.707205400Z",
     "start_time": "2024-09-19T08:25:44.601684500Z"
    }
   },
   "outputs": [
    {
     "name": "stdout",
     "output_type": "stream",
     "text": [
      "Array: \n",
      "[[1.5 2.  3. ]\n",
      " [4.  5.  6. ]]\n",
      "Sum of all elements: 21.5\n",
      "Minimum of all elements: 1.5\n",
      "Maximum of all elements: 6.0\n"
     ]
    }
   ],
   "source": [
    "a = np.empty((2, 3))\n",
    "print(f\"Array: \\n{a}\")\n",
    "print(f\"Sum of all elements: {a.sum()}\")\n",
    "print(f\"Minimum of all elements: {a.min()}\")\n",
    "print(f\"Maximum of all elements: {a.max()}\")"
   ]
  },
  {
   "cell_type": "markdown",
   "id": "42012a2f13522d18",
   "metadata": {
    "collapsed": false
   },
   "source": [
    "By default, these operations apply to the array as though it were a list of numbers, regardless of its shape. However, by specifying the `axis` parameter you can apply an operation along the specified axis of an array. For example, in a given 2D array, `axis=0` means that the operation will be performed along the rows, while `axis=1` means that the operation will be performed along the columns. Thus, the `sum` method with `axis=0` (along the rows) will return an array with the sum of each column. This `axis` parameter is very **important** as available in many NumPy and Pandas functions."
   ]
  },
  {
   "cell_type": "code",
   "execution_count": 13,
   "id": "911f87af5d6b9c0d",
   "metadata": {
    "collapsed": false,
    "ExecuteTime": {
     "end_time": "2024-09-19T08:25:44.708284Z",
     "start_time": "2024-09-19T08:25:44.608163500Z"
    }
   },
   "outputs": [
    {
     "name": "stdout",
     "output_type": "stream",
     "text": [
      "Array: \n",
      "[[ 0  1  2  3]\n",
      " [ 4  5  6  7]\n",
      " [ 8  9 10 11]]\n",
      "Sum along the rows (for each column): [12 15 18 21]\n",
      "Minimum along the columns (for each row): [0 4 8]\n"
     ]
    }
   ],
   "source": [
    "a = np.arange(12).reshape(3, 4)\n",
    "print(f\"Array: \\n{a}\")\n",
    "print(f\"Sum along the rows (for each column): {a.sum(axis=0)}\")\n",
    "print(f\"Minimum along the columns (for each row): {a.min(axis=1)}\")"
   ]
  },
  {
   "cell_type": "markdown",
   "id": "eb8d849db866fb3e",
   "metadata": {
    "collapsed": false
   },
   "source": [
    "# Indexing and Slicing\n",
    "\n",
    "One-dimensional arrays can be indexed and sliced, much like lists and other Python sequences. You can use the `:` and `::` Python operators to select and modify the elements from an array.\n"
   ]
  },
  {
   "cell_type": "code",
   "execution_count": 14,
   "id": "6783baf1882a1f1f",
   "metadata": {
    "collapsed": false,
    "ExecuteTime": {
     "end_time": "2024-09-19T08:25:44.711705200Z",
     "start_time": "2024-09-19T08:25:44.614594600Z"
    }
   },
   "outputs": [
    {
     "name": "stdout",
     "output_type": "stream",
     "text": [
      "Array: [  0   1   8  27  64 125 216 343 512 729]\n",
      "Element at index 2: 8\n",
      "Elements from index 2 to 4: [ 8 27 64]\n",
      "Elements from start to the second last: [  0   1   8  27  64 125 216 343 512]\n",
      "Elements from index 0 to 5 with step 2: [ 0  8 64]\n",
      "A new copy of the array: [  0   1   8  27  64 125 216 343 512 729]\n",
      "From one, two by two: [  1  27 125 343 729]\n"
     ]
    }
   ],
   "source": [
    "a = np.arange(10)**3\n",
    "print(f\"Array: {a}\")\n",
    "print(f\"Element at index 2: {a[2]}\")\n",
    "print(f\"Elements from index 2 to 4: {a[2:5]}\")  # 5 is not included\n",
    "print(f\"Elements from start to the second last: {a[:-1]}\")\n",
    "print(f\"Elements from index 0 to 5 with step 2: {a[:6:2]}\")  # 6 is not included\n",
    "print(f\"A new copy of the array: {a[:]}\") \n",
    "print(f\"From one, two by two: {a[1::2]}\")  # starts from index 1 and goes to the end with step 2 \n"
   ]
  },
  {
   "cell_type": "markdown",
   "id": "8b3afde14287fe88",
   "metadata": {
    "collapsed": false
   },
   "source": [
    "Multidimensional arrays can have one index per axis. These indices are given in a tuple separated by commas:"
   ]
  },
  {
   "cell_type": "code",
   "execution_count": 15,
   "id": "477116d8d3c45570",
   "metadata": {
    "collapsed": false,
    "ExecuteTime": {
     "end_time": "2024-09-19T08:25:44.862768300Z",
     "start_time": "2024-09-19T08:25:44.624147100Z"
    }
   },
   "outputs": [
    {
     "name": "stdout",
     "output_type": "stream",
     "text": [
      "Array: \n",
      "[[ 0  1  2  3]\n",
      " [ 4  5  6  7]\n",
      " [ 8  9 10 11]]\n",
      "Element at index (1, 2): 6\n",
      "Row at index 1: [4 5 6 7]\n",
      "Row at index 2: [ 8  9 10 11]\n",
      "Column at index 1: [1 5 9]\n",
      "Subarray (1:3, 2:4): \n",
      "[[ 6  7]\n",
      " [10 11]]\n"
     ]
    }
   ],
   "source": [
    "a = np.arange(3*4).reshape(3, 4)\n",
    "print(f\"Array: \\n{a}\")\n",
    "print(f\"Element at index (1, 2): {a[1, 2]}\")\n",
    "print(f\"Row at index 1: {a[1]}\")\n",
    "print(f\"Row at index 2: {a[2, :]}\")\n",
    "print(f\"Column at index 1: {a[:, 1]}\")\n",
    "print(f\"Subarray (1:3, 2:4): \\n{a[1:3, 2:4]}\")  # 3 and 4 are not included"
   ]
  },
  {
   "cell_type": "markdown",
   "id": "d639f1060aad8e60",
   "metadata": {
    "collapsed": false
   },
   "source": [
    "# Iterating Over Arrays\n",
    "\n",
    "Iterating over multidimensional arrays is done with respect to the first axis:"
   ]
  },
  {
   "cell_type": "code",
   "execution_count": 16,
   "id": "6dfd2b209bd35d55",
   "metadata": {
    "collapsed": false,
    "ExecuteTime": {
     "end_time": "2024-09-19T08:25:44.865021400Z",
     "start_time": "2024-09-19T08:25:44.630160400Z"
    }
   },
   "outputs": [
    {
     "name": "stdout",
     "output_type": "stream",
     "text": [
      "Array: \n",
      "[[ 0  1  2  3]\n",
      " [ 4  5  6  7]\n",
      " [ 8  9 10 11]]\n",
      "Iterating over the array:\n",
      "Row 0: [0 1 2 3]\n",
      "Row 1: [4 5 6 7]\n",
      "Row 2: [ 8  9 10 11]\n"
     ]
    }
   ],
   "source": [
    "print(f\"Array: \\n{a}\")\n",
    "print(\"Iterating over the array:\")\n",
    "for index, row in enumerate(a):\n",
    "    print(f\"Row {index}: {row}\")"
   ]
  },
  {
   "cell_type": "markdown",
   "id": "70c3893fd1b4062c",
   "metadata": {
    "collapsed": false
   },
   "source": [
    "# Broadcasting\n",
    "\n",
    "Broadcasting allows NumPy to work with arrays of different shapes when performing arithmetic operations. Frequently, we have a smaller array and a larger array, and we want to use the smaller array multiple times to perform some operation on the larger array."
   ]
  },
  {
   "cell_type": "code",
   "execution_count": 17,
   "id": "f2a19b766eb32300",
   "metadata": {
    "collapsed": false,
    "ExecuteTime": {
     "end_time": "2024-09-19T08:25:44.908357300Z",
     "start_time": "2024-09-19T08:25:44.640391100Z"
    }
   },
   "outputs": [
    {
     "name": "stdout",
     "output_type": "stream",
     "text": [
      "Array a: [1 2 3]\n",
      "Scalar b: 2\n",
      "Elementwise sum: a + b = [3 4 5]\n",
      "Array c: \n",
      "[[0 1 2]\n",
      " [3 4 5]\n",
      " [6 7 8]]\n",
      "Elementwise sum with broadcasting: a + c = \n",
      "[[ 1  3  5]\n",
      " [ 4  6  8]\n",
      " [ 7  9 11]]\n"
     ]
    }
   ],
   "source": [
    "# example of broadcasting\n",
    "a = np.array([1, 2, 3])\n",
    "b = 2\n",
    "print(f\"Array a: {a}\")\n",
    "print(f\"Scalar b: {b}\")\n",
    "print(f\"Elementwise sum: a + b = {a + b}\")\n",
    "\n",
    "c = np.array(np.arange(3*3).reshape(3, 3))\n",
    "print(f\"Array c: \\n{c}\")\n",
    "print(f\"Elementwise sum with broadcasting: a + c = \\n{a + c}\")  # the first dimension of a is expanded to match the first dimension of b"
   ]
  },
  {
   "cell_type": "markdown",
   "id": "d9b816c456bdab48",
   "metadata": {
    "collapsed": false
   },
   "source": [
    "# Indexing with arrays\n",
    "\n",
    "NumPy offers more indexing facilities than regular Python sequences. In addition to indexing by integers and slices, as we saw before, arrays can be indexed by arrays of integers and arrays of booleans."
   ]
  },
  {
   "cell_type": "code",
   "execution_count": 18,
   "id": "c0035ad2b444a7f",
   "metadata": {
    "collapsed": false,
    "ExecuteTime": {
     "end_time": "2024-09-19T08:25:44.909484700Z",
     "start_time": "2024-09-19T08:25:44.647786Z"
    }
   },
   "outputs": [
    {
     "name": "stdout",
     "output_type": "stream",
     "text": [
      "Array: [ 0  1  4  9 16 25 36 49 64 81]\n",
      "Elements at the indices [1 1 3 8]: [ 1  1  9 64]\n",
      "Boolean array: [False False False False False False  True  True  True  True]\n",
      "Elements greater than 35: [36 49 64 81]\n"
     ]
    }
   ],
   "source": [
    "a = np.arange(10)**2\n",
    "print(f\"Array: {a}\")\n",
    "indices = np.array([1, 1, 3, 8])\n",
    "print(f\"Elements at the indices {indices}: {a[indices]}\")\n",
    "\n",
    "bool_array = a > 35\n",
    "print(f\"Boolean array: {bool_array}\")\n",
    "print(f\"Elements greater than 35: {a[bool_array]}\")"
   ]
  },
  {
   "cell_type": "markdown",
   "id": "6646d3a79985c92b",
   "metadata": {
    "collapsed": false
   },
   "source": [
    "# ✨ Activity ✨\n",
    "\n",
    "1. Create a 2D array with shape (3, 4) containing the numbers from square root of 1 to square root of 5. The values of in the middle of the array should be the square root of equally spaced numbers from 1 to 5 (both included).\n",
    "2. Print the array.\n",
    "3. Print the sum of the columns.\n",
    "4. Print the minimum of the elements of the rows.\n",
    "5. Print the subarray from the second row and the third column to the end.\n",
    "6. Print the elements greater than 5.\n",
    "7. Compute the transpose of the array and print it (do not use the T attribute or the transpose method). Then, compare it with the `T` attribute or the `transpose` method.\n",
    "8. Print the matrix multiplication of the original matrix and its transpose.\n"
   ]
  },
  {
   "cell_type": "code",
   "execution_count": 19,
   "id": "9f36ea45b04e409e",
   "metadata": {
    "collapsed": false,
    "ExecuteTime": {
     "end_time": "2024-09-19T08:25:44.910697400Z",
     "start_time": "2024-09-19T08:25:44.655256700Z"
    }
   },
   "outputs": [
    {
     "name": "stdout",
     "output_type": "stream",
     "text": [
      "Values before the square root operation: [1.         1.36363636 1.72727273 2.09090909 2.45454545 2.81818182\n",
      " 3.18181818 3.54545455 3.90909091 4.27272727 4.63636364 5.        ]\n",
      "Array: \n",
      "[[1.         1.16774842 1.31425748 1.44599761]\n",
      " [1.5666989  1.67874412 1.78376517 1.88293774]\n",
      " [1.97714211 2.06705764 2.15322169 2.23606798]]\n",
      "Sum of the columns: [4.54384101 4.91355017 5.25124434 5.56500333]\n",
      "Minimum of the elements of the rows: [1.         1.5666989  1.97714211]\n",
      "Subarray from the second row and the second column to the end: \n",
      "[[1.78376517 1.88293774]\n",
      " [2.15322169 2.23606798]]\n",
      "Elements greater than 5: []\n",
      "Transpose of the array: \n",
      "[[1.         1.5666989  1.97714211]\n",
      " [1.16774842 1.67874412 2.06705764]\n",
      " [1.31425748 1.78376517 2.15322169]\n",
      " [1.44599761 1.88293774 2.23606798]]\n",
      "Transpose of the array using the T attribute: \n",
      "[[1.         1.5666989  1.97714211]\n",
      " [1.16774842 1.67874412 2.06705764]\n",
      " [1.31425748 1.78376517 2.15322169]\n",
      " [1.44599761 1.88293774 2.23606798]]\n",
      "Matrix multiplication of the original matrix and its transpose: \n",
      "[[ 6.18181818  8.59409989 10.45418205]\n",
      " [ 8.59409989 12.         14.61886586]\n",
      " [10.45418205 14.61886586 17.81818182]]\n"
     ]
    }
   ],
   "source": [
    "# Write your code here\n",
    "\n",
    "# SOLUTION\n",
    "# 1. Create a 2D array with shape (3, 4) containing the numbers from square root of 1 to square root of 5. The values of in the middle of the array should be the square root of equally spaced numbers from 1 to 5 (both included).\n",
    "a = np.linspace(1, 5, 3*4)\n",
    "print(f\"Values before the square root operation: {a}\")\n",
    "a = np.sqrt(a).reshape(3, 4)\n",
    "\n",
    "# 2. Print the array.\n",
    "print(f\"Array: \\n{a}\")\n",
    "\n",
    "# 3. Print the sum of the columns.\n",
    "print(f\"Sum of the columns: {a.sum(axis=0)}\")\n",
    "\n",
    "# 4. Print the minimum of the elements of the rows.\n",
    "print(f\"Minimum of the elements of the rows: {a.min(axis=1)}\")\n",
    "\n",
    "# 5. Print the subarray from the second row and the third column to the end.\n",
    "print(f\"Subarray from the second row and the second column to the end: \\n{a[1:, 2:]}\")\n",
    "\n",
    "# 6. Print the elements greater than 5.\n",
    "print(f\"Elements greater than 5: {a[a > 5]}\")\n",
    "\n",
    "# 7. Compute the transpose of the array and print it (do not use the T attribute or the transpose method). Then, compare it with the `T` attribute or the `transpose` method.\n",
    "transpose = np.zeros((a.shape[1], a.shape[0]))\n",
    "for row in range(a.shape[0]):\n",
    "    transpose[:, row] = a[row, :]\n",
    "print(f\"Transpose of the array: \\n{transpose}\")\n",
    "print(f\"Transpose of the array using the T attribute: \\n{a.T}\")\n",
    "\n",
    "# 8. Print the matrix multiplication of the original matrix and its  transpose.\n",
    "print(f\"Matrix multiplication of the original matrix and its transpose: \\n{a @ transpose}\")\n"
   ]
  },
  {
   "cell_type": "code",
   "execution_count": 20,
   "id": "ba1bf0c32b73e70d",
   "metadata": {
    "collapsed": false,
    "ExecuteTime": {
     "end_time": "2024-09-19T08:25:44.911817200Z",
     "start_time": "2024-09-19T08:25:44.664183Z"
    }
   },
   "outputs": [
    {
     "name": "stdout",
     "output_type": "stream",
     "text": [
      "[1, 2, 3]\n",
      "[[1, 2, 3], [4, 5, 6]]\n",
      "[[[1, 2, 3, 4], [5, 6, 7, 8], [9, 10, 11, 12]], [[13, 14, 15, 16], [17, 18, 19, 20]]]\n"
     ]
    }
   ],
   "source": [
    "print([1, 2, 3])\n",
    "print([[1, 2, 3],\n",
    "       [4, 5, 6]])\n",
    "print([[[1, 2, 3, 4],\n",
    "       [5, 6, 7, 8],\n",
    "        [9, 10, 11, 12]],\n",
    "       \n",
    "         [[13, 14, 15, 16],\n",
    "         [17, 18, 19, 20]]])\n"
   ]
  }
 ],
 "metadata": {
  "kernelspec": {
   "display_name": "Python 3 (ipykernel)",
   "language": "python",
   "name": "python3"
  },
  "language_info": {
   "codemirror_mode": {
    "name": "ipython",
    "version": 3
   },
   "file_extension": ".py",
   "mimetype": "text/x-python",
   "name": "python",
   "nbconvert_exporter": "python",
   "pygments_lexer": "ipython3",
   "version": "3.11.4"
  }
 },
 "nbformat": 4,
 "nbformat_minor": 5
}
